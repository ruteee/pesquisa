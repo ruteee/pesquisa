{
 "cells": [
  {
   "cell_type": "code",
   "execution_count": 3,
   "metadata": {},
   "outputs": [
    {
     "name": "stderr",
     "output_type": "stream",
     "text": [
      "/home/rute/.conda/envs/pesquisa/lib/python3.6/site-packages/statsmodels/compat/pandas.py:56: FutureWarning: The pandas.core.datetools module is deprecated and will be removed in a future version. Please use the pandas.tseries module instead.\n",
      "  from pandas.core import datetools\n"
     ]
    }
   ],
   "source": [
    "#%reset -f\n",
    "import pandas as pd\n",
    "import numpy as np\n",
    "import datetime as dt\n",
    "import random\n",
    "import time\n",
    "import math\n",
    "import itertools\n",
    "import matplotlib.pyplot as plt\n",
    "from scipy import stats\n",
    "import statsmodels.api as sm\n",
    "import scipy.integrate as integrate\n",
    "import seaborn as sns\n",
    "from scipy.stats import gaussian_kde\n",
    "import scipy.signal as sig\n",
    "from IPython.display import clear_output\n",
    "from graphviz import Digraph\n",
    "from threading import Thread\n",
    "import threading\n",
    "import queue"
   ]
  },
  {
   "cell_type": "code",
   "execution_count": null,
   "metadata": {},
   "outputs": [],
   "source": []
  },
  {
   "cell_type": "code",
   "execution_count": 5,
   "metadata": {},
   "outputs": [
    {
     "data": {
      "text/plain": [
       "30.0"
      ]
     },
     "execution_count": 5,
     "metadata": {},
     "output_type": "execute_result"
    }
   ],
   "source": [
    "almNum = 3\n",
    "ocorr = 100\n",
    "t_sample = 60\n",
    "base_hour = dt.datetime(2018, 1,9,9,0,0)\n",
    "occor_num = 0\n",
    "\n",
    "#Settings alarms\n",
    "a = np.zeros(1, dtype=int)\n",
    "ocorr = 10\n",
    "duration = 120 #120sec\n",
    "hour_init = base_hour\n",
    "\n",
    "b = np.zeros(1, dtype=int)\n",
    "pAb =1\n",
    "delay_b = 60 #seconds\n",
    "duration_b = 120\n",
    "\n",
    "c = np.zeros(1, dtype=int)\n",
    "pAc = 0.6\n",
    "delay_c = 15 #seconds\n",
    "duration_c = 120\n",
    "\n",
    "#Alarm Series Generation, A (cause), B(Effect). C(Effect)\n",
    "while(occor_num < ocorr): \n",
    "    \n",
    "    #A generation - begin\n",
    "    srtd_hour = random.normalvariate(3, 1)\n",
    "    srtd_hour_begin = hour_init + dt.timedelta(hours=srtd_hour)\n",
    "    srtd_hour_end = srtd_hour_begin + dt.timedelta(seconds = duration)\n",
    "\n",
    "    idx_init_a_occor = int(math.ceil((srtd_hour_begin - base_hour).total_seconds()/t_sample))\n",
    "    idx_end_a_occor = int(math.ceil((srtd_hour_end - base_hour).total_seconds()/t_sample))\n",
    "        \n",
    "    if(idx_end_a_occor > a.size):\n",
    "            a.resize(idx_end_a_occor)\n",
    "\n",
    "    for i in np.arange(idx_init_a_occor, idx_end_a_occor + 1):\n",
    "        a[i-1] = 1\n",
    "    #A generation - end\n",
    "         \n",
    "    \n",
    "    #B generation begin\n",
    "    srtd_prob_b = random.uniform(0,1)  \n",
    "    if srtd_prob_b <= pAb:\n",
    "        srtd_hour_begin_b = srtd_hour_begin + dt.timedelta(hours = delay_b/3600)\n",
    "        srtd_hour_end_b = srtd_hour_begin_b + dt.timedelta(seconds=duration_b)\n",
    "\n",
    "        idx_init_b_occor = int(math.ceil((srtd_hour_begin_b - base_hour).total_seconds()/t_sample))\n",
    "        idx_end_b_occor = int(math.ceil((srtd_hour_end_b - base_hour).total_seconds()/t_sample))\n",
    "\n",
    "        if(idx_end_b_occor > b.size):\n",
    "                b.resize(idx_end_b_occor)\n",
    "\n",
    "        for j in np.arange(idx_init_b_occor, idx_end_b_occor +1):\n",
    "            b[j-1] =  1  \n",
    "    #B generation end\n",
    "\n",
    "    #C generation begin\n",
    "    srtd_prob_c = random.uniform(0,1)\n",
    "    if srtd_prob_c <= pAc:\n",
    "        srtd_hour_begin_c = srtd_hour_begin + dt.timedelta(hours = delay_b/3600)\n",
    "        srtd_hour_end_c = srtd_hour_begin_c + dt.timedelta(seconds=duration_c)\n",
    "\n",
    "        idx_init_c_occor = int(math.ceil((srtd_hour_begin_c - base_hour).total_seconds()/t_sample))\n",
    "        idx_end_c_occor = int(math.ceil((srtd_hour_end_c - base_hour).total_seconds()/t_sample))\n",
    "        \n",
    "        if(idx_end_c_occor > c.size):\n",
    "            c.resize(idx_end_c_occor)\n",
    "\n",
    "        for j in np.arange(idx_init_c_occor, idx_end_c_occor +1):\n",
    "            c[j-1] = 1    \n",
    "    #C generation end\n",
    "    \n",
    "    hour_init = srtd_hour_begin\n",
    "    occor_num = occor_num + 1\n",
    "\n",
    "#Making series the same length\n",
    "max_len = max(a, b, c, key=len).size\n",
    "a = np.concatenate([a, np.zeros(max_len - a.size)])\n",
    "b = np.concatenate([b, np.zeros(max_len - b.size)])\n",
    "c = np.concatenate([c, np.zeros(max_len - c.size)])\n",
    "sum(a)"
   ]
  },
  {
   "cell_type": "code",
   "execution_count": 6,
   "metadata": {},
   "outputs": [],
   "source": [
    "def get_lim_index(cdf, lim):\n",
    "    summation = 0\n",
    "    index = 0\n",
    "    for i in np.arange(0, cdf.size):\n",
    "        if(summation < lim):\n",
    "            summation += cdf[i]\n",
    "        else:\n",
    "            index = i-1\n",
    "            break\n",
    "    return index\n",
    "    "
   ]
  },
  {
   "cell_type": "code",
   "execution_count": 7,
   "metadata": {},
   "outputs": [],
   "source": [
    "fila = queue.Queue()\n",
    "class myThread(Thread):\n",
    "    def __init__(self, threadID,k, l, h, a,b, numT):\n",
    "        Thread.__init__(self)\n",
    "        self.threadID = threadID\n",
    "        self.k = k\n",
    "        self.l = l\n",
    "        self.h = h\n",
    "        self.a = a\n",
    "        self.b = b\n",
    "        self.numT = numT\n",
    "    def run(self):\n",
    "        print('comecei ', self.threadID)\n",
    "        for i in range(self.numT):\n",
    "            np.random.shuffle(self.a)\n",
    "            fila.put(te(self.k,self.l,self.h,self.a[:],self.b, 'serie_a', 'serie_b'))\n",
    "        "
   ]
  },
  {
   "cell_type": "code",
   "execution_count": 112,
   "metadata": {},
   "outputs": [],
   "source": [
    "# def significance_test(k,l,h,sup_lim, n, a,b):\n",
    "#     '''\n",
    "#         significance_test(a,b,k,l,h,sup_lim, n)\n",
    "#     '''\n",
    "#     nt = 4\n",
    "#     transferEntropies = np.zeros(n)\n",
    "#     count  = 0\n",
    "    \n",
    "#     np.random.seed(int(time.time()))\n",
    "#     for t in np.arange(0,nt):\n",
    "#         fact = int(np.ceil(n/nt))\n",
    "#         count = count + fact\n",
    "#         if count > n:\n",
    "#             fact = count - n - int((1 - n//nt)*nt)\n",
    "#         print(t)\n",
    "#         myThread(t, k,l,h, a, b, fact).start()\n",
    "#     for i in range(n):\n",
    "#         transferEntropies[i] = fila.get()\n",
    "        \n",
    "#     print(transferEntropies)\n",
    "#     kde = sm.nonparametric.KDEUnivariate(transferEntropies)\n",
    "\n",
    "#     kde.fit()\n",
    "    \n",
    "#     lvl_sig = kde.icdf[get_lim_index(kde.cdf, sup_lim)]\n",
    "#     return lvl_sig"
   ]
  },
  {
   "cell_type": "code",
   "execution_count": 24,
   "metadata": {},
   "outputs": [],
   "source": [
    "def significance_test(k,l,h,sup_lim, n, a,b):\n",
    "    '''\n",
    "        significance_test(a,b,k,l,h,sup_lim, n)\n",
    "    '''\n",
    "    transferEntropies = []\n",
    "    \n",
    "    np.random.seed(int(time.time()))\n",
    "    for i in np.arange(0,n):\n",
    "        surrogate_a = a.copy()\n",
    "        np.random.shuffle(surrogate_a)\n",
    "        transferEntropies.append(te(k,l,h,surrogate_a[:],b, 'serie_a', 'serie_b'))\n",
    "    kde = sm.nonparametric.KDEUnivariate(transferEntropies)\n",
    "    kde.fit()\n",
    "#     plt.plot(kde.evaluate(kde.support))\n",
    "#     plt.show()\n",
    "#     plt.hist(transferEntropies)\n",
    "#     plt.show()\n",
    "\n",
    "  \n",
    "    \n",
    "    lvl_sig = kde.icdf[get_lim_index(kde.cdf, sup_lim)]\n",
    "    return lvl_sig"
   ]
  },
  {
   "cell_type": "code",
   "execution_count": 71,
   "metadata": {},
   "outputs": [
    {
     "data": {
      "text/plain": [
       "0.5"
      ]
     },
     "execution_count": 71,
     "metadata": {},
     "output_type": "execute_result"
    }
   ],
   "source": [
    "te_matrix__samp_9710/4 - 10//4"
   ]
  },
  {
   "cell_type": "code",
   "execution_count": 9,
   "metadata": {},
   "outputs": [],
   "source": [
    "def significance_value(k,l,h,n, te_val, a,b):\n",
    "    '''\n",
    "        significance_test(a,b,k,l,h,sup_lim, n)\n",
    "    '''\n",
    "    transferEntropies = []\n",
    "    \n",
    "    np.random.seed(int(time.time()))\n",
    "    for i in np.arange(0,n):\n",
    "        surrogate_a = a.copy()\n",
    "        np.random.shuffle(surrogate_a)\n",
    "        transferEntropies.append(te(k,l,h,surrogate_a[:],b, 'serie_a', 'serie_b'))\n",
    "    kde = gaussian_kde(transferEntropies)    \n",
    "    \n",
    "    pcnt_sig = kde.integrate_box(-float(\"inf\"), te_val)\n",
    "    return pcnt_sig"
   ]
  },
  {
   "cell_type": "code",
   "execution_count": 10,
   "metadata": {},
   "outputs": [],
   "source": [
    "def joint_probability(k,l, h, a, b):\n",
    "    '''\n",
    "        k B time horizon\n",
    "        l A time horizon\n",
    "        h instant in the future of serie B\n",
    "        \n",
    "        a, b array type'''\n",
    "\n",
    "    #Alarm Series A (cause), B (effect), same len\n",
    "    #tested\n",
    "    sizeSeries = a.size\n",
    "    transEntropy = 0\n",
    "    numStates = 2**(k + l  + 1)\n",
    "    combinations = list(map(list, itertools.product([0, 1], repeat=k+l+1)))\n",
    "    counting = np.zeros(numStates)\n",
    "    prob_cnjt = np.zeros(numStates)\n",
    "    a_prob_ind = []\n",
    "    b_prob_ind = []\n",
    "    #joitn probability p(i_sub_t+1), i_sub_t**k, j_sub_t**l)\n",
    "    inicio = np.max([k,l]) - 1\n",
    "    for i in np.arange(inicio, sizeSeries - h):\n",
    "        for hk in np.arange(0,k):\n",
    "                b_prob_ind.append(b[i - hk])\n",
    "        for hl in np.arange(0,l):\n",
    "                a_prob_ind.append(a[i - hl])\n",
    "\n",
    "        ab = [b[i + h]] + b_prob_ind + a_prob_ind \n",
    "        index_comb = combinations.index(ab)\n",
    "        counting[index_comb] = counting[index_comb] + 1\n",
    "\n",
    "        a_prob_ind = []\n",
    "        b_prob_ind = []\n",
    "\n",
    "    total = sum(counting)\n",
    "    for i, cnt in enumerate(counting):\n",
    "        if total != 0:\n",
    "            prob_cnjt[i] = cnt/total\n",
    "     \n",
    "    return prob_cnjt"
   ]
  },
  {
   "cell_type": "code",
   "execution_count": 11,
   "metadata": {},
   "outputs": [],
   "source": [
    "##for paper test\n",
    "def joint_probability_new(k,l,h, a, b, lbl_a, lbl_b):\n",
    "    '''\n",
    "        k B time horizon\n",
    "        l A time horizon\n",
    "        h instant in the future of serie B\n",
    "        \n",
    "        a, b array type'''\n",
    "    \n",
    "    numStates=2**(k+l+1)\n",
    "    combinations = list(map(list, itertools.product([0, 1], repeat=k+l+1)))\n",
    "    prob_cnjt = np.zeros(numStates)\n",
    "    \n",
    "    #Alarm Series A (cause), B (effect), same len\n",
    "    #teste   \n",
    "\n",
    "    matrix_nova = np.matrix([b[1:],b[:-1],a[:-1]]).T\n",
    "    df = pd.DataFrame(matrix_nova, columns = ['b_ftr', lbl_b, lbl_a])\n",
    "    gpd = df.groupby(['b_ftr', lbl_b, lbl_a], as_index=False).size().reset_index(name='Count')\n",
    "    total = sum(gpd['Count'])\n",
    "    \n",
    "    for i in np.arange(0,gpd.shape[0]):\n",
    "        comb = [e for e in gpd.iloc[i][0:3].values.tolist()]\n",
    "        idx = combinations.index(comb)\n",
    "        prob_cnjt[idx] = gpd.iloc[i]['Count']/total\n",
    "\n",
    "    return prob_cnjt"
   ]
  },
  {
   "cell_type": "code",
   "execution_count": 12,
   "metadata": {},
   "outputs": [],
   "source": [
    "#Joint probability evaluation p(i_t+h, i_t**k)\n",
    "#tested\n",
    "def joint_prob_ih_ik(k,l, joint_prob_ih_ik_jl):\n",
    "    states_ith_ik = list(map(list, itertools.product([0, 1], repeat=k + 1)))\n",
    "    combinations = list(map(list, itertools.product([0, 1], repeat=k+l+1))) \n",
    "    p_jnt_ith_ik = np.zeros(2**(k+1))\n",
    "    \n",
    "    for i, state in enumerate(states_ith_ik):\n",
    "        for j, comb in enumerate(combinations):\n",
    "            if comb[0:k+1] == state:\n",
    "                p_jnt_ith_ik[i] = p_jnt_ith_ik[i] + joint_prob_ih_ik_jl[j]\n",
    "    return p_jnt_ith_ik"
   ]
  },
  {
   "cell_type": "code",
   "execution_count": 13,
   "metadata": {},
   "outputs": [],
   "source": [
    "def conditional_prob(k,l,joint_prob):\n",
    "    states = list(map(list, itertools.product([0, 1], repeat=k+l)))\n",
    "    combinations = list(map(list, itertools.product([0, 1], repeat=k+l+1)))\n",
    "\n",
    "    size = int(joint_prob.size/2)\n",
    "    conditional = np.zeros(2**(k+l+1))\n",
    "\n",
    "    for i,state in enumerate(states):\n",
    "        index_zero = combinations.index([0] + state)\n",
    "        prob_zero = joint_prob[index_zero]\n",
    "\n",
    "        index_one = combinations.index([1] + state)\n",
    "        prob_one = joint_prob[index_one]\n",
    "\n",
    "        if(prob_zero + prob_one != 0):\n",
    "            conditional[i] = prob_zero/(prob_zero+ prob_one)\n",
    "            conditional[i + 2**(k+l)] = prob_one/(prob_zero+ prob_one)\n",
    "    return conditional"
   ]
  },
  {
   "cell_type": "code",
   "execution_count": 14,
   "metadata": {},
   "outputs": [],
   "source": [
    "#Division of the conditionals in log2 \n",
    "#tested\n",
    "def conditional_div(k,l,conditional_num, conditional_den):\n",
    "    combinations = list(map(list, itertools.product([0, 1], repeat=k+l+1)))\n",
    "    conditional_division = np.zeros(conditional_num.size)\n",
    "    states_den = list(map(list, itertools.product([0, 1], repeat=1+k)))\n",
    "    for j, comb in enumerate(combinations):\n",
    "        if(conditional_den[states_den.index(comb[0:k+1])] != 0):\n",
    "            conditional_division[j] = conditional_num[j]/conditional_den[states_den.index(comb[0:k+1])]            \n",
    "    return conditional_division"
   ]
  },
  {
   "cell_type": "code",
   "execution_count": 15,
   "metadata": {},
   "outputs": [],
   "source": [
    "#Transfer entropy final evaluation\n",
    "def te(k,l,h,a,b, lbl_a, lbl_b):\n",
    "    '''\n",
    "        transentropy a->b\n",
    "        te(k,l,h,a,b)\n",
    "        k - dimension of b\n",
    "        l - dimension of aDataFrame count duplicate rows and ...\n",
    "        h -> instant in the future of a\n",
    "    '''\n",
    "    joint_p_ih_ik_jl = joint_probability_new(k,l,h,a,b, lbl_a, lbl_b)\n",
    "    #joint_p_ih_ik_jl = joint_probability(k,l,h,a,b)\n",
    "    \n",
    "    joint_p_ih_ik = joint_prob_ih_ik(k,l, joint_p_ih_ik_jl)\n",
    "    conditional_num = conditional_prob(k,l,joint_p_ih_ik_jl)\n",
    "    conditional_den = conditional_prob(k,0, joint_p_ih_ik)    \n",
    "    \n",
    "    div = conditional_div(k,l,conditional_num, conditional_den)\n",
    "    \n",
    "    #log2 from the division of the conditionals ->\n",
    "    #p(i_sub_t+h|i_sub_t**k, j_sub_t**l) /p(i_sub_t+h|i_t**k)\n",
    "    \n",
    "    log2_div_cond = np.log2(div[div!=0])\n",
    "    te = np.sum(joint_p_ih_ik_jl[div!=0]*log2_div_cond)\n",
    "    return te"
   ]
  },
  {
   "cell_type": "code",
   "execution_count": 16,
   "metadata": {},
   "outputs": [],
   "source": [
    "def plot_mat_corrs(figsize, annot, matrix):\n",
    "    f, ax = plt.subplots(figsize=figsize)\n",
    "    cmap = sns.diverging_palette(150, 275, s=80, l=55, as_cmap=True)\n",
    "    sns.heatmap(matrix, cmap=cmap, center=0, annot=annot, vmax=max(matrix.max()))\n",
    "    plt.yticks(rotation=45)\n",
    "    plt.xticks(rotation=45)\n",
    "    plt.show()"
   ]
  },
  {
   "cell_type": "code",
   "execution_count": 22,
   "metadata": {},
   "outputs": [],
   "source": [
    "def transferEnteropy_case(dist_df, pcnt_sig):\n",
    "    transEntropy = np.zeros([dist6_sel_vars.columns.size,dist6_sel_vars.columns.size])\n",
    "    sigValues =  np.zeros([dist6_sel_vars.columns.size,dist6_sel_vars.columns.size])\n",
    "    for i in np.arange(0, dist_df.columns.size):\n",
    "        for j in np.arange(0, dist_df.columns.size):\n",
    "            if(j != i + dist_df.columns.size/2 and j!=i and j != i - dist_df.columns.size/2):\n",
    "                transEntropy[i][j] = te(1,1,1,dist_df[dist_df.columns[i]],\n",
    "                                         dist_df[dist_df.columns[j]],'serie_a', 'serie_b')\n",
    "\n",
    "#                 sigValues[i][j] = significance_value(1,1,1,10, transEntropy[i][j], dist_df[dist_df.columns[i]],\n",
    "#                                          dist_df[dist_df.columns[j]])\n",
    "                sigValues[i][j] = significance_test(1,1,1,pcnt_sig,10,dist_df[dist_df.columns[i]],\n",
    "                                                     dist_df[dist_df.columns[j]])\n",
    "            clear_output()\n",
    "            print('trans ', i, j)\n",
    "            \n",
    "    for i, j in zip(np.arange(0, transEntropy.shape[0]), np.arange(0, sigValues.shape[0])):\n",
    "        for k, l in zip(np.arange(0, transEntropy.shape[1]), np.arange(0, sigValues.shape[1])):\n",
    "            if transEntropy[i][k] != 0 and sigValues[j][l] >= transEntropy[i][k] :\n",
    "                transEntropy[i][k] = 0\n",
    "    \n",
    "    return transEntropy  "
   ]
  },
  {
   "cell_type": "code",
   "execution_count": 18,
   "metadata": {},
   "outputs": [],
   "source": [
    "#Variavéis analizadas 1,2,3,6,7,8,9,21,46\n",
    "\n",
    "dist6 = pd.read_csv('dist6.csv', names=['xmeas%02d_low' % x for x in range(1, 74)] + ['xmeas%02d_high' % x for x in range(1, 74)])\n",
    "dist6_sel_vars = dist6[['xmeas01_low', 'xmeas02_low', 'xmeas03_low', \n",
    "        'xmeas08_low', 'xmeas09_low', 'xmeas21_low',\n",
    "        'xmeas01_high', 'xmeas02_high', 'xmeas03_high',\n",
    "        'xmeas08_high', 'xmeas09_high', 'xmeas21_high']].copy()\n",
    "\n"
   ]
  },
  {
   "cell_type": "code",
   "execution_count": 65,
   "metadata": {},
   "outputs": [],
   "source": [
    "#Com mdia movl de 8 amostras\n",
    "dist_roll  = dist6_sel_vars.rolling(5).mean() #5 minutos\n",
    "dist_roll.dropna(inplace=True)\n",
    "dist_roll = dist_roll.round(decimals=0,).copy()\n",
    "dist_roll.reset_index(drop=True, inplace=True)\n",
    "\n",
    "dist6_resamp_move = pd.DataFrame([], columns= dist6_sel_vars.columns)\n",
    "for col in dist6_sel_vars.columns:\n",
    "    dist6_resamp_move[col] = np.abs(np.round(sig.resample(dist_roll[col],1024)))"
   ]
  },
  {
   "cell_type": "code",
   "execution_count": 45,
   "metadata": {},
   "outputs": [],
   "source": [
    "dist6_resamp = pd.DataFrame([], columns= dist6_sel_vars.columns)\n",
    "for col in dist6_sel_vars.columns:\n",
    "    dist6_resamp[col] = np.abs(np.round(sig.resample(dist6_sel_vars[col],1024)))"
   ]
  },
  {
   "cell_type": "code",
   "execution_count": 16,
   "metadata": {},
   "outputs": [],
   "source": [
    "#df_s = dist6_sel_vars.groupby(lambda i: i // 17).agg(lambda g: 0 if np.sum(g) < 17/2 else 1)"
   ]
  },
  {
   "cell_type": "code",
   "execution_count": null,
   "metadata": {},
   "outputs": [],
   "source": []
  },
  {
   "cell_type": "code",
   "execution_count": 88,
   "metadata": {},
   "outputs": [
    {
     "name": "stdout",
     "output_type": "stream",
     "text": [
      "trans  11 11\n"
     ]
    }
   ],
   "source": [
    "#Media movel e normal\n",
    "te_matrix_m_movel = transferEnteropy_case(dist_roll, 0.95)"
   ]
  },
  {
   "cell_type": "code",
   "execution_count": 89,
   "metadata": {},
   "outputs": [
    {
     "name": "stdout",
     "output_type": "stream",
     "text": [
      "trans  11 11\n"
     ]
    }
   ],
   "source": [
    "#Com media movel, normal  e p = 97\n",
    "te_matrix_m_movel_97 = transferEnteropy_case(dist_roll, 0.97)"
   ]
  },
  {
   "cell_type": "code",
   "execution_count": 66,
   "metadata": {},
   "outputs": [
    {
     "name": "stdout",
     "output_type": "stream",
     "text": [
      "trans  11 11\n"
     ]
    }
   ],
   "source": [
    "#Com media movel e reamostrado de 10 min e com p = 0.97\n",
    "te_matrix_movel_samp_97 = transferEnteropy_case(dist6_resamp_move, 0.97)"
   ]
  },
  {
   "cell_type": "code",
   "execution_count": null,
   "metadata": {},
   "outputs": [
    {
     "name": "stdout",
     "output_type": "stream",
     "text": [
      "trans  0 0\n"
     ]
    }
   ],
   "source": [
    "#Sem mddia movel\n",
    "te_matrix = transferEnteropy_case(dist6_sel_vars, 0.95)"
   ]
  },
  {
   "cell_type": "code",
   "execution_count": null,
   "metadata": {},
   "outputs": [
    {
     "name": "stdout",
     "output_type": "stream",
     "text": [
      "trans  11 11\n"
     ]
    }
   ],
   "source": [
    "#Sem mddia movel com p = 0.97\n",
    "te_matrix_97 = transferEnteropy_case(dist6_sel_vars, 0.97)"
   ]
  },
  {
   "cell_type": "code",
   "execution_count": 46,
   "metadata": {},
   "outputs": [
    {
     "name": "stdout",
     "output_type": "stream",
     "text": [
      "trans  11 11\n"
     ]
    }
   ],
   "source": [
    "#sem mdia mvel com resamp de 1 min e p =95\n",
    "\n",
    "te_matrix__samp_97 = transferEnteropy_case(dist6_resamp, 0.95)"
   ]
  },
  {
   "cell_type": "code",
   "execution_count": 79,
   "metadata": {},
   "outputs": [],
   "source": [
    "#Sem media movel resamp .97"
   ]
  },
  {
   "cell_type": "code",
   "execution_count": 79,
   "metadata": {},
   "outputs": [],
   "source": [
    "#np.savetxt(\"te_matrix_samp.csv\", te_matrix, delimiter=\",\")"
   ]
  },
  {
   "cell_type": "code",
   "execution_count": null,
   "metadata": {},
   "outputs": [],
   "source": []
  },
  {
   "cell_type": "code",
   "execution_count": null,
   "metadata": {},
   "outputs": [],
   "source": [
    "df_normal =  pd.DataFrame(te_matrix_movel_samp_97, columns = dist6_sel_vars.columns, index= dist6_sel_vars.columns)\n",
    "plot_mat_corrs(figsize=(10,10), annot=True, matrix = df_normal)"
   ]
  },
  {
   "cell_type": "code",
   "execution_count": null,
   "metadata": {},
   "outputs": [],
   "source": []
  },
  {
   "cell_type": "code",
   "execution_count": 67,
   "metadata": {},
   "outputs": [],
   "source": [
    "#df_te =pd.read_csv(\"te_matrix_samp_15min.csv\", names= dist6_sel_vars.columns)\n",
    "df_te =  pd.DataFrame(te_matrix_movel_samp_97, columns = dist6_sel_vars.columns, index= dist6_sel_vars.columns)\n",
    "#df_te"
   ]
  },
  {
   "cell_type": "code",
   "execution_count": 68,
   "metadata": {},
   "outputs": [
    {
     "data": {
      "image/png": "[encoded data removed]",
      "text/plain": [
       "<matplotlib.figure.Figure at 0x7f0a20089358>"
      ]
     },
     "metadata": {},
     "output_type": "display_data"
    }
   ],
   "source": [
    "#plot_mat_corrs(figsize=(15,10), annot=True, matrix = df_te)\n",
    "plot_mat_corrs(figsize=(10,10), annot=True, matrix = df_te)"
   ]
  },
  {
   "cell_type": "code",
   "execution_count": 51,
   "metadata": {
    "scrolled": false
   },
   "outputs": [
    {
     "data": {
      "image/png": "[encoded data removed]",
      "text/plain": [
       "<matplotlib.figure.Figure at 0x7f0a2e976438>"
      ]
     },
     "metadata": {},
     "output_type": "display_data"
    }
   ],
   "source": [
    "#plot_mat_corrs(figsize=(15,10), annot=True, matrix = df_te)\n",
    "plot_mat_corrs(figsize=(10,10), annot=True, matrix = df_te)"
   ]
  },
  {
   "cell_type": "code",
   "execution_count": 64,
   "metadata": {
    "scrolled": false
   },
   "outputs": [
    {
     "data": {
      "image/svg+xml": [
       "<?xml version=\"1.0\" encoding=\"UTF-8\" standalone=\"no\"?>\n",
       "<!DOCTYPE svg PUBLIC \"-//W3C//DTD SVG 1.1//EN\"\n",
       " \"http://www.w3.org/Graphics/SVG/1.1/DTD/svg11.dtd\">\n",
       "<!-- Generated by graphviz version 2.40.1 (20161225.0304)\n",
       " -->\n",
       "<!-- Title: %3 Pages: 1 -->\n",
       "<svg width=\"751pt\" height=\"479pt\"\n",
       " viewBox=\"0.00 0.00 751.00 479.00\" xmlns=\"http://www.w3.org/2000/svg\" xmlns:xlink=\"http://www.w3.org/1999/xlink\">\n",
       "<g id=\"graph0\" class=\"graph\" transform=\"scale(1 1) rotate(0) translate(4 475)\">\n",
       "<title>%3</title>\n",
       "<polygon fill=\"#ffffff\" stroke=\"transparent\" points=\"-4,4 -4,-475 747,-475 747,4 -4,4\"/>\n",
       "<!-- 0 -->\n",
       "<g id=\"node1\" class=\"node\">\n",
       "<title>0</title>\n",
       "<ellipse fill=\"none\" stroke=\"#000000\" cx=\"448\" cy=\"-453\" rx=\"43.6222\" ry=\"18\"/>\n",
       "<text text-anchor=\"middle\" x=\"448\" y=\"-450.5\" font-family=\"Times,serif\" font-size=\"10.00\" fill=\"#000000\">xmeas01_low</text>\n",
       "</g>\n",
       "<!-- 3 -->\n",
       "<g id=\"node2\" class=\"node\">\n",
       "<title>3</title>\n",
       "<ellipse fill=\"none\" stroke=\"#000000\" cx=\"303\" cy=\"-366\" rx=\"43.6222\" ry=\"18\"/>\n",
       "<text text-anchor=\"middle\" x=\"303\" y=\"-363.5\" font-family=\"Times,serif\" font-size=\"10.00\" fill=\"#000000\">xmeas08_low</text>\n",
       "</g>\n",
       "<!-- 0&#45;&gt;3 -->\n",
       "<g id=\"edge5\" class=\"edge\">\n",
       "<title>0&#45;&gt;3</title>\n",
       "<path fill=\"none\" stroke=\"#000000\" d=\"M406.4746,-447.1579C370.9984,-441.2904 323.7354,-431.0966 311,-417 305.4236,-410.8277 302.8392,-402.4273 301.8101,-394.2259\"/>\n",
       "<polygon fill=\"#000000\" stroke=\"#000000\" points=\"305.2978,-393.9093 301.2304,-384.1263 298.3093,-394.3105 305.2978,-393.9093\"/>\n",
       "<text text-anchor=\"middle\" x=\"337\" y=\"-405.8\" font-family=\"Times,serif\" font-size=\"14.00\" fill=\"#000000\">0.013978</text>\n",
       "</g>\n",
       "<!-- 5 -->\n",
       "<g id=\"node3\" class=\"node\">\n",
       "<title>5</title>\n",
       "<ellipse fill=\"none\" stroke=\"#000000\" cx=\"232\" cy=\"-18\" rx=\"43.6222\" ry=\"18\"/>\n",
       "<text text-anchor=\"middle\" x=\"232\" y=\"-15.5\" font-family=\"Times,serif\" font-size=\"10.00\" fill=\"#000000\">xmeas21_low</text>\n",
       "</g>\n",
       "<!-- 0&#45;&gt;5 -->\n",
       "<g id=\"edge9\" class=\"edge\">\n",
       "<title>0&#45;&gt;5</title>\n",
       "<path fill=\"none\" stroke=\"#000000\" d=\"M404.8166,-450.4099C325.2612,-445.3219 158.6032,-433.1012 103,-417 53.9337,-402.7917 0,-417.0821 0,-366 0,-366 0,-366 0,-105 0,-66.5899 112.8979,-39.4319 181.1813,-26.5188\"/>\n",
       "<polygon fill=\"#000000\" stroke=\"#000000\" points=\"182.1265,-29.9035 191.3232,-24.6432 180.8534,-23.0202 182.1265,-29.9035\"/>\n",
       "<text text-anchor=\"middle\" x=\"26\" y=\"-231.8\" font-family=\"Times,serif\" font-size=\"14.00\" fill=\"#000000\">0.245594</text>\n",
       "</g>\n",
       "<!-- 9 -->\n",
       "<g id=\"node5\" class=\"node\">\n",
       "<title>9</title>\n",
       "<ellipse fill=\"none\" stroke=\"#000000\" cx=\"576\" cy=\"-192\" rx=\"45.1548\" ry=\"18\"/>\n",
       "<text text-anchor=\"middle\" x=\"576\" y=\"-189.5\" font-family=\"Times,serif\" font-size=\"10.00\" fill=\"#000000\">xmeas08_high</text>\n",
       "</g>\n",
       "<!-- 0&#45;&gt;9 -->\n",
       "<g id=\"edge17\" class=\"edge\">\n",
       "<title>0&#45;&gt;9</title>\n",
       "<path fill=\"none\" stroke=\"#000000\" d=\"M485.2719,-443.5975C516.1518,-433.848 558.7659,-415.5024 583,-384 626.1552,-327.9018 643.3868,-292.835 615,-228 612.9281,-223.2678 609.8933,-218.8818 606.4167,-214.9172\"/>\n",
       "<polygon fill=\"#000000\" stroke=\"#000000\" points=\"608.8722,-212.423 599.3235,-207.8325 603.9254,-217.3757 608.8722,-212.423\"/>\n",
       "<text text-anchor=\"middle\" x=\"649\" y=\"-318.8\" font-family=\"Times,serif\" font-size=\"14.00\" fill=\"#000000\">0.066842</text>\n",
       "</g>\n",
       "<!-- 11 -->\n",
       "<g id=\"node6\" class=\"node\">\n",
       "<title>11</title>\n",
       "<ellipse fill=\"none\" stroke=\"#000000\" cx=\"468\" cy=\"-279\" rx=\"45.1548\" ry=\"18\"/>\n",
       "<text text-anchor=\"middle\" x=\"468\" y=\"-276.5\" font-family=\"Times,serif\" font-size=\"10.00\" fill=\"#000000\">xmeas21_high</text>\n",
       "</g>\n",
       "<!-- 0&#45;&gt;11 -->\n",
       "<g id=\"edge21\" class=\"edge\">\n",
       "<title>0&#45;&gt;11</title>\n",
       "<path fill=\"none\" stroke=\"#000000\" d=\"M450.1025,-434.7078C453.5927,-404.3436 460.6066,-343.3226 464.7418,-307.3464\"/>\n",
       "<polygon fill=\"#000000\" stroke=\"#000000\" points=\"468.2607,-307.3814 465.9256,-297.0471 461.3065,-306.582 468.2607,-307.3814\"/>\n",
       "<text text-anchor=\"middle\" x=\"485\" y=\"-362.3\" font-family=\"Times,serif\" font-size=\"14.00\" fill=\"#000000\">0.134061</text>\n",
       "</g>\n",
       "<!-- 3&#45;&gt;0 -->\n",
       "<g id=\"edge1\" class=\"edge\">\n",
       "<title>3&#45;&gt;0</title>\n",
       "<path fill=\"none\" stroke=\"#000000\" d=\"M328.0864,-381.0518C351.8987,-395.3392 387.8648,-416.9189 414.1971,-432.7182\"/>\n",
       "<polygon fill=\"#000000\" stroke=\"#000000\" points=\"412.6979,-435.9004 423.0736,-438.0442 416.2994,-429.8979 412.6979,-435.9004\"/>\n",
       "<text text-anchor=\"middle\" x=\"411\" y=\"-405.8\" font-family=\"Times,serif\" font-size=\"14.00\" fill=\"#000000\">0.002026</text>\n",
       "</g>\n",
       "<!-- 3&#45;&gt;5 -->\n",
       "<g id=\"edge10\" class=\"edge\">\n",
       "<title>3&#45;&gt;5</title>\n",
       "<path fill=\"none\" stroke=\"#000000\" d=\"M267.0926,-355.5887C251.2287,-349.7948 233.0361,-341.4081 219,-330 168.4805,-288.9391 154.5721,-272.0899 135,-210 114.8021,-145.925 170.89,-77.092 206.0235,-41.8286\"/>\n",
       "<polygon fill=\"#000000\" stroke=\"#000000\" points=\"208.8944,-43.9162 213.5933,-34.4203 203.9983,-38.9133 208.8944,-43.9162\"/>\n",
       "<text text-anchor=\"middle\" x=\"161\" y=\"-188.3\" font-family=\"Times,serif\" font-size=\"14.00\" fill=\"#000000\">0.002446</text>\n",
       "</g>\n",
       "<!-- 6 -->\n",
       "<g id=\"node4\" class=\"node\">\n",
       "<title>6</title>\n",
       "<ellipse fill=\"none\" stroke=\"#000000\" cx=\"366\" cy=\"-105\" rx=\"45.1548\" ry=\"18\"/>\n",
       "<text text-anchor=\"middle\" x=\"366\" y=\"-102.5\" font-family=\"Times,serif\" font-size=\"10.00\" fill=\"#000000\">xmeas01_high</text>\n",
       "</g>\n",
       "<!-- 3&#45;&gt;6 -->\n",
       "<g id=\"edge13\" class=\"edge\">\n",
       "<title>3&#45;&gt;6</title>\n",
       "<path fill=\"none\" stroke=\"#000000\" d=\"M307.1894,-348.0547C309.48,-338.2782 312.3774,-325.9699 315,-315 330.6158,-249.6819 349.3287,-173.0341 359.1726,-132.8368\"/>\n",
       "<polygon fill=\"#000000\" stroke=\"#000000\" points=\"362.6102,-133.5134 361.5905,-122.9678 355.8113,-131.8476 362.6102,-133.5134\"/>\n",
       "<text text-anchor=\"middle\" x=\"362\" y=\"-231.8\" font-family=\"Times,serif\" font-size=\"14.00\" fill=\"#000000\">0.002456</text>\n",
       "</g>\n",
       "<!-- 3&#45;&gt;11 -->\n",
       "<g id=\"edge22\" class=\"edge\">\n",
       "<title>3&#45;&gt;11</title>\n",
       "<path fill=\"none\" stroke=\"#000000\" d=\"M308.7471,-347.9664C313.1594,-336.9118 320.3309,-323.3289 331,-315 344.3952,-304.5429 383.2553,-294.8845 416.1817,-288.21\"/>\n",
       "<polygon fill=\"#000000\" stroke=\"#000000\" points=\"417.0423,-291.6077 426.1749,-286.2369 415.6863,-284.7403 417.0423,-291.6077\"/>\n",
       "<text text-anchor=\"middle\" x=\"357\" y=\"-318.8\" font-family=\"Times,serif\" font-size=\"14.00\" fill=\"#000000\">0.001176</text>\n",
       "</g>\n",
       "<!-- 5&#45;&gt;0 -->\n",
       "<g id=\"edge2\" class=\"edge\">\n",
       "<title>5&#45;&gt;0</title>\n",
       "<path fill=\"none\" stroke=\"#000000\" d=\"M189.9269,-23.0673C143.4216,-31.2898 75,-52.336 75,-105 75,-366 75,-366 75,-366 75,-430.7694 290.9979,-447.3432 394.2557,-451.5659\"/>\n",
       "<polygon fill=\"#000000\" stroke=\"#000000\" points=\"394.3552,-455.0722 404.4822,-451.9587 394.6239,-448.0773 394.3552,-455.0722\"/>\n",
       "<text text-anchor=\"middle\" x=\"101\" y=\"-231.8\" font-family=\"Times,serif\" font-size=\"14.00\" fill=\"#000000\">0.031636</text>\n",
       "</g>\n",
       "<!-- 5&#45;&gt;3 -->\n",
       "<g id=\"edge6\" class=\"edge\">\n",
       "<title>5&#45;&gt;3</title>\n",
       "<path fill=\"none\" stroke=\"#000000\" d=\"M224.3413,-35.9651C217.6506,-53.307 209,-80.4718 209,-105 209,-279 209,-279 209,-279 209,-310.5276 237.8335,-333.819 263.5622,-348.3265\"/>\n",
       "<polygon fill=\"#000000\" stroke=\"#000000\" points=\"262.0114,-351.4661 272.4809,-353.0908 265.3096,-345.2918 262.0114,-351.4661\"/>\n",
       "<text text-anchor=\"middle\" x=\"235\" y=\"-188.3\" font-family=\"Times,serif\" font-size=\"14.00\" fill=\"#000000\">0.017049</text>\n",
       "</g>\n",
       "<!-- 5&#45;&gt;6 -->\n",
       "<g id=\"edge14\" class=\"edge\">\n",
       "<title>5&#45;&gt;6</title>\n",
       "<path fill=\"none\" stroke=\"#000000\" d=\"M233.8993,-36.2452C235.9436,-47.1002 240.188,-60.3905 249,-69 258.8494,-78.623 288.7067,-87.7282 315.7923,-94.374\"/>\n",
       "<polygon fill=\"#000000\" stroke=\"#000000\" points=\"315.0651,-97.7986 325.6036,-96.7076 316.6849,-90.9886 315.0651,-97.7986\"/>\n",
       "<text text-anchor=\"middle\" x=\"275\" y=\"-57.8\" font-family=\"Times,serif\" font-size=\"14.00\" fill=\"#000000\">0.031196</text>\n",
       "</g>\n",
       "<!-- 5&#45;&gt;9 -->\n",
       "<g id=\"edge18\" class=\"edge\">\n",
       "<title>5&#45;&gt;9</title>\n",
       "<path fill=\"none\" stroke=\"#000000\" d=\"M275.5671,-19.4507C364.0816,-23.4107 560.0425,-37.6739 601,-87 619.3882,-109.1454 606.7081,-142.5193 593.6234,-165.6734\"/>\n",
       "<polygon fill=\"#000000\" stroke=\"#000000\" points=\"590.5911,-163.9247 588.463,-174.3036 596.599,-167.5171 590.5911,-163.9247\"/>\n",
       "<text text-anchor=\"middle\" x=\"636\" y=\"-101.3\" font-family=\"Times,serif\" font-size=\"14.00\" fill=\"#000000\">0.032984</text>\n",
       "</g>\n",
       "<!-- 6&#45;&gt;3 -->\n",
       "<g id=\"edge7\" class=\"edge\">\n",
       "<title>6&#45;&gt;3</title>\n",
       "<path fill=\"none\" stroke=\"#000000\" d=\"M340.0072,-119.9052C330.9035,-125.8109 320.9721,-133.0842 313,-141 311.9584,-142.0342 253.4364,-226.5985 253,-228 240.6262,-267.737 264.3923,-312.9402 283.2213,-340.461\"/>\n",
       "<polygon fill=\"#000000\" stroke=\"#000000\" points=\"280.4631,-342.6219 289.109,-348.7456 286.169,-338.5669 280.4631,-342.6219\"/>\n",
       "<text text-anchor=\"middle\" x=\"279\" y=\"-231.8\" font-family=\"Times,serif\" font-size=\"14.00\" fill=\"#000000\">0.016504</text>\n",
       "</g>\n",
       "<!-- 6&#45;&gt;5 -->\n",
       "<g id=\"edge11\" class=\"edge\">\n",
       "<title>6&#45;&gt;5</title>\n",
       "<path fill=\"none\" stroke=\"#000000\" d=\"M348.2038,-88.1693C336.4868,-77.5946 320.5002,-64.0944 305,-54 294.5464,-47.1921 282.6214,-40.7985 271.483,-35.343\"/>\n",
       "<polygon fill=\"#000000\" stroke=\"#000000\" points=\"272.894,-32.1383 262.3613,-30.9925 269.8806,-38.4565 272.894,-32.1383\"/>\n",
       "<text text-anchor=\"middle\" x=\"351\" y=\"-57.8\" font-family=\"Times,serif\" font-size=\"14.00\" fill=\"#000000\">0.264976</text>\n",
       "</g>\n",
       "<!-- 6&#45;&gt;9 -->\n",
       "<g id=\"edge19\" class=\"edge\">\n",
       "<title>6&#45;&gt;9</title>\n",
       "<path fill=\"none\" stroke=\"#000000\" d=\"M386.6235,-121.11C394.5618,-127.3189 403.7083,-134.4824 412,-141 420.4586,-147.6487 421.2536,-151.4436 431,-156 466.3756,-172.5379 479.1753,-164.2926 517,-174 521.4377,-175.1389 526.0399,-176.3998 530.6277,-177.7102\"/>\n",
       "<polygon fill=\"#000000\" stroke=\"#000000\" points=\"529.9977,-181.1729 540.5786,-180.6296 531.9684,-174.456 529.9977,-181.1729\"/>\n",
       "<text text-anchor=\"middle\" x=\"457\" y=\"-144.8\" font-family=\"Times,serif\" font-size=\"14.00\" fill=\"#000000\">0.038574</text>\n",
       "</g>\n",
       "<!-- 6&#45;&gt;11 -->\n",
       "<g id=\"edge23\" class=\"edge\">\n",
       "<title>6&#45;&gt;11</title>\n",
       "<path fill=\"none\" stroke=\"#000000\" d=\"M381.2386,-122.2145C390.5974,-132.4352 403.0465,-145.4215 415,-156 424.9849,-164.8363 431.4892,-162.9834 439,-174 454.7262,-197.0668 461.9586,-228.4455 465.2637,-250.8798\"/>\n",
       "<polygon fill=\"#000000\" stroke=\"#000000\" points=\"461.7932,-251.3335 466.5567,-260.7971 468.7344,-250.4285 461.7932,-251.3335\"/>\n",
       "<text text-anchor=\"middle\" x=\"481\" y=\"-188.3\" font-family=\"Times,serif\" font-size=\"14.00\" fill=\"#000000\">0.173333</text>\n",
       "</g>\n",
       "<!-- 9&#45;&gt;0 -->\n",
       "<g id=\"edge3\" class=\"edge\">\n",
       "<title>9&#45;&gt;0</title>\n",
       "<path fill=\"none\" stroke=\"#000000\" d=\"M611.59,-203.394C624.9622,-209.0837 639.4608,-217.125 650,-228 679.4895,-258.429 680.1373,-273.5632 689,-315 699.1511,-362.4606 688.2559,-387.133 650,-417 627.3619,-434.674 553.0985,-444.366 501.2273,-449.1192\"/>\n",
       "<polygon fill=\"#000000\" stroke=\"#000000\" points=\"500.8278,-445.6408 491.1736,-450.0049 501.4422,-452.6137 500.8278,-445.6408\"/>\n",
       "<text text-anchor=\"middle\" x=\"717\" y=\"-318.8\" font-family=\"Times,serif\" font-size=\"14.00\" fill=\"#000000\">0.115792</text>\n",
       "</g>\n",
       "<!-- 9&#45;&gt;5 -->\n",
       "<g id=\"edge12\" class=\"edge\">\n",
       "<title>9&#45;&gt;5</title>\n",
       "<path fill=\"none\" stroke=\"#000000\" d=\"M574.7213,-173.7584C573.1375,-163.1735 569.6468,-150.1652 562,-141 504.8203,-72.466 465.0688,-83.9809 381,-54 348.7117,-42.4852 311.1923,-33.4437 281.8809,-27.3018\"/>\n",
       "<polygon fill=\"#000000\" stroke=\"#000000\" points=\"282.3767,-23.8308 271.8775,-25.251 280.9708,-30.6881 282.3767,-23.8308\"/>\n",
       "<text text-anchor=\"middle\" x=\"571\" y=\"-101.3\" font-family=\"Times,serif\" font-size=\"14.00\" fill=\"#000000\">0.008337</text>\n",
       "</g>\n",
       "<!-- 9&#45;&gt;6 -->\n",
       "<g id=\"edge15\" class=\"edge\">\n",
       "<title>9&#45;&gt;6</title>\n",
       "<path fill=\"none\" stroke=\"#000000\" d=\"M548.4339,-177.5877C536.4965,-171.1867 522.4365,-163.4316 510,-156 499.5239,-149.7399 498.075,-146.1268 487,-141 464.4054,-130.5407 438.0366,-122.275 415.6924,-116.3158\"/>\n",
       "<polygon fill=\"#000000\" stroke=\"#000000\" points=\"416.2954,-112.8566 405.7375,-113.7404 414.5421,-119.6335 416.2954,-112.8566\"/>\n",
       "<text text-anchor=\"middle\" x=\"536\" y=\"-144.8\" font-family=\"Times,serif\" font-size=\"14.00\" fill=\"#000000\">0.097482</text>\n",
       "</g>\n",
       "<!-- 9&#45;&gt;11 -->\n",
       "<g id=\"edge24\" class=\"edge\">\n",
       "<title>9&#45;&gt;11</title>\n",
       "<path fill=\"none\" stroke=\"#000000\" d=\"M537.3279,-201.5989C521.3927,-207.1479 503.7227,-215.5672 491,-228 484.4093,-234.4406 479.5447,-243.1121 476.032,-251.4763\"/>\n",
       "<polygon fill=\"#000000\" stroke=\"#000000\" points=\"472.6951,-250.4089 472.5069,-261.002 479.26,-252.8383 472.6951,-250.4089\"/>\n",
       "<text text-anchor=\"middle\" x=\"517\" y=\"-231.8\" font-family=\"Times,serif\" font-size=\"14.00\" fill=\"#000000\">0.018822</text>\n",
       "</g>\n",
       "<!-- 11&#45;&gt;0 -->\n",
       "<g id=\"edge4\" class=\"edge\">\n",
       "<title>11&#45;&gt;0</title>\n",
       "<path fill=\"none\" stroke=\"#000000\" d=\"M487.1518,-295.3563C508.5117,-315.6994 538.3027,-351.6966 524,-384 515.2141,-403.8434 497.5903,-420.4212 481.5245,-432.3503\"/>\n",
       "<polygon fill=\"#000000\" stroke=\"#000000\" points=\"479.4604,-429.5232 473.3202,-438.1573 483.5046,-435.2368 479.4604,-429.5232\"/>\n",
       "<text text-anchor=\"middle\" x=\"553\" y=\"-362.3\" font-family=\"Times,serif\" font-size=\"14.00\" fill=\"#000000\">0.111977</text>\n",
       "</g>\n",
       "<!-- 11&#45;&gt;3 -->\n",
       "<g id=\"edge8\" class=\"edge\">\n",
       "<title>11&#45;&gt;3</title>\n",
       "<path fill=\"none\" stroke=\"#000000\" d=\"M443.3712,-294.1184C433.0313,-300.5091 420.8987,-308.065 410,-315 399.7037,-321.5517 397.76,-324.2414 387,-330 373.4746,-337.2386 358.1836,-344.1446 344.39,-349.9368\"/>\n",
       "<polygon fill=\"#000000\" stroke=\"#000000\" points=\"343.0306,-346.7113 335.1199,-353.7591 345.6991,-353.1828 343.0306,-346.7113\"/>\n",
       "<text text-anchor=\"middle\" x=\"436\" y=\"-318.8\" font-family=\"Times,serif\" font-size=\"14.00\" fill=\"#000000\">0.004998</text>\n",
       "</g>\n",
       "<!-- 11&#45;&gt;6 -->\n",
       "<g id=\"edge16\" class=\"edge\">\n",
       "<title>11&#45;&gt;6</title>\n",
       "<path fill=\"none\" stroke=\"#000000\" d=\"M442.4099,-263.849C424.09,-251.6357 400.3843,-232.7748 387,-210 373.2394,-186.585 368.3454,-155.6991 366.6795,-133.4949\"/>\n",
       "<polygon fill=\"#000000\" stroke=\"#000000\" points=\"370.1653,-133.1452 366.0964,-123.3629 363.1769,-133.5475 370.1653,-133.1452\"/>\n",
       "<text text-anchor=\"middle\" x=\"413\" y=\"-188.3\" font-family=\"Times,serif\" font-size=\"14.00\" fill=\"#000000\">0.107054</text>\n",
       "</g>\n",
       "<!-- 11&#45;&gt;9 -->\n",
       "<g id=\"edge20\" class=\"edge\">\n",
       "<title>11&#45;&gt;9</title>\n",
       "<path fill=\"none\" stroke=\"#000000\" d=\"M504.2369,-267.9875C518.7537,-262.2578 534.8754,-254.0858 547,-243 554.2093,-236.4083 560.0871,-227.5977 564.6192,-219.1559\"/>\n",
       "<polygon fill=\"#000000\" stroke=\"#000000\" points=\"567.8893,-220.4374 569.1635,-209.9194 561.6084,-217.3471 567.8893,-220.4374\"/>\n",
       "<text text-anchor=\"middle\" x=\"585\" y=\"-231.8\" font-family=\"Times,serif\" font-size=\"14.00\" fill=\"#000000\">0.106622</text>\n",
       "</g>\n",
       "</g>\n",
       "</svg>\n"
      ],
      "text/plain": [
       "<graphviz.dot.Digraph at 0x7f0a1bcfbef0>"
      ]
     },
     "execution_count": 64,
     "metadata": {},
     "output_type": "execute_result"
    }
   ],
   "source": [
    "#plotting the graph\n",
    "g = Digraph(engine='dot')\n",
    "for k, row in enumerate(df_te.index):\n",
    "    if any(df_te.iloc[k]) or any(df_te[row]):\n",
    "        g.node(str(k),row, shape='oval', fontsize='10', width='0', rankdir=\"LR\") \n",
    "\n",
    "for j, col in enumerate(df_te.columns):\n",
    "    for i, row in enumerate(df_te[col]):\n",
    "        if row:\n",
    "            g.edge(str(i), str(j), label=str(np.round(row,6)),\\\n",
    "                   color=\"#000000{:02x}\".format(int(255)))\n",
    "g\n",
    "#row//max(df_te.max())"
   ]
  },
  {
   "cell_type": "code",
   "execution_count": 232,
   "metadata": {
    "scrolled": false
   },
   "outputs": [
    {
     "name": "stdout",
     "output_type": "stream",
     "text": [
      "0.06703986624873522\n",
      "0.06703986624873522\n",
      "0.06703986624873522\n",
      "0.06703986624873522\n",
      "0.06703986624873522\n",
      "0.06703986624873522\n",
      "0.06703986624873522\n",
      "0.06703986624873522\n",
      "0.06703986624873522\n",
      "0.06703986624873522\n"
     ]
    },
    {
     "data": {
      "text/plain": [
       "10"
      ]
     },
     "execution_count": 232,
     "metadata": {},
     "output_type": "execute_result"
    }
   ],
   "source": [
    "#Timing new joint prob\n",
    "b = b.astype(int)\n",
    "a = a.astype(int)\n",
    "\n",
    "count=0\n",
    "for i in range(10):\n",
    "    te_v = te(1,1,1,a,b,'a', 'b')\n",
    "    print(te_v)\n",
    "    sig_te = significance_value(1,1,1,1000,te_v, a,b)\n",
    "    if(sig_te > 0.95):\n",
    "        count= count + 1\n",
    "count"
   ]
  },
  {
   "cell_type": "code",
   "execution_count": 226,
   "metadata": {},
   "outputs": [
    {
     "data": {
      "text/plain": [
       "10"
      ]
     },
     "execution_count": 226,
     "metadata": {},
     "output_type": "execute_result"
    }
   ],
   "source": [
    "count"
   ]
  },
  {
   "cell_type": "code",
   "execution_count": null,
   "metadata": {},
   "outputs": [],
   "source": [
    "#joint probablity for functions test\n",
    "#joint_p_ih_ik_jl = np.array([0.97322404,0.00546448,0.00491803,0,0,0.00546448, 0.00546448, 0.00546448])\n",
    "\n",
    "#aproximate results for this test\n",
    "\n",
    "#p(ith, ik)\n",
    "#jnt_p_ih_ik = [0.97868852,0.00491803,0.00546448,0.0109286] \n",
    "\n",
    "#p(i_t+h|i**k, j**l)\n",
    "#cond_p_ih_ik_jl =  [1,0.5,0.4736841094123,0,0,0.5, 0.52631589085076,1]\n",
    "\n",
    "#p(i_th|i_k)\n",
    "#cond_p_ih_ik = [0.994711793480152,0.31035179088550,0.0552469991962,0.68964820911449]"
   ]
  },
  {
   "cell_type": "code",
   "execution_count": null,
   "metadata": {},
   "outputs": [],
   "source": [
    "np.seterr(all='ignore')"
   ]
  },
  {
   "cell_type": "code",
   "execution_count": 190,
   "metadata": {},
   "outputs": [
    {
     "data": {
      "text/plain": [
       "[<matplotlib.lines.Line2D at 0x7f9f3fd2a668>]"
      ]
     },
     "execution_count": 190,
     "metadata": {},
     "output_type": "execute_result"
    },
    {
     "data": {
      "image/png": "[encoded data removed]",
      "text/plain": [
       "<matplotlib.figure.Figure at 0x7f9f3fde7ba8>"
      ]
     },
     "metadata": {},
     "output_type": "display_data"
    }
   ],
   "source": [
    "plt.plot(a)"
   ]
  },
  {
   "cell_type": "code",
   "execution_count": 217,
   "metadata": {},
   "outputs": [],
   "source": [
    "a = np.array([1, 2, 3, 4])\n",
    "\n",
    "def asdf(v):\n",
    "    b = v.copy()\n",
    "    np.random.shuffle(b)"
   ]
  },
  {
   "cell_type": "code",
   "execution_count": 218,
   "metadata": {},
   "outputs": [
    {
     "data": {
      "text/plain": [
       "array([1, 2, 3, 4])"
      ]
     },
     "execution_count": 218,
     "metadata": {},
     "output_type": "execute_result"
    }
   ],
   "source": [
    "asdf(a)\n",
    "a"
   ]
  }
 ],
 "metadata": {
  "kernelspec": {
   "display_name": "Python 3",
   "language": "python",
   "name": "python3"
  },
  "language_info": {
   "codemirror_mode": {
    "name": "ipython",
    "version": 3
   },
   "file_extension": ".py",
   "mimetype": "text/x-python",
   "name": "python",
   "nbconvert_exporter": "python",
   "pygments_lexer": "ipython3",
   "version": "3.6.4"
  }
 },
 "nbformat": 4,
 "nbformat_minor": 2
}
