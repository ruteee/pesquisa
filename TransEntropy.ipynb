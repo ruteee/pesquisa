{
 "cells": [
  {
   "cell_type": "code",
   "execution_count": 1,
   "metadata": {
    "collapsed": true
   },
   "outputs": [],
   "source": [
    "import pandas as pd\n",
    "import numpy as np\n",
    "import datetime as dt\n",
    "import random\n",
    "import time\n",
    "import math\n",
    "import matplotlib.pyplot as plt\n",
    "from IPython.core.debugger import Tracer; \n",
    "import itertools"
   ]
  },
  {
   "cell_type": "code",
   "execution_count": 2,
   "metadata": {
    "collapsed": true
   },
   "outputs": [],
   "source": [
    "random.seed(1)"
   ]
  },
  {
   "cell_type": "code",
   "execution_count": 3,
   "metadata": {
    "collapsed": true
   },
   "outputs": [],
   "source": [
    "almNum = 3\n",
    "p_caus = 0.75\n",
    "pCausInit = 0.9\n",
    "ocorr = 100\n",
    "t_amos = 60\n",
    "hora_base = dt.datetime(2018, 1,9,9,0,0)\n",
    "\n",
    "b = []\n",
    "c = []"
   ]
  },
  {
   "cell_type": "code",
   "execution_count": 4,
   "metadata": {
    "collapsed": true
   },
   "outputs": [],
   "source": [
    "hora_base = dt.datetime(2018, 1,9,9,0,0)"
   ]
  },
  {
   "cell_type": "code",
   "execution_count": 5,
   "metadata": {},
   "outputs": [
    {
     "data": {
      "text/plain": [
       "20"
      ]
     },
     "execution_count": 5,
     "metadata": {},
     "output_type": "execute_result"
    }
   ],
   "source": [
    "\n",
    "hora_base = dt.datetime(2018, 1,9,9,0,0)\n",
    "numOcorr = 0\n",
    "\n",
    "a = np.zeros(1, dtype=int)\n",
    "ocorr = 10\n",
    "duracao = 60 #120sec\n",
    "inicio = hora_base\n",
    "tempoOcorA = []\n",
    "tempoOcorB = []\n",
    "tempoOcorC= []\n",
    "\n",
    "b = []\n",
    "b = np.zeros(1, dtype=int)\n",
    "pAb = 1\n",
    "inicioB = hora_base\n",
    "atraso = 15 #seconds\n",
    "duracaoB = 60\n",
    "\n",
    "\n",
    "c = []\n",
    "c = np.zeros(1, dtype=int)\n",
    "pAc = 1\n",
    "inicioC = hora_base\n",
    "atraso = 15 #seconds\n",
    "duracaoC = 120\n",
    "count = 0;\n",
    "\n",
    "index_fim_b = 0 \n",
    "index_init_b =0\n",
    "index_fim_a =0\n",
    "index_init_a = 0\n",
    "index_fim_c = 0\n",
    "index_init_c = 0\n",
    "\n",
    "while(numOcorr < ocorr):    \n",
    "    hora_sort = random.normalvariate(3, 1)\n",
    "    hora_ocor_inicio = inicio + dt.timedelta(hours=hora_sort)\n",
    "    hora_ocor_fim = hora_ocor_inicio + dt.timedelta(seconds = duracao)\n",
    "\n",
    "    #print('hora inicial', hora_ocor_inicio)\n",
    "    #print('hora final', hora_ocor_fim)\n",
    "\n",
    "    index_init_a = int(math.ceil((hora_ocor_inicio - hora_base).total_seconds()/t_amos))\n",
    "    index_fim_a = int(math.ceil((hora_ocor_fim - hora_base).total_seconds()/t_amos))\n",
    "\n",
    "    #print(index_init_a, index_fim_a)\n",
    "    tempoOcorA.append([hora_ocor_inicio, hora_ocor_fim])\n",
    "\n",
    "    p = random.uniform(0,1)\n",
    "    #Cálculo de B\n",
    "    if p <= pAb:\n",
    "        hora_inicio_b = inicioB + dt.timedelta(seconds = ((index_init_a+1)*t_amos + atraso))\n",
    "        hora_fim_b = hora_inicio_b + dt.timedelta(seconds=duracao)\n",
    "        tempoOcorB.append([hora_inicio_b, hora_fim_b])  \n",
    "\n",
    "        index_init_b = int(math.ceil((hora_inicio_b - inicioB).total_seconds()/t_amos))\n",
    "        index_fim_b = int(math.ceil((hora_fim_b - inicioB).total_seconds()/t_amos))\n",
    "\n",
    "        if(index_fim_b > b.size):\n",
    "                b.resize(index_fim_b)\n",
    "\n",
    "        for j in np.arange(index_init_b, index_fim_b +1):\n",
    "            b[j-1] =  1    \n",
    "    #Fim de B\n",
    "\n",
    "    #Cálculo de C\n",
    "    if p <= pAc:\n",
    "        hora_inicio_c = inicioC + dt.timedelta(seconds = ((index_init_a+1)*t_amos + atraso))\n",
    "        hora_fim_c = hora_inicio_c + dt.timedelta(seconds=duracao)\n",
    "        tempoOcorC.append([hora_inicio_c, hora_fim_c])  \n",
    "\n",
    "        index_init_c = int(math.ceil((hora_inicio_c - inicioC).total_seconds()/t_amos))\n",
    "        index_fim_c = int(math.ceil((hora_fim_c - inicioC).total_seconds()/t_amos))\n",
    "        if(index_fim_c > c.size):\n",
    "            c.resize(index_fim_c)\n",
    "\n",
    "    for j in np.arange(index_init_c, index_fim_c +1):\n",
    "        c[j-1] = 1    \n",
    "    #Fim de C\n",
    "\n",
    "    if(index_fim_a < index_fim_b and  index_fim_b >= index_fim_c and index_fim_b > a.size):\n",
    "        a.resize(index_fim_b)\n",
    "    elif(index_fim_a> a.size or index_fim_a == index_fim_b and index_fim_b == c):\n",
    "        a.resize(index_fim_a)\n",
    "    elif(index_fim_a < index_fim_b and  index_fim_b <= index_fim_c and index_fim_c > a.size):\n",
    "        a.resize(index_fim_c)\n",
    "\n",
    "    for i in np.arange(index_init_a, index_fim_a + 1):\n",
    "        a[i-1] = 1\n",
    "\n",
    "    inicio = hora_ocor_inicio\n",
    "    numOcorr = numOcorr + 1\n",
    "\n",
    "sum(a)"
   ]
  },
  {
   "cell_type": "code",
   "execution_count": 26,
   "metadata": {},
   "outputs": [
    {
     "data": {
      "text/plain": [
       "20"
      ]
     },
     "execution_count": 26,
     "metadata": {},
     "output_type": "execute_result"
    }
   ],
   "source": [
    "sum(b)"
   ]
  },
  {
   "cell_type": "code",
   "execution_count": 6,
   "metadata": {},
   "outputs": [],
   "source": [
    "a = a.astype(int)\n",
    "b = b.astype(int)"
   ]
  },
  {
   "cell_type": "code",
   "execution_count": 27,
   "metadata": {
    "collapsed": true
   },
   "outputs": [],
   "source": [
    "k = 1 #horizonte de tempo de A\n",
    "l = 1 #horizonte de tempo de B\n",
    "h = 1\n",
    "\n",
    "#larmes A, B\n",
    "sizeSeries = a.size\n",
    "transEntropy = 0\n",
    "numStates = 2**(k + l  + 1)\n",
    "combinations = list(map(list, itertools.product([0, 1], repeat=k+l+1)))\n",
    "counting = np.zeros(numStates)\n",
    "prob_cnjt = np.zeros(numStates)\n",
    "a_prob_ind = []\n",
    "b_prob_ind = []\n",
    "\n",
    "#calcuo da probabilidade conjunta p(i_sub_t+1), i_sub_t**k, j_sub_t**l)\n",
    "inicio = np.max([k,l]) - 1\n",
    "for i in np.arange(inicio, sizeSeries - 1):\n",
    "    for hk in np.arange(0,k):\n",
    "            b_prob_ind.append(b[i - hk])\n",
    "    for hl in np.arange(0,l):\n",
    "            a_prob_ind.append(a[i - hl])\n",
    "            \n",
    "    ab = [a[i + h]] + a_prob_ind + b_prob_ind\n",
    "    index_comb = combinations.index(ab)\n",
    "    counting[index_comb] = counting[index_comb] + 1\n",
    "    \n",
    "    a_prob_ind = []\n",
    "    b_prob_ind = []\n",
    "\n",
    "total = sum(counting)\n",
    "for i, cnt in enumerate(counting):\n",
    "    prob_cnjt[i] = cnt/total        "
   ]
  },
  {
   "cell_type": "code",
   "execution_count": 28,
   "metadata": {},
   "outputs": [
    {
     "data": {
      "text/plain": [
       "array([ 0.97612086,  0.00925926,  0.00487329,  0.        ,  0.00487329,\n",
       "        0.        ,  0.00487329,  0.        ])"
      ]
     },
     "execution_count": 28,
     "metadata": {},
     "output_type": "execute_result"
    }
   ],
   "source": [
    "prob_cnjt"
   ]
  },
  {
   "cell_type": "code",
   "execution_count": 29,
   "metadata": {
    "collapsed": true
   },
   "outputs": [],
   "source": [
    "#Cálculo da probabilidade marginal i_sub_t**\n",
    "p_marg_i_k = np.zeros(2**k)\n",
    "estados_i = list(map(list, itertools.product([0, 1], repeat=k)))\n",
    "for i, est_i in enumerate(estados_i):\n",
    "    for j, comb in enumerate(combinations):\n",
    "        if  comb[1:k+1] == est_i:\n",
    "            p_marg_i_k[i] = p_marg_i_k[i] + prob_cnjt[j]\n",
    "    \n",
    "\n"
   ]
  },
  {
   "cell_type": "code",
   "execution_count": 30,
   "metadata": {},
   "outputs": [
    {
     "data": {
      "text/plain": [
       "1.0"
      ]
     },
     "execution_count": 30,
     "metadata": {},
     "output_type": "execute_result"
    }
   ],
   "source": [
    "sum(p_marg_i_k)"
   ]
  },
  {
   "cell_type": "code",
   "execution_count": 31,
   "metadata": {
    "collapsed": true
   },
   "outputs": [],
   "source": [
    "#Cálculo da probabilade conjunta p(i_t+h, i_t**k)\n",
    "estados_ith_ik = list(map(list, itertools.product([0, 1], repeat=k + 1)))\n",
    "p_cjnt_ith_ik = np.zeros(2**(k+1))\n",
    "                         \n",
    "for i, estado in enumerate(estados_ith_ik):\n",
    "    for j, comb in enumerate(combinations):\n",
    "        if comb[0:k+1] == estado:\n",
    "            p_cjnt_ith_ik[i] = p_cjnt_ith_ik[i] + prob_cnjt[j]\n",
    "            "
   ]
  },
  {
   "cell_type": "code",
   "execution_count": 32,
   "metadata": {},
   "outputs": [
    {
     "data": {
      "text/plain": [
       "1.0"
      ]
     },
     "execution_count": 32,
     "metadata": {},
     "output_type": "execute_result"
    }
   ],
   "source": [
    "sum(p_cjnt_ith_ik)"
   ]
  },
  {
   "cell_type": "code",
   "execution_count": 33,
   "metadata": {
    "collapsed": true
   },
   "outputs": [],
   "source": [
    "#Cálculo da conjunta p(ik, jl)\n",
    "prob_cnjt_ik_jl = []\n",
    "size = int(prob_cnjt.size/2)\n",
    "\n",
    "for i in np.arange(0,size):\n",
    "    prob_cnjt_ik_jl.append(prob_cnjt[i] + prob_cnjt[2**(k+l) + i])\n",
    "prob_cnjt_ik_jl = np.asarray(prob_cnjt_ik_jl)"
   ]
  },
  {
   "cell_type": "code",
   "execution_count": 34,
   "metadata": {},
   "outputs": [
    {
     "data": {
      "text/plain": [
       "1.0"
      ]
     },
     "execution_count": 34,
     "metadata": {},
     "output_type": "execute_result"
    }
   ],
   "source": [
    "sum(prob_cnjt_ik_jl)"
   ]
  },
  {
   "cell_type": "code",
   "execution_count": 66,
   "metadata": {},
   "outputs": [],
   "source": [
    "estados_i_j = list(map(list, itertools.product([0, 1], repeat=k+l)))\n",
    "\n",
    "size = int(prob_cnjt.size/2)\n",
    "num = np.zeros(2**(k+l+1))\n",
    "count_zero  = 0\n",
    "count_um = 0\n",
    "\n",
    "\n",
    "for i in np.arange(0,size):\n",
    "    for est in (estados_i_j):\n",
    "        for j, comb in enumerate(combinations):\n",
    "            #print(est)\n",
    "            if comb[1:k+l+ 1] == est:\n",
    "               # print(comb[1:k+l+1])\n",
    "                if(comb[0] == 1):\n",
    "                    count_um = count_um + prob_cnjt[j]\n",
    "                else:\n",
    "                    count_zero = count_zero + prob_cnjt[j]\n",
    "    num[i] = count_zero/(count_zero+ count_um)\n",
    "    num[i + 2**(k+l)] = count_um/(count_zero+ count_um)"
   ]
  },
  {
   "cell_type": "code",
   "execution_count": 36,
   "metadata": {},
   "outputs": [
    {
     "data": {
      "text/plain": [
       "3.9999999999999996"
      ]
     },
     "execution_count": 36,
     "metadata": {},
     "output_type": "execute_result"
    }
   ],
   "source": [
    "sum(num)"
   ]
  },
  {
   "cell_type": "code",
   "execution_count": 37,
   "metadata": {
    "collapsed": true
   },
   "outputs": [],
   "source": [
    "#Cálculo da probabilidade condicional do denominador\n",
    "condicional_den = []\n",
    "\n",
    "estados_i = list(map(list, itertools.product([0, 1], repeat=k)))\n",
    "for i,est in enumerate(estados_ith_ik):\n",
    "    index_i_marg = estados_i.index(est[1:k+1])\n",
    "    condicional_den.append(p_cjnt_ith_ik[i]/p_marg_i_k[index_i_marg])"
   ]
  },
  {
   "cell_type": "code",
   "execution_count": 61,
   "metadata": {},
   "outputs": [
    {
     "name": "stdout",
     "output_type": "stream",
     "text": [
      "2\n",
      "[0, 0]\n",
      "[1, 0]\n",
      "[0, 1]\n",
      "[1, 1]\n",
      "[0, 0]\n",
      "[1, 0]\n",
      "[0, 1]\n",
      "[1, 1]\n"
     ]
    }
   ],
   "source": [
    "size = int((2**(k+1))/2)\n",
    "count_zero  = 0\n",
    "count_um = 0\n",
    "den = np.zeros(2**(k+1))\n",
    "print(size)\n",
    "for i in np.arange(0, size):\n",
    "    for est in estados_i:\n",
    "        for j, comb in enumerate(estados_i_j):\n",
    "            if(comb[1:k+1] == est):\n",
    "                print(comb)\n",
    "                if(comb[0] == 1):\n",
    "                    count_um = count_um + p_cjnt_ith_ik[j]\n",
    "                else:\n",
    "                    count_zero = count_zero + p_cjnt_ith_ik[j]\n",
    "    den[i] = count_zero/(count_zero+ count_um)\n",
    "    den[i + 2**(k)] = count_um/(count_zero+ count_um)"
   ]
  },
  {
   "cell_type": "code",
   "execution_count": 79,
   "metadata": {},
   "outputs": [
    {
     "data": {
      "text/plain": [
       "[0.99507874015748032, 0.5, 0.0049212598425196841, 0.5]"
      ]
     },
     "execution_count": 79,
     "metadata": {},
     "output_type": "execute_result"
    }
   ],
   "source": [
    "condicional_den"
   ]
  },
  {
   "cell_type": "code",
   "execution_count": 71,
   "metadata": {},
   "outputs": [
    {
     "data": {
      "text/plain": [
       "array([ 0.99025341,  0.99025341,  0.00974659,  0.00974659])"
      ]
     },
     "execution_count": 71,
     "metadata": {},
     "output_type": "execute_result"
    }
   ],
   "source": [
    "den"
   ]
  },
  {
   "cell_type": "code",
   "execution_count": 72,
   "metadata": {},
   "outputs": [
    {
     "data": {
      "text/plain": [
       "array([ 0.99025341,  0.99025341,  0.99025341,  0.99025341,  0.00974659,\n",
       "        0.00974659,  0.00974659,  0.00974659])"
      ]
     },
     "execution_count": 72,
     "metadata": {},
     "output_type": "execute_result"
    }
   ],
   "source": [
    "num"
   ]
  },
  {
   "cell_type": "code",
   "execution_count": 87,
   "metadata": {},
   "outputs": [
    {
     "name": "stdout",
     "output_type": "stream",
     "text": [
      "[0, 0, 0]\n",
      "[0, 0]\n",
      "[0, 0, 1]\n",
      "[0, 0]\n",
      "[0, 1, 0]\n",
      "[0, 1]\n",
      "[0, 1, 1]\n",
      "[0, 1]\n",
      "[1, 0, 0]\n",
      "[1, 0]\n",
      "[1, 0, 1]\n",
      "[1, 0]\n",
      "[1, 1, 0]\n",
      "[1, 1]\n",
      "[1, 1, 1]\n",
      "[1, 1]\n"
     ]
    }
   ],
   "source": [
    "divisao_condicionais = np.zeros(num.size)\n",
    "estados_comb_den = list(map(list, itertools.product([0, 1], repeat=1+k)))\n",
    "for j, comb in enumerate(combinations):\n",
    "    print(comb)\n",
    "    divisao_condicionais[j] = num[j]/condicional_den[estados_comb_den.index(comb[0:k+1])]\n",
    "    #print(num[j], den[estados_comb_den.index(comb[0:k+1])])\n",
    "    print(estados_comb_den[estados_comb_den.index(comb[0:k+1])])\n",
    "            \n",
    "    "
   ]
  },
  {
   "cell_type": "code",
   "execution_count": 82,
   "metadata": {},
   "outputs": [
    {
     "data": {
      "text/plain": [
       "array([ 0.99515081,  0.99515081,  1.98050682,  1.98050682,  1.98050682,\n",
       "        1.98050682,  0.01949318,  0.01949318])"
      ]
     },
     "execution_count": 82,
     "metadata": {},
     "output_type": "execute_result"
    }
   ],
   "source": [
    "divisao_condicionais"
   ]
  },
  {
   "cell_type": "code",
   "execution_count": 85,
   "metadata": {
    "collapsed": true
   },
   "outputs": [],
   "source": [
    "#cálculo da transentropia\n",
    "\n",
    "#Calculo do log2 da divisao p(i_sub_t+h|i_sub_t**k, j_sub_t**l) /p(i_sub_t+h|i_t**k)\n",
    "log_div_cond = np.log2(divisao_condicionais)\n",
    "te = np.sum(prob_cnjt*log_div_cond)"
   ]
  },
  {
   "cell_type": "code",
   "execution_count": 86,
   "metadata": {},
   "outputs": [
    {
     "data": {
      "text/plain": [
       "-0.024986163763457428"
      ]
     },
     "execution_count": 86,
     "metadata": {},
     "output_type": "execute_result"
    }
   ],
   "source": [
    "te"
   ]
  },
  {
   "cell_type": "code",
   "execution_count": 25,
   "metadata": {
    "collapsed": true,
    "scrolled": true
   },
   "outputs": [],
   "source": [
    "# #Cálculo da probabilidade condicional do numerador\n",
    "\n",
    "# #Shift circular a esquerda\n",
    "# combinations_shifted = list(np.roll(combinations, -1))\n",
    "\n",
    "# #calculo da probabilidade condicional p(i_sub_t+h|i_sub_t**k, j_sub_t**l) \n",
    "# condicional_num  = np.zeros(prob_cnjt.size)\n",
    "# estados_i_j = list(map(list, itertools.product([0, 1], repeat=k+l)))\n",
    "# for i, comb in enumerate(combinations_shifted):\n",
    "#     index_prob_cnjt = combinations.index(list(comb))\n",
    "#     index_est_i_j = estados_i_j.index(list(comb[0:k+l]))\n",
    "#     if(prob_cnjt_ik_jl[index_est_i_j] == 0):\n",
    "#         condicional_num[index_prob_cnjt] = (0)\n",
    "#     else:\n",
    "#         condicional_num[index_prob_cnjt] = (prob_cnjt[index_prob_cnjt]/prob_cnjt_ik_jl[index_est_i_j])\n",
    "#     print(\"cnjt geral\", prob_cnjt[index_prob_cnjt])\n",
    "#     print('cjnt i e j', prob_cnjt_ik_jl[index_est_i_j])\n",
    "# condicional_num = np.asarray(condicional_num)"
   ]
  }
 ],
 "metadata": {
  "kernelspec": {
   "display_name": "Python 3",
   "language": "python",
   "name": "python3"
  },
  "language_info": {
   "codemirror_mode": {
    "name": "ipython",
    "version": 3
   },
   "file_extension": ".py",
   "mimetype": "text/x-python",
   "name": "python",
   "nbconvert_exporter": "python",
   "pygments_lexer": "ipython3",
   "version": "3.6.2"
  }
 },
 "nbformat": 4,
 "nbformat_minor": 2
}
