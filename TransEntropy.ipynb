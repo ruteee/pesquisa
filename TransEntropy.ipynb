{
 "cells": [
  {
   "cell_type": "code",
   "execution_count": 1,
   "metadata": {},
   "outputs": [
    {
     "name": "stderr",
     "output_type": "stream",
     "text": [
      "/home/rute/.conda/envs/pesquisa/lib/python3.6/site-packages/statsmodels/compat/pandas.py:56: FutureWarning: The pandas.core.datetools module is deprecated and will be removed in a future version. Please use the pandas.tseries module instead.\n",
      "  from pandas.core import datetools\n"
     ]
    }
   ],
   "source": [
    "#%reset -f\n",
    "import pandas as pd\n",
    "import numpy as np\n",
    "import datetime as dt\n",
    "import random\n",
    "import time\n",
    "import math\n",
    "import itertools\n",
    "import matplotlib.pyplot as plt\n",
    "from scipy import stats\n",
    "import statsmodels.api as sm\n",
    "import scipy.integrate as integrate\n",
    "import seaborn as sns\n",
    "from scipy.stats import gaussian_kde\n",
    "import scipy.signal as sig\n",
    "from IPython.display import clear_output\n",
    "from graphviz import Digraph"
   ]
  },
  {
   "cell_type": "code",
   "execution_count": 2,
   "metadata": {},
   "outputs": [
    {
     "data": {
      "text/plain": [
       "30.0"
      ]
     },
     "execution_count": 2,
     "metadata": {},
     "output_type": "execute_result"
    }
   ],
   "source": [
    "almNum = 3\n",
    "ocorr = 100\n",
    "t_sample = 60\n",
    "base_hour = dt.datetime(2018, 1,9,9,0,0)\n",
    "occor_num = 0\n",
    "\n",
    "#Settings alarms\n",
    "a = np.zeros(1, dtype=int)\n",
    "ocorr = 10\n",
    "duration = 120 #120sec\n",
    "hour_init = base_hour\n",
    "\n",
    "b = np.zeros(1, dtype=int)\n",
    "pAb =0.3\n",
    "delay_b = 60 #seconds\n",
    "duration_b = 120\n",
    "\n",
    "c = np.zeros(1, dtype=int)\n",
    "pAc = 0.6\n",
    "delay_c = 15 #seconds\n",
    "duration_c = 120\n",
    "\n",
    "\n",
    "#Alarm Series Generation, A (cause), B(Effect). C(Effect)\n",
    "while(occor_num < ocorr): \n",
    "    \n",
    "    #A generation - begin\n",
    "    srtd_hour = random.normalvariate(3, 1)\n",
    "    srtd_hour_begin = hour_init + dt.timedelta(hours=srtd_hour)\n",
    "    srtd_hour_end = srtd_hour_begin + dt.timedelta(seconds = duration)\n",
    "\n",
    "    idx_init_a_occor = int(math.ceil((srtd_hour_begin - base_hour).total_seconds()/t_sample))\n",
    "    idx_end_a_occor = int(math.ceil((srtd_hour_end - base_hour).total_seconds()/t_sample))\n",
    "        \n",
    "    if(idx_end_a_occor > a.size):\n",
    "            a.resize(idx_end_a_occor)\n",
    "\n",
    "    for i in np.arange(idx_init_a_occor, idx_end_a_occor + 1):\n",
    "        a[i-1] = 1\n",
    "    #A generation - end\n",
    "         \n",
    "    \n",
    "    #B generation begin\n",
    "    srtd_prob_b = random.uniform(0,1)  \n",
    "    if srtd_prob_b <= pAb:\n",
    "        srtd_hour_begin_b = srtd_hour_begin + dt.timedelta(hours = delay_b/3600)\n",
    "        srtd_hour_end_b = srtd_hour_begin_b + dt.timedelta(seconds=duration_b)\n",
    "\n",
    "        idx_init_b_occor = int(math.ceil((srtd_hour_begin_b - base_hour).total_seconds()/t_sample))\n",
    "        idx_end_b_occor = int(math.ceil((srtd_hour_end_b - base_hour).total_seconds()/t_sample))\n",
    "\n",
    "        if(idx_end_b_occor > b.size):\n",
    "                b.resize(idx_end_b_occor)\n",
    "\n",
    "        for j in np.arange(idx_init_b_occor, idx_end_b_occor +1):\n",
    "            b[j-1] =  1  \n",
    "    #B generation end\n",
    "\n",
    "    #C generation begin\n",
    "    srtd_prob_c = random.uniform(0,1)\n",
    "    if srtd_prob_c <= pAc:\n",
    "        srtd_hour_begin_c = srtd_hour_begin + dt.timedelta(hours = delay_b/3600)\n",
    "        srtd_hour_end_c = srtd_hour_begin_c + dt.timedelta(seconds=duration_c)\n",
    "\n",
    "        idx_init_c_occor = int(math.ceil((srtd_hour_begin_c - base_hour).total_seconds()/t_sample))\n",
    "        idx_end_c_occor = int(math.ceil((srtd_hour_end_c - base_hour).total_seconds()/t_sample))\n",
    "        \n",
    "        if(idx_end_c_occor > c.size):\n",
    "            c.resize(idx_end_c_occor)\n",
    "\n",
    "        for j in np.arange(idx_init_c_occor, idx_end_c_occor +1):\n",
    "            c[j-1] = 1    \n",
    "    #C generation end\n",
    "    \n",
    "    hour_init = srtd_hour_begin\n",
    "    occor_num = occor_num + 1\n",
    "\n",
    "#Making series the same length\n",
    "max_len = max(a, b, c, key=len).size\n",
    "a = np.concatenate([a, np.zeros(max_len - a.size)])\n",
    "b = np.concatenate([b, np.zeros(max_len - b.size)])\n",
    "c = np.concatenate([c, np.zeros(max_len - c.size)])\n",
    "sum(a)"
   ]
  },
  {
   "cell_type": "code",
   "execution_count": 3,
   "metadata": {},
   "outputs": [],
   "source": [
    "def get_lim_index(cdf, lim):\n",
    "    summation = 0\n",
    "    index = 0\n",
    "    for i in np.arange(0, cdf.size):\n",
    "        if(summation < lim):\n",
    "            summation += cdf[i]\n",
    "        else:\n",
    "            index = i-1\n",
    "            break\n",
    "    return index\n",
    "    "
   ]
  },
  {
   "cell_type": "code",
   "execution_count": 4,
   "metadata": {},
   "outputs": [],
   "source": [
    "def significance_test(k,l,h,sup_lim, n, a,b):\n",
    "    '''\n",
    "        significance_test(a,b,k,l,h,sup_lim, n)\n",
    "    '''\n",
    "    transferEntropies = []\n",
    "    \n",
    "    np.random.seed(int(time.time()))\n",
    "    for i in np.arange(0,n):\n",
    "        np.random.shuffle(a)\n",
    "        transferEntropies.append(te(k,l,h,a[:],b, 'serie_a', 'serie_b'))\n",
    "    kde = sm.nonparametric.KDEUnivariate(transferEntropies)\n",
    "\n",
    "    kde.fit()\n",
    "    \n",
    "    lvl_sig = kde.icdf[get_lim_index(kde.cdf, sup_lim)]\n",
    "    return lvl_sig"
   ]
  },
  {
   "cell_type": "code",
   "execution_count": 5,
   "metadata": {},
   "outputs": [],
   "source": [
    "def significance_value(k,l,h,n, te_val, a,b):\n",
    "    '''\n",
    "        significance_test(a,b,k,l,h,sup_lim, n)\n",
    "    '''\n",
    "    transferEntropies = []\n",
    "    \n",
    "    np.random.seed(int(time.time()))\n",
    "    for i in np.arange(0,n):\n",
    "        np.random.shuffle(a)\n",
    "        transferEntropies.append(te(k,l,h,a[:],b, 'serie_a', 'serie_b'))\n",
    "    kde = gaussian_kde(transferEntropies)    \n",
    "    \n",
    "    pcnt_sig = kde.integrate_box(-float(\"inf\"), te_val)\n",
    "    return pcnt_sig"
   ]
  },
  {
   "cell_type": "code",
   "execution_count": 6,
   "metadata": {},
   "outputs": [],
   "source": [
    "def joint_probability(k,l, h, a, b):\n",
    "    '''\n",
    "        k B time horizon\n",
    "        l A time horizon\n",
    "        h instant in the future of serie B\n",
    "        \n",
    "        a, b array type'''\n",
    "\n",
    "    #Alarm Series A (cause), B (effect), same len\n",
    "    #tested\n",
    "    sizeSeries = a.size\n",
    "    transEntropy = 0\n",
    "    numStates = 2**(k + l  + 1)\n",
    "    combinations = list(map(list, itertools.product([0, 1], repeat=k+l+1)))\n",
    "    counting = np.zeros(numStates)\n",
    "    prob_cnjt = np.zeros(numStates)\n",
    "    a_prob_ind = []\n",
    "    b_prob_ind = []\n",
    "    #joitn probability p(i_sub_t+1), i_sub_t**k, j_sub_t**l)\n",
    "    inicio = np.max([k,l]) - 1\n",
    "    for i in np.arange(inicio, sizeSeries - h):\n",
    "        for hk in np.arange(0,k):\n",
    "                b_prob_ind.append(b[i - hk])\n",
    "        for hl in np.arange(0,l):\n",
    "                a_prob_ind.append(a[i - hl])\n",
    "\n",
    "        ab = [b[i + h]] + b_prob_ind + a_prob_ind \n",
    "        index_comb = combinations.index(ab)\n",
    "        counting[index_comb] = counting[index_comb] + 1\n",
    "\n",
    "        a_prob_ind = []\n",
    "        b_prob_ind = []\n",
    "\n",
    "    total = sum(counting)\n",
    "    for i, cnt in enumerate(counting):\n",
    "        if total != 0:\n",
    "            prob_cnjt[i] = cnt/total\n",
    "     \n",
    "    return prob_cnjt"
   ]
  },
  {
   "cell_type": "code",
   "execution_count": 7,
   "metadata": {},
   "outputs": [],
   "source": [
    "##for paper test\n",
    "def joint_probability_new(k,l,h, a, b, lbl_a, lbl_b):\n",
    "    '''\n",
    "        k B time horizon\n",
    "        l A time horizon\n",
    "        h instant in the future of serie B\n",
    "        \n",
    "        a, b array type'''\n",
    "    \n",
    "    numStates=2**(k+l+1)\n",
    "    combinations = list(map(list, itertools.product([0, 1], repeat=k+l+1)))\n",
    "    prob_cnjt = np.zeros(numStates)\n",
    "    \n",
    "    #Alarm Series A (cause), B (effect), same len\n",
    "    #teste   \n",
    "\n",
    "    matrix_nova = np.matrix([b[1:],b[:-1],a[:-1]]).T\n",
    "    df = pd.DataFrame(matrix_nova, columns = ['b_ftr', lbl_b, lbl_a])\n",
    "    gpd = df.groupby(['b_ftr', lbl_b, lbl_a], as_index=False).size().reset_index(name='Count')\n",
    "    total = sum(gpd['Count'])\n",
    "    \n",
    "    for i in np.arange(0,gpd.shape[0]):\n",
    "        comb = [e for e in gpd.iloc[i][0:3].values.tolist()]\n",
    "        idx = combinations.index(comb)\n",
    "        prob_cnjt[idx] = gpd.iloc[i]['Count']/total\n",
    "\n",
    "    return prob_cnjt"
   ]
  },
  {
   "cell_type": "code",
   "execution_count": 8,
   "metadata": {},
   "outputs": [],
   "source": [
    "#Joint probability evaluation p(i_t+h, i_t**k)\n",
    "#tested\n",
    "def joint_prob_ih_ik(k,l, joint_prob_ih_ik_jl):\n",
    "    states_ith_ik = list(map(list, itertools.product([0, 1], repeat=k + 1)))\n",
    "    combinations = list(map(list, itertools.product([0, 1], repeat=k+l+1))) \n",
    "    p_jnt_ith_ik = np.zeros(2**(k+1))\n",
    "    \n",
    "    for i, state in enumerate(states_ith_ik):\n",
    "        for j, comb in enumerate(combinations):\n",
    "            if comb[0:k+1] == state:\n",
    "                p_jnt_ith_ik[i] = p_jnt_ith_ik[i] + joint_prob_ih_ik_jl[j]\n",
    "    return p_jnt_ith_ik"
   ]
  },
  {
   "cell_type": "code",
   "execution_count": 9,
   "metadata": {},
   "outputs": [],
   "source": [
    "def conditional_prob(k,l,joint_prob):\n",
    "    states = list(map(list, itertools.product([0, 1], repeat=k+l)))\n",
    "    combinations = list(map(list, itertools.product([0, 1], repeat=k+l+1)))\n",
    "\n",
    "    size = int(joint_prob.size/2)\n",
    "    conditional = np.zeros(2**(k+l+1))\n",
    "\n",
    "    for i,state in enumerate(states):\n",
    "        index_zero = combinations.index([0] + state)\n",
    "        prob_zero = joint_prob[index_zero]\n",
    "\n",
    "        index_one = combinations.index([1] + state)\n",
    "        prob_one = joint_prob[index_one]\n",
    "\n",
    "        if(prob_zero + prob_one != 0):\n",
    "            conditional[i] = prob_zero/(prob_zero+ prob_one)\n",
    "            conditional[i + 2**(k+l)] = prob_one/(prob_zero+ prob_one)\n",
    "    return conditional"
   ]
  },
  {
   "cell_type": "code",
   "execution_count": 11,
   "metadata": {},
   "outputs": [],
   "source": [
    "#Division of the conditionals in log2 \n",
    "#tested\n",
    "def conditional_div(k,l,conditional_num, conditional_den):\n",
    "    combinations = list(map(list, itertools.product([0, 1], repeat=k+l+1)))\n",
    "    conditional_division = np.zeros(conditional_num.size)\n",
    "    states_den = list(map(list, itertools.product([0, 1], repeat=1+k)))\n",
    "    for j, comb in enumerate(combinations):\n",
    "        if(conditional_den[states_den.index(comb[0:k+1])] != 0):\n",
    "            conditional_division[j] = conditional_num[j]/conditional_den[states_den.index(comb[0:k+1])]            \n",
    "    return conditional_division"
   ]
  },
  {
   "cell_type": "code",
   "execution_count": 10,
   "metadata": {},
   "outputs": [],
   "source": [
    "#Transfer entropy final evaluation\n",
    "def te(k,l,h,a,b, lbl_a, lbl_b):\n",
    "    '''\n",
    "        transentropy a->b\n",
    "        te(k,l,h,a,b)\n",
    "        k - dimension of b\n",
    "        l - dimension of aDataFrame count duplicate rows and ...\n",
    "        h -> instant in the future of a\n",
    "    '''\n",
    "    joint_p_ih_ik_jl = joint_probability_new(k,l,h,a,b, lbl_a, lbl_b)\n",
    "    #joint_p_ih_ik_jl = joint_probability(k,l,h,a,b)\n",
    "    \n",
    "    joint_p_ih_ik = joint_prob_ih_ik(k,l, joint_p_ih_ik_jl)\n",
    "    conditional_num = conditional_prob(k,l,joint_p_ih_ik_jl)\n",
    "    conditional_den = conditional_prob(k,0, joint_p_ih_ik)    \n",
    "    \n",
    "    div = conditional_div(k,l,conditional_num, conditional_den)\n",
    "    \n",
    "    #log2 from the division of the conditionals ->\n",
    "    #p(i_sub_t+h|i_sub_t**k, j_sub_t**l) /p(i_sub_t+h|i_t**k)\n",
    "    \n",
    "    log2_div_cond = np.log2(div[div!=0])\n",
    "    te = np.sum(joint_p_ih_ik_jl[div!=0]*log2_div_cond)\n",
    "    return te"
   ]
  },
  {
   "cell_type": "code",
   "execution_count": 12,
   "metadata": {},
   "outputs": [],
   "source": [
    "def plot_mat_corrs(figsize, annot, matrix):\n",
    "    f, ax = plt.subplots(figsize=figsize)\n",
    "    cmap = sns.diverging_palette(150, 275, s=80, l=55, as_cmap=True)\n",
    "    sns.heatmap(matrix, cmap=cmap, center=0, annot=annot, vmax=max(matrix.max()))\n",
    "    plt.yticks(rotation=45)\n",
    "    plt.xticks(rotation=45)\n",
    "    plt.show()"
   ]
  },
  {
   "cell_type": "code",
   "execution_count": 13,
   "metadata": {},
   "outputs": [],
   "source": [
    "def transferEnteropy_case(dist_df, pcnt_sig):\n",
    "    transEntropy = np.zeros([dist6_sel_vars.columns.size,dist6_sel_vars.columns.size])\n",
    "    sigValues =  np.zeros([dist6_sel_vars.columns.size,dist6_sel_vars.columns.size])\n",
    "    for i in np.arange(0, dist_df.columns.size):\n",
    "        for j in np.arange(0, dist_df.columns.size):\n",
    "            if(j != i + dist_df.columns.size/2 and j!=i and j != i - dist_df.columns.size/2):\n",
    "                transEntropy[i][j] = te(1,1,1,dist_df[dist_df.columns[i]],\n",
    "                                         dist_df[dist_df.columns[j]],'serie_a', 'serie_b')\n",
    "\n",
    "#                 sigValues[i][j] = significance_value(1,1,1,10, transEntropy[i][j], dist_df[dist_df.columns[i]],\n",
    "#                                          dist_df[dist_df.columns[j]])\n",
    "                sigValues[i][j] = significance_test(1,1,1,pcnt_sig,10,dist_df[dist_df.columns[i]],\n",
    "                                                     dist_df[dist_df.columns[j]])\n",
    "            clear_output()\n",
    "            print('trans ', i, j)\n",
    "            \n",
    "    for i, j in zip(np.arange(0, transEntropy.shape[0]), np.arange(0, sigValues.shape[0])):\n",
    "        for k, l in zip(np.arange(0, transEntropy.shape[1]), np.arange(0, sigValues.shape[1])):\n",
    "            if transEntropy[i][k] != 0 and sigValues[j][l] >= transEntropy[i][k] :\n",
    "                transEntropy[i][k] = 0\n",
    "    \n",
    "    return transEntropy  "
   ]
  },
  {
   "cell_type": "code",
   "execution_count": 14,
   "metadata": {},
   "outputs": [],
   "source": [
    "#Variavéis analizadas 1,2,3,6,7,8,9,21,46\n",
    "\n",
    "dist6 = pd.read_csv('dist6.csv', names=['xmeas%02d_low' % x for x in range(1, 74)] + ['xmeas%02d_high' % x for x in range(1, 74)])\n",
    "dist6_sel_vars = dist6[['xmeas01_low', 'xmeas02_low', 'xmeas03_low', \n",
    "        'xmeas08_low', 'xmeas09_low', 'xmeas21_low',\n",
    "        'xmeas01_high', 'xmeas02_high', 'xmeas03_high',\n",
    "        'xmeas08_high', 'xmeas09_high', 'xmeas21_high']].copy()\n",
    "\n"
   ]
  },
  {
   "cell_type": "code",
   "execution_count": 84,
   "metadata": {},
   "outputs": [],
   "source": [
    "#Com mdia movl de 8 amostras\n",
    "dist_roll  = dist6_sel_vars.rolling(8).mean() #5 minutos\n",
    "dist_roll.dropna(inplace=True)\n",
    "dist_roll = dist_roll.round(decimals=0,).copy()\n",
    "dist_roll.reset_index(drop=True, inplace=True)\n",
    "\n",
    "dist6_resamp_move = pd.DataFrame([], columns= dist6_sel_vars.columns)\n",
    "for col in dist6_sel_vars.columns:\n",
    "    dist6_resamp_move[col] = np.abs(np.round(sig.resample(dist_roll[col],30720)))"
   ]
  },
  {
   "cell_type": "code",
   "execution_count": 86,
   "metadata": {},
   "outputs": [],
   "source": [
    "dist6_resamp = pd.DataFrame([], columns= dist6_sel_vars.columns)\n",
    "for col in dist6_sel_vars.columns:\n",
    "    dist6_resamp[col] = np.abs(np.round(sig.resample(dist6_sel_vars[col],30720)))"
   ]
  },
  {
   "cell_type": "code",
   "execution_count": 16,
   "metadata": {},
   "outputs": [],
   "source": [
    "#df_s = dist6_sel_vars.groupby(lambda i: i // 17).agg(lambda g: 0 if np.sum(g) < 17/2 else 1)"
   ]
  },
  {
   "cell_type": "code",
   "execution_count": null,
   "metadata": {},
   "outputs": [],
   "source": []
  },
  {
   "cell_type": "code",
   "execution_count": 88,
   "metadata": {},
   "outputs": [
    {
     "name": "stdout",
     "output_type": "stream",
     "text": [
      "trans  11 11\n"
     ]
    }
   ],
   "source": [
    "#Media movel e normal\n",
    "te_matrix_m_movel = transferEnteropy_case(dist_roll, 0.95)"
   ]
  },
  {
   "cell_type": "code",
   "execution_count": 89,
   "metadata": {},
   "outputs": [
    {
     "name": "stdout",
     "output_type": "stream",
     "text": [
      "trans  11 11\n"
     ]
    }
   ],
   "source": [
    "#Com media movel, normal  e p = 97\n",
    "te_matrix_m_movel_97 = transferEnteropy_case(dist_roll, 0.97)"
   ]
  },
  {
   "cell_type": "code",
   "execution_count": 90,
   "metadata": {},
   "outputs": [
    {
     "name": "stdout",
     "output_type": "stream",
     "text": [
      "trans  11 11\n"
     ]
    }
   ],
   "source": [
    "#Com media movel e reamostrado de 1 min e com p = 0.97\n",
    "te_matrix_movel_samp_97 = transferEnteropy_case(dist6_resamp_move, 0.97)"
   ]
  },
  {
   "cell_type": "code",
   "execution_count": 91,
   "metadata": {},
   "outputs": [
    {
     "name": "stdout",
     "output_type": "stream",
     "text": [
      "trans  11 11\n"
     ]
    }
   ],
   "source": [
    "#Sem mddia movel\n",
    "te_matrix = transferEnteropy_case(dist6_sel_vars, 0.95)"
   ]
  },
  {
   "cell_type": "code",
   "execution_count": null,
   "metadata": {},
   "outputs": [
    {
     "name": "stdout",
     "output_type": "stream",
     "text": [
      "trans  11 11\n"
     ]
    }
   ],
   "source": [
    "#Sem mddia movel com p = 0.97\n",
    "te_matrix_97 = transferEnteropy_case(dist6_sel_vars, 0.97)"
   ]
  },
  {
   "cell_type": "code",
   "execution_count": null,
   "metadata": {},
   "outputs": [
    {
     "name": "stdout",
     "output_type": "stream",
     "text": [
      "trans  10 7\n"
     ]
    }
   ],
   "source": [
    "#sem mdia mvel com resamp de 1 min e p =97\n",
    "\n",
    "te_matrix__samp_97 = transferEnteropy_case(dist6_resamp, 0.97)"
   ]
  },
  {
   "cell_type": "code",
   "execution_count": null,
   "metadata": {},
   "outputs": [],
   "source": [
    "#Sem media movel resamp .97"
   ]
  },
  {
   "cell_type": "code",
   "execution_count": 79,
   "metadata": {},
   "outputs": [],
   "source": [
    "#np.savetxt(\"te_matrix_samp.csv\", te_matrix, delimiter=\",\")"
   ]
  },
  {
   "cell_type": "code",
   "execution_count": 77,
   "metadata": {},
   "outputs": [],
   "source": [
    "#df_te =pd.read_csv(\"te_matrix_samp_15min.csv\", names= dist6_sel_vars.columns)\n",
    "df_te =  pd.DataFrame(te_matrix, columns = dist6_sel_vars.columns, index= dist6_sel_vars.columns)\n",
    "#df_te"
   ]
  },
  {
   "cell_type": "code",
   "execution_count": 78,
   "metadata": {
    "scrolled": false
   },
   "outputs": [
    {
     "data": {
      "image/png": "[encoded data removed]",
      "text/plain": [
       "<matplotlib.figure.Figure at 0x7fb02fe5deb8>"
      ]
     },
     "metadata": {},
     "output_type": "display_data"
    }
   ],
   "source": [
    "plot_mat_corrs(figsize=(15,10), annot=True, matrix = df_te)\n"
   ]
  },
  {
   "cell_type": "code",
   "execution_count": 81,
   "metadata": {
    "scrolled": false
   },
   "outputs": [
    {
     "data": {
      "image/svg+xml": [
       "<?xml version=\"1.0\" encoding=\"UTF-8\" standalone=\"no\"?>\n",
       "<!DOCTYPE svg PUBLIC \"-//W3C//DTD SVG 1.1//EN\"\n",
       " \"http://www.w3.org/Graphics/SVG/1.1/DTD/svg11.dtd\">\n",
       "<!-- Generated by graphviz version 2.40.1 (20161225.0304)\n",
       " -->\n",
       "<!-- Title: %3 Pages: 1 -->\n",
       "<svg width=\"511pt\" height=\"458pt\"\n",
       " viewBox=\"0.00 0.00 511.08 458.20\" xmlns=\"http://www.w3.org/2000/svg\" xmlns:xlink=\"http://www.w3.org/1999/xlink\">\n",
       "<g id=\"graph0\" class=\"graph\" transform=\"scale(1 1) rotate(0) translate(4 454.1952)\">\n",
       "<title>%3</title>\n",
       "<polygon fill=\"#ffffff\" stroke=\"transparent\" points=\"-4,4 -4,-454.1952 507.0834,-454.1952 507.0834,4 -4,4\"/>\n",
       "<!-- 0 -->\n",
       "<g id=\"node1\" class=\"node\">\n",
       "<title>0</title>\n",
       "<ellipse fill=\"none\" stroke=\"#000000\" cx=\"459.5223\" cy=\"-225.0976\" rx=\"43.6222\" ry=\"18\"/>\n",
       "<text text-anchor=\"middle\" x=\"459.5223\" y=\"-222.5976\" font-family=\"Times,serif\" font-size=\"10.00\" fill=\"#000000\">xmeas01_low</text>\n",
       "</g>\n",
       "<!-- 5 -->\n",
       "<g id=\"node3\" class=\"node\">\n",
       "<title>5</title>\n",
       "<ellipse fill=\"none\" stroke=\"#000000\" cx=\"398.8648\" cy=\"-371.5378\" rx=\"43.6222\" ry=\"18\"/>\n",
       "<text text-anchor=\"middle\" x=\"398.8648\" y=\"-369.0378\" font-family=\"Times,serif\" font-size=\"10.00\" fill=\"#000000\">xmeas21_low</text>\n",
       "</g>\n",
       "<!-- 0&#45;&gt;5 -->\n",
       "<g id=\"edge10\" class=\"edge\">\n",
       "<title>0&#45;&gt;5</title>\n",
       "<path fill=\"none\" stroke=\"#000000\" d=\"M447.2213,-242.4315C434.1796,-267.417 414.789,-313.7368 404.7092,-343.5853\"/>\n",
       "<polygon fill=\"#000000\" stroke=\"#000000\" points=\"401.2844,-342.8029 401.5578,-353.3942 407.9489,-344.9441 401.2844,-342.8029\"/>\n",
       "<text text-anchor=\"middle\" x=\"399.9652\" y=\"-296.8084\" font-family=\"Times,serif\" font-size=\"14.00\" fill=\"#000000\">0.000109</text>\n",
       "</g>\n",
       "<!-- 8 -->\n",
       "<g id=\"node5\" class=\"node\">\n",
       "<title>8</title>\n",
       "<ellipse fill=\"none\" stroke=\"#000000\" cx=\"105.9845\" cy=\"-371.5378\" rx=\"45.1548\" ry=\"18\"/>\n",
       "<text text-anchor=\"middle\" x=\"105.9845\" y=\"-369.0378\" font-family=\"Times,serif\" font-size=\"10.00\" fill=\"#000000\">xmeas03_high</text>\n",
       "</g>\n",
       "<!-- 0&#45;&gt;8 -->\n",
       "<g id=\"edge17\" class=\"edge\">\n",
       "<title>0&#45;&gt;8</title>\n",
       "<path fill=\"none\" stroke=\"#000000\" d=\"M428.458,-237.9649C364.5702,-264.4281 218.4546,-324.9511 146.9379,-354.5743\"/>\n",
       "<polygon fill=\"#000000\" stroke=\"#000000\" points=\"145.2574,-351.482 137.358,-358.5424 147.9363,-357.9491 145.2574,-351.482\"/>\n",
       "<text text-anchor=\"middle\" x=\"272.198\" y=\"-300.0696\" font-family=\"Times,serif\" font-size=\"14.00\" fill=\"#000000\">5e&#45;05</text>\n",
       "</g>\n",
       "<!-- 9 -->\n",
       "<g id=\"node6\" class=\"node\">\n",
       "<title>9</title>\n",
       "<ellipse fill=\"none\" stroke=\"#000000\" cx=\"398.8648\" cy=\"-78.6575\" rx=\"45.1548\" ry=\"18\"/>\n",
       "<text text-anchor=\"middle\" x=\"398.8648\" y=\"-76.1575\" font-family=\"Times,serif\" font-size=\"10.00\" fill=\"#000000\">xmeas08_high</text>\n",
       "</g>\n",
       "<!-- 0&#45;&gt;9 -->\n",
       "<g id=\"edge23\" class=\"edge\">\n",
       "<title>0&#45;&gt;9</title>\n",
       "<path fill=\"none\" stroke=\"#000000\" d=\"M456.8056,-206.8757C449.1183,-181.4008 430.2959,-135.0473 415.9855,-105.5901\"/>\n",
       "<polygon fill=\"#000000\" stroke=\"#000000\" points=\"418.9394,-103.6725 411.328,-96.3025 412.6821,-106.8105 418.9394,-103.6725\"/>\n",
       "<text text-anchor=\"middle\" x=\"415.3956\" y=\"-160.0329\" font-family=\"Times,serif\" font-size=\"14.00\" fill=\"#000000\">8.2e&#45;05</text>\n",
       "</g>\n",
       "<!-- 10 -->\n",
       "<g id=\"node7\" class=\"node\">\n",
       "<title>10</title>\n",
       "<ellipse fill=\"none\" stroke=\"#000000\" cx=\"45.327\" cy=\"-225.0976\" rx=\"45.1548\" ry=\"18\"/>\n",
       "<text text-anchor=\"middle\" x=\"45.327\" y=\"-222.5976\" font-family=\"Times,serif\" font-size=\"10.00\" fill=\"#000000\">xmeas09_high</text>\n",
       "</g>\n",
       "<!-- 0&#45;&gt;10 -->\n",
       "<g id=\"edge28\" class=\"edge\">\n",
       "<title>0&#45;&gt;10</title>\n",
       "<path fill=\"none\" stroke=\"#000000\" d=\"M417.1426,-220.8062C341.4362,-217.6831 183.0861,-217.5354 99.5665,-220.3633\"/>\n",
       "<polygon fill=\"#000000\" stroke=\"#000000\" points=\"99.3825,-216.8676 89.5179,-220.7327 99.6397,-223.8629 99.3825,-216.8676\"/>\n",
       "<text text-anchor=\"middle\" x=\"279.3545\" y=\"-224.3847\" font-family=\"Times,serif\" font-size=\"14.00\" fill=\"#000000\">3.8e&#45;05</text>\n",
       "</g>\n",
       "<!-- 11 -->\n",
       "<g id=\"node8\" class=\"node\">\n",
       "<title>11</title>\n",
       "<ellipse fill=\"none\" stroke=\"#000000\" cx=\"105.9845\" cy=\"-78.6575\" rx=\"45.1548\" ry=\"18\"/>\n",
       "<text text-anchor=\"middle\" x=\"105.9845\" y=\"-76.1575\" font-family=\"Times,serif\" font-size=\"10.00\" fill=\"#000000\">xmeas21_high</text>\n",
       "</g>\n",
       "<!-- 0&#45;&gt;11 -->\n",
       "<g id=\"edge35\" class=\"edge\">\n",
       "<title>0&#45;&gt;11</title>\n",
       "<path fill=\"none\" stroke=\"#000000\" d=\"M434.11,-210.4683C375.1216,-182.1119 228.2827,-120.9696 152.6378,-92.9198\"/>\n",
       "<polygon fill=\"#000000\" stroke=\"#000000\" points=\"153.4875,-89.5036 142.8938,-89.3478 151.0781,-96.0759 153.4875,-89.5036\"/>\n",
       "<text text-anchor=\"middle\" x=\"272.3739\" y=\"-140.4941\" font-family=\"Times,serif\" font-size=\"14.00\" fill=\"#000000\">6.3e&#45;05</text>\n",
       "</g>\n",
       "<!-- 3 -->\n",
       "<g id=\"node2\" class=\"node\">\n",
       "<title>3</title>\n",
       "<ellipse fill=\"none\" stroke=\"#000000\" cx=\"252.4247\" cy=\"-432.1952\" rx=\"43.6222\" ry=\"18\"/>\n",
       "<text text-anchor=\"middle\" x=\"252.4247\" y=\"-429.6952\" font-family=\"Times,serif\" font-size=\"10.00\" fill=\"#000000\">xmeas08_low</text>\n",
       "</g>\n",
       "<!-- 3&#45;&gt;0 -->\n",
       "<g id=\"edge1\" class=\"edge\">\n",
       "<title>3&#45;&gt;0</title>\n",
       "<path fill=\"none\" stroke=\"#000000\" d=\"M269.3723,-415.2476C306.0984,-378.5215 393.1228,-291.4971 435.501,-249.119\"/>\n",
       "<polygon fill=\"#000000\" stroke=\"#000000\" points=\"438.0347,-251.535 442.6309,-241.989 433.0849,-246.5852 438.0347,-251.535\"/>\n",
       "<text text-anchor=\"middle\" x=\"331.4366\" y=\"-335.9833\" font-family=\"Times,serif\" font-size=\"14.00\" fill=\"#000000\">3.1e&#45;05</text>\n",
       "</g>\n",
       "<!-- 3&#45;&gt;5 -->\n",
       "<g id=\"edge11\" class=\"edge\">\n",
       "<title>3&#45;&gt;5</title>\n",
       "<path fill=\"none\" stroke=\"#000000\" d=\"M290.1232,-422.9425C313.6805,-414.4536 343.6975,-402.0094 366.2333,-391.3846\"/>\n",
       "<polygon fill=\"#000000\" stroke=\"#000000\" points=\"367.9111,-394.4611 375.3927,-386.9593 364.8659,-388.1581 367.9111,-394.4611\"/>\n",
       "<text text-anchor=\"middle\" x=\"349.1783\" y=\"-410.9636\" font-family=\"Times,serif\" font-size=\"14.00\" fill=\"#000000\">6.7e&#45;05</text>\n",
       "</g>\n",
       "<!-- 6 -->\n",
       "<g id=\"node4\" class=\"node\">\n",
       "<title>6</title>\n",
       "<ellipse fill=\"none\" stroke=\"#000000\" cx=\"252.4247\" cy=\"-18\" rx=\"45.1548\" ry=\"18\"/>\n",
       "<text text-anchor=\"middle\" x=\"252.4247\" y=\"-15.5\" font-family=\"Times,serif\" font-size=\"10.00\" fill=\"#000000\">xmeas01_high</text>\n",
       "</g>\n",
       "<!-- 3&#45;&gt;6 -->\n",
       "<g id=\"edge14\" class=\"edge\">\n",
       "<title>3&#45;&gt;6</title>\n",
       "<path fill=\"none\" stroke=\"#000000\" d=\"M255.3975,-414.1315C260.2052,-348.9965 260.4233,-125.8583 256.0519,-46.3876\"/>\n",
       "<polygon fill=\"#000000\" stroke=\"#000000\" points=\"259.5292,-45.9178 255.4046,-36.1589 252.5432,-46.36 259.5292,-45.9178\"/>\n",
       "<text text-anchor=\"middle\" x=\"234.7247\" y=\"-234.0596\" font-family=\"Times,serif\" font-size=\"14.00\" fill=\"#000000\">1.4e&#45;05</text>\n",
       "</g>\n",
       "<!-- 3&#45;&gt;8 -->\n",
       "<g id=\"edge18\" class=\"edge\">\n",
       "<title>3&#45;&gt;8</title>\n",
       "<path fill=\"none\" stroke=\"#000000\" d=\"M229.2568,-416.9249C209.1119,-406.9013 179.3021,-394.1702 154.0358,-384.6168\"/>\n",
       "<polygon fill=\"#000000\" stroke=\"#000000\" points=\"155.1974,-381.3147 144.6043,-381.1232 152.7659,-387.8789 155.1974,-381.3147\"/>\n",
       "<text text-anchor=\"middle\" x=\"212.6463\" y=\"-389.5708\" font-family=\"Times,serif\" font-size=\"14.00\" fill=\"#000000\">6.3e&#45;05</text>\n",
       "</g>\n",
       "<!-- 3&#45;&gt;10 -->\n",
       "<g id=\"edge29\" class=\"edge\">\n",
       "<title>3&#45;&gt;10</title>\n",
       "<path fill=\"none\" stroke=\"#000000\" d=\"M240.1491,-414.6829C207.8816,-377.1624 120.7093,-289.5398 74.6368,-247.8196\"/>\n",
       "<polygon fill=\"#000000\" stroke=\"#000000\" points=\"76.8604,-245.1127 67.072,-241.0583 72.1956,-250.3319 76.8604,-245.1127\"/>\n",
       "<text text-anchor=\"middle\" x=\"136.3929\" y=\"-335.0512\" font-family=\"Times,serif\" font-size=\"14.00\" fill=\"#000000\">5.6e&#45;05</text>\n",
       "</g>\n",
       "<!-- 3&#45;&gt;11 -->\n",
       "<g id=\"edge36\" class=\"edge\">\n",
       "<title>3&#45;&gt;11</title>\n",
       "<path fill=\"none\" stroke=\"#000000\" d=\"M244.9614,-414.1772C221.0183,-356.3735 146.0303,-175.3366 117.3212,-106.0267\"/>\n",
       "<polygon fill=\"#000000\" stroke=\"#000000\" points=\"120.4933,-104.5386 113.4328,-96.6392 114.0261,-107.2175 120.4933,-104.5386\"/>\n",
       "<text text-anchor=\"middle\" x=\"160.1413\" y=\"-263.9019\" font-family=\"Times,serif\" font-size=\"14.00\" fill=\"#000000\">4.7e&#45;05</text>\n",
       "</g>\n",
       "<!-- 5&#45;&gt;0 -->\n",
       "<g id=\"edge2\" class=\"edge\">\n",
       "<title>5&#45;&gt;0</title>\n",
       "<path fill=\"none\" stroke=\"#000000\" d=\"M411.1658,-354.2038C424.2075,-329.2184 443.5981,-282.8986 453.6779,-253.05\"/>\n",
       "<polygon fill=\"#000000\" stroke=\"#000000\" points=\"457.1027,-253.8325 456.8293,-243.2412 450.4382,-251.6913 457.1027,-253.8325\"/>\n",
       "<text text-anchor=\"middle\" x=\"453.4219\" y=\"-307.4269\" font-family=\"Times,serif\" font-size=\"14.00\" fill=\"#000000\">3.9e&#45;05</text>\n",
       "</g>\n",
       "<!-- 5&#45;&gt;3 -->\n",
       "<g id=\"edge6\" class=\"edge\">\n",
       "<title>5&#45;&gt;3</title>\n",
       "<path fill=\"none\" stroke=\"#000000\" d=\"M361.1662,-380.7905C337.609,-389.2794 307.5919,-401.7236 285.0562,-412.3484\"/>\n",
       "<polygon fill=\"#000000\" stroke=\"#000000\" points=\"283.3783,-409.2719 275.8967,-416.7737 286.4235,-415.5749 283.3783,-409.2719\"/>\n",
       "<text text-anchor=\"middle\" x=\"297.1112\" y=\"-400.3694\" font-family=\"Times,serif\" font-size=\"14.00\" fill=\"#000000\">0.000113</text>\n",
       "</g>\n",
       "<!-- 5&#45;&gt;9 -->\n",
       "<g id=\"edge24\" class=\"edge\">\n",
       "<title>5&#45;&gt;9</title>\n",
       "<path fill=\"none\" stroke=\"#000000\" d=\"M398.8648,-353.2168C398.8648,-303.7013 398.8648,-166.9244 398.8648,-107.1902\"/>\n",
       "<polygon fill=\"#000000\" stroke=\"#000000\" points=\"402.3649,-106.9715 398.8648,-96.9715 395.3649,-106.9716 402.3649,-106.9715\"/>\n",
       "<text text-anchor=\"middle\" x=\"377.8648\" y=\"-234.0035\" font-family=\"Times,serif\" font-size=\"14.00\" fill=\"#000000\">2.3e&#45;05</text>\n",
       "</g>\n",
       "<!-- 5&#45;&gt;10 -->\n",
       "<g id=\"edge30\" class=\"edge\">\n",
       "<title>5&#45;&gt;10</title>\n",
       "<path fill=\"none\" stroke=\"#000000\" d=\"M373.4525,-356.9084C314.4641,-328.552 167.6252,-267.4098 91.9803,-239.36\"/>\n",
       "<polygon fill=\"#000000\" stroke=\"#000000\" points=\"92.83,-235.9437 82.2363,-235.7879 90.4206,-242.516 92.83,-235.9437\"/>\n",
       "<text text-anchor=\"middle\" x=\"211.7164\" y=\"-286.9342\" font-family=\"Times,serif\" font-size=\"14.00\" fill=\"#000000\">2.9e&#45;05</text>\n",
       "</g>\n",
       "<!-- 6&#45;&gt;3 -->\n",
       "<g id=\"edge7\" class=\"edge\">\n",
       "<title>6&#45;&gt;3</title>\n",
       "<path fill=\"none\" stroke=\"#000000\" d=\"M249.4518,-36.0638C244.6441,-101.1987 244.426,-324.337 248.7975,-403.8076\"/>\n",
       "<polygon fill=\"#000000\" stroke=\"#000000\" points=\"245.3201,-404.2774 249.4448,-414.0364 252.3062,-403.8352 245.3201,-404.2774\"/>\n",
       "<text text-anchor=\"middle\" x=\"228.1246\" y=\"-208.7357\" font-family=\"Times,serif\" font-size=\"14.00\" fill=\"#000000\">6.3e&#45;05</text>\n",
       "</g>\n",
       "<!-- 6&#45;&gt;8 -->\n",
       "<g id=\"edge19\" class=\"edge\">\n",
       "<title>6&#45;&gt;8</title>\n",
       "<path fill=\"none\" stroke=\"#000000\" d=\"M244.9614,-36.018C221.0183,-93.8217 146.0303,-274.8586 117.3212,-344.1686\"/>\n",
       "<polygon fill=\"#000000\" stroke=\"#000000\" points=\"114.0261,-342.9778 113.4328,-353.556 120.4933,-345.6566 114.0261,-342.9778\"/>\n",
       "<text text-anchor=\"middle\" x=\"160.1413\" y=\"-193.8933\" font-family=\"Times,serif\" font-size=\"14.00\" fill=\"#000000\">3.6e&#45;05</text>\n",
       "</g>\n",
       "<!-- 6&#45;&gt;10 -->\n",
       "<g id=\"edge31\" class=\"edge\">\n",
       "<title>6&#45;&gt;10</title>\n",
       "<path fill=\"none\" stroke=\"#000000\" d=\"M230.7957,-33.8586C190.0071,-69.7446 102.7457,-156.8779 64.1805,-200.0899\"/>\n",
       "<polygon fill=\"#000000\" stroke=\"#000000\" points=\"61.5333,-197.8001 57.5684,-207.6251 66.7948,-202.4171 61.5333,-197.8001\"/>\n",
       "<text text-anchor=\"middle\" x=\"126.4881\" y=\"-120.7743\" font-family=\"Times,serif\" font-size=\"14.00\" fill=\"#000000\">3.3e&#45;05</text>\n",
       "</g>\n",
       "<!-- 6&#45;&gt;11 -->\n",
       "<g id=\"edge37\" class=\"edge\">\n",
       "<title>6&#45;&gt;11</title>\n",
       "<path fill=\"none\" stroke=\"#000000\" d=\"M221.0096,-31.0126C199.3674,-39.977 170.3972,-51.9769 146.9455,-61.6909\"/>\n",
       "<polygon fill=\"#000000\" stroke=\"#000000\" points=\"145.4994,-58.5015 137.6,-65.5619 148.1782,-64.9686 145.4994,-58.5015\"/>\n",
       "<text text-anchor=\"middle\" x=\"162.9775\" y=\"-35.1517\" font-family=\"Times,serif\" font-size=\"14.00\" fill=\"#000000\">7.9e&#45;05</text>\n",
       "</g>\n",
       "<!-- 8&#45;&gt;3 -->\n",
       "<g id=\"edge8\" class=\"edge\">\n",
       "<title>8&#45;&gt;3</title>\n",
       "<path fill=\"none\" stroke=\"#000000\" d=\"M129.4769,-386.9694C149.883,-397.1003 180.0283,-409.9492 205.3689,-419.4918\"/>\n",
       "<polygon fill=\"#000000\" stroke=\"#000000\" points=\"204.2219,-422.7992 214.8153,-422.9747 206.6435,-416.2314 204.2219,-422.7992\"/>\n",
       "<text text-anchor=\"middle\" x=\"146.4229\" y=\"-407.0306\" font-family=\"Times,serif\" font-size=\"14.00\" fill=\"#000000\">2.1e&#45;05</text>\n",
       "</g>\n",
       "<!-- 8&#45;&gt;5 -->\n",
       "<g id=\"edge12\" class=\"edge\">\n",
       "<title>8&#45;&gt;5</title>\n",
       "<path fill=\"none\" stroke=\"#000000\" d=\"M151.4257,-371.5378C203.7612,-371.5378 289.6529,-371.5378 345.2231,-371.5378\"/>\n",
       "<polygon fill=\"#000000\" stroke=\"#000000\" points=\"345.2315,-375.0379 355.2315,-371.5378 345.2314,-368.0379 345.2315,-375.0379\"/>\n",
       "<text text-anchor=\"middle\" x=\"222.3244\" y=\"-360.3378\" font-family=\"Times,serif\" font-size=\"14.00\" fill=\"#000000\">0.000116</text>\n",
       "</g>\n",
       "<!-- 8&#45;&gt;9 -->\n",
       "<g id=\"edge25\" class=\"edge\">\n",
       "<title>8&#45;&gt;9</title>\n",
       "<path fill=\"none\" stroke=\"#000000\" d=\"M127.2423,-355.2625C181.8223,-306.6244 325.8186,-162.7674 378.9246,-103.9982\"/>\n",
       "<polygon fill=\"#000000\" stroke=\"#000000\" points=\"381.7549,-106.083 385.7961,-96.2891 376.5294,-101.4252 381.7549,-106.083\"/>\n",
       "<text text-anchor=\"middle\" x=\"242.5835\" y=\"-218.4304\" font-family=\"Times,serif\" font-size=\"14.00\" fill=\"#000000\">6.7e&#45;05</text>\n",
       "</g>\n",
       "<!-- 8&#45;&gt;10 -->\n",
       "<g id=\"edge32\" class=\"edge\">\n",
       "<title>8&#45;&gt;10</title>\n",
       "<path fill=\"none\" stroke=\"#000000\" d=\"M103.2679,-353.3158C95.5805,-327.8409 76.7582,-281.4874 62.4478,-252.0302\"/>\n",
       "<polygon fill=\"#000000\" stroke=\"#000000\" points=\"65.4017,-250.1127 57.7902,-242.7427 59.1444,-253.2506 65.4017,-250.1127\"/>\n",
       "<text text-anchor=\"middle\" x=\"67.3578\" y=\"-306.473\" font-family=\"Times,serif\" font-size=\"14.00\" fill=\"#000000\">2e&#45;05</text>\n",
       "</g>\n",
       "<!-- 8&#45;&gt;11 -->\n",
       "<g id=\"edge38\" class=\"edge\">\n",
       "<title>8&#45;&gt;11</title>\n",
       "<path fill=\"none\" stroke=\"#000000\" d=\"M109.4712,-353.2168C113.5676,-303.7013 113.8074,-166.9244 110.1907,-107.1902\"/>\n",
       "<polygon fill=\"#000000\" stroke=\"#000000\" points=\"113.665,-106.7007 109.4706,-96.9715 106.6823,-107.1929 113.665,-106.7007\"/>\n",
       "<text text-anchor=\"middle\" x=\"130.831\" y=\"-234.0035\" font-family=\"Times,serif\" font-size=\"14.00\" fill=\"#000000\">3.3e&#45;05</text>\n",
       "</g>\n",
       "<!-- 9&#45;&gt;0 -->\n",
       "<g id=\"edge3\" class=\"edge\">\n",
       "<title>9&#45;&gt;0</title>\n",
       "<path fill=\"none\" stroke=\"#000000\" d=\"M401.5815,-96.8794C409.2688,-122.3543 428.0912,-168.7078 442.4016,-198.165\"/>\n",
       "<polygon fill=\"#000000\" stroke=\"#000000\" points=\"439.4477,-200.0826 447.0591,-207.4526 445.705,-196.9446 439.4477,-200.0826\"/>\n",
       "<text text-anchor=\"middle\" x=\"400.9915\" y=\"-136.3222\" font-family=\"Times,serif\" font-size=\"14.00\" fill=\"#000000\">3.8e&#45;05</text>\n",
       "</g>\n",
       "<!-- 9&#45;&gt;6 -->\n",
       "<g id=\"edge15\" class=\"edge\">\n",
       "<title>9&#45;&gt;6</title>\n",
       "<path fill=\"none\" stroke=\"#000000\" d=\"M367.4497,-65.6449C345.8076,-56.6805 316.8374,-44.6806 293.3856,-34.9666\"/>\n",
       "<polygon fill=\"#000000\" stroke=\"#000000\" points=\"294.6183,-31.6889 284.0401,-31.0955 291.9395,-38.156 294.6183,-31.6889\"/>\n",
       "<text text-anchor=\"middle\" x=\"309.4177\" y=\"-54.1058\" font-family=\"Times,serif\" font-size=\"14.00\" fill=\"#000000\">9.2e&#45;05</text>\n",
       "</g>\n",
       "<!-- 9&#45;&gt;8 -->\n",
       "<g id=\"edge20\" class=\"edge\">\n",
       "<title>9&#45;&gt;8</title>\n",
       "<path fill=\"none\" stroke=\"#000000\" d=\"M377.607,-94.9327C323.027,-143.5708 179.0307,-287.4279 125.9248,-346.1971\"/>\n",
       "<polygon fill=\"#000000\" stroke=\"#000000\" points=\"123.0944,-344.1123 119.0533,-353.9062 128.3199,-348.77 123.0944,-344.1123\"/>\n",
       "<text text-anchor=\"middle\" x=\"267.2659\" y=\"-209.3649\" font-family=\"Times,serif\" font-size=\"14.00\" fill=\"#000000\">1e&#45;05</text>\n",
       "</g>\n",
       "<!-- 9&#45;&gt;10 -->\n",
       "<g id=\"edge33\" class=\"edge\">\n",
       "<title>9&#45;&gt;10</title>\n",
       "<path fill=\"none\" stroke=\"#000000\" d=\"M362.0498,-89.3137C293.6963,-114.043 148.0844,-174.324 80.7756,-205.7209\"/>\n",
       "<polygon fill=\"#000000\" stroke=\"#000000\" points=\"78.9778,-202.6993 71.4315,-210.136 81.9683,-209.0284 78.9778,-202.6993\"/>\n",
       "<text text-anchor=\"middle\" x=\"200.4127\" y=\"-151.3173\" font-family=\"Times,serif\" font-size=\"14.00\" fill=\"#000000\">3.8e&#45;05</text>\n",
       "</g>\n",
       "<!-- 9&#45;&gt;11 -->\n",
       "<g id=\"edge39\" class=\"edge\">\n",
       "<title>9&#45;&gt;11</title>\n",
       "<path fill=\"none\" stroke=\"#000000\" d=\"M355.0177,-73.675C302.8887,-71.454 215.9039,-71.3261 159.7612,-73.2914\"/>\n",
       "<polygon fill=\"#000000\" stroke=\"#000000\" points=\"159.5095,-69.7984 149.6524,-73.6827 159.7804,-76.7932 159.5095,-69.7984\"/>\n",
       "<text text-anchor=\"middle\" x=\"231.3895\" y=\"-62.2832\" font-family=\"Times,serif\" font-size=\"14.00\" fill=\"#000000\">0.000127</text>\n",
       "</g>\n",
       "<!-- 10&#45;&gt;0 -->\n",
       "<g id=\"edge4\" class=\"edge\">\n",
       "<title>10&#45;&gt;0</title>\n",
       "<path fill=\"none\" stroke=\"#000000\" d=\"M89.6532,-229.468C166.6046,-232.5347 324.5524,-232.6373 406.9224,-229.7757\"/>\n",
       "<polygon fill=\"#000000\" stroke=\"#000000\" points=\"407.2037,-233.2677 417.0643,-229.3923 406.9391,-226.2727 407.2037,-233.2677\"/>\n",
       "<text text-anchor=\"middle\" x=\"269.2878\" y=\"-233.4219\" font-family=\"Times,serif\" font-size=\"14.00\" fill=\"#000000\">7.2e&#45;05</text>\n",
       "</g>\n",
       "<!-- 10&#45;&gt;3 -->\n",
       "<g id=\"edge9\" class=\"edge\">\n",
       "<title>10&#45;&gt;3</title>\n",
       "<path fill=\"none\" stroke=\"#000000\" d=\"M57.6026,-242.6099C89.9512,-280.2247 177.4808,-368.1937 223.4614,-409.7869\"/>\n",
       "<polygon fill=\"#000000\" stroke=\"#000000\" points=\"221.2147,-412.473 231.0057,-416.5212 225.8762,-407.2508 221.2147,-412.473\"/>\n",
       "<text text-anchor=\"middle\" x=\"114.532\" y=\"-314.9984\" font-family=\"Times,serif\" font-size=\"14.00\" fill=\"#000000\">0.000102</text>\n",
       "</g>\n",
       "<!-- 10&#45;&gt;5 -->\n",
       "<g id=\"edge13\" class=\"edge\">\n",
       "<title>10&#45;&gt;5</title>\n",
       "<path fill=\"none\" stroke=\"#000000\" d=\"M71.3104,-240.0012C130.9491,-268.6095 278.1848,-329.8882 353.2698,-357.6674\"/>\n",
       "<polygon fill=\"#000000\" stroke=\"#000000\" points=\"352.3386,-361.0535 362.9324,-361.2005 354.7425,-354.4792 352.3386,-361.0535\"/>\n",
       "<text text-anchor=\"middle\" x=\"191.2901\" y=\"-302.6343\" font-family=\"Times,serif\" font-size=\"14.00\" fill=\"#000000\">3.2e&#45;05</text>\n",
       "</g>\n",
       "<!-- 10&#45;&gt;6 -->\n",
       "<g id=\"edge16\" class=\"edge\">\n",
       "<title>10&#45;&gt;6</title>\n",
       "<path fill=\"none\" stroke=\"#000000\" d=\"M66.956,-209.239C107.7447,-173.3531 195.006,-86.2197 233.5712,-43.0077\"/>\n",
       "<polygon fill=\"#000000\" stroke=\"#000000\" points=\"236.2184,-45.2975 240.1833,-35.4725 230.9569,-40.6805 236.2184,-45.2975\"/>\n",
       "<text text-anchor=\"middle\" x=\"165.7636\" y=\"-129.9234\" font-family=\"Times,serif\" font-size=\"14.00\" fill=\"#000000\">3e&#45;06</text>\n",
       "</g>\n",
       "<!-- 10&#45;&gt;8 -->\n",
       "<g id=\"edge21\" class=\"edge\">\n",
       "<title>10&#45;&gt;8</title>\n",
       "<path fill=\"none\" stroke=\"#000000\" d=\"M48.0437,-243.3196C55.7311,-268.7945 74.5534,-315.148 88.8638,-344.6052\"/>\n",
       "<polygon fill=\"#000000\" stroke=\"#000000\" points=\"85.9099,-346.5227 93.5214,-353.8927 92.1672,-343.3848 85.9099,-346.5227\"/>\n",
       "<text text-anchor=\"middle\" x=\"47.4538\" y=\"-282.7624\" font-family=\"Times,serif\" font-size=\"14.00\" fill=\"#000000\">4.3e&#45;05</text>\n",
       "</g>\n",
       "<!-- 10&#45;&gt;9 -->\n",
       "<g id=\"edge26\" class=\"edge\">\n",
       "<title>10&#45;&gt;9</title>\n",
       "<path fill=\"none\" stroke=\"#000000\" d=\"M82.142,-214.4415C150.4955,-189.7121 296.1075,-129.4311 363.4162,-98.0342\"/>\n",
       "<polygon fill=\"#000000\" stroke=\"#000000\" points=\"365.2141,-101.0558 372.7604,-93.6191 362.2236,-94.7268 365.2141,-101.0558\"/>\n",
       "<text text-anchor=\"middle\" x=\"238.2791\" y=\"-160.0378\" font-family=\"Times,serif\" font-size=\"14.00\" fill=\"#000000\">1e&#45;05</text>\n",
       "</g>\n",
       "<!-- 10&#45;&gt;11 -->\n",
       "<g id=\"edge40\" class=\"edge\">\n",
       "<title>10&#45;&gt;11</title>\n",
       "<path fill=\"none\" stroke=\"#000000\" d=\"M57.6281,-207.7637C70.6698,-182.7783 90.0603,-136.4584 100.1401,-106.6099\"/>\n",
       "<polygon fill=\"#000000\" stroke=\"#000000\" points=\"103.5649,-107.3923 103.2915,-96.801 96.9004,-105.2511 103.5649,-107.3923\"/>\n",
       "<text text-anchor=\"middle\" x=\"52.8841\" y=\"-160.9868\" font-family=\"Times,serif\" font-size=\"14.00\" fill=\"#000000\">0.000134</text>\n",
       "</g>\n",
       "<!-- 11&#45;&gt;0 -->\n",
       "<g id=\"edge5\" class=\"edge\">\n",
       "<title>11&#45;&gt;0</title>\n",
       "<path fill=\"none\" stroke=\"#000000\" d=\"M131.9678,-93.561C191.6066,-122.1694 338.8423,-183.448 413.9272,-211.2272\"/>\n",
       "<polygon fill=\"#000000\" stroke=\"#000000\" points=\"412.9961,-214.6134 423.5899,-214.7604 415.4,-208.039 412.9961,-214.6134\"/>\n",
       "<text text-anchor=\"middle\" x=\"298.9475\" y=\"-156.1941\" font-family=\"Times,serif\" font-size=\"14.00\" fill=\"#000000\">0.000139</text>\n",
       "</g>\n",
       "<!-- 11&#45;&gt;8 -->\n",
       "<g id=\"edge22\" class=\"edge\">\n",
       "<title>11&#45;&gt;8</title>\n",
       "<path fill=\"none\" stroke=\"#000000\" d=\"M102.4979,-96.9785C98.4015,-146.4939 98.1617,-283.2708 101.7783,-343.005\"/>\n",
       "<polygon fill=\"#000000\" stroke=\"#000000\" points=\"98.3041,-343.4945 102.4985,-353.2237 105.2867,-343.0024 98.3041,-343.4945\"/>\n",
       "<text text-anchor=\"middle\" x=\"112.6381\" y=\"-208.7917\" font-family=\"Times,serif\" font-size=\"14.00\" fill=\"#000000\">6.5e&#45;05</text>\n",
       "</g>\n",
       "<!-- 11&#45;&gt;9 -->\n",
       "<g id=\"edge27\" class=\"edge\">\n",
       "<title>11&#45;&gt;9</title>\n",
       "<path fill=\"none\" stroke=\"#000000\" d=\"M149.8317,-83.64C201.9606,-85.861 288.9454,-85.9889 345.0881,-84.0236\"/>\n",
       "<polygon fill=\"#000000\" stroke=\"#000000\" points=\"345.3398,-87.5166 355.1969,-83.6323 345.069,-80.5218 345.3398,-87.5166\"/>\n",
       "<text text-anchor=\"middle\" x=\"226.4599\" y=\"-87.6318\" font-family=\"Times,serif\" font-size=\"14.00\" fill=\"#000000\">3.3e&#45;05</text>\n",
       "</g>\n",
       "<!-- 11&#45;&gt;10 -->\n",
       "<g id=\"edge34\" class=\"edge\">\n",
       "<title>11&#45;&gt;10</title>\n",
       "<path fill=\"none\" stroke=\"#000000\" d=\"M93.6835,-95.9914C80.6418,-120.9769 61.2512,-167.2967 51.1714,-197.1452\"/>\n",
       "<polygon fill=\"#000000\" stroke=\"#000000\" points=\"47.7467,-196.3628 48.0201,-206.9541 54.4112,-198.504 47.7467,-196.3628\"/>\n",
       "<text text-anchor=\"middle\" x=\"51.4275\" y=\"-135.3683\" font-family=\"Times,serif\" font-size=\"14.00\" fill=\"#000000\">2.2e&#45;05</text>\n",
       "</g>\n",
       "</g>\n",
       "</svg>\n"
      ],
      "text/plain": [
       "<graphviz.dot.Digraph at 0x7fb022991d68>"
      ]
     },
     "execution_count": 81,
     "metadata": {},
     "output_type": "execute_result"
    }
   ],
   "source": [
    "#plotting the graph\n",
    "g = Digraph(engine='circo')\n",
    "for k, row in enumerate(df_te.index):\n",
    "    if any(df_te.iloc[k]) or any(df_te[row]):\n",
    "        g.node(str(k),row, shape='oval', fontsize='10', width='0', rankdir=\"LR\") \n",
    "\n",
    "for j, col in enumerate(df_te.columns):\n",
    "    for i, row in enumerate(df_te[col]):\n",
    "        if row:\n",
    "            g.edge(str(i), str(j), label=str(np.round(row,6)),\\\n",
    "                   color=\"#000000{:02x}\".format(int(255)))\n",
    "g\n",
    "#row//max(df_te.max())"
   ]
  },
  {
   "cell_type": "code",
   "execution_count": 134,
   "metadata": {},
   "outputs": [
    {
     "data": {
      "text/plain": [
       "'3min.dot'"
      ]
     },
     "execution_count": 134,
     "metadata": {},
     "output_type": "execute_result"
    }
   ],
   "source": [
    "g.save(\"3min.dot\")\n"
   ]
  },
  {
   "cell_type": "code",
   "execution_count": null,
   "metadata": {},
   "outputs": [],
   "source": []
  },
  {
   "cell_type": "code",
   "execution_count": 29,
   "metadata": {
    "scrolled": true
   },
   "outputs": [
    {
     "data": {
      "text/plain": [
       "0.0034771092988202254"
      ]
     },
     "execution_count": 29,
     "metadata": {},
     "output_type": "execute_result"
    }
   ],
   "source": [
    "#Timing new joint prob\n",
    "b = b.astype(int)\n",
    "a = a.astype(int)\n",
    "\n",
    "te(1,1,1,a,b,'a', 'b')"
   ]
  },
  {
   "cell_type": "code",
   "execution_count": null,
   "metadata": {},
   "outputs": [],
   "source": [
    "#joint probablity for functions test\n",
    "#joint_p_ih_ik_jl = np.array([0.97322404,0.00546448,0.00491803,0,0,0.00546448, 0.00546448, 0.00546448])\n",
    "\n",
    "#aproximate results for this test\n",
    "\n",
    "#p(ith, ik)\n",
    "#jnt_p_ih_ik = [0.97868852,0.00491803,0.00546448,0.0109286] \n",
    "\n",
    "#p(i_t+h|i**k, j**l)\n",
    "#cond_p_ih_ik_jl =  [1,0.5,0.4736841094123,0,0,0.5, 0.52631589085076,1]\n",
    "\n",
    "#p(i_th|i_k)\n",
    "#cond_p_ih_ik = [0.994711793480152,0.31035179088550,0.0552469991962,0.68964820911449]"
   ]
  },
  {
   "cell_type": "code",
   "execution_count": null,
   "metadata": {},
   "outputs": [],
   "source": [
    "np.seterr(all='ignore')"
   ]
  }
 ],
 "metadata": {
  "kernelspec": {
   "display_name": "Python 3",
   "language": "python",
   "name": "python3"
  },
  "language_info": {
   "codemirror_mode": {
    "name": "ipython",
    "version": 3
   },
   "file_extension": ".py",
   "mimetype": "text/x-python",
   "name": "python",
   "nbconvert_exporter": "python",
   "pygments_lexer": "ipython3",
   "version": "3.6.4"
  }
 },
 "nbformat": 4,
 "nbformat_minor": 2
}
