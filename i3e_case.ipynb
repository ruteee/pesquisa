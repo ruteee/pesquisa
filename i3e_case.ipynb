{
 "cells": [
  {
   "cell_type": "code",
   "execution_count": 1,
   "metadata": {},
   "outputs": [
    {
     "name": "stdout",
     "output_type": "stream",
     "text": [
      "GitHub user········\n",
      "GitHub password········\n"
     ]
    }
   ],
   "source": [
    "from getpass import getpass\n",
    "\n",
    "import os\n",
    "\n",
    "os.environ['GITHUB_AUTH'] = getpass('GitHub user') + ':' + getpass('GitHub password')\n",
    "!pip -q install -e git+https://${GITHUB_AUTH}@github.com/abugim/scikit-alarm-framework.git@develop#egg=scikit-alarm-framework\n"
   ]
  },
  {
   "cell_type": "code",
   "execution_count": 13,
   "metadata": {},
   "outputs": [],
   "source": [
    "import numpy as np\n",
    "import pandas as pd\n",
    "import TransEntropy_mod as te\n",
    "import k2_alg as k2\n",
    "\n",
    "from scikit_alarm_framework.alarm_generator import set_point"
   ]
  },
  {
   "cell_type": "code",
   "execution_count": null,
   "metadata": {},
   "outputs": [],
   "source": [
    "#recycle flow - xmeas05\n",
    "#reactor feed rate - xmeas06\n",
    "#reactor pressure - xmeas07\n",
    "#reactor_level - xmeasmeas08\n",
    "#reactor temperature - xmeas09\n",
    "#product seprator level - xmeas12\n",
    "#compressor work - xmeas20\n",
    "#reactor cooling water outlet temperature - xmeas21"
   ]
  },
  {
   "cell_type": "code",
   "execution_count": 3,
   "metadata": {},
   "outputs": [],
   "source": [
    "dist8_proc = pd.read_csv(\"resultados_defesa/i3e/dist8_proc.csv\")\n",
    "dist8_proc_sv = dist8_proc[['XMEAS' + var for var in ['05','06','07','08', '09', '12', '20', '21']]]"
   ]
  },
  {
   "cell_type": "code",
   "execution_count": null,
   "metadata": {},
   "outputs": [],
   "source": []
  },
  {
   "cell_type": "code",
   "execution_count": 4,
   "metadata": {},
   "outputs": [],
   "source": [
    "thresh_high = [33,48.3,2804,66,122.93,52.2,274,10255]\n",
    "thresh_low = [31,46,2789,62.5,122.7,45,268,102.25]\n"
   ]
  },
  {
   "cell_type": "code",
   "execution_count": 5,
   "metadata": {},
   "outputs": [],
   "source": [
    "high_alarms = set_point.generate(dist8_proc_sv, thresh_high)\n",
    "low_alarms = set_point.generate(dist8_proc_sv, thresh_low, high=False)"
   ]
  },
  {
   "cell_type": "code",
   "execution_count": 6,
   "metadata": {},
   "outputs": [],
   "source": [
    "new_high_names = ['x' + str(var) + '_high' for var in np.arange(1,9)]\n",
    "new_low_names =   ['x' + str(var) + '_low' for var in np.arange(1,9)]\n",
    "\n",
    "\n",
    "rename_high = {key:value for key, value in zip(high_alarms.columns,new_high_names)}\n",
    "rename_low = {key:value for key, value in zip(low_alarms.columns,new_low_names)}\n",
    "\n",
    "high_alarms = high_alarms.rename(rename_high, axis='columns')\n",
    "low_alarms = low_alarms.rename(rename_low, axis='columns')\n"
   ]
  },
  {
   "cell_type": "code",
   "execution_count": 7,
   "metadata": {},
   "outputs": [],
   "source": [
    "alarms_df = pd.concat([high_alarms, low_alarms], axis=1)"
   ]
  },
  {
   "cell_type": "code",
   "execution_count": 8,
   "metadata": {},
   "outputs": [],
   "source": [
    "alarms_m5 = te.apply_roll_mean(alarms_df, 5)\n",
    "alarms_m5.to_csv('resultados_defesa/df_i3e_m5.csv')"
   ]
  },
  {
   "cell_type": "code",
   "execution_count": null,
   "metadata": {},
   "outputs": [],
   "source": [
    "#te_i3e_df = te.transferEntropy_case(alarms_df, 50,1,1) #without moving mean"
   ]
  },
  {
   "cell_type": "code",
   "execution_count": 9,
   "metadata": {},
   "outputs": [
    {
     "data": {
      "text/plain": [
       "69997"
      ]
     },
     "execution_count": 9,
     "metadata": {},
     "output_type": "execute_result"
    }
   ],
   "source": [
    "len(alarms_m5)"
   ]
  },
  {
   "cell_type": "code",
   "execution_count": 14,
   "metadata": {},
   "outputs": [],
   "source": [
    " te_i3e_m5 = te.transferEntropy_case(alarms_m5, 33,1,1)"
   ]
  },
  {
   "cell_type": "code",
   "execution_count": 22,
   "metadata": {},
   "outputs": [],
   "source": [
    "t = np.mean(te_i3e_m5[0]) + 2*np.std(te_i3e_m5[0])\n",
    "df_te_i3e = pd.DataFrame(data= te_i3e_m5[0], columns= alarms_m5.columns, index = alarms_m5.columns)\n",
    "df_te_i3e_lag = pd.DataFrame(data= te_i3e_m5[1], columns= alarms_m5.columns, index = alarms_m5.columns)\n",
    "df_te_i3e.to_csv('resultados_defesa/te_i3e_m5.csv')\n",
    "df_te_i3e_lag.to_csv('resultados_defesa/te_i3e_m5_lags.csv')"
   ]
  },
  {
   "cell_type": "code",
   "execution_count": 23,
   "metadata": {},
   "outputs": [
    {
     "name": "stderr",
     "output_type": "stream",
     "text": [
      "/home/rute/anaconda3/lib/python3.7/site-packages/ipykernel_launcher.py:2: FutureWarning: Method .as_matrix will be removed in a future version. Use .values instead.\n",
      "  \n",
      "/home/rute/git/pesquisa/TransEntropy_mod.py:415: FutureWarning: elementwise comparison failed; returning scalar instead, but in the future will perform elementwise comparison\n",
      "  if np.all(np.unique(lista[node]) == ['x']):\n"
     ]
    }
   ],
   "source": [
    "te_i3e_ltd = te.generate_df_valid_corrs(df_te_i3e, t)\n",
    "te_i3e_ac = te.generate_aciclic_graph(te_i3e_ltd.as_matrix())\n",
    "\n",
    "df_te_i3e_ltd = pd.DataFrame(data= te_i3e_ltd, columns= alarms_m5.columns, index = alarms_m5.columns)\n",
    "df_te_i3e_ac = pd.DataFrame(data= te_i3e_ac, columns= alarms_m5.columns, index = alarms_m5.columns)\n",
    "df_te_i3e_ac.to_csv('resultados_defesa/te_i3e_ac.csv')"
   ]
  },
  {
   "cell_type": "code",
   "execution_count": 24,
   "metadata": {},
   "outputs": [
    {
     "data": {
      "image/svg+xml": [
       "<?xml version=\"1.0\" encoding=\"UTF-8\" standalone=\"no\"?>\n",
       "<!DOCTYPE svg PUBLIC \"-//W3C//DTD SVG 1.1//EN\"\n",
       " \"http://www.w3.org/Graphics/SVG/1.1/DTD/svg11.dtd\">\n",
       "<!-- Generated by graphviz version 2.40.1 (20161225.0304)\n",
       " -->\n",
       "<!-- Title: %3 Pages: 1 -->\n",
       "<svg width=\"252pt\" height=\"404pt\"\n",
       " viewBox=\"0.00 0.00 252.28 404.00\" xmlns=\"http://www.w3.org/2000/svg\" xmlns:xlink=\"http://www.w3.org/1999/xlink\">\n",
       "<g id=\"graph0\" class=\"graph\" transform=\"scale(1 1) rotate(0) translate(4 400)\">\n",
       "<title>%3</title>\n",
       "<polygon fill=\"#ffffff\" stroke=\"transparent\" points=\"-4,4 -4,-400 248.2776,-400 248.2776,4 -4,4\"/>\n",
       "<!-- 0 -->\n",
       "<g id=\"node1\" class=\"node\">\n",
       "<title>0</title>\n",
       "<ellipse fill=\"#c9c9c9\" stroke=\"#c0c0c0\" cx=\"60.0218\" cy=\"-378\" rx=\"30.0436\" ry=\"18\"/>\n",
       "<text text-anchor=\"middle\" x=\"60.0218\" y=\"-375.5\" font-family=\"Times,serif\" font-size=\"10.00\" fill=\"#000000\">x1_high</text>\n",
       "</g>\n",
       "<!-- 1 -->\n",
       "<g id=\"node2\" class=\"node\">\n",
       "<title>1</title>\n",
       "<ellipse fill=\"#c9c9c9\" stroke=\"#c0c0c0\" cx=\"64.0218\" cy=\"-234\" rx=\"30.0436\" ry=\"18\"/>\n",
       "<text text-anchor=\"middle\" x=\"64.0218\" y=\"-231.5\" font-family=\"Times,serif\" font-size=\"10.00\" fill=\"#000000\">x2_high</text>\n",
       "</g>\n",
       "<!-- 0&#45;&gt;1 -->\n",
       "<g id=\"edge4\" class=\"edge\">\n",
       "<title>0&#45;&gt;1</title>\n",
       "<path fill=\"none\" stroke=\"#000000\" d=\"M55.8765,-360.0535C54.0728,-335.5852 55.0104,-291.4896 57.725,-262.4799\"/>\n",
       "<polygon fill=\"#000000\" stroke=\"#000000\" points=\"61.2442,-262.4936 58.8504,-252.1727 54.2856,-261.7337 61.2442,-262.4936\"/>\n",
       "</g>\n",
       "<!-- 6 -->\n",
       "<g id=\"node4\" class=\"node\">\n",
       "<title>6</title>\n",
       "<ellipse fill=\"#c9c9c9\" stroke=\"#c0c0c0\" cx=\"30.0218\" cy=\"-162\" rx=\"30.0436\" ry=\"18\"/>\n",
       "<text text-anchor=\"middle\" x=\"30.0218\" y=\"-159.5\" font-family=\"Times,serif\" font-size=\"10.00\" fill=\"#000000\">x7_high</text>\n",
       "</g>\n",
       "<!-- 0&#45;&gt;6 -->\n",
       "<g id=\"edge8\" class=\"edge\">\n",
       "<title>0&#45;&gt;6</title>\n",
       "<path fill=\"none\" stroke=\"#000000\" d=\"M47.7996,-361.1882C36.2689,-337.3162 21.4798,-292.0415 16.0218,-252 13.8609,-236.1466 15.2834,-231.983 16.0218,-216 16.419,-207.4032 17.1699,-198.0611 18.3811,-189.6018\"/>\n",
       "<polygon fill=\"#000000\" stroke=\"#000000\" points=\"21.8759,-189.9381 20.1695,-179.4816 14.9827,-188.72 21.8759,-189.9381\"/>\n",
       "</g>\n",
       "<!-- 14 -->\n",
       "<g id=\"node8\" class=\"node\">\n",
       "<title>14</title>\n",
       "<ellipse fill=\"#c9c9c9\" stroke=\"#c0c0c0\" cx=\"125.0218\" cy=\"-306\" rx=\"28.0137\" ry=\"18\"/>\n",
       "<text text-anchor=\"middle\" x=\"125.0218\" y=\"-303.5\" font-family=\"Times,serif\" font-size=\"10.00\" fill=\"#000000\">x7_low</text>\n",
       "</g>\n",
       "<!-- 0&#45;&gt;14 -->\n",
       "<g id=\"edge16\" class=\"edge\">\n",
       "<title>0&#45;&gt;14</title>\n",
       "<path fill=\"none\" stroke=\"#000000\" d=\"M69.586,-360.937C77.6613,-350.8007 89.2177,-337.8644 99.7742,-327.0914\"/>\n",
       "<polygon fill=\"#000000\" stroke=\"#000000\" points=\"102.2432,-329.5722 106.8677,-320.0399 97.3082,-324.6077 102.2432,-329.5722\"/>\n",
       "</g>\n",
       "<!-- 1&#45;&gt;0 -->\n",
       "<g id=\"edge1\" class=\"edge\">\n",
       "<title>1&#45;&gt;0</title>\n",
       "<path fill=\"none\" stroke=\"#000000\" d=\"M68.1837,-252.1727C69.9705,-276.7613 69.0191,-320.8705 66.2936,-349.7871\"/>\n",
       "<polygon fill=\"#000000\" stroke=\"#000000\" points=\"62.7787,-349.7307 65.1641,-360.0535 69.7368,-350.4962 62.7787,-349.7307\"/>\n",
       "</g>\n",
       "<!-- 1&#45;&gt;6 -->\n",
       "<g id=\"edge9\" class=\"edge\">\n",
       "<title>1&#45;&gt;6</title>\n",
       "<path fill=\"none\" stroke=\"#000000\" d=\"M50.5459,-217.6621C45.6874,-209.3478 40.5348,-199.0152 36.4357,-189.5177\"/>\n",
       "<polygon fill=\"#000000\" stroke=\"#000000\" points=\"39.5971,-187.9995 32.6018,-180.0423 33.1081,-190.6251 39.5971,-187.9995\"/>\n",
       "</g>\n",
       "<!-- 5 -->\n",
       "<g id=\"node3\" class=\"node\">\n",
       "<title>5</title>\n",
       "<ellipse fill=\"#c9c9c9\" stroke=\"#c0c0c0\" cx=\"178.0218\" cy=\"-18\" rx=\"30.0436\" ry=\"18\"/>\n",
       "<text text-anchor=\"middle\" x=\"178.0218\" y=\"-15.5\" font-family=\"Times,serif\" font-size=\"10.00\" fill=\"#000000\">x6_high</text>\n",
       "</g>\n",
       "<!-- 6&#45;&gt;0 -->\n",
       "<g id=\"edge2\" class=\"edge\">\n",
       "<title>6&#45;&gt;0</title>\n",
       "<path fill=\"none\" stroke=\"#000000\" d=\"M35.8139,-179.9711C35.828,-190.4615 34.578,-203.9615 34.0218,-216 33.2834,-231.983 31.8609,-236.1466 34.0218,-252 38.7171,-286.4458 50.3176,-324.7644 56.9569,-349.9988\"/>\n",
       "<polygon fill=\"#000000\" stroke=\"#000000\" points=\"53.6296,-351.1194 59.4639,-359.9631 60.4181,-349.4113 53.6296,-351.1194\"/>\n",
       "</g>\n",
       "<!-- 6&#45;&gt;1 -->\n",
       "<g id=\"edge5\" class=\"edge\">\n",
       "<title>6&#45;&gt;1</title>\n",
       "<path fill=\"none\" stroke=\"#000000\" d=\"M43.5569,-178.4393C48.3855,-186.7144 53.4988,-196.9698 57.576,-206.4083\"/>\n",
       "<polygon fill=\"#000000\" stroke=\"#000000\" points=\"54.395,-207.8779 61.3946,-215.8314 60.8826,-205.2489 54.395,-207.8779\"/>\n",
       "</g>\n",
       "<!-- 8 -->\n",
       "<g id=\"node5\" class=\"node\">\n",
       "<title>8</title>\n",
       "<ellipse fill=\"#c9c9c9\" stroke=\"#c0c0c0\" cx=\"216.0218\" cy=\"-234\" rx=\"28.0137\" ry=\"18\"/>\n",
       "<text text-anchor=\"middle\" x=\"216.0218\" y=\"-231.5\" font-family=\"Times,serif\" font-size=\"10.00\" fill=\"#000000\">x1_low</text>\n",
       "</g>\n",
       "<!-- 9 -->\n",
       "<g id=\"node6\" class=\"node\">\n",
       "<title>9</title>\n",
       "<ellipse fill=\"#c9c9c9\" stroke=\"#c0c0c0\" cx=\"178.0218\" cy=\"-162\" rx=\"28.0137\" ry=\"18\"/>\n",
       "<text text-anchor=\"middle\" x=\"178.0218\" y=\"-159.5\" font-family=\"Times,serif\" font-size=\"10.00\" fill=\"#000000\">x2_low</text>\n",
       "</g>\n",
       "<!-- 8&#45;&gt;9 -->\n",
       "<g id=\"edge11\" class=\"edge\">\n",
       "<title>8&#45;&gt;9</title>\n",
       "<path fill=\"none\" stroke=\"#000000\" d=\"M207.0163,-216.937C202.5391,-208.4537 197.0267,-198.0092 192.0148,-188.513\"/>\n",
       "<polygon fill=\"#000000\" stroke=\"#000000\" points=\"194.9896,-186.6509 187.2266,-179.4407 188.7989,-189.9182 194.9896,-186.6509\"/>\n",
       "</g>\n",
       "<!-- 10 -->\n",
       "<g id=\"node7\" class=\"node\">\n",
       "<title>10</title>\n",
       "<ellipse fill=\"#c9c9c9\" stroke=\"#c0c0c0\" cx=\"178.0218\" cy=\"-90\" rx=\"28.0137\" ry=\"18\"/>\n",
       "<text text-anchor=\"middle\" x=\"178.0218\" y=\"-87.5\" font-family=\"Times,serif\" font-size=\"10.00\" fill=\"#000000\">x3_low</text>\n",
       "</g>\n",
       "<!-- 8&#45;&gt;10 -->\n",
       "<g id=\"edge13\" class=\"edge\">\n",
       "<title>8&#45;&gt;10</title>\n",
       "<path fill=\"none\" stroke=\"#000000\" d=\"M218.841,-215.9277C221.0406,-197.402 222.5984,-167.9898 215.0218,-144 211.5982,-133.1597 205.2008,-122.5461 198.6764,-113.6372\"/>\n",
       "<polygon fill=\"#000000\" stroke=\"#000000\" points=\"201.378,-111.4098 192.475,-105.6663 195.8531,-115.7082 201.378,-111.4098\"/>\n",
       "</g>\n",
       "<!-- 9&#45;&gt;10 -->\n",
       "<g id=\"edge14\" class=\"edge\">\n",
       "<title>9&#45;&gt;10</title>\n",
       "<path fill=\"none\" stroke=\"#000000\" d=\"M178.0218,-143.8314C178.0218,-136.131 178.0218,-126.9743 178.0218,-118.4166\"/>\n",
       "<polygon fill=\"#000000\" stroke=\"#000000\" points=\"181.5219,-118.4132 178.0218,-108.4133 174.5219,-118.4133 181.5219,-118.4132\"/>\n",
       "</g>\n",
       "<!-- 10&#45;&gt;5 -->\n",
       "<g id=\"edge7\" class=\"edge\">\n",
       "<title>10&#45;&gt;5</title>\n",
       "<path fill=\"none\" stroke=\"#000000\" d=\"M178.0218,-71.8314C178.0218,-64.131 178.0218,-54.9743 178.0218,-46.4166\"/>\n",
       "<polygon fill=\"#000000\" stroke=\"#000000\" points=\"181.5219,-46.4132 178.0218,-36.4133 174.5219,-46.4133 181.5219,-46.4132\"/>\n",
       "</g>\n",
       "<!-- 14&#45;&gt;0 -->\n",
       "<g id=\"edge3\" class=\"edge\">\n",
       "<title>14&#45;&gt;0</title>\n",
       "<path fill=\"none\" stroke=\"#000000\" d=\"M115.444,-323.0801C107.5662,-332.9667 96.3812,-345.5128 86.043,-356.1171\"/>\n",
       "<polygon fill=\"#000000\" stroke=\"#000000\" points=\"83.3244,-353.8857 78.7242,-363.4297 88.2721,-358.8376 83.3244,-353.8857\"/>\n",
       "</g>\n",
       "<!-- 14&#45;&gt;1 -->\n",
       "<g id=\"edge6\" class=\"edge\">\n",
       "<title>14&#45;&gt;1</title>\n",
       "<path fill=\"none\" stroke=\"#000000\" d=\"M111.4839,-290.0209C103.4845,-280.5789 93.2024,-268.4427 84.2549,-257.8817\"/>\n",
       "<polygon fill=\"#000000\" stroke=\"#000000\" points=\"86.8674,-255.5508 77.7328,-250.1834 81.5265,-260.0758 86.8674,-255.5508\"/>\n",
       "</g>\n",
       "<!-- 14&#45;&gt;8 -->\n",
       "<g id=\"edge10\" class=\"edge\">\n",
       "<title>14&#45;&gt;8</title>\n",
       "<path fill=\"none\" stroke=\"#000000\" d=\"M143.0005,-291.7751C156.4613,-281.1248 175.0697,-266.4017 190.1323,-254.484\"/>\n",
       "<polygon fill=\"#000000\" stroke=\"#000000\" points=\"192.41,-257.145 198.0805,-248.1953 188.0666,-251.6554 192.41,-257.145\"/>\n",
       "</g>\n",
       "<!-- 14&#45;&gt;9 -->\n",
       "<g id=\"edge12\" class=\"edge\">\n",
       "<title>14&#45;&gt;9</title>\n",
       "<path fill=\"none\" stroke=\"#000000\" d=\"M131.5207,-288.3428C140.6199,-263.6202 157.2411,-218.4608 167.9504,-189.3639\"/>\n",
       "<polygon fill=\"#000000\" stroke=\"#000000\" points=\"171.3003,-190.3951 171.4698,-179.8017 164.7311,-187.9773 171.3003,-190.3951\"/>\n",
       "</g>\n",
       "<!-- 14&#45;&gt;10 -->\n",
       "<g id=\"edge15\" class=\"edge\">\n",
       "<title>14&#45;&gt;10</title>\n",
       "<path fill=\"none\" stroke=\"#000000\" d=\"M123.9373,-287.8591C122.7268,-257.2068 122.9206,-193.6531 141.0218,-144 144.9154,-133.3195 151.4155,-122.7408 157.8906,-113.8151\"/>\n",
       "<polygon fill=\"#000000\" stroke=\"#000000\" points=\"160.7136,-115.8853 164.0051,-105.8147 155.1519,-111.6346 160.7136,-115.8853\"/>\n",
       "</g>\n",
       "</g>\n",
       "</svg>\n"
      ],
      "text/plain": [
       "<graphviz.dot.Digraph at 0x7f31c8054cc0>"
      ]
     },
     "execution_count": 24,
     "metadata": {},
     "output_type": "execute_result"
    }
   ],
   "source": [
    "te.graph_simple(df_te_i3e_ltd)"
   ]
  },
  {
   "cell_type": "code",
   "execution_count": 25,
   "metadata": {},
   "outputs": [],
   "source": [
    "df_lags_final  = df_te_i3e_lag[df_te_i3e_ac > 0].fillna(0)\n",
    "df_lags_final.to_csv('resultados_defesa/df_lags_i3e_ltd.csv')"
   ]
  },
  {
   "cell_type": "code",
   "execution_count": 26,
   "metadata": {},
   "outputs": [],
   "source": [
    "#test k2\n",
    "df_m5 = pd.read_csv(\"resultados_defesa/df_i3e_m5.csv\", index_col=0)\n",
    "df_lags_final = pd.read_csv(\"resultados_defesa/df_lags_i3e_ltd.csv\", index_col=0)\n",
    "\n",
    "dict_lags = te.get_all_shifts(df_lags_final.columns, df_lags_final.copy())\n",
    "k2_te_tree = te.gen_tree_from_lags(dict_lags)"
   ]
  },
  {
   "cell_type": "code",
   "execution_count": 27,
   "metadata": {},
   "outputs": [
    {
     "data": {
      "text/plain": [
       "{'x1_high': ['x7_high-0_30', 'x7_low-0_32'],\n",
       " 'x7_high-0_30': [],\n",
       " 'x7_low-0_32': [],\n",
       " 'x2_high': ['x1_high-0_5',\n",
       "  'x7_high-0_35',\n",
       "  'x7_high-1_28',\n",
       "  'x7_low-0_37',\n",
       "  'x7_low-1_32'],\n",
       " 'x1_high-0_5': [],\n",
       " 'x7_high-0_35': [],\n",
       " 'x7_high-1_28': [],\n",
       " 'x7_low-0_37': [],\n",
       " 'x7_low-1_32': [],\n",
       " 'x3_high': [],\n",
       " 'x4_high': [],\n",
       " 'x5_high': [],\n",
       " 'x6_high': ['x3_low-0_32',\n",
       "  'x1_low-0_64',\n",
       "  'x1_low-1_69',\n",
       "  'x7_low-0_96',\n",
       "  'x7_low-1_101',\n",
       "  'x7_low-2_96',\n",
       "  'x7_low-3_64',\n",
       "  'x2_low-0_64'],\n",
       " 'x3_low-0_32': [],\n",
       " 'x1_low-0_64': [],\n",
       " 'x1_low-1_69': [],\n",
       " 'x7_low-0_96': [],\n",
       " 'x7_low-1_101': [],\n",
       " 'x7_low-2_96': [],\n",
       " 'x7_low-3_64': [],\n",
       " 'x2_low-0_64': [],\n",
       " 'x7_high': [],\n",
       " 'x8_high': [],\n",
       " 'x1_low': ['x7_low-0_32'],\n",
       " 'x2_low': ['x1_low-0_5', 'x7_low-0_37', 'x7_low-1_32'],\n",
       " 'x1_low-0_5': [],\n",
       " 'x3_low': ['x1_low-0_32',\n",
       "  'x1_low-1_37',\n",
       "  'x7_low-0_64',\n",
       "  'x7_low-1_69',\n",
       "  'x7_low-2_64',\n",
       "  'x7_low-3_32',\n",
       "  'x2_low-0_32'],\n",
       " 'x1_low-0_32': [],\n",
       " 'x1_low-1_37': [],\n",
       " 'x7_low-0_64': [],\n",
       " 'x7_low-1_69': [],\n",
       " 'x7_low-2_64': [],\n",
       " 'x7_low-3_32': [],\n",
       " 'x2_low-0_32': [],\n",
       " 'x4_low': [],\n",
       " 'x5_low': [],\n",
       " 'x6_low': [],\n",
       " 'x7_low': [],\n",
       " 'x8_low': []}"
      ]
     },
     "execution_count": 27,
     "metadata": {},
     "output_type": "execute_result"
    }
   ],
   "source": [
    "k2_te_tree"
   ]
  },
  {
   "cell_type": "code",
   "execution_count": 28,
   "metadata": {},
   "outputs": [],
   "source": [
    "k2_result = k2.k2(df_m5, k2_te_tree, df_lags_final, 0.7)"
   ]
  },
  {
   "cell_type": "code",
   "execution_count": 29,
   "metadata": {},
   "outputs": [
    {
     "name": "stdout",
     "output_type": "stream",
     "text": [
      "here  x7_high x1_high\n",
      "here  x1_high x2_high\n",
      "here  x2_low x6_high\n",
      "here  x7_low x1_low\n",
      "here  x1_low x2_low\n",
      "here  x2_low x3_low\n"
     ]
    },
    {
     "data": {
      "image/svg+xml": [
       "<?xml version=\"1.0\" encoding=\"UTF-8\" standalone=\"no\"?>\n",
       "<!DOCTYPE svg PUBLIC \"-//W3C//DTD SVG 1.1//EN\"\n",
       " \"http://www.w3.org/Graphics/SVG/1.1/DTD/svg11.dtd\">\n",
       "<!-- Generated by graphviz version 2.40.1 (20161225.0304)\n",
       " -->\n",
       "<!-- Title: %3 Pages: 1 -->\n",
       "<svg width=\"144pt\" height=\"392pt\"\n",
       " viewBox=\"0.00 0.00 144.04 392.00\" xmlns=\"http://www.w3.org/2000/svg\" xmlns:xlink=\"http://www.w3.org/1999/xlink\">\n",
       "<g id=\"graph0\" class=\"graph\" transform=\"scale(1 1) rotate(0) translate(4 388)\">\n",
       "<title>%3</title>\n",
       "<polygon fill=\"#ffffff\" stroke=\"transparent\" points=\"-4,4 -4,-388 140.0436,-388 140.0436,4 -4,4\"/>\n",
       "<!-- x1_high -->\n",
       "<g id=\"node1\" class=\"node\">\n",
       "<title>x1_high</title>\n",
       "<ellipse fill=\"#c9c9c9\" stroke=\"#c0c0c0\" cx=\"30.0218\" cy=\"-279\" rx=\"30.0436\" ry=\"18\"/>\n",
       "<text text-anchor=\"middle\" x=\"30.0218\" y=\"-276.5\" font-family=\"Times,serif\" font-size=\"10.00\" fill=\"#000000\">x1_high</text>\n",
       "</g>\n",
       "<!-- x2_high -->\n",
       "<g id=\"node7\" class=\"node\">\n",
       "<title>x2_high</title>\n",
       "<ellipse fill=\"#c9c9c9\" stroke=\"#c0c0c0\" cx=\"30.0218\" cy=\"-192\" rx=\"30.0436\" ry=\"18\"/>\n",
       "<text text-anchor=\"middle\" x=\"30.0218\" y=\"-189.5\" font-family=\"Times,serif\" font-size=\"10.00\" fill=\"#000000\">x2_high</text>\n",
       "</g>\n",
       "<!-- x1_high&#45;&gt;x2_high -->\n",
       "<g id=\"edge2\" class=\"edge\">\n",
       "<title>x1_high&#45;&gt;x2_high</title>\n",
       "<path fill=\"none\" stroke=\"#000000\" d=\"M30.0218,-260.9735C30.0218,-249.1918 30.0218,-233.5607 30.0218,-220.1581\"/>\n",
       "<polygon fill=\"#000000\" stroke=\"#000000\" points=\"33.5219,-220.0033 30.0218,-210.0034 26.5219,-220.0034 33.5219,-220.0033\"/>\n",
       "<text text-anchor=\"middle\" x=\"39.0218\" y=\"-231.8\" font-family=\"Times,serif\" font-size=\"14.00\" fill=\"#000000\">5.0</text>\n",
       "</g>\n",
       "<!-- x7_high -->\n",
       "<g id=\"node2\" class=\"node\">\n",
       "<title>x7_high</title>\n",
       "<ellipse fill=\"#c9c9c9\" stroke=\"#c0c0c0\" cx=\"30.0218\" cy=\"-366\" rx=\"30.0436\" ry=\"18\"/>\n",
       "<text text-anchor=\"middle\" x=\"30.0218\" y=\"-363.5\" font-family=\"Times,serif\" font-size=\"10.00\" fill=\"#000000\">x7_high</text>\n",
       "</g>\n",
       "<!-- x7_high&#45;&gt;x1_high -->\n",
       "<g id=\"edge1\" class=\"edge\">\n",
       "<title>x7_high&#45;&gt;x1_high</title>\n",
       "<path fill=\"none\" stroke=\"#000000\" d=\"M30.0218,-347.9735C30.0218,-336.1918 30.0218,-320.5607 30.0218,-307.1581\"/>\n",
       "<polygon fill=\"#000000\" stroke=\"#000000\" points=\"33.5219,-307.0033 30.0218,-297.0034 26.5219,-307.0034 33.5219,-307.0033\"/>\n",
       "<text text-anchor=\"middle\" x=\"42.5218\" y=\"-318.8\" font-family=\"Times,serif\" font-size=\"14.00\" fill=\"#000000\">30.0</text>\n",
       "</g>\n",
       "<!-- x1_low -->\n",
       "<g id=\"node3\" class=\"node\">\n",
       "<title>x1_low</title>\n",
       "<ellipse fill=\"#c9c9c9\" stroke=\"#c0c0c0\" cx=\"106.0218\" cy=\"-279\" rx=\"28.0137\" ry=\"18\"/>\n",
       "<text text-anchor=\"middle\" x=\"106.0218\" y=\"-276.5\" font-family=\"Times,serif\" font-size=\"10.00\" fill=\"#000000\">x1_low</text>\n",
       "</g>\n",
       "<!-- x2_low -->\n",
       "<g id=\"node4\" class=\"node\">\n",
       "<title>x2_low</title>\n",
       "<ellipse fill=\"#c9c9c9\" stroke=\"#c0c0c0\" cx=\"106.0218\" cy=\"-192\" rx=\"28.0137\" ry=\"18\"/>\n",
       "<text text-anchor=\"middle\" x=\"106.0218\" y=\"-189.5\" font-family=\"Times,serif\" font-size=\"10.00\" fill=\"#000000\">x2_low</text>\n",
       "</g>\n",
       "<!-- x1_low&#45;&gt;x2_low -->\n",
       "<g id=\"edge5\" class=\"edge\">\n",
       "<title>x1_low&#45;&gt;x2_low</title>\n",
       "<path fill=\"none\" stroke=\"#000000\" d=\"M106.0218,-260.9735C106.0218,-249.1918 106.0218,-233.5607 106.0218,-220.1581\"/>\n",
       "<polygon fill=\"#000000\" stroke=\"#000000\" points=\"109.5219,-220.0033 106.0218,-210.0034 102.5219,-220.0034 109.5219,-220.0033\"/>\n",
       "<text text-anchor=\"middle\" x=\"115.0218\" y=\"-231.8\" font-family=\"Times,serif\" font-size=\"14.00\" fill=\"#000000\">5.0</text>\n",
       "</g>\n",
       "<!-- x3_low -->\n",
       "<g id=\"node5\" class=\"node\">\n",
       "<title>x3_low</title>\n",
       "<ellipse fill=\"#c9c9c9\" stroke=\"#c0c0c0\" cx=\"106.0218\" cy=\"-105\" rx=\"28.0137\" ry=\"18\"/>\n",
       "<text text-anchor=\"middle\" x=\"106.0218\" y=\"-102.5\" font-family=\"Times,serif\" font-size=\"10.00\" fill=\"#000000\">x3_low</text>\n",
       "</g>\n",
       "<!-- x2_low&#45;&gt;x3_low -->\n",
       "<g id=\"edge6\" class=\"edge\">\n",
       "<title>x2_low&#45;&gt;x3_low</title>\n",
       "<path fill=\"none\" stroke=\"#000000\" d=\"M106.0218,-173.9735C106.0218,-162.1918 106.0218,-146.5607 106.0218,-133.1581\"/>\n",
       "<polygon fill=\"#000000\" stroke=\"#000000\" points=\"109.5219,-133.0033 106.0218,-123.0034 102.5219,-133.0034 109.5219,-133.0033\"/>\n",
       "<text text-anchor=\"middle\" x=\"118.5218\" y=\"-144.8\" font-family=\"Times,serif\" font-size=\"14.00\" fill=\"#000000\">32.0</text>\n",
       "</g>\n",
       "<!-- x6_high -->\n",
       "<g id=\"node8\" class=\"node\">\n",
       "<title>x6_high</title>\n",
       "<ellipse fill=\"#c9c9c9\" stroke=\"#c0c0c0\" cx=\"106.0218\" cy=\"-18\" rx=\"30.0436\" ry=\"18\"/>\n",
       "<text text-anchor=\"middle\" x=\"106.0218\" y=\"-15.5\" font-family=\"Times,serif\" font-size=\"10.00\" fill=\"#000000\">x6_high</text>\n",
       "</g>\n",
       "<!-- x3_low&#45;&gt;x6_high -->\n",
       "<g id=\"edge3\" class=\"edge\">\n",
       "<title>x3_low&#45;&gt;x6_high</title>\n",
       "<path fill=\"none\" stroke=\"#000000\" d=\"M106.0218,-86.9735C106.0218,-75.1918 106.0218,-59.5607 106.0218,-46.1581\"/>\n",
       "<polygon fill=\"#000000\" stroke=\"#000000\" points=\"109.5219,-46.0033 106.0218,-36.0034 102.5219,-46.0034 109.5219,-46.0033\"/>\n",
       "<text text-anchor=\"middle\" x=\"118.5218\" y=\"-57.8\" font-family=\"Times,serif\" font-size=\"14.00\" fill=\"#000000\">32.0</text>\n",
       "</g>\n",
       "<!-- x7_low -->\n",
       "<g id=\"node6\" class=\"node\">\n",
       "<title>x7_low</title>\n",
       "<ellipse fill=\"#c9c9c9\" stroke=\"#c0c0c0\" cx=\"106.0218\" cy=\"-366\" rx=\"28.0137\" ry=\"18\"/>\n",
       "<text text-anchor=\"middle\" x=\"106.0218\" y=\"-363.5\" font-family=\"Times,serif\" font-size=\"10.00\" fill=\"#000000\">x7_low</text>\n",
       "</g>\n",
       "<!-- x7_low&#45;&gt;x1_low -->\n",
       "<g id=\"edge4\" class=\"edge\">\n",
       "<title>x7_low&#45;&gt;x1_low</title>\n",
       "<path fill=\"none\" stroke=\"#000000\" d=\"M106.0218,-347.9735C106.0218,-336.1918 106.0218,-320.5607 106.0218,-307.1581\"/>\n",
       "<polygon fill=\"#000000\" stroke=\"#000000\" points=\"109.5219,-307.0033 106.0218,-297.0034 102.5219,-307.0034 109.5219,-307.0033\"/>\n",
       "<text text-anchor=\"middle\" x=\"118.5218\" y=\"-318.8\" font-family=\"Times,serif\" font-size=\"14.00\" fill=\"#000000\">32.0</text>\n",
       "</g>\n",
       "</g>\n",
       "</svg>\n"
      ],
      "text/plain": [
       "<graphviz.dot.Digraph at 0x7f31c8054748>"
      ]
     },
     "execution_count": 29,
     "metadata": {},
     "output_type": "execute_result"
    }
   ],
   "source": [
    "clean_df = k2.gen_clean_df(df_lags_final, k2_result)\n",
    "df_path  = df_lags_final[clean_df>0].fillna(0)\n",
    "\n",
    "k2.graph_simple(df_path)"
   ]
  },
  {
   "cell_type": "code",
   "execution_count": null,
   "metadata": {},
   "outputs": [],
   "source": [
    "##reading saved data\n",
    "df_te_m5 = pd.read_csv(\"resultados_defesa/te_i3e_m5.csv\", index_col=0)\n",
    "df_te_m5_ac = pd.DataFrame(data = te.generate_aciclic_graph(df_te_m5.as_matrix()),columns= alarms_df.columns, index = alarms_df.columns)\n"
   ]
  }
 ],
 "metadata": {
  "kernelspec": {
   "display_name": "Python 3",
   "language": "python",
   "name": "python3"
  },
  "language_info": {
   "codemirror_mode": {
    "name": "ipython",
    "version": 3
   },
   "file_extension": ".py",
   "mimetype": "text/x-python",
   "name": "python",
   "nbconvert_exporter": "python",
   "pygments_lexer": "ipython3",
   "version": "3.7.0"
  }
 },
 "nbformat": 4,
 "nbformat_minor": 2
}
