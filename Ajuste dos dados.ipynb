{
 "cells": [
  {
   "cell_type": "code",
   "execution_count": 3,
   "metadata": {},
   "outputs": [],
   "source": [
    "import pandas as pd\n",
    "import numpy as np"
   ]
  },
  {
   "cell_type": "code",
   "execution_count": 41,
   "metadata": {},
   "outputs": [],
   "source": [
    "maxIndex = 1770\n",
    "\n",
    "sim1 = pd.read_csv('data/simout_1.csv')\n",
    "tout1 = pd.read_csv('data/tout_1.csv')\n",
    "\n",
    "x_names = ['x' + str(i) for i in np.arange(1,42)]\n",
    "tout_str = ['tout_' + str(i) for i in np.arange(1,1771)]\n",
    "simout_str = ['simout_' + str(i) for i in np.arange(1,1771)]\n",
    "\n",
    "\n",
    "\n",
    "sim1.head()\n",
    "\n",
    "for t, sim in zip(tout_str, simout_str):\n",
    "    sim_df = pd.read_csv('data/'+ sim + '.csv', names = x_names)\n",
    "    tout_df = pd.read_csv('data/' + t + '.csv')\n",
    "    \n",
    "    sim_df['tout'] = tout_df\n",
    "    sim_df.set_index('tout', inplace=True)\n",
    "    \n",
    "    sim_df.to_csv('newData/' + sim + '.csv')"
   ]
  },
  {
   "cell_type": "code",
   "execution_count": null,
   "metadata": {},
   "outputs": [],
   "source": []
  }
 ],
 "metadata": {
  "kernelspec": {
   "display_name": "Python 3",
   "language": "python",
   "name": "python3"
  },
  "language_info": {
   "codemirror_mode": {
    "name": "ipython",
    "version": 3
   },
   "file_extension": ".py",
   "mimetype": "text/x-python",
   "name": "python",
   "nbconvert_exporter": "python",
   "pygments_lexer": "ipython3",
   "version": "3.7.0"
  }
 },
 "nbformat": 4,
 "nbformat_minor": 2
}
