{
 "cells": [
  {
   "cell_type": "code",
   "execution_count": 72,
   "metadata": {
    "colab": {},
    "colab_type": "code",
    "id": "2BVRzkJYvvww"
   },
   "outputs": [],
   "source": [
    "import copy\n",
    "import pandas as pd\n",
    "import numpy as np\n",
    "\n",
    "import datetime as dt\n",
    "import random\n",
    "import time\n",
    "import math\n",
    "import itertools\n",
    "\n",
    "#import statsmodels.api as sm\n",
    "\n",
    "from IPython.display import clear_output\n",
    "\n",
    "\n",
    "import matplotlib.pyplot as plt\n",
    "import matplotlib.image as mpimg\n",
    "from graphviz import Digraph\n",
    "from scipy.ndimage import shift\n",
    "#import pydot\n",
    "\n",
    "\n",
    "from k2_alg import k2 \n",
    "from k2_alg import gen_clean_df"
   ]
  },
  {
   "cell_type": "code",
   "execution_count": 28,
   "metadata": {
    "colab": {
     "base_uri": "https://localhost:8080/",
     "height": 85
    },
    "colab_type": "code",
    "id": "n1Getoki4DUF",
    "outputId": "fc272523-0489-40ec-deb9-51ae07578b85"
   },
   "outputs": [
    {
     "name": "stdout",
     "output_type": "stream",
     "text": [
      "Requirement already satisfied: graphviz in /home/rute/anaconda3/envs/pesquisa/lib/python3.7/site-packages (0.8.4)\r\n"
     ]
    }
   ],
   "source": [
    "# https://pypi.python.org/pypi/pydot\n",
    "!pip install graphviz"
   ]
  },
  {
   "cell_type": "code",
   "execution_count": 29,
   "metadata": {},
   "outputs": [
    {
     "name": "stdout",
     "output_type": "stream",
     "text": [
      "Requirement already up-to-date: pip in /home/rute/anaconda3/envs/pesquisa/lib/python3.7/site-packages (18.1)\r\n"
     ]
    }
   ],
   "source": [
    "!pip install --upgrade pip\n"
   ]
  },
  {
   "cell_type": "code",
   "execution_count": 2,
   "metadata": {
    "colab": {},
    "colab_type": "code",
    "id": "MENjzHQfvvwz"
   },
   "outputs": [],
   "source": [
    "def get_lim_index(cdf, lim):\n",
    "    summation = 0\n",
    "    index = 0\n",
    "    for i in np.arange(0, cdf.size):\n",
    "        if cdf[i] > lim:\n",
    "            index = i\n",
    "            break\n",
    "    return index "
   ]
  },
  {
   "cell_type": "code",
   "execution_count": 3,
   "metadata": {
    "colab": {},
    "colab_type": "code",
    "id": "59-3a3e3vvw1"
   },
   "outputs": [],
   "source": [
    "def surrogate(a):\n",
    "    a_diff = np.diff(a)\n",
    "    begin = np.where(a_diff > 0)[0]\n",
    "    end = np.where(a_diff < 0)[0]\n",
    "    \n",
    "    if begin.size > end.size:\n",
    "        end = np.append(end, a.size)\n",
    "    elif begin.size < end.size:\n",
    "        begin = np.insert(begin, 0, 0) \n",
    "    elif begin.size == 0 and end.size == 0:\n",
    "        return a.copy()\n",
    "    elif np.all(begin > end):\n",
    "        begin = np.insert(begin, 0, 0)\n",
    "        end = np.append(end, a.size)\n",
    "    \n",
    "    n_seq = np.max([begin.size, end.size])\n",
    "    a_surr = np.zeros(a.shape)\n",
    "    p_seq = np.random.randint(0, a.size - max(end - begin), size=n_seq)\n",
    "    for i in np.random.permutation(n_seq):\n",
    "        len_seq = end[i] - begin[i]\n",
    "        a_surr[p_seq[i]:p_seq[i] + len_seq] = a[begin[i]:end[i]]\n",
    "    return a_surr"
   ]
  },
  {
   "cell_type": "code",
   "execution_count": 4,
   "metadata": {
    "colab": {},
    "colab_type": "code",
    "id": "xITmxUD-vvw3"
   },
   "outputs": [],
   "source": [
    "#Method using stats model kde to return transfer etnropy value limit. That is, the 'x' value corresponding to P95\n",
    "def significance_test(k,l,h,sup_lim, n, a,b):\n",
    "    '''\n",
    "        significance_test(a,b,k,l,h,sup_lim, n)\n",
    "    '''\n",
    "    transferEntropies = []    \n",
    "    \n",
    "    np.random.seed(int(time.time()))\n",
    "    for i in np.arange(0,n):\n",
    "        surrogate_a = surrogate(a.copy())\n",
    "        transferEntropies.append(te(k,l,h,surrogate_a[:],b, 'serie_a', 'serie_b'))\n",
    "        \n",
    "    kde = sm.nonparametric.KDEUnivariate(transferEntropies)\n",
    "    kde.fit()\n",
    "    \n",
    "    \n",
    "    lvl_sig = kde.icdf[get_lim_index(kde.cdf, sup_lim)]\n",
    "    return lvl_sig"
   ]
  },
  {
   "cell_type": "code",
   "execution_count": 5,
   "metadata": {
    "colab": {},
    "colab_type": "code",
    "id": "8H540fy4vvw4"
   },
   "outputs": [],
   "source": [
    "##for paper test\n",
    "def joint_probability_new(k,l,h, a, b, lbl_a, lbl_b):\n",
    "    '''\n",
    "        k B time horizon\n",
    "        l A time horizon\n",
    "        h instant in the future of serie B\n",
    "        \n",
    "        \n",
    "        a, b array type'''\n",
    "    \n",
    "    numStates=2**(k+l+1)\n",
    "    combinations = list(map(list, itertools.product([0, 1], repeat=k+l+1)))\n",
    "    prob_cnjt = np.zeros(numStates)\n",
    "    \n",
    "    #Alarm Series A (cause), B (effect), same len\n",
    "    #teste   \n",
    "\n",
    "    matrix_nova = np.matrix([b[1:],b[:-1],a[:-1]]).T\n",
    "    df = pd.DataFrame(matrix_nova, columns = ['b_ftr', lbl_b, lbl_a])\n",
    "    gpd = df.groupby(['b_ftr', lbl_b, lbl_a], as_index=False).size().reset_index(name='Count')\n",
    "    total = sum(gpd['Count'])\n",
    "    \n",
    "    for i in np.arange(0,gpd.shape[0]):\n",
    "        comb = [e for e in gpd.iloc[i][0:3].values.tolist()]\n",
    "        idx = combinations.index(comb)\n",
    "        prob_cnjt[idx] = gpd.iloc[i]['Count']/total\n",
    "\n",
    "    return prob_cnjt"
   ]
  },
  {
   "cell_type": "code",
   "execution_count": 6,
   "metadata": {
    "colab": {},
    "colab_type": "code",
    "id": "oJ1KZo1Zvvw6"
   },
   "outputs": [],
   "source": [
    "def joint_probability(k,l, h, a, b):\n",
    "    '''\n",
    "        k B time horizon\n",
    "        l A time horizon\n",
    "        h instant in the future of serie B\n",
    "        \n",
    "        a, b array type'''\n",
    "\n",
    "    #Alarm Series A (cause), B (effect), same len\n",
    "    #tested\n",
    "    sizeSeries = a.size\n",
    "    transEntropy = 0\n",
    "    numStates = 2**(k + l  + 1)\n",
    "    combinations = list(map(list, itertools.product([0, 1], repeat=k+l+1)))\n",
    "    counting = np.zeros(numStates)\n",
    "    prob_cnjt = np.zeros(numStates)\n",
    "    a_prob_ind = []\n",
    "    b_prob_ind = []\n",
    "    #joitn probability p(i_sub_t+1), i_sub_t**k, j_sub_t**l)\n",
    "    inicio = np.max([k,l]) - 1\n",
    "    for i in np.arange(inicio, sizeSeries - h):\n",
    "        for hk in np.arange(0,k):\n",
    "                b_prob_ind.append(b[i - hk])\n",
    "        for hl in np.arange(0,l):\n",
    "                a_prob_ind.append(a[i - hl])\n",
    "\n",
    "        #print(a.size, b.size, a.size -1)     \n",
    "        ab = [b[i + h]] + b_prob_ind + a_prob_ind \n",
    "        index_comb = combinations.index(ab)\n",
    "        counting[index_comb] = counting[index_comb] + 1\n",
    "\n",
    "        a_prob_ind = []\n",
    "        b_prob_ind = []\n",
    "\n",
    "    total = sum(counting)\n",
    "  \n",
    "    prob_cnjt = counting/total\n",
    "     \n",
    "    return prob_cnjt"
   ]
  },
  {
   "cell_type": "code",
   "execution_count": 7,
   "metadata": {
    "colab": {},
    "colab_type": "code",
    "id": "kDxNQD_Hvvw9"
   },
   "outputs": [],
   "source": [
    "#Joint probability evaluation p(i_t+h, i_t**k)\n",
    "#tested\n",
    "def joint_prob_ih_ik(k,l, joint_prob_ih_ik_jl):\n",
    "    states_ith_ik = list(map(list, itertools.product([0, 1], repeat=k + 1)))\n",
    "    combinations = list(map(list, itertools.product([0, 1], repeat=k+l+1))) \n",
    "    p_jnt_ith_ik = np.zeros(2**(k+1))\n",
    "    \n",
    "    for i, state in enumerate(states_ith_ik):\n",
    "        for j, comb in enumerate(combinations):\n",
    "            if comb[0:k+1] == state:\n",
    "                p_jnt_ith_ik[i] = p_jnt_ith_ik[i] + joint_prob_ih_ik_jl[j]\n",
    "    return p_jnt_ith_ik"
   ]
  },
  {
   "cell_type": "code",
   "execution_count": 8,
   "metadata": {
    "colab": {},
    "colab_type": "code",
    "id": "mqUnJUDcvvw_"
   },
   "outputs": [],
   "source": [
    "def conditional_prob(k,l,joint_prob):\n",
    "    states = list(map(list, itertools.product([0, 1], repeat=k+l)))\n",
    "    combinations = list(map(list, itertools.product([0, 1], repeat=k+l+1)))\n",
    "\n",
    "    size = int(joint_prob.size/2)\n",
    "    conditional = np.zeros(2**(k+l+1))\n",
    "\n",
    "    for i,state in enumerate(states):\n",
    "        index_zero = combinations.index([0] + state)\n",
    "        prob_zero = joint_prob[index_zero]\n",
    "\n",
    "        index_one = combinations.index([1] + state)\n",
    "        prob_one = joint_prob[index_one]\n",
    "\n",
    "        if(prob_zero + prob_one != 0):\n",
    "            conditional[i] = prob_zero/(prob_zero+ prob_one)\n",
    "            conditional[i + 2**(k+l)] = prob_one/(prob_zero+ prob_one)\n",
    "    return conditional"
   ]
  },
  {
   "cell_type": "code",
   "execution_count": 9,
   "metadata": {
    "colab": {},
    "colab_type": "code",
    "id": "MNFelkuVvvxA"
   },
   "outputs": [],
   "source": [
    "#Division of the conditionals in log2 \n",
    "#tested\n",
    "def conditional_div(k,l,conditional_num, conditional_den):\n",
    "    combinations = list(map(list, itertools.product([0, 1], repeat=k+l+1)))\n",
    "    conditional_division = np.zeros(conditional_num.size)\n",
    "    states_den = list(map(list, itertools.product([0, 1], repeat=1+k)))\n",
    "    for j, comb in enumerate(combinations):\n",
    "        if(conditional_den[states_den.index(comb[0:k+1])] != 0):\n",
    "            conditional_division[j] = conditional_num[j]/conditional_den[states_den.index(comb[0:k+1])]            \n",
    "    return conditional_division"
   ]
  },
  {
   "cell_type": "code",
   "execution_count": 10,
   "metadata": {
    "colab": {},
    "colab_type": "code",
    "id": "dpGL8DlsvvxF"
   },
   "outputs": [],
   "source": [
    "#Transfer entropy final evaluation\n",
    "def te(k,l,h_window, a,b):\n",
    "    '''\n",
    "        transentropy a->b\n",
    "        te(k,l,h,a,b)\n",
    "        k - dimension of b\n",
    "        l - dimension of a\n",
    "        h -> instant in the future of a\n",
    "    '''\n",
    "    #joint_p_ih_ik_jl = joint_probability_new(k,l,h,a,b, lbl_a, lbl_b)\n",
    "    \n",
    "    te_by_h = []\n",
    "    for h in np.arange(1,h_window):\n",
    "      joint_p_ih_ik_jl = joint_probability(k,l,h,a,b)\n",
    "\n",
    "      joint_p_ih_ik = joint_prob_ih_ik(k,l, joint_p_ih_ik_jl)\n",
    "      conditional_num = conditional_prob(k,l,joint_p_ih_ik_jl)\n",
    "      conditional_den = conditional_prob(k,0, joint_p_ih_ik)    \n",
    "      div = conditional_div(k,l,conditional_num, conditional_den)\n",
    "\n",
    "      #log2 from the division of the conditionals -> #p(i_sub_t+h|i_sub_t**k, j_sub_t**l) /p(i_sub_t+h|i_t**k)\n",
    "      log2_div_cond = np.log2(div[div!=0])\n",
    "      te = np.sum(joint_p_ih_ik_jl[div!=0]*log2_div_cond)\n",
    "      \n",
    "      te_by_h.append(te)\n",
    "      lag = np.argmax(te_by_h) + 1\n",
    "    return [max(te_by_h), lag]"
   ]
  },
  {
   "cell_type": "code",
   "execution_count": 11,
   "metadata": {
    "colab": {},
    "colab_type": "code",
    "id": "phi8XuryvvxI"
   },
   "outputs": [],
   "source": [
    "def transferEntropy_case(dist_df, h, k, l):\n",
    "    #start = time.clock()\n",
    "    transEntropy = np.zeros([dist_df.columns.size,dist_df.columns.size])\n",
    "    lagEntropy = np.zeros([dist_df.columns.size,dist_df.columns.size])\n",
    "    sigValues =  np.zeros([dist_df.columns.size,dist_df.columns.size])\n",
    "    for i in np.arange(0, dist_df.columns.size):\n",
    "        for j in np.arange(0, dist_df.columns.size):\n",
    "            print('trans ', dist_df.columns[i], dist_df.columns[j])\n",
    "            if(j != i + dist_df.columns.size/2 and j!=i and j != i - dist_df.columns.size/2):\n",
    "                te_result = te(k,l,h, dist_df[dist_df.columns[i]], dist_df[dist_df.columns[j]])\n",
    "                transEntropy[i][j] = te_result[0]\n",
    "                lagEntropy[i][j] = te_result[1]\n",
    "                \n",
    "            clear_output()\n",
    "    #end = time.clock()   \n",
    "    \n",
    "    #print(end - start)\n",
    "    return [transEntropy, lagEntropy]  "
   ]
  },
  {
   "cell_type": "code",
   "execution_count": 12,
   "metadata": {},
   "outputs": [],
   "source": [
    "def apply_roll_mean(df, window):\n",
    "    roll  = df.copy().rolling(window).mean() \n",
    "    roll.dropna(inplace=True)\n",
    "    roll = roll.round(decimals=0).copy()\n",
    "    roll.reset_index(drop=True, inplace=True)\n",
    "    return roll"
   ]
  },
  {
   "cell_type": "code",
   "execution_count": 13,
   "metadata": {},
   "outputs": [],
   "source": [
    "def graph_simple(df, eng = 'dot'):\n",
    "    edge_style = \"\"\n",
    "    g = Digraph(engine=eng)\n",
    "    in_graph = []\n",
    "    for k, row in enumerate(df.index):\n",
    "        if any(df.loc[row]):\n",
    "            g.node(str(row),row, shape='oval', fontsize='10', width='0', style='filled', fillcolor='#c9c9c9', color=\"gray\")\n",
    "            in_graph.append(row)\n",
    "\n",
    "              \n",
    "    for c, col in enumerate(df.columns):\n",
    "        if any(df[col]):\n",
    "            if col not in in_graph:\n",
    "                g.node(str(col), col, shape='oval', fontsize='10', width='0', style='filled', fillcolor='#c9c9c9', color=\"gray\") \n",
    "\n",
    "    for j, col in enumerate(df.columns):\n",
    "        for i, row in enumerate(df.index):\n",
    "            if(df[col][i]):\n",
    "                g.edge(str(row), str(col), label=str(df.at[row,col]), style= edge_style, color='black')  \n",
    "    return g "
   ]
  },
  {
   "cell_type": "code",
   "execution_count": 14,
   "metadata": {
    "colab": {},
    "colab_type": "code",
    "id": "RR3gnznz4Vx9"
   },
   "outputs": [],
   "source": [
    "def graph(df, df_lag, eng = 'dot'):\n",
    "    edge_style = \"\"\n",
    "    g = Digraph(engine=eng)\n",
    "   \n",
    "    for k, row in enumerate(df.index):\n",
    "        if any(df.iloc[k]) or any(df[row]):\n",
    "            g.node(str(k),row, shape='oval', fontsize='10', width='0', style='filled', fillcolor='#c9c9c9', color=\"gray\") \n",
    "\n",
    "    for j, col in enumerate(df.columns):\n",
    "        for i, row in enumerate(df[col]):\n",
    "            if(row):\n",
    "                te_val  = str(np.round(row, 6))\n",
    "                g.edge(str(i), str(j), label=str(df_lag[df_lag.columns[j]][i]),style= edge_style, color='dark')  \n",
    "    return g "
   ]
  },
  {
   "cell_type": "code",
   "execution_count": 15,
   "metadata": {},
   "outputs": [],
   "source": [
    "def graph_from_dict(dictionary, eng = 'dot'):\n",
    "    edge_style = \"\"\n",
    "    g = Digraph(engine=eng)\n",
    "   \n",
    "    for k, i in dictionary.items():\n",
    "        g.node(str(k),k, shape='oval', fontsize='10', width='0', style='filled', fillcolor='#c9c9c9', color=\"gray\") \n",
    "        df_te.m\n",
    "    for k, i in dictionary.items():\n",
    "        for it in i:\n",
    "            g.edge(str(it), str(k), label='',style= edge_style, color='dark')  \n",
    "    return g "
   ]
  },
  {
   "cell_type": "code",
   "execution_count": 16,
   "metadata": {
    "colab": {},
    "colab_type": "code",
    "id": "t9nN9piiG0aC"
   },
   "outputs": [],
   "source": [
    "def generate_df_valid_corrs(df, limit):\n",
    "    df_valid = df.copy()\n",
    "    for row in df.columns:\n",
    "        for col in df.columns:\n",
    "            if df[row][col] < limit:\n",
    "                df_valid[row][col] = 0\n",
    "                \n",
    "    return df_valid "
   ]
  },
  {
   "cell_type": "code",
   "execution_count": 17,
   "metadata": {},
   "outputs": [],
   "source": [
    "def generate_df_max_info(df):\n",
    "    df_max_info = pd.DataFrame(data = np.zeros([len(df),len(df)]),columns=df.columns, index = df.columns)\n",
    "    for  i,col in enumerate(df.columns):\n",
    "        sort = df[col].sort_values(ascending=False)\n",
    "        df_max_info.loc[sort.index[0]][i] = sort[0]\n",
    "    return df_max_info\n",
    "    "
   ]
  },
  {
   "cell_type": "code",
   "execution_count": 18,
   "metadata": {},
   "outputs": [],
   "source": [
    "def apply_first_diff(df):\n",
    "    dist_diff = df.diff()\n",
    "    dist_diff.clip(lower=0, inplace=True)\n",
    "    dist_diff.dropna(inplace=True)\n",
    "    dist_diff.reset_index(drop=True, inplace=True)\n",
    "    dist_diff = dist_diff.astype(int)\n",
    "    \n",
    "    return dist_diff"
   ]
  },
  {
   "cell_type": "code",
   "execution_count": 19,
   "metadata": {},
   "outputs": [],
   "source": [
    "def rm_smtc_cicle(df):\n",
    "    rm_df = df.copy()\n",
    "    for c, col in enumerate(rm_df.columns):\n",
    "        for r, row in enumerate(rm_df[col]):\n",
    "            simetric_val = rm_df[rm_df.columns[r]][c]\n",
    "            if row and simetric_val:\n",
    "                if simetric_val >= row:\n",
    "                    rm_df[col][r] = 0\n",
    "                else:\n",
    "                    simetric_val = 0\n",
    "    return rm_df\n",
    "                "
   ]
  },
  {
   "cell_type": "code",
   "execution_count": 20,
   "metadata": {},
   "outputs": [],
   "source": [
    "def get_ancestrals(lista, node, lista_nova):\n",
    "    \n",
    "    if not node in lista_nova:\n",
    "        lista_nova.extend([node])\n",
    "            \n",
    "    if not lista[node] or np.all(np.unique(lista[node]) == ['x']):\n",
    "        return lista_nova\n",
    "    else:\n",
    "        for i,no in enumerate(lista[node]): \n",
    "            if no == 'x':\n",
    "                continue\n",
    "            idx = no\n",
    "            node_to_list = [lista[node][i]]\n",
    "            lista[node][i] = 'x'\n",
    "           \n",
    "            if 'x' in lista[no]:\n",
    "                get_ancestrals(lista, idx, lista_nova)   \n",
    "            elif not lista[no]:\n",
    "                lista_nova.extend(node_to_list)\n",
    "                lista[no] = ['x']\n",
    "                continue\n",
    "            else:\n",
    "                lista_nova.extend(node_to_list)\n",
    "                get_ancestrals(lista, idx, lista_nova)             \n",
    "        else:\n",
    "            return get_ancestrals(lista, node, lista_nova)"
   ]
  },
  {
   "cell_type": "code",
   "execution_count": 21,
   "metadata": {},
   "outputs": [
    {
     "name": "stderr",
     "output_type": "stream",
     "text": [
      "/home/rute/anaconda3/lib/python3.7/site-packages/ipykernel_launcher.py:6: FutureWarning: elementwise comparison failed; returning scalar instead, but in the future will perform elementwise comparison\n",
      "  \n"
     ]
    },
    {
     "data": {
      "text/plain": [
       "[2, 0, 1]"
      ]
     },
     "execution_count": 21,
     "metadata": {},
     "output_type": "execute_result"
    }
   ],
   "source": [
    "lista= [[],[0],[0,1],[2]]\n",
    "get_ancestrals(lista, 2, [])"
   ]
  },
  {
   "cell_type": "code",
   "execution_count": 22,
   "metadata": {},
   "outputs": [],
   "source": [
    "def generate_aciclic_graph(grafo_param):\n",
    "    graph_mat = copy.deepcopy(grafo_param)\n",
    "    grafo_ac = np.zeros([len(graph_mat), len(graph_mat)], dtype=float)\n",
    "    ancestrals = [[] for el in np.arange(0, len(graph_mat))]\n",
    "    \n",
    "    max_val = max(graph_mat.flatten().tolist())\n",
    "    idx_max = np.argmax(graph_mat.flatten().tolist())  \n",
    "\n",
    "    while(max_val > 0):\n",
    "        idx_row = int(np.floor(idx_max)/len(graph_mat))\n",
    "        idx_col = idx_max - len(graph_mat)*idx_row\n",
    "\n",
    "        impossible_nodes = []\n",
    "        if ancestrals[idx_row]:\n",
    "            impossible_nodes = get_ancestrals(copy.deepcopy(ancestrals),idx_row, [])\n",
    "            if not idx_col in impossible_nodes:\n",
    "                grafo_ac[idx_row, idx_col] = graph_mat[idx_row, idx_col]\n",
    "                ancestrals[idx_col] += [idx_row] \n",
    "        else:\n",
    "            ancestrals[idx_col] += [idx_row]\n",
    "            grafo_ac[idx_row,idx_col] = max_val\n",
    "\n",
    "        graph_mat[idx_row, idx_col] = 0\n",
    "        max_val = max(graph_mat.flatten().tolist())\n",
    "        idx_max = np.argmax(graph_mat.flatten())\n",
    "    return grafo_ac"
   ]
  },
  {
   "cell_type": "code",
   "execution_count": 23,
   "metadata": {},
   "outputs": [],
   "source": [
    "def get_lags_ances(mat, idx, soma, lista_lags, ref):\n",
    "    \n",
    "    if np.all(mat[:,idx] == np.zeros(len(mat))):\n",
    "        mat[idx] =  [-1 for peso in mat[idx]]\n",
    "        return 0\n",
    "\n",
    "    for i,dad_lag in enumerate(mat[:,idx]):\n",
    "        if dad_lag != 0:\n",
    "            if not np.all(mat[i] == [-1 for peso in mat[i]]):\n",
    "                soma += dad_lag\n",
    "                lista_lags.append((str(i), soma))\n",
    "                get_lags_ances(mat, i, soma, lista_lags, ref)\n",
    "                \n",
    "                soma = 0\n",
    "    return lista_lags\n",
    "        \n",
    "        \n",
    "    "
   ]
  },
  {
   "cell_type": "code",
   "execution_count": 55,
   "metadata": {},
   "outputs": [],
   "source": [
    "def get_lags_ances_df(df, idx, soma, dict_lags, lista, dict_caminhos):\n",
    "    lista.append(idx)\n",
    "    if np.all(df[idx] == np.zeros(len(df))):\n",
    "        return [dict_lags,dict_caminhos]\n",
    "    for i,dad_lag in enumerate(df[idx]):\n",
    "        if dad_lag > 0:\n",
    "          \n",
    "            soma += dad_lag\n",
    "            try:\n",
    "                dict_lags[df.columns[i]].append(soma)\n",
    "                dict_caminhos[df.columns[i]].append(lista)\n",
    "            except:\n",
    "                dict_lags[df.columns[i]] = [soma]\n",
    "                dict_caminhos[df.columns[i]]= [lista]\n",
    "        \n",
    "            get_lags_ances_df(df, df.columns[i], soma, dict_lags, lista[:], dict_caminhos)\n",
    "            soma -= dad_lag\n",
    "            \n",
    "    return [dict_lags, dict_caminhos] "
   ]
  },
  {
   "cell_type": "code",
   "execution_count": 56,
   "metadata": {},
   "outputs": [],
   "source": [
    "def get_all_shifts(nodes, df):\n",
    "    dic = {}\n",
    "    for node in nodes:\n",
    "        df_cp = df.copy()\n",
    "#         if not np.all(mat_cp[node] == np.zeros(len(mat_cp))):\n",
    "        dic[node] = get_lags_ances_df(df_cp, node, 0, {}, [],{})[0]\n",
    "    return dic"
   ]
  },
  {
   "cell_type": "code",
   "execution_count": 52,
   "metadata": {},
   "outputs": [],
   "source": [
    "\n",
    "def gen_tree_from_lags(dici):\n",
    "    tree_k2 = {}\n",
    "    for key_son, value in dici.items():    \n",
    "        if value:\n",
    "            for key_dad, value_dad in value.items():\n",
    "                for i, value in enumerate(value_dad):\n",
    "                    try:\n",
    "                        tree_k2[key_son].append(key_dad+\"-\"+str(i)+\"_\"+str(int(value)))\n",
    "                    except:\n",
    "                         tree_k2[key_son] = [key_dad+\"-\"+str(i)+\"_\"+str(int(value))]\n",
    "                            \n",
    "                    tree_k2[key_dad+\"-\"+str(i)+\"_\"+str(int(value))] = []\n",
    "        else:\n",
    "            tree_k2[key_son] = []\n",
    "    return tree_k2  \n",
    "        \n"
   ]
  },
  {
   "cell_type": "code",
   "execution_count": 51,
   "metadata": {},
   "outputs": [],
   "source": [
    "def gen_df_iteration(df, node, dict_lag):\n",
    "    df_gen = df.copy()\n",
    "    if dict_lag[node]:\n",
    "        for key_dad, values_dad in dict_lag[node].items():\n",
    "            for i, val in enumerate(dict_lag[node][key_dad]): \n",
    "                df_gen[key_dad+\"-\"+str(i)+\"_\"+str(int(val))] = shift(df_gen[key_dad], int(val), order=0, mode='constant', cval=np.NaN)\n",
    "    df_gen.dropna(inplace=True)\n",
    "    return df_gen\n"
   ]
  },
  {
   "cell_type": "code",
   "execution_count": 24,
   "metadata": {
    "colab": {},
    "colab_type": "code",
    "id": "oDS2t1TEzrOX"
   },
   "outputs": [],
   "source": [
    "dist6 = pd.read_csv(\"dist6_3horas_sig/alm_seq.csv\")\n",
    "dist = dist6[['xmeas%02d_low' % x for x in [1,2,3,6,7,8,9,21]] + ['xmeas%02d_high' % x for x in [1,2,3,6,7,8,9,21]]]\n"
   ]
  },
  {
   "cell_type": "code",
   "execution_count": 25,
   "metadata": {},
   "outputs": [],
   "source": [
    "#applying 5 samples mooving mean\n",
    "df_mean5 = apply_roll_mean(dist, 5)\n",
    "df_mean5.to_csv(\"resultados_defesa/alm_seq_m5.csv\")"
   ]
  },
  {
   "cell_type": "code",
   "execution_count": 29,
   "metadata": {},
   "outputs": [],
   "source": [
    "te_matrix = transferEntropy_case(df_mean5, 50, 1,1)"
   ]
  },
  {
   "cell_type": "code",
   "execution_count": 30,
   "metadata": {},
   "outputs": [],
   "source": [
    "#building DF from te matrix\n",
    "t = np.mean(te_matrix[0]) + 3*np.std(te_matrix[0])\n",
    "df_te = pd.DataFrame(te_matrix[0], columns = dist.columns, index= dist.columns)\n",
    "df_te_lag = pd.DataFrame(te_matrix[1], columns = dist.columns, index= dist.columns)"
   ]
  },
  {
   "cell_type": "code",
   "execution_count": 32,
   "metadata": {},
   "outputs": [],
   "source": [
    "df_te.to_csv(\"resultados_defesa/df_te_final_k1l1.csv\")\n",
    "df_te_lag.to_csv(\"resultados_defesa/df_lags_final_k1l1.csv\")"
   ]
  },
  {
   "cell_type": "code",
   "execution_count": 33,
   "metadata": {},
   "outputs": [],
   "source": [
    "te_matrix_44 = transferEntropy_case(df_mean5, 50, 4,4)"
   ]
  },
  {
   "cell_type": "code",
   "execution_count": 34,
   "metadata": {},
   "outputs": [],
   "source": [
    "t44 = np.mean(te_matrix_44[0]) + 3*np.std(te_matrix_44[0])\n",
    "df_te44 = pd.DataFrame(te_matrix_44[0], columns = dist.columns, index= dist.columns)\n",
    "df_te_lag44 = pd.DataFrame(te_matrix_44[1], columns = dist.columns, index= dist.columns)"
   ]
  },
  {
   "cell_type": "code",
   "execution_count": 35,
   "metadata": {},
   "outputs": [],
   "source": [
    "df_te44.to_csv(\"resultados_defesa/df_te_final_k4l4.csv\")\n",
    "df_te_lag44.to_csv(\"resultados_defesa/df_lags_final_k4l4.csv\")"
   ]
  },
  {
   "cell_type": "code",
   "execution_count": 78,
   "metadata": {},
   "outputs": [
    {
     "name": "stderr",
     "output_type": "stream",
     "text": [
      "/home/rute/anaconda3/lib/python3.7/site-packages/ipykernel_launcher.py:6: FutureWarning: elementwise comparison failed; returning scalar instead, but in the future will perform elementwise comparison\n",
      "  \n"
     ]
    },
    {
     "name": "stdout",
     "output_type": "stream",
     "text": [
      "tree_xi  []\n",
      "[]\n",
      "tree_xi  [] \n",
      " j_max  0\n",
      "sigma  False f_ances  -3328.3998392546278 pold  -3328.3998392546278\n",
      "parents  []\n",
      "here  xmeas07_low xmeas01_low\n",
      "here  xmeas07_low xmeas21_low\n",
      "here  xmeas21_high xmeas01_high\n",
      "here  xmeas01_low xmeas07_high\n"
     ]
    }
   ],
   "source": [
    "#-------------------Teste do k=1,l=1---------------------------\n",
    "#aplicar threshold\n",
    "te_k1l1 = generate_df_valid_corrs(df_te, t)\n",
    "#remover ciclos\n",
    "te_k1l1_no_cycle = pd.DataFrame (data = generate_aciclic_graph(te_k1l1.values), columns=te_k1l1.columns, index=te_k1l1.columns)\n",
    "\n",
    "#passar a utilizar o grafo de lags ao invés do de TE\n",
    "\n",
    "te_lags_no_cycle = df_te_lag[te_k1l1_no_cycle > 0].fillna(0)\n",
    "\n",
    "#computar todos os ancestrais (comuns e virtuais)\n",
    "\n",
    "dict_ancestors = get_all_shifts(te_lags_no_cycle.columns, te_lags_no_cycle)\n",
    "\n",
    "\n",
    "#gerar arvore do k2\n",
    "k2_k1l1_tree = gen_tree_from_lags(dict_ancestors)\n",
    "\n",
    "#gerar calcular k2\n",
    "\n",
    "k2_result = k2(df_mean5, k2_k1l1_tree, te_lags_no_cycle, 0.7)\n",
    "\n",
    "#reconstruir grafo\n",
    "\n",
    "k2_rebuild = gen_clean_df(te_lags_no_cycle, k2_result)\n",
    "\n",
    "#trocar valores do k2 rebuild pelos lags corretos\n",
    "\n",
    "graph_final = te_lags_no_cycle[k2_rebuild>0].fillna(0)"
   ]
  },
  {
   "cell_type": "code",
   "execution_count": 60,
   "metadata": {},
   "outputs": [
    {
     "data": {
      "image/svg+xml": [
       "<?xml version=\"1.0\" encoding=\"UTF-8\" standalone=\"no\"?>\n",
       "<!DOCTYPE svg PUBLIC \"-//W3C//DTD SVG 1.1//EN\"\n",
       " \"http://www.w3.org/Graphics/SVG/1.1/DTD/svg11.dtd\">\n",
       "<!-- Generated by graphviz version 2.40.1 (20161225.0304)\n",
       " -->\n",
       "<!-- Title: %3 Pages: 1 -->\n",
       "<svg width=\"311pt\" height=\"218pt\"\n",
       " viewBox=\"0.00 0.00 310.89 218.00\" xmlns=\"http://www.w3.org/2000/svg\" xmlns:xlink=\"http://www.w3.org/1999/xlink\">\n",
       "<g id=\"graph0\" class=\"graph\" transform=\"scale(1 1) rotate(0) translate(4 214)\">\n",
       "<title>%3</title>\n",
       "<polygon fill=\"#ffffff\" stroke=\"transparent\" points=\"-4,4 -4,-214 306.8881,-214 306.8881,4 -4,4\"/>\n",
       "<!-- xmeas01_low -->\n",
       "<g id=\"node1\" class=\"node\">\n",
       "<title>xmeas01_low</title>\n",
       "<ellipse fill=\"#c9c9c9\" stroke=\"#c0c0c0\" cx=\"154.327\" cy=\"-105\" rx=\"43.6222\" ry=\"18\"/>\n",
       "<text text-anchor=\"middle\" x=\"154.327\" y=\"-102.5\" font-family=\"Times,serif\" font-size=\"10.00\" fill=\"#000000\">xmeas01_low</text>\n",
       "</g>\n",
       "<!-- xmeas07_high -->\n",
       "<g id=\"node6\" class=\"node\">\n",
       "<title>xmeas07_high</title>\n",
       "<ellipse fill=\"#c9c9c9\" stroke=\"#c0c0c0\" cx=\"154.327\" cy=\"-18\" rx=\"45.1548\" ry=\"18\"/>\n",
       "<text text-anchor=\"middle\" x=\"154.327\" y=\"-15.5\" font-family=\"Times,serif\" font-size=\"10.00\" fill=\"#000000\">xmeas07_high</text>\n",
       "</g>\n",
       "<!-- xmeas01_low&#45;&gt;xmeas07_high -->\n",
       "<g id=\"edge4\" class=\"edge\">\n",
       "<title>xmeas01_low&#45;&gt;xmeas07_high</title>\n",
       "<path fill=\"none\" stroke=\"#000000\" d=\"M154.327,-86.9735C154.327,-75.1918 154.327,-59.5607 154.327,-46.1581\"/>\n",
       "<polygon fill=\"#000000\" stroke=\"#000000\" points=\"157.8271,-46.0033 154.327,-36.0034 150.8271,-46.0034 157.8271,-46.0033\"/>\n",
       "<text text-anchor=\"middle\" x=\"166.827\" y=\"-57.8\" font-family=\"Times,serif\" font-size=\"14.00\" fill=\"#000000\">49.0</text>\n",
       "</g>\n",
       "<!-- xmeas07_low -->\n",
       "<g id=\"node2\" class=\"node\">\n",
       "<title>xmeas07_low</title>\n",
       "<ellipse fill=\"#c9c9c9\" stroke=\"#c0c0c0\" cx=\"207.327\" cy=\"-192\" rx=\"43.6222\" ry=\"18\"/>\n",
       "<text text-anchor=\"middle\" x=\"207.327\" y=\"-189.5\" font-family=\"Times,serif\" font-size=\"10.00\" fill=\"#000000\">xmeas07_low</text>\n",
       "</g>\n",
       "<!-- xmeas07_low&#45;&gt;xmeas01_low -->\n",
       "<g id=\"edge1\" class=\"edge\">\n",
       "<title>xmeas07_low&#45;&gt;xmeas01_low</title>\n",
       "<path fill=\"none\" stroke=\"#000000\" d=\"M196.6017,-174.3943C189.0587,-162.0124 178.8348,-145.2297 170.3309,-131.2704\"/>\n",
       "<polygon fill=\"#000000\" stroke=\"#000000\" points=\"173.2281,-129.2987 165.0364,-122.5796 167.25,-132.9406 173.2281,-129.2987\"/>\n",
       "<text text-anchor=\"middle\" x=\"196.827\" y=\"-144.8\" font-family=\"Times,serif\" font-size=\"14.00\" fill=\"#000000\">45.0</text>\n",
       "</g>\n",
       "<!-- xmeas21_low -->\n",
       "<g id=\"node4\" class=\"node\">\n",
       "<title>xmeas21_low</title>\n",
       "<ellipse fill=\"#c9c9c9\" stroke=\"#c0c0c0\" cx=\"259.327\" cy=\"-105\" rx=\"43.6222\" ry=\"18\"/>\n",
       "<text text-anchor=\"middle\" x=\"259.327\" y=\"-102.5\" font-family=\"Times,serif\" font-size=\"10.00\" fill=\"#000000\">xmeas21_low</text>\n",
       "</g>\n",
       "<!-- xmeas07_low&#45;&gt;xmeas21_low -->\n",
       "<g id=\"edge2\" class=\"edge\">\n",
       "<title>xmeas07_low&#45;&gt;xmeas21_low</title>\n",
       "<path fill=\"none\" stroke=\"#000000\" d=\"M217.85,-174.3943C225.2507,-162.0124 235.2817,-145.2297 243.6252,-131.2704\"/>\n",
       "<polygon fill=\"#000000\" stroke=\"#000000\" points=\"246.6935,-132.9589 248.8197,-122.5796 240.685,-129.3675 246.6935,-132.9589\"/>\n",
       "<text text-anchor=\"middle\" x=\"248.827\" y=\"-144.8\" font-family=\"Times,serif\" font-size=\"14.00\" fill=\"#000000\">43.0</text>\n",
       "</g>\n",
       "<!-- xmeas21_high -->\n",
       "<g id=\"node3\" class=\"node\">\n",
       "<title>xmeas21_high</title>\n",
       "<ellipse fill=\"#c9c9c9\" stroke=\"#c0c0c0\" cx=\"46.327\" cy=\"-105\" rx=\"45.1548\" ry=\"18\"/>\n",
       "<text text-anchor=\"middle\" x=\"46.327\" y=\"-102.5\" font-family=\"Times,serif\" font-size=\"10.00\" fill=\"#000000\">xmeas21_high</text>\n",
       "</g>\n",
       "<!-- xmeas01_high -->\n",
       "<g id=\"node5\" class=\"node\">\n",
       "<title>xmeas01_high</title>\n",
       "<ellipse fill=\"#c9c9c9\" stroke=\"#c0c0c0\" cx=\"45.327\" cy=\"-18\" rx=\"45.1548\" ry=\"18\"/>\n",
       "<text text-anchor=\"middle\" x=\"45.327\" y=\"-15.5\" font-family=\"Times,serif\" font-size=\"10.00\" fill=\"#000000\">xmeas01_high</text>\n",
       "</g>\n",
       "<!-- xmeas21_high&#45;&gt;xmeas01_high -->\n",
       "<g id=\"edge3\" class=\"edge\">\n",
       "<title>xmeas21_high&#45;&gt;xmeas01_high</title>\n",
       "<path fill=\"none\" stroke=\"#000000\" d=\"M46.1198,-86.9735C45.9844,-75.1918 45.8048,-59.5607 45.6507,-46.1581\"/>\n",
       "<polygon fill=\"#000000\" stroke=\"#000000\" points=\"49.1488,-45.9624 45.534,-36.0034 42.1492,-46.043 49.1488,-45.9624\"/>\n",
       "<text text-anchor=\"middle\" x=\"58.827\" y=\"-57.8\" font-family=\"Times,serif\" font-size=\"14.00\" fill=\"#000000\">46.0</text>\n",
       "</g>\n",
       "<!-- xmeas21_high&#45;&gt;xmeas07_high -->\n",
       "<g id=\"edge5\" class=\"edge\">\n",
       "<title>xmeas21_high&#45;&gt;xmeas07_high</title>\n",
       "<path fill=\"none\" stroke=\"#000000\" d=\"M66.3879,-88.8399C83.1795,-75.3133 107.3341,-55.8554 126.0811,-40.7537\"/>\n",
       "<polygon fill=\"#000000\" stroke=\"#000000\" points=\"128.4152,-43.3678 134.0071,-34.3688 124.0239,-37.9165 128.4152,-43.3678\"/>\n",
       "<text text-anchor=\"middle\" x=\"119.827\" y=\"-57.8\" font-family=\"Times,serif\" font-size=\"14.00\" fill=\"#000000\">49.0</text>\n",
       "</g>\n",
       "</g>\n",
       "</svg>\n"
      ],
      "text/plain": [
       "<graphviz.dot.Digraph at 0x7f4859f85f28>"
      ]
     },
     "execution_count": 60,
     "metadata": {},
     "output_type": "execute_result"
    }
   ],
   "source": [
    "graph_simple(te_lags_no_cycle)"
   ]
  },
  {
   "cell_type": "code",
   "execution_count": 79,
   "metadata": {},
   "outputs": [
    {
     "data": {
      "image/svg+xml": [
       "<?xml version=\"1.0\" encoding=\"UTF-8\" standalone=\"no\"?>\n",
       "<!DOCTYPE svg PUBLIC \"-//W3C//DTD SVG 1.1//EN\"\n",
       " \"http://www.w3.org/Graphics/SVG/1.1/DTD/svg11.dtd\">\n",
       "<!-- Generated by graphviz version 2.40.1 (20161225.0304)\n",
       " -->\n",
       "<!-- Title: %3 Pages: 1 -->\n",
       "<svg width=\"311pt\" height=\"218pt\"\n",
       " viewBox=\"0.00 0.00 310.65 218.00\" xmlns=\"http://www.w3.org/2000/svg\" xmlns:xlink=\"http://www.w3.org/1999/xlink\">\n",
       "<g id=\"graph0\" class=\"graph\" transform=\"scale(1 1) rotate(0) translate(4 214)\">\n",
       "<title>%3</title>\n",
       "<polygon fill=\"#ffffff\" stroke=\"transparent\" points=\"-4,4 -4,-214 306.6541,-214 306.6541,4 -4,4\"/>\n",
       "<!-- xmeas01_low -->\n",
       "<g id=\"node1\" class=\"node\">\n",
       "<title>xmeas01_low</title>\n",
       "<ellipse fill=\"#c9c9c9\" stroke=\"#c0c0c0\" cx=\"45.327\" cy=\"-105\" rx=\"43.6222\" ry=\"18\"/>\n",
       "<text text-anchor=\"middle\" x=\"45.327\" y=\"-102.5\" font-family=\"Times,serif\" font-size=\"10.00\" fill=\"#000000\">xmeas01_low</text>\n",
       "</g>\n",
       "<!-- xmeas07_high -->\n",
       "<g id=\"node6\" class=\"node\">\n",
       "<title>xmeas07_high</title>\n",
       "<ellipse fill=\"#c9c9c9\" stroke=\"#c0c0c0\" cx=\"45.327\" cy=\"-18\" rx=\"45.1548\" ry=\"18\"/>\n",
       "<text text-anchor=\"middle\" x=\"45.327\" y=\"-15.5\" font-family=\"Times,serif\" font-size=\"10.00\" fill=\"#000000\">xmeas07_high</text>\n",
       "</g>\n",
       "<!-- xmeas01_low&#45;&gt;xmeas07_high -->\n",
       "<g id=\"edge4\" class=\"edge\">\n",
       "<title>xmeas01_low&#45;&gt;xmeas07_high</title>\n",
       "<path fill=\"none\" stroke=\"#000000\" d=\"M45.327,-86.9735C45.327,-75.1918 45.327,-59.5607 45.327,-46.1581\"/>\n",
       "<polygon fill=\"#000000\" stroke=\"#000000\" points=\"48.8271,-46.0033 45.327,-36.0034 41.8271,-46.0034 48.8271,-46.0033\"/>\n",
       "<text text-anchor=\"middle\" x=\"57.827\" y=\"-57.8\" font-family=\"Times,serif\" font-size=\"14.00\" fill=\"#000000\">49.0</text>\n",
       "</g>\n",
       "<!-- xmeas07_low -->\n",
       "<g id=\"node2\" class=\"node\">\n",
       "<title>xmeas07_low</title>\n",
       "<ellipse fill=\"#c9c9c9\" stroke=\"#c0c0c0\" cx=\"112.327\" cy=\"-192\" rx=\"43.6222\" ry=\"18\"/>\n",
       "<text text-anchor=\"middle\" x=\"112.327\" y=\"-189.5\" font-family=\"Times,serif\" font-size=\"10.00\" fill=\"#000000\">xmeas07_low</text>\n",
       "</g>\n",
       "<!-- xmeas07_low&#45;&gt;xmeas01_low -->\n",
       "<g id=\"edge1\" class=\"edge\">\n",
       "<title>xmeas07_low&#45;&gt;xmeas01_low</title>\n",
       "<path fill=\"none\" stroke=\"#000000\" d=\"M99.09,-174.8116C89.2711,-162.0616 75.732,-144.481 64.6972,-130.1523\"/>\n",
       "<polygon fill=\"#000000\" stroke=\"#000000\" points=\"67.4111,-127.94 58.5366,-122.1527 61.8651,-132.2111 67.4111,-127.94\"/>\n",
       "<text text-anchor=\"middle\" x=\"95.827\" y=\"-144.8\" font-family=\"Times,serif\" font-size=\"14.00\" fill=\"#000000\">45.0</text>\n",
       "</g>\n",
       "<!-- xmeas21_low -->\n",
       "<g id=\"node4\" class=\"node\">\n",
       "<title>xmeas21_low</title>\n",
       "<ellipse fill=\"#c9c9c9\" stroke=\"#c0c0c0\" cx=\"150.327\" cy=\"-105\" rx=\"43.6222\" ry=\"18\"/>\n",
       "<text text-anchor=\"middle\" x=\"150.327\" y=\"-102.5\" font-family=\"Times,serif\" font-size=\"10.00\" fill=\"#000000\">xmeas21_low</text>\n",
       "</g>\n",
       "<!-- xmeas07_low&#45;&gt;xmeas21_low -->\n",
       "<g id=\"edge2\" class=\"edge\">\n",
       "<title>xmeas07_low&#45;&gt;xmeas21_low</title>\n",
       "<path fill=\"none\" stroke=\"#000000\" d=\"M120.2007,-173.9735C125.4486,-161.9585 132.4452,-145.9401 138.3747,-132.3646\"/>\n",
       "<polygon fill=\"#000000\" stroke=\"#000000\" points=\"141.6682,-133.5683 142.4635,-123.0034 135.2534,-130.7664 141.6682,-133.5683\"/>\n",
       "<text text-anchor=\"middle\" x=\"146.827\" y=\"-144.8\" font-family=\"Times,serif\" font-size=\"14.00\" fill=\"#000000\">43.0</text>\n",
       "</g>\n",
       "<!-- xmeas21_high -->\n",
       "<g id=\"node3\" class=\"node\">\n",
       "<title>xmeas21_high</title>\n",
       "<ellipse fill=\"#c9c9c9\" stroke=\"#c0c0c0\" cx=\"257.327\" cy=\"-192\" rx=\"45.1548\" ry=\"18\"/>\n",
       "<text text-anchor=\"middle\" x=\"257.327\" y=\"-189.5\" font-family=\"Times,serif\" font-size=\"10.00\" fill=\"#000000\">xmeas21_high</text>\n",
       "</g>\n",
       "<!-- xmeas01_high -->\n",
       "<g id=\"node5\" class=\"node\">\n",
       "<title>xmeas01_high</title>\n",
       "<ellipse fill=\"#c9c9c9\" stroke=\"#c0c0c0\" cx=\"257.327\" cy=\"-105\" rx=\"45.1548\" ry=\"18\"/>\n",
       "<text text-anchor=\"middle\" x=\"257.327\" y=\"-102.5\" font-family=\"Times,serif\" font-size=\"10.00\" fill=\"#000000\">xmeas01_high</text>\n",
       "</g>\n",
       "<!-- xmeas21_high&#45;&gt;xmeas01_high -->\n",
       "<g id=\"edge3\" class=\"edge\">\n",
       "<title>xmeas21_high&#45;&gt;xmeas01_high</title>\n",
       "<path fill=\"none\" stroke=\"#000000\" d=\"M257.327,-173.9735C257.327,-162.1918 257.327,-146.5607 257.327,-133.1581\"/>\n",
       "<polygon fill=\"#000000\" stroke=\"#000000\" points=\"260.8271,-133.0033 257.327,-123.0034 253.8271,-133.0034 260.8271,-133.0033\"/>\n",
       "<text text-anchor=\"middle\" x=\"269.827\" y=\"-144.8\" font-family=\"Times,serif\" font-size=\"14.00\" fill=\"#000000\">46.0</text>\n",
       "</g>\n",
       "</g>\n",
       "</svg>\n"
      ],
      "text/plain": [
       "<graphviz.dot.Digraph at 0x7f48596bb2b0>"
      ]
     },
     "execution_count": 79,
     "metadata": {},
     "output_type": "execute_result"
    }
   ],
   "source": [
    "graph_simple(graph_final)"
   ]
  },
  {
   "cell_type": "code",
   "execution_count": null,
   "metadata": {},
   "outputs": [],
   "source": []
  },
  {
   "cell_type": "code",
   "execution_count": 80,
   "metadata": {},
   "outputs": [
    {
     "name": "stderr",
     "output_type": "stream",
     "text": [
      "/home/rute/anaconda3/lib/python3.7/site-packages/ipykernel_launcher.py:6: FutureWarning: elementwise comparison failed; returning scalar instead, but in the future will perform elementwise comparison\n",
      "  \n"
     ]
    },
    {
     "name": "stdout",
     "output_type": "stream",
     "text": [
      "tree_xi  []\n",
      "[]\n",
      "tree_xi  [] \n",
      " j_max  0\n",
      "sigma  False f_ances  -3328.3998392546278 pold  -3328.3998392546278\n",
      "parents  []\n",
      "here  xmeas07_low xmeas21_low\n",
      "here  xmeas21_high xmeas01_high\n",
      "here  xmeas01_low xmeas07_high\n"
     ]
    }
   ],
   "source": [
    "#-------------------Teste do k=4,l=4---------------------------\n",
    "#aplicar threshold\n",
    "te_k4l4 = generate_df_valid_corrs(df_te44, t44)\n",
    "#remover ciclos\n",
    "te_k4l4_no_cycle = pd.DataFrame (data = generate_aciclic_graph(te_k4l4.values), columns=te_k4l4.columns, index=te_k4l4.columns)\n",
    "\n",
    "#passar a utilizar o grafo de lags ao invés do de TE\n",
    "\n",
    "te_lags_no_cycle44 = df_te_lag44[te_k4l4_no_cycle > 0].fillna(0)\n",
    "\n",
    "#computar todos os ancestrais (comuns e virtuais)\n",
    "\n",
    "dict_ancestors_44 = get_all_shifts(te_lags_no_cycle44.columns, te_lags_no_cycle44)\n",
    "\n",
    "\n",
    "#gerar arvore do k2\n",
    "k2_k4l4_tree = gen_tree_from_lags(dict_ancestors_44)\n",
    "\n",
    "#gerar calcular k2\n",
    "\n",
    "k2_result_44 = k2(df_mean5, k2_k4l4_tree, te_lags_no_cycle44, 0.7)\n",
    "\n",
    "#reconstruir grafo\n",
    "\n",
    "k2_rebuild_44 = gen_clean_df(te_lags_no_cycle44, k2_result_44)\n",
    "\n",
    "#trocar valores do k2 rebuild pelos lags corretos\n",
    "\n",
    "graph_final_44 = te_lags_no_cycle[k2_rebuild_44>0].fillna(0)"
   ]
  },
  {
   "cell_type": "code",
   "execution_count": 81,
   "metadata": {},
   "outputs": [
    {
     "data": {
      "image/svg+xml": [
       "<?xml version=\"1.0\" encoding=\"UTF-8\" standalone=\"no\"?>\n",
       "<!DOCTYPE svg PUBLIC \"-//W3C//DTD SVG 1.1//EN\"\n",
       " \"http://www.w3.org/Graphics/SVG/1.1/DTD/svg11.dtd\">\n",
       "<!-- Generated by graphviz version 2.40.1 (20161225.0304)\n",
       " -->\n",
       "<!-- Title: %3 Pages: 1 -->\n",
       "<svg width=\"313pt\" height=\"131pt\"\n",
       " viewBox=\"0.00 0.00 312.89 131.00\" xmlns=\"http://www.w3.org/2000/svg\" xmlns:xlink=\"http://www.w3.org/1999/xlink\">\n",
       "<g id=\"graph0\" class=\"graph\" transform=\"scale(1 1) rotate(0) translate(4 127)\">\n",
       "<title>%3</title>\n",
       "<polygon fill=\"#ffffff\" stroke=\"transparent\" points=\"-4,4 -4,-127 308.8881,-127 308.8881,4 -4,4\"/>\n",
       "<!-- xmeas01_low -->\n",
       "<g id=\"node1\" class=\"node\">\n",
       "<title>xmeas01_low</title>\n",
       "<ellipse fill=\"#c9c9c9\" stroke=\"#c0c0c0\" cx=\"45.327\" cy=\"-105\" rx=\"43.6222\" ry=\"18\"/>\n",
       "<text text-anchor=\"middle\" x=\"45.327\" y=\"-102.5\" font-family=\"Times,serif\" font-size=\"10.00\" fill=\"#000000\">xmeas01_low</text>\n",
       "</g>\n",
       "<!-- xmeas07_high -->\n",
       "<g id=\"node6\" class=\"node\">\n",
       "<title>xmeas07_high</title>\n",
       "<ellipse fill=\"#c9c9c9\" stroke=\"#c0c0c0\" cx=\"45.327\" cy=\"-18\" rx=\"45.1548\" ry=\"18\"/>\n",
       "<text text-anchor=\"middle\" x=\"45.327\" y=\"-15.5\" font-family=\"Times,serif\" font-size=\"10.00\" fill=\"#000000\">xmeas07_high</text>\n",
       "</g>\n",
       "<!-- xmeas01_low&#45;&gt;xmeas07_high -->\n",
       "<g id=\"edge3\" class=\"edge\">\n",
       "<title>xmeas01_low&#45;&gt;xmeas07_high</title>\n",
       "<path fill=\"none\" stroke=\"#000000\" d=\"M45.327,-86.9735C45.327,-75.1918 45.327,-59.5607 45.327,-46.1581\"/>\n",
       "<polygon fill=\"#000000\" stroke=\"#000000\" points=\"48.8271,-46.0033 45.327,-36.0034 41.8271,-46.0034 48.8271,-46.0033\"/>\n",
       "<text text-anchor=\"middle\" x=\"57.827\" y=\"-57.8\" font-family=\"Times,serif\" font-size=\"14.00\" fill=\"#000000\">49.0</text>\n",
       "</g>\n",
       "<!-- xmeas07_low -->\n",
       "<g id=\"node2\" class=\"node\">\n",
       "<title>xmeas07_low</title>\n",
       "<ellipse fill=\"#c9c9c9\" stroke=\"#c0c0c0\" cx=\"261.327\" cy=\"-105\" rx=\"43.6222\" ry=\"18\"/>\n",
       "<text text-anchor=\"middle\" x=\"261.327\" y=\"-102.5\" font-family=\"Times,serif\" font-size=\"10.00\" fill=\"#000000\">xmeas07_low</text>\n",
       "</g>\n",
       "<!-- xmeas21_low -->\n",
       "<g id=\"node4\" class=\"node\">\n",
       "<title>xmeas21_low</title>\n",
       "<ellipse fill=\"#c9c9c9\" stroke=\"#c0c0c0\" cx=\"261.327\" cy=\"-18\" rx=\"43.6222\" ry=\"18\"/>\n",
       "<text text-anchor=\"middle\" x=\"261.327\" y=\"-15.5\" font-family=\"Times,serif\" font-size=\"10.00\" fill=\"#000000\">xmeas21_low</text>\n",
       "</g>\n",
       "<!-- xmeas07_low&#45;&gt;xmeas21_low -->\n",
       "<g id=\"edge1\" class=\"edge\">\n",
       "<title>xmeas07_low&#45;&gt;xmeas21_low</title>\n",
       "<path fill=\"none\" stroke=\"#000000\" d=\"M261.327,-86.9735C261.327,-75.1918 261.327,-59.5607 261.327,-46.1581\"/>\n",
       "<polygon fill=\"#000000\" stroke=\"#000000\" points=\"264.8271,-46.0033 261.327,-36.0034 257.8271,-46.0034 264.8271,-46.0033\"/>\n",
       "<text text-anchor=\"middle\" x=\"273.827\" y=\"-57.8\" font-family=\"Times,serif\" font-size=\"14.00\" fill=\"#000000\">42.0</text>\n",
       "</g>\n",
       "<!-- xmeas21_high -->\n",
       "<g id=\"node3\" class=\"node\">\n",
       "<title>xmeas21_high</title>\n",
       "<ellipse fill=\"#c9c9c9\" stroke=\"#c0c0c0\" cx=\"153.327\" cy=\"-105\" rx=\"45.1548\" ry=\"18\"/>\n",
       "<text text-anchor=\"middle\" x=\"153.327\" y=\"-102.5\" font-family=\"Times,serif\" font-size=\"10.00\" fill=\"#000000\">xmeas21_high</text>\n",
       "</g>\n",
       "<!-- xmeas01_high -->\n",
       "<g id=\"node5\" class=\"node\">\n",
       "<title>xmeas01_high</title>\n",
       "<ellipse fill=\"#c9c9c9\" stroke=\"#c0c0c0\" cx=\"154.327\" cy=\"-18\" rx=\"45.1548\" ry=\"18\"/>\n",
       "<text text-anchor=\"middle\" x=\"154.327\" y=\"-15.5\" font-family=\"Times,serif\" font-size=\"10.00\" fill=\"#000000\">xmeas01_high</text>\n",
       "</g>\n",
       "<!-- xmeas21_high&#45;&gt;xmeas01_high -->\n",
       "<g id=\"edge2\" class=\"edge\">\n",
       "<title>xmeas21_high&#45;&gt;xmeas01_high</title>\n",
       "<path fill=\"none\" stroke=\"#000000\" d=\"M153.5342,-86.9735C153.6697,-75.1918 153.8493,-59.5607 154.0034,-46.1581\"/>\n",
       "<polygon fill=\"#000000\" stroke=\"#000000\" points=\"157.5048,-46.043 154.1201,-36.0034 150.5053,-45.9624 157.5048,-46.043\"/>\n",
       "<text text-anchor=\"middle\" x=\"166.827\" y=\"-57.8\" font-family=\"Times,serif\" font-size=\"14.00\" fill=\"#000000\">46.0</text>\n",
       "</g>\n",
       "<!-- xmeas21_high&#45;&gt;xmeas07_high -->\n",
       "<g id=\"edge4\" class=\"edge\">\n",
       "<title>xmeas21_high&#45;&gt;xmeas07_high</title>\n",
       "<path fill=\"none\" stroke=\"#000000\" d=\"M133.2662,-88.8399C116.4746,-75.3133 92.3199,-55.8554 73.573,-40.7537\"/>\n",
       "<polygon fill=\"#000000\" stroke=\"#000000\" points=\"75.6302,-37.9165 65.647,-34.3688 71.2389,-43.3678 75.6302,-37.9165\"/>\n",
       "<text text-anchor=\"middle\" x=\"118.827\" y=\"-57.8\" font-family=\"Times,serif\" font-size=\"14.00\" fill=\"#000000\">47.0</text>\n",
       "</g>\n",
       "</g>\n",
       "</svg>\n"
      ],
      "text/plain": [
       "<graphviz.dot.Digraph at 0x7f48535c9da0>"
      ]
     },
     "execution_count": 81,
     "metadata": {},
     "output_type": "execute_result"
    }
   ],
   "source": [
    "#------------prints do k=4l=4----------\n",
    "graph_simple(te_lags_no_cycle44)"
   ]
  },
  {
   "cell_type": "code",
   "execution_count": 82,
   "metadata": {},
   "outputs": [
    {
     "data": {
      "image/svg+xml": [
       "<?xml version=\"1.0\" encoding=\"UTF-8\" standalone=\"no\"?>\n",
       "<!DOCTYPE svg PUBLIC \"-//W3C//DTD SVG 1.1//EN\"\n",
       " \"http://www.w3.org/Graphics/SVG/1.1/DTD/svg11.dtd\">\n",
       "<!-- Generated by graphviz version 2.40.1 (20161225.0304)\n",
       " -->\n",
       "<!-- Title: %3 Pages: 1 -->\n",
       "<svg width=\"313pt\" height=\"131pt\"\n",
       " viewBox=\"0.00 0.00 312.65 131.00\" xmlns=\"http://www.w3.org/2000/svg\" xmlns:xlink=\"http://www.w3.org/1999/xlink\">\n",
       "<g id=\"graph0\" class=\"graph\" transform=\"scale(1 1) rotate(0) translate(4 127)\">\n",
       "<title>%3</title>\n",
       "<polygon fill=\"#ffffff\" stroke=\"transparent\" points=\"-4,4 -4,-127 308.6541,-127 308.6541,4 -4,4\"/>\n",
       "<!-- xmeas01_low -->\n",
       "<g id=\"node1\" class=\"node\">\n",
       "<title>xmeas01_low</title>\n",
       "<ellipse fill=\"#c9c9c9\" stroke=\"#c0c0c0\" cx=\"45.327\" cy=\"-105\" rx=\"43.6222\" ry=\"18\"/>\n",
       "<text text-anchor=\"middle\" x=\"45.327\" y=\"-102.5\" font-family=\"Times,serif\" font-size=\"10.00\" fill=\"#000000\">xmeas01_low</text>\n",
       "</g>\n",
       "<!-- xmeas07_high -->\n",
       "<g id=\"node6\" class=\"node\">\n",
       "<title>xmeas07_high</title>\n",
       "<ellipse fill=\"#c9c9c9\" stroke=\"#c0c0c0\" cx=\"45.327\" cy=\"-18\" rx=\"45.1548\" ry=\"18\"/>\n",
       "<text text-anchor=\"middle\" x=\"45.327\" y=\"-15.5\" font-family=\"Times,serif\" font-size=\"10.00\" fill=\"#000000\">xmeas07_high</text>\n",
       "</g>\n",
       "<!-- xmeas01_low&#45;&gt;xmeas07_high -->\n",
       "<g id=\"edge3\" class=\"edge\">\n",
       "<title>xmeas01_low&#45;&gt;xmeas07_high</title>\n",
       "<path fill=\"none\" stroke=\"#000000\" d=\"M45.327,-86.9735C45.327,-75.1918 45.327,-59.5607 45.327,-46.1581\"/>\n",
       "<polygon fill=\"#000000\" stroke=\"#000000\" points=\"48.8271,-46.0033 45.327,-36.0034 41.8271,-46.0034 48.8271,-46.0033\"/>\n",
       "<text text-anchor=\"middle\" x=\"57.827\" y=\"-57.8\" font-family=\"Times,serif\" font-size=\"14.00\" fill=\"#000000\">49.0</text>\n",
       "</g>\n",
       "<!-- xmeas07_low -->\n",
       "<g id=\"node2\" class=\"node\">\n",
       "<title>xmeas07_low</title>\n",
       "<ellipse fill=\"#c9c9c9\" stroke=\"#c0c0c0\" cx=\"152.327\" cy=\"-105\" rx=\"43.6222\" ry=\"18\"/>\n",
       "<text text-anchor=\"middle\" x=\"152.327\" y=\"-102.5\" font-family=\"Times,serif\" font-size=\"10.00\" fill=\"#000000\">xmeas07_low</text>\n",
       "</g>\n",
       "<!-- xmeas21_low -->\n",
       "<g id=\"node4\" class=\"node\">\n",
       "<title>xmeas21_low</title>\n",
       "<ellipse fill=\"#c9c9c9\" stroke=\"#c0c0c0\" cx=\"152.327\" cy=\"-18\" rx=\"43.6222\" ry=\"18\"/>\n",
       "<text text-anchor=\"middle\" x=\"152.327\" y=\"-15.5\" font-family=\"Times,serif\" font-size=\"10.00\" fill=\"#000000\">xmeas21_low</text>\n",
       "</g>\n",
       "<!-- xmeas07_low&#45;&gt;xmeas21_low -->\n",
       "<g id=\"edge1\" class=\"edge\">\n",
       "<title>xmeas07_low&#45;&gt;xmeas21_low</title>\n",
       "<path fill=\"none\" stroke=\"#000000\" d=\"M152.327,-86.9735C152.327,-75.1918 152.327,-59.5607 152.327,-46.1581\"/>\n",
       "<polygon fill=\"#000000\" stroke=\"#000000\" points=\"155.8271,-46.0033 152.327,-36.0034 148.8271,-46.0034 155.8271,-46.0033\"/>\n",
       "<text text-anchor=\"middle\" x=\"164.827\" y=\"-57.8\" font-family=\"Times,serif\" font-size=\"14.00\" fill=\"#000000\">43.0</text>\n",
       "</g>\n",
       "<!-- xmeas21_high -->\n",
       "<g id=\"node3\" class=\"node\">\n",
       "<title>xmeas21_high</title>\n",
       "<ellipse fill=\"#c9c9c9\" stroke=\"#c0c0c0\" cx=\"259.327\" cy=\"-105\" rx=\"45.1548\" ry=\"18\"/>\n",
       "<text text-anchor=\"middle\" x=\"259.327\" y=\"-102.5\" font-family=\"Times,serif\" font-size=\"10.00\" fill=\"#000000\">xmeas21_high</text>\n",
       "</g>\n",
       "<!-- xmeas01_high -->\n",
       "<g id=\"node5\" class=\"node\">\n",
       "<title>xmeas01_high</title>\n",
       "<ellipse fill=\"#c9c9c9\" stroke=\"#c0c0c0\" cx=\"259.327\" cy=\"-18\" rx=\"45.1548\" ry=\"18\"/>\n",
       "<text text-anchor=\"middle\" x=\"259.327\" y=\"-15.5\" font-family=\"Times,serif\" font-size=\"10.00\" fill=\"#000000\">xmeas01_high</text>\n",
       "</g>\n",
       "<!-- xmeas21_high&#45;&gt;xmeas01_high -->\n",
       "<g id=\"edge2\" class=\"edge\">\n",
       "<title>xmeas21_high&#45;&gt;xmeas01_high</title>\n",
       "<path fill=\"none\" stroke=\"#000000\" d=\"M259.327,-86.9735C259.327,-75.1918 259.327,-59.5607 259.327,-46.1581\"/>\n",
       "<polygon fill=\"#000000\" stroke=\"#000000\" points=\"262.8271,-46.0033 259.327,-36.0034 255.8271,-46.0034 262.8271,-46.0033\"/>\n",
       "<text text-anchor=\"middle\" x=\"271.827\" y=\"-57.8\" font-family=\"Times,serif\" font-size=\"14.00\" fill=\"#000000\">46.0</text>\n",
       "</g>\n",
       "</g>\n",
       "</svg>\n"
      ],
      "text/plain": [
       "<graphviz.dot.Digraph at 0x7f48535c95c0>"
      ]
     },
     "execution_count": 82,
     "metadata": {},
     "output_type": "execute_result"
    }
   ],
   "source": [
    "graph_simple(graph_final_44)"
   ]
  },
  {
   "cell_type": "code",
   "execution_count": 83,
   "metadata": {},
   "outputs": [
    {
     "data": {
      "image/svg+xml": [
       "<?xml version=\"1.0\" encoding=\"UTF-8\" standalone=\"no\"?>\n",
       "<!DOCTYPE svg PUBLIC \"-//W3C//DTD SVG 1.1//EN\"\n",
       " \"http://www.w3.org/Graphics/SVG/1.1/DTD/svg11.dtd\">\n",
       "<!-- Generated by graphviz version 2.40.1 (20161225.0304)\n",
       " -->\n",
       "<!-- Title: %3 Pages: 1 -->\n",
       "<svg width=\"311pt\" height=\"218pt\"\n",
       " viewBox=\"0.00 0.00 310.65 218.00\" xmlns=\"http://www.w3.org/2000/svg\" xmlns:xlink=\"http://www.w3.org/1999/xlink\">\n",
       "<g id=\"graph0\" class=\"graph\" transform=\"scale(1 1) rotate(0) translate(4 214)\">\n",
       "<title>%3</title>\n",
       "<polygon fill=\"#ffffff\" stroke=\"transparent\" points=\"-4,4 -4,-214 306.6541,-214 306.6541,4 -4,4\"/>\n",
       "<!-- xmeas01_low -->\n",
       "<g id=\"node1\" class=\"node\">\n",
       "<title>xmeas01_low</title>\n",
       "<ellipse fill=\"#c9c9c9\" stroke=\"#c0c0c0\" cx=\"45.327\" cy=\"-105\" rx=\"43.6222\" ry=\"18\"/>\n",
       "<text text-anchor=\"middle\" x=\"45.327\" y=\"-102.5\" font-family=\"Times,serif\" font-size=\"10.00\" fill=\"#000000\">xmeas01_low</text>\n",
       "</g>\n",
       "<!-- xmeas07_high -->\n",
       "<g id=\"node6\" class=\"node\">\n",
       "<title>xmeas07_high</title>\n",
       "<ellipse fill=\"#c9c9c9\" stroke=\"#c0c0c0\" cx=\"45.327\" cy=\"-18\" rx=\"45.1548\" ry=\"18\"/>\n",
       "<text text-anchor=\"middle\" x=\"45.327\" y=\"-15.5\" font-family=\"Times,serif\" font-size=\"10.00\" fill=\"#000000\">xmeas07_high</text>\n",
       "</g>\n",
       "<!-- xmeas01_low&#45;&gt;xmeas07_high -->\n",
       "<g id=\"edge4\" class=\"edge\">\n",
       "<title>xmeas01_low&#45;&gt;xmeas07_high</title>\n",
       "<path fill=\"none\" stroke=\"#000000\" d=\"M45.327,-86.9735C45.327,-75.1918 45.327,-59.5607 45.327,-46.1581\"/>\n",
       "<polygon fill=\"#000000\" stroke=\"#000000\" points=\"48.8271,-46.0033 45.327,-36.0034 41.8271,-46.0034 48.8271,-46.0033\"/>\n",
       "<text text-anchor=\"middle\" x=\"57.827\" y=\"-57.8\" font-family=\"Times,serif\" font-size=\"14.00\" fill=\"#000000\">49.0</text>\n",
       "</g>\n",
       "<!-- xmeas07_low -->\n",
       "<g id=\"node2\" class=\"node\">\n",
       "<title>xmeas07_low</title>\n",
       "<ellipse fill=\"#c9c9c9\" stroke=\"#c0c0c0\" cx=\"112.327\" cy=\"-192\" rx=\"43.6222\" ry=\"18\"/>\n",
       "<text text-anchor=\"middle\" x=\"112.327\" y=\"-189.5\" font-family=\"Times,serif\" font-size=\"10.00\" fill=\"#000000\">xmeas07_low</text>\n",
       "</g>\n",
       "<!-- xmeas07_low&#45;&gt;xmeas01_low -->\n",
       "<g id=\"edge1\" class=\"edge\">\n",
       "<title>xmeas07_low&#45;&gt;xmeas01_low</title>\n",
       "<path fill=\"none\" stroke=\"#000000\" d=\"M99.09,-174.8116C89.2711,-162.0616 75.732,-144.481 64.6972,-130.1523\"/>\n",
       "<polygon fill=\"#000000\" stroke=\"#000000\" points=\"67.4111,-127.94 58.5366,-122.1527 61.8651,-132.2111 67.4111,-127.94\"/>\n",
       "<text text-anchor=\"middle\" x=\"95.827\" y=\"-144.8\" font-family=\"Times,serif\" font-size=\"14.00\" fill=\"#000000\">45.0</text>\n",
       "</g>\n",
       "<!-- xmeas21_low -->\n",
       "<g id=\"node4\" class=\"node\">\n",
       "<title>xmeas21_low</title>\n",
       "<ellipse fill=\"#c9c9c9\" stroke=\"#c0c0c0\" cx=\"150.327\" cy=\"-105\" rx=\"43.6222\" ry=\"18\"/>\n",
       "<text text-anchor=\"middle\" x=\"150.327\" y=\"-102.5\" font-family=\"Times,serif\" font-size=\"10.00\" fill=\"#000000\">xmeas21_low</text>\n",
       "</g>\n",
       "<!-- xmeas07_low&#45;&gt;xmeas21_low -->\n",
       "<g id=\"edge2\" class=\"edge\">\n",
       "<title>xmeas07_low&#45;&gt;xmeas21_low</title>\n",
       "<path fill=\"none\" stroke=\"#000000\" d=\"M120.2007,-173.9735C125.4486,-161.9585 132.4452,-145.9401 138.3747,-132.3646\"/>\n",
       "<polygon fill=\"#000000\" stroke=\"#000000\" points=\"141.6682,-133.5683 142.4635,-123.0034 135.2534,-130.7664 141.6682,-133.5683\"/>\n",
       "<text text-anchor=\"middle\" x=\"146.827\" y=\"-144.8\" font-family=\"Times,serif\" font-size=\"14.00\" fill=\"#000000\">43.0</text>\n",
       "</g>\n",
       "<!-- xmeas21_high -->\n",
       "<g id=\"node3\" class=\"node\">\n",
       "<title>xmeas21_high</title>\n",
       "<ellipse fill=\"#c9c9c9\" stroke=\"#c0c0c0\" cx=\"257.327\" cy=\"-192\" rx=\"45.1548\" ry=\"18\"/>\n",
       "<text text-anchor=\"middle\" x=\"257.327\" y=\"-189.5\" font-family=\"Times,serif\" font-size=\"10.00\" fill=\"#000000\">xmeas21_high</text>\n",
       "</g>\n",
       "<!-- xmeas01_high -->\n",
       "<g id=\"node5\" class=\"node\">\n",
       "<title>xmeas01_high</title>\n",
       "<ellipse fill=\"#c9c9c9\" stroke=\"#c0c0c0\" cx=\"257.327\" cy=\"-105\" rx=\"45.1548\" ry=\"18\"/>\n",
       "<text text-anchor=\"middle\" x=\"257.327\" y=\"-102.5\" font-family=\"Times,serif\" font-size=\"10.00\" fill=\"#000000\">xmeas01_high</text>\n",
       "</g>\n",
       "<!-- xmeas21_high&#45;&gt;xmeas01_high -->\n",
       "<g id=\"edge3\" class=\"edge\">\n",
       "<title>xmeas21_high&#45;&gt;xmeas01_high</title>\n",
       "<path fill=\"none\" stroke=\"#000000\" d=\"M257.327,-173.9735C257.327,-162.1918 257.327,-146.5607 257.327,-133.1581\"/>\n",
       "<polygon fill=\"#000000\" stroke=\"#000000\" points=\"260.8271,-133.0033 257.327,-123.0034 253.8271,-133.0034 260.8271,-133.0033\"/>\n",
       "<text text-anchor=\"middle\" x=\"269.827\" y=\"-144.8\" font-family=\"Times,serif\" font-size=\"14.00\" fill=\"#000000\">46.0</text>\n",
       "</g>\n",
       "</g>\n",
       "</svg>\n"
      ],
      "text/plain": [
       "<graphviz.dot.Digraph at 0x7f48535c9d30>"
      ]
     },
     "execution_count": 83,
     "metadata": {},
     "output_type": "execute_result"
    }
   ],
   "source": [
    "graph_simple(graph_final)"
   ]
  },
  {
   "cell_type": "code",
   "execution_count": 679,
   "metadata": {},
   "outputs": [],
   "source": [
    "# ##transformar em função\n",
    "\n",
    "# lista_9 = get_lags_ances_df(df_lags_final, 'xmeas01_high',0, {}, [], {})[1]\n",
    "\n",
    "# df_clean = pd.DataFrame(data=np.zeros([len(df_lags_final.columns),len(df_lags_final.columns)], dtype=float), columns= df_lags_final.columns, index= df_lags_final.columns) \n",
    "\n",
    "\n",
    "# count = 0\n",
    "# node_ref = 'xmeas09_high'\n",
    "# idx_ref = 0\n",
    "# node_son = 'xmeas01_high'\n",
    "\n",
    "# path_list = lista_9[node_ref][idx_ref][::-1]\n",
    "# while count < len(lista_9[node_ref][idx_ref][::-1]) -1:\n",
    "\n",
    "#     if len(lista_9[node_ref][idx_ref][::-1]) == 1:\n",
    "#         df_clean.at[node_ref,node_son] = 1\n",
    "#     else:\n",
    "#         df_clean.at[path_list[count], path_list[count+1]] = 1\n",
    "#     count +=1\n",
    "     \n",
    "# df_clean.at[node_ref, path_list[0]] = 1\n",
    "    \n",
    "    "
   ]
  },
  {
   "cell_type": "code",
   "execution_count": 683,
   "metadata": {},
   "outputs": [],
   "source": [
    "# ### teste sintetico\n",
    "\n",
    "\n",
    "# almNum = 3\n",
    "# ocorr = 100\n",
    "# t_sample = 60\n",
    "# base_hour = dt.datetime(2018, 1,9,9,0,0)\n",
    "# occor_num = 0\n",
    "\n",
    "# #Settings alarms\n",
    "# a = np.zeros(1, dtype=int)\n",
    "# ocorr = 10\n",
    "# duration = 120 #120sec\n",
    "# hour_init = base_hour\n",
    "\n",
    "# b = np.zeros(1, dtype=int)\n",
    "# pAb =0.8\n",
    "# delay_b = 60 #seconds\n",
    "# duration_b = 120\n",
    "\n",
    "# c = np.zeros(1, dtype=int)\n",
    "# pAc = 0.9\n",
    "# delay_c = 15 #seconds\n",
    "# duration_c = 120\n",
    "\n",
    "# #Alarm Series Generation, A (cause), B(Effect). C(Effect)\n",
    "# while(occor_num < ocorr): \n",
    "    \n",
    "#     #A generation - begin\n",
    "#     srtd_hour = random.normalvariate(3, 1)\n",
    "#     srtd_hour_begin = hour_init + dt.timedelta(hours=srtd_hour)\n",
    "#     srtd_hour_end = srtd_hour_begin + dt.timedelta(seconds = duration)\n",
    "\n",
    "#     idx_init_a_occor = int(math.ceil((srtd_hour_begin - base_hour).total_seconds()/t_sample))\n",
    "#     idx_end_a_occor = int(math.ceil((srtd_hour_end - base_hour).total_seconds()/t_sample))\n",
    "        \n",
    "#     if(idx_end_a_occor > a.size):\n",
    "#             a.resize(idx_end_a_occor)\n",
    "\n",
    "#     for i in np.arange(idx_init_a_occor, idx_end_a_occor + 1):\n",
    "#         a[i-1] = 1\n",
    "#     #A generation - end\n",
    "         \n",
    "    \n",
    "#     #B generation begin\n",
    "#     srtd_prob_b = random.uniform(0,1)  \n",
    "#     if srtd_prob_b <= pAb:\n",
    "#         srtd_hour_begin_b = srtd_hour_begin + dt.timedelta(hours = delay_b/3600)\n",
    "#         srtd_hour_end_b = srtd_hour_begin_b + dt.timedelta(seconds=duration_b)\n",
    "\n",
    "#         idx_init_b_occor = int(math.ceil((srtd_hour_begin_b - base_hour).total_seconds()/t_sample))\n",
    "#         idx_end_b_occor = int(math.ceil((srtd_hour_end_b - base_hour).total_seconds()/t_sample))\n",
    "\n",
    "#         if(idx_end_b_occor > b.size):\n",
    "#                 b.resize(idx_end_b_occor)\n",
    "\n",
    "#         for j in np.arange(idx_init_b_occor, idx_end_b_occor +1):\n",
    "#             b[j-1] =  1  \n",
    "\n",
    "#     #B generation end\n",
    "\n",
    "#     #C generation begin\n",
    "#     srtd_prob_c = random.uniform(0,1)\n",
    "#     if srtd_prob_c <= pAc:\n",
    "#         srtd_hour_begin_c = srtd_hour_begin + dt.timedelta(hours = delay_b/3600)\n",
    "#         srtd_hour_end_c = srtd_hour_begin_c + dt.timedelta(seconds=duration_c)\n",
    "\n",
    "#         idx_init_c_occor = int(math.ceil((srtd_hour_begin_c - base_hour).total_seconds()/t_sample))\n",
    "#         idx_end_c_occor = int(math.ceil((srtd_hour_end_c - base_hour).total_seconds()/t_sample))\n",
    "        \n",
    "#         if(idx_end_c_occor > c.size):\n",
    "#             c.resize(idx_end_c_occor)\n",
    "\n",
    "#         for j in np.arange(idx_init_c_occor, idx_end_c_occor +1):\n",
    "#             c[j-1] = 1    \n",
    "#     #C generation end\n",
    "    \n",
    "#     hour_init = srtd_hour_begin\n",
    "#     occor_num = occor_num + 1\n",
    "\n",
    "# #Making series the same length\n",
    "# max_len = max(a, b, c, key=len).size\n",
    "# a = np.concatenate([a, np.zeros(max_len - a.size)])\n",
    "# b = np.concatenate([b, np.zeros(max_len - b.size)])\n",
    "# c = np.concatenate([c, np.zeros(max_len - c.size)])"
   ]
  }
 ],
 "metadata": {
  "colab": {
   "name": "TransEntropy.ipynb",
   "provenance": [],
   "toc_visible": true,
   "version": "0.3.2"
  },
  "kernelspec": {
   "display_name": "Python 3",
   "language": "python",
   "name": "python3"
  },
  "language_info": {
   "codemirror_mode": {
    "name": "ipython",
    "version": 3
   },
   "file_extension": ".py",
   "mimetype": "text/x-python",
   "name": "python",
   "nbconvert_exporter": "python",
   "pygments_lexer": "ipython3",
   "version": "3.7.0"
  }
 },
 "nbformat": 4,
 "nbformat_minor": 1
}
