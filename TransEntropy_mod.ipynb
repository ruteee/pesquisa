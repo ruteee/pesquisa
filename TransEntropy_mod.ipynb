{
 "cells": [
  {
   "cell_type": "code",
   "execution_count": 1,
   "metadata": {
    "colab": {},
    "colab_type": "code",
    "id": "2BVRzkJYvvww"
   },
   "outputs": [
    {
     "name": "stdout",
     "output_type": "stream",
     "text": [
      "Requirement already satisfied: graphviz in /home/rute/anaconda3/lib/python3.7/site-packages (0.8.4)\n",
      "Requirement already up-to-date: pip in /home/rute/anaconda3/lib/python3.7/site-packages (18.1)\n"
     ]
    }
   ],
   "source": [
    "import copy\n",
    "import pandas as pd\n",
    "import numpy as np\n",
    "\n",
    "import datetime as dt\n",
    "import random\n",
    "import time\n",
    "import math\n",
    "import itertools\n",
    "\n",
    "#import statsmodels.api as sm\n",
    "\n",
    "from IPython.display import clear_output\n",
    "\n",
    "\n",
    "import matplotlib.pyplot as plt\n",
    "import matplotlib.image as mpimg\n",
    "from graphviz import Digraph\n",
    "from scipy.ndimage import shift\n",
    "#import pydot\n",
    "\n",
    "\n",
    "from k2_alg import k2 \n",
    "from k2_alg import gen_clean_df\n",
    "\n",
    "from scikit_alarm_framework.alarm_generator import set_point"
   ]
  },
  {
   "cell_type": "code",
   "execution_count": 4,
   "metadata": {},
   "outputs": [
    {
     "name": "stdout",
     "output_type": "stream",
     "text": [
      "GitHub user········\n",
      "GitHub password········\n"
     ]
    }
   ],
   "source": [
    "#instalacao sckit alarm\n",
    "from getpass import getpass\n",
    "\n",
    "import os\n",
    "\n",
    "os.environ['GITHUB_AUTH'] = getpass('GitHub user') + ':' + getpass('GitHub password')\n",
    "!pip -q install -e git+https://${GITHUB_AUTH}@github.com/abugim/scikit-alarm-framework.git@develop#egg=scikit-alarm-framework\n"
   ]
  },
  {
   "cell_type": "code",
   "execution_count": 6,
   "metadata": {
    "colab": {
     "base_uri": "https://localhost:8080/",
     "height": 85
    },
    "colab_type": "code",
    "id": "n1Getoki4DUF",
    "outputId": "fc272523-0489-40ec-deb9-51ae07578b85"
   },
   "outputs": [
    {
     "name": "stdout",
     "output_type": "stream",
     "text": [
      "Requirement already satisfied: graphviz in /home/rute/anaconda3/lib/python3.7/site-packages (0.8.4)\r\n"
     ]
    }
   ],
   "source": [
    "# https://pypi.python.org/pypi/pydot\n",
    "!pip install graphviz"
   ]
  },
  {
   "cell_type": "code",
   "execution_count": 7,
   "metadata": {},
   "outputs": [
    {
     "name": "stdout",
     "output_type": "stream",
     "text": [
      "Requirement already up-to-date: pip in /home/rute/anaconda3/lib/python3.7/site-packages (18.1)\r\n"
     ]
    }
   ],
   "source": [
    "!pip install --upgrade pip\n"
   ]
  },
  {
   "cell_type": "code",
   "execution_count": 5,
   "metadata": {
    "colab": {},
    "colab_type": "code",
    "id": "MENjzHQfvvwz"
   },
   "outputs": [],
   "source": [
    "def get_lim_index(cdf, lim):\n",
    "    summation = 0\n",
    "    index = 0\n",
    "    for i in np.arange(0, cdf.size):\n",
    "        if cdf[i] > lim:\n",
    "            index = i\n",
    "            break\n",
    "    return index "
   ]
  },
  {
   "cell_type": "code",
   "execution_count": 8,
   "metadata": {
    "colab": {},
    "colab_type": "code",
    "id": "59-3a3e3vvw1"
   },
   "outputs": [],
   "source": [
    "def surrogate(a):\n",
    "    a_diff = np.diff(a)\n",
    "    begin = np.where(a_diff > 0)[0]\n",
    "    end = np.where(a_diff < 0)[0]\n",
    "    \n",
    "    if begin.size > end.size:\n",
    "        end = np.append(end, a.size)\n",
    "    elif begin.size < end.size:\n",
    "        begin = np.insert(begin, 0, 0) \n",
    "    elif begin.size == 0 and end.size == 0:\n",
    "        return a.copy()\n",
    "    elif np.all(begin > end):\n",
    "        begin = np.insert(begin, 0, 0)\n",
    "        end = np.append(end, a.size)\n",
    "    \n",
    "    n_seq = np.max([begin.size, end.size])\n",
    "    a_surr = np.zeros(a.shape)\n",
    "    p_seq = np.random.randint(0, a.size - max(end - begin), size=n_seq)\n",
    "    for i in np.random.permutation(n_seq):\n",
    "        len_seq = end[i] - begin[i]\n",
    "        a_surr[p_seq[i]:p_seq[i] + len_seq] = a[begin[i]:end[i]]\n",
    "    return a_surr"
   ]
  },
  {
   "cell_type": "code",
   "execution_count": 9,
   "metadata": {
    "colab": {},
    "colab_type": "code",
    "id": "xITmxUD-vvw3"
   },
   "outputs": [],
   "source": [
    "#Method using stats model kde to return transfer etnropy value limit. That is, the 'x' value corresponding to P95\n",
    "def significance_test(k,l,h,sup_lim, n, a,b):\n",
    "    '''\n",
    "        significance_test(a,b,k,l,h,sup_lim, n)\n",
    "    '''\n",
    "    transferEntropies = []    \n",
    "    \n",
    "    np.random.seed(int(time.time()))\n",
    "    for i in np.arange(0,n):\n",
    "        surrogate_a = surrogate(a.copy())\n",
    "        transferEntropies.append(te(k,l,h,surrogate_a[:],b, 'serie_a', 'serie_b'))\n",
    "        \n",
    "    kde = sm.nonparametric.KDEUnivariate(transferEntropies)\n",
    "    kde.fit()\n",
    "    \n",
    "    \n",
    "    lvl_sig = kde.icdf[get_lim_index(kde.cdf, sup_lim)]\n",
    "    return lvl_sig"
   ]
  },
  {
   "cell_type": "code",
   "execution_count": 10,
   "metadata": {
    "colab": {},
    "colab_type": "code",
    "id": "8H540fy4vvw4"
   },
   "outputs": [],
   "source": [
    "##for paper test\n",
    "def joint_probability_new(k,l,h, a, b, lbl_a, lbl_b):\n",
    "    '''\n",
    "        k B time horizon\n",
    "        l A time horizon\n",
    "        h instant in the future of serie B\n",
    "        \n",
    "        \n",
    "        a, b array type'''\n",
    "    \n",
    "    numStates=2**(k+l+1)\n",
    "    combinations = list(map(list, itertools.product([0, 1], repeat=k+l+1)))\n",
    "    prob_cnjt = np.zeros(numStates)\n",
    "    \n",
    "    #Alarm Series A (cause), B (effect), same len\n",
    "    #teste   \n",
    "\n",
    "    matrix_nova = np.matrix([b[1:],b[:-1],a[:-1]]).T\n",
    "    df = pd.DataFrame(matrix_nova, columns = ['b_ftr', lbl_b, lbl_a])\n",
    "    gpd = df.groupby(['b_ftr', lbl_b, lbl_a], as_index=False).size().reset_index(name='Count')\n",
    "    total = sum(gpd['Count'])\n",
    "    \n",
    "    for i in np.arange(0,gpd.shape[0]):\n",
    "        comb = [e for e in gpd.iloc[i][0:3].values.tolist()]\n",
    "        idx = combinations.index(comb)\n",
    "        prob_cnjt[idx] = gpd.iloc[i]['Count']/total\n",
    "\n",
    "    return prob_cnjt"
   ]
  },
  {
   "cell_type": "code",
   "execution_count": 11,
   "metadata": {
    "colab": {},
    "colab_type": "code",
    "id": "oJ1KZo1Zvvw6"
   },
   "outputs": [],
   "source": [
    "def joint_probability(k,l, h, a, b):\n",
    "    '''\n",
    "        k B time horizon\n",
    "        l A time horizon\n",
    "        h instant in the future of serie B\n",
    "        \n",
    "        a, b array type'''\n",
    "\n",
    "    #Alarm Series A (cause), B (effect), same len\n",
    "    #tested\n",
    "    sizeSeries = a.size\n",
    "    transEntropy = 0\n",
    "    numStates = 2**(k + l  + 1)\n",
    "    combinations = list(map(list, itertools.product([0, 1], repeat=k+l+1)))\n",
    "    counting = np.zeros(numStates)\n",
    "    prob_cnjt = np.zeros(numStates)\n",
    "    a_prob_ind = []\n",
    "    b_prob_ind = []\n",
    "    #joitn probability p(i_sub_t+1), i_sub_t**k, j_sub_t**l)\n",
    "    inicio = np.max([k,l]) - 1\n",
    "    for i in np.arange(inicio, sizeSeries - h):\n",
    "        for hk in np.arange(0,k):\n",
    "                b_prob_ind.append(b[i - hk])\n",
    "        for hl in np.arange(0,l):\n",
    "                a_prob_ind.append(a[i - hl])\n",
    "\n",
    "        #print(a.size, b.size, a.size -1)     \n",
    "        ab = [b[i + h]] + b_prob_ind + a_prob_ind \n",
    "        index_comb = combinations.index(ab)\n",
    "        counting[index_comb] = counting[index_comb] + 1\n",
    "\n",
    "        a_prob_ind = []\n",
    "        b_prob_ind = []\n",
    "\n",
    "    total = sum(counting)\n",
    "  \n",
    "    prob_cnjt = counting/total\n",
    "     \n",
    "    return prob_cnjt"
   ]
  },
  {
   "cell_type": "code",
   "execution_count": 12,
   "metadata": {
    "colab": {},
    "colab_type": "code",
    "id": "kDxNQD_Hvvw9"
   },
   "outputs": [],
   "source": [
    "#Joint probability evaluation p(i_t+h, i_t**k)\n",
    "#tested\n",
    "def joint_prob_ih_ik(k,l, joint_prob_ih_ik_jl):\n",
    "    states_ith_ik = list(map(list, itertools.product([0, 1], repeat=k + 1)))\n",
    "    combinations = list(map(list, itertools.product([0, 1], repeat=k+l+1))) \n",
    "    p_jnt_ith_ik = np.zeros(2**(k+1))\n",
    "    \n",
    "    for i, state in enumerate(states_ith_ik):\n",
    "        for j, comb in enumerate(combinations):\n",
    "            if comb[0:k+1] == state:\n",
    "                p_jnt_ith_ik[i] = p_jnt_ith_ik[i] + joint_prob_ih_ik_jl[j]\n",
    "    return p_jnt_ith_ik"
   ]
  },
  {
   "cell_type": "code",
   "execution_count": 13,
   "metadata": {
    "colab": {},
    "colab_type": "code",
    "id": "mqUnJUDcvvw_"
   },
   "outputs": [],
   "source": [
    "def conditional_prob(k,l,joint_prob):\n",
    "    states = list(map(list, itertools.product([0, 1], repeat=k+l)))\n",
    "    combinations = list(map(list, itertools.product([0, 1], repeat=k+l+1)))\n",
    "\n",
    "    size = int(joint_prob.size/2)\n",
    "    conditional = np.zeros(2**(k+l+1))\n",
    "\n",
    "    for i,state in enumerate(states):\n",
    "        index_zero = combinations.index([0] + state)\n",
    "        prob_zero = joint_prob[index_zero]\n",
    "\n",
    "        index_one = combinations.index([1] + state)\n",
    "        prob_one = joint_prob[index_one]\n",
    "\n",
    "        if(prob_zero + prob_one != 0):\n",
    "            conditional[i] = prob_zero/(prob_zero+ prob_one)\n",
    "            conditional[i + 2**(k+l)] = prob_one/(prob_zero+ prob_one)\n",
    "    return conditional"
   ]
  },
  {
   "cell_type": "code",
   "execution_count": 14,
   "metadata": {
    "colab": {},
    "colab_type": "code",
    "id": "MNFelkuVvvxA"
   },
   "outputs": [],
   "source": [
    "#Division of the conditionals in log2 \n",
    "#tested\n",
    "def conditional_div(k,l,conditional_num, conditional_den):\n",
    "    combinations = list(map(list, itertools.product([0, 1], repeat=k+l+1)))\n",
    "    conditional_division = np.zeros(conditional_num.size)\n",
    "    states_den = list(map(list, itertools.product([0, 1], repeat=1+k)))\n",
    "    for j, comb in enumerate(combinations):\n",
    "        if(conditional_den[states_den.index(comb[0:k+1])] != 0):\n",
    "            conditional_division[j] = conditional_num[j]/conditional_den[states_den.index(comb[0:k+1])]            \n",
    "    return conditional_division"
   ]
  },
  {
   "cell_type": "code",
   "execution_count": 15,
   "metadata": {
    "colab": {},
    "colab_type": "code",
    "id": "dpGL8DlsvvxF"
   },
   "outputs": [],
   "source": [
    "#Transfer entropy final evaluation\n",
    "def te(k,l,h_window, a,b):\n",
    "    '''\n",
    "        transentropy a->b\n",
    "        te(k,l,h,a,b)\n",
    "        k - dimension of b\n",
    "        l - dimension of a\n",
    "        h -> instant in the future of a\n",
    "    '''\n",
    "    #joint_p_ih_ik_jl = joint_probability_new(k,l,h,a,b, lbl_a, lbl_b)\n",
    "    \n",
    "    te_by_h = []\n",
    "    for h in np.arange(1,h_window):\n",
    "      joint_p_ih_ik_jl = joint_probability(k,l,h,a,b)\n",
    "\n",
    "      joint_p_ih_ik = joint_prob_ih_ik(k,l, joint_p_ih_ik_jl)\n",
    "      conditional_num = conditional_prob(k,l,joint_p_ih_ik_jl)\n",
    "      conditional_den = conditional_prob(k,0, joint_p_ih_ik)    \n",
    "      div = conditional_div(k,l,conditional_num, conditional_den)\n",
    "\n",
    "      #log2 from the division of the conditionals -> #p(i_sub_t+h|i_sub_t**k, j_sub_t**l) /p(i_sub_t+h|i_t**k)\n",
    "      log2_div_cond = np.log2(div[div!=0])\n",
    "      te = np.sum(joint_p_ih_ik_jl[div!=0]*log2_div_cond)\n",
    "      \n",
    "      te_by_h.append(te)\n",
    "      \n",
    "     #adpatacao para calcular 20 minutos e 30 minutos de janela ao mesmo tempo\n",
    "      te_by_h33 = te_by_h[0:33]\n",
    "      lag = np.argmax(te_by_h) + 1\n",
    "      lag33 = np.argmax(te_by_h33) + 1\n",
    "    return [max(te_by_h33), max(te_by_h),lag33, lag]"
   ]
  },
  {
   "cell_type": "code",
   "execution_count": 16,
   "metadata": {
    "colab": {},
    "colab_type": "code",
    "id": "phi8XuryvvxI"
   },
   "outputs": [],
   "source": [
    "def transferEntropy_case(dist_df, h, k, l):\n",
    "    #start = time.clock()   \n",
    "    #------------adaptcao para retornar transentropy de meia hora e de 20 min---------\n",
    "    \n",
    "    transEntropy33 = np.zeros([dist_df.columns.size,dist_df.columns.size])\n",
    "    lagEntropy33 = np.zeros([dist_df.columns.size,dist_df.columns.size])\n",
    "    \n",
    "    transEntropy = np.zeros([dist_df.columns.size,dist_df.columns.size])\n",
    "    lagEntropy = np.zeros([dist_df.columns.size,dist_df.columns.size])\n",
    "    \n",
    "    sigValues =  np.zeros([dist_df.columns.size,dist_df.columns.size])\n",
    "    for i in np.arange(0, dist_df.columns.size):\n",
    "        for j in np.arange(0, dist_df.columns.size):\n",
    "            print('trans ', dist_df.columns[i], dist_df.columns[j])\n",
    "            if(j != i + dist_df.columns.size/2 and j!=i and j != i - dist_df.columns.size/2):\n",
    "                te_result = te(k,l,h, dist_df[dist_df.columns[i]], dist_df[dist_df.columns[j]])\n",
    "                transEntropy33[i][j] = te_result[0]\n",
    "                lagEntropy33[i][j] = te_result[2]\n",
    "                \n",
    "                transEntropy[i][j] = te_result[1]\n",
    "                lagEntropy[i][j] = te_result[3]\n",
    "                \n",
    "            clear_output()\n",
    "    #end = time.clock()   \n",
    "    \n",
    "    #print(end - start)\n",
    "    return [transEntropy33, lagEntropy33, transEntropy,lagEntropy]  "
   ]
  },
  {
   "cell_type": "code",
   "execution_count": 17,
   "metadata": {},
   "outputs": [],
   "source": [
    "def apply_roll_mean(df, window):\n",
    "    roll  = df.copy().rolling(window).mean() \n",
    "    roll.dropna(inplace=True)\n",
    "    roll = roll.round(decimals=0).copy()\n",
    "    roll.reset_index(drop=True, inplace=True)\n",
    "    return roll"
   ]
  },
  {
   "cell_type": "code",
   "execution_count": 18,
   "metadata": {},
   "outputs": [],
   "source": [
    "def graph_simple(df, eng = 'dot'):\n",
    "    edge_style = \"\"\n",
    "    g = Digraph(engine=eng)\n",
    "    in_graph = []\n",
    "    for k, row in enumerate(df.index):\n",
    "        if any(df.loc[row]):\n",
    "            g.node(str(row),row, shape='oval', fontsize='10', width='0', style='filled', fillcolor='#c9c9c9', color=\"gray\")\n",
    "            in_graph.append(row)\n",
    "\n",
    "              \n",
    "    for c, col in enumerate(df.columns):\n",
    "        if any(df[col]):\n",
    "            if col not in in_graph:\n",
    "                g.node(str(col), col, shape='oval', fontsize='10', width='0', style='filled', fillcolor='#c9c9c9', color=\"gray\") \n",
    "\n",
    "    for j, col in enumerate(df.columns):\n",
    "        for i, row in enumerate(df.index):\n",
    "            if(df[col][i]):\n",
    "                g.edge(str(row), str(col), label=str(df.at[row,col]), style= edge_style, color='black')  \n",
    "    return g "
   ]
  },
  {
   "cell_type": "code",
   "execution_count": 19,
   "metadata": {
    "colab": {},
    "colab_type": "code",
    "id": "RR3gnznz4Vx9"
   },
   "outputs": [],
   "source": [
    "def graph(df, df_lag, eng = 'dot'):\n",
    "    edge_style = \"\"\n",
    "    g = Digraph(engine=eng)\n",
    "   \n",
    "    for k, row in enumerate(df.index):\n",
    "        if any(df.iloc[k]) or any(df[row]):\n",
    "            g.node(str(k),row, shape='oval', fontsize='10', width='0', style='filled', fillcolor='#c9c9c9', color=\"gray\") \n",
    "\n",
    "    for j, col in enumerate(df.columns):\n",
    "        for i, row in enumerate(df[col]):\n",
    "            if(row):\n",
    "                te_val  = str(np.round(row, 6))\n",
    "                g.edge(str(i), str(j), label=str(df_lag[df_lag.columns[j]][i]),style= edge_style, color='dark')  \n",
    "    return g "
   ]
  },
  {
   "cell_type": "code",
   "execution_count": 20,
   "metadata": {},
   "outputs": [],
   "source": [
    "def graph_from_dict(dictionary, eng = 'dot'):\n",
    "    edge_style = \"\"\n",
    "    g = Digraph(engine=eng)\n",
    "   \n",
    "    for k, i in dictionary.items():\n",
    "        g.node(str(k),k, shape='oval', fontsize='10', width='0', style='filled', fillcolor='#c9c9c9', color=\"gray\") \n",
    "        df_te.m\n",
    "    for k, i in dictionary.items():\n",
    "        for it in i:\n",
    "            g.edge(str(it), str(k), label='',style= edge_style, color='dark')  \n",
    "    return g "
   ]
  },
  {
   "cell_type": "code",
   "execution_count": 21,
   "metadata": {
    "colab": {},
    "colab_type": "code",
    "id": "t9nN9piiG0aC"
   },
   "outputs": [],
   "source": [
    "def generate_df_valid_corrs(df, limit):\n",
    "    df_valid = df.copy()\n",
    "    for row in df.columns:\n",
    "        for col in df.columns:\n",
    "            if df[row][col] < limit:\n",
    "                df_valid[row][col] = 0\n",
    "                \n",
    "    return df_valid "
   ]
  },
  {
   "cell_type": "code",
   "execution_count": 22,
   "metadata": {},
   "outputs": [],
   "source": [
    "def generate_df_max_info(df):\n",
    "    df_max_info = pd.DataFrame(data = np.zeros([len(df),len(df)]),columns=df.columns, index = df.columns)\n",
    "    for  i,col in enumerate(df.columns):\n",
    "        sort = df[col].sort_values(ascending=False)\n",
    "        df_max_info.loc[sort.index[0]][i] = sort[0]\n",
    "    return df_max_info\n",
    "    "
   ]
  },
  {
   "cell_type": "code",
   "execution_count": 23,
   "metadata": {},
   "outputs": [],
   "source": [
    "def apply_first_diff(df):\n",
    "    dist_diff = df.diff()\n",
    "    dist_diff.clip(lower=0, inplace=True)\n",
    "    dist_diff.dropna(inplace=True)\n",
    "    dist_diff.reset_index(drop=True, inplace=True)\n",
    "    dist_diff = dist_diff.astype(int)\n",
    "    \n",
    "    return dist_diff"
   ]
  },
  {
   "cell_type": "code",
   "execution_count": 24,
   "metadata": {},
   "outputs": [],
   "source": [
    "def rm_smtc_cicle(df):\n",
    "    rm_df = df.copy()\n",
    "    for c, col in enumerate(rm_df.columns):\n",
    "        for r, row in enumerate(rm_df[col]):\n",
    "            simetric_val = rm_df[rm_df.columns[r]][c]\n",
    "            if row and simetric_val:\n",
    "                if simetric_val >= row:\n",
    "                    rm_df[col][r] = 0\n",
    "                else:\n",
    "                    simetric_val = 0\n",
    "    return rm_df\n",
    "                "
   ]
  },
  {
   "cell_type": "code",
   "execution_count": 25,
   "metadata": {},
   "outputs": [],
   "source": [
    "def get_ancestrals(lista, node, lista_nova):\n",
    "    \n",
    "    if not node in lista_nova:\n",
    "        lista_nova.extend([node])\n",
    "            \n",
    "    if not lista[node] or np.all(np.unique(lista[node]) == ['x']):\n",
    "        return lista_nova\n",
    "    else:\n",
    "        for i,no in enumerate(lista[node]): \n",
    "            if no == 'x':\n",
    "                continue\n",
    "            idx = no\n",
    "            node_to_list = [lista[node][i]]\n",
    "            lista[node][i] = 'x'\n",
    "           \n",
    "            if 'x' in lista[no]:\n",
    "                get_ancestrals(lista, idx, lista_nova)   \n",
    "            elif not lista[no]:\n",
    "                lista_nova.extend(node_to_list)\n",
    "                lista[no] = ['x']\n",
    "                continue\n",
    "            else:\n",
    "                lista_nova.extend(node_to_list)\n",
    "                get_ancestrals(lista, idx, lista_nova)             \n",
    "        else:\n",
    "            return get_ancestrals(lista, node, lista_nova)"
   ]
  },
  {
   "cell_type": "code",
   "execution_count": 26,
   "metadata": {},
   "outputs": [
    {
     "name": "stderr",
     "output_type": "stream",
     "text": [
      "/home/rute/anaconda3/lib/python3.7/site-packages/ipykernel_launcher.py:6: FutureWarning: elementwise comparison failed; returning scalar instead, but in the future will perform elementwise comparison\n",
      "  \n"
     ]
    },
    {
     "data": {
      "text/plain": [
       "[2, 0, 1]"
      ]
     },
     "execution_count": 26,
     "metadata": {},
     "output_type": "execute_result"
    }
   ],
   "source": [
    "lista= [[],[0],[0,1],[2]]\n",
    "get_ancestrals(lista, 2, [])"
   ]
  },
  {
   "cell_type": "code",
   "execution_count": 27,
   "metadata": {},
   "outputs": [],
   "source": [
    "def generate_aciclic_graph(grafo_param):\n",
    "    graph_mat = copy.deepcopy(grafo_param)\n",
    "    grafo_ac = np.zeros([len(graph_mat), len(graph_mat)], dtype=float)\n",
    "    ancestrals = [[] for el in np.arange(0, len(graph_mat))]\n",
    "    \n",
    "    max_val = max(graph_mat.flatten().tolist())\n",
    "    idx_max = np.argmax(graph_mat.flatten().tolist())  \n",
    "\n",
    "    while(max_val > 0):\n",
    "        idx_row = int(np.floor(idx_max)/len(graph_mat))\n",
    "        idx_col = idx_max - len(graph_mat)*idx_row\n",
    "\n",
    "        impossible_nodes = []\n",
    "        if ancestrals[idx_row]:\n",
    "            impossible_nodes = get_ancestrals(copy.deepcopy(ancestrals),idx_row, [])\n",
    "            if not idx_col in impossible_nodes:\n",
    "                grafo_ac[idx_row, idx_col] = graph_mat[idx_row, idx_col]\n",
    "                ancestrals[idx_col] += [idx_row] \n",
    "        else:\n",
    "            ancestrals[idx_col] += [idx_row]\n",
    "            grafo_ac[idx_row,idx_col] = max_val\n",
    "\n",
    "        graph_mat[idx_row, idx_col] = 0\n",
    "        max_val = max(graph_mat.flatten().tolist())\n",
    "        idx_max = np.argmax(graph_mat.flatten())\n",
    "    return grafo_ac"
   ]
  },
  {
   "cell_type": "code",
   "execution_count": 28,
   "metadata": {},
   "outputs": [],
   "source": [
    "def get_lags_ances(mat, idx, soma, lista_lags, ref):\n",
    "    \n",
    "    if np.all(mat[:,idx] == np.zeros(len(mat))):\n",
    "        mat[idx] =  [-1 for peso in mat[idx]]\n",
    "        return 0\n",
    "\n",
    "    for i,dad_lag in enumerate(mat[:,idx]):\n",
    "        if dad_lag != 0:\n",
    "            if not np.all(mat[i] == [-1 for peso in mat[i]]):\n",
    "                soma += dad_lag\n",
    "                lista_lags.append((str(i), soma))\n",
    "                get_lags_ances(mat, i, soma, lista_lags, ref)\n",
    "                \n",
    "                soma = 0\n",
    "    return lista_lags\n",
    "        \n",
    "        \n",
    "    "
   ]
  },
  {
   "cell_type": "code",
   "execution_count": 29,
   "metadata": {},
   "outputs": [],
   "source": [
    "def get_lags_ances_df(df, idx, soma, dict_lags, lista, dict_caminhos):\n",
    "    lista.append(idx)\n",
    "    if np.all(df[idx] == np.zeros(len(df))):\n",
    "        return [dict_lags,dict_caminhos]\n",
    "    for i,dad_lag in enumerate(df[idx]):\n",
    "        if dad_lag > 0:\n",
    "          \n",
    "            soma += dad_lag\n",
    "            try:\n",
    "                dict_lags[df.columns[i]].append(soma)\n",
    "                dict_caminhos[df.columns[i]].append(lista)\n",
    "            except:\n",
    "                dict_lags[df.columns[i]] = [soma]\n",
    "                dict_caminhos[df.columns[i]]= [lista]\n",
    "        \n",
    "            get_lags_ances_df(df, df.columns[i], soma, dict_lags, lista[:], dict_caminhos)\n",
    "            soma -= dad_lag\n",
    "            \n",
    "    return [dict_lags, dict_caminhos] "
   ]
  },
  {
   "cell_type": "code",
   "execution_count": 30,
   "metadata": {},
   "outputs": [],
   "source": [
    "def get_all_shifts(nodes, df):\n",
    "    dic = {}\n",
    "    for node in nodes:\n",
    "        df_cp = df.copy()\n",
    "#         if not np.all(mat_cp[node] == np.zeros(len(mat_cp))):\n",
    "        dic[node] = get_lags_ances_df(df_cp, node, 0, {}, [],{})[0]\n",
    "    return dic"
   ]
  },
  {
   "cell_type": "code",
   "execution_count": 31,
   "metadata": {},
   "outputs": [],
   "source": [
    "\n",
    "def gen_tree_from_lags(dici):\n",
    "    tree_k2 = {}\n",
    "    for key_son, value in dici.items():    \n",
    "        if value:\n",
    "            for key_dad, value_dad in value.items():\n",
    "                for i, value in enumerate(value_dad):\n",
    "                    try:\n",
    "                        tree_k2[key_son].append(key_dad+\"-\"+str(i)+\"_\"+str(int(value)))\n",
    "                    except:\n",
    "                         tree_k2[key_son] = [key_dad+\"-\"+str(i)+\"_\"+str(int(value))]\n",
    "                            \n",
    "                    tree_k2[key_dad+\"-\"+str(i)+\"_\"+str(int(value))] = []\n",
    "        else:\n",
    "            tree_k2[key_son] = []\n",
    "    return tree_k2  \n",
    "        \n"
   ]
  },
  {
   "cell_type": "code",
   "execution_count": 32,
   "metadata": {},
   "outputs": [],
   "source": [
    "def gen_df_iteration(df, node, dict_lag):\n",
    "    df_gen = df.copy()\n",
    "    if dict_lag[node]:\n",
    "        for key_dad, values_dad in dict_lag[node].items():\n",
    "            for i, val in enumerate(dict_lag[node][key_dad]): \n",
    "                df_gen[key_dad+\"-\"+str(i)+\"_\"+str(int(val))] = shift(df_gen[key_dad], int(val), order=0, mode='constant', cval=np.NaN)\n",
    "    df_gen.dropna(inplace=True)\n",
    "    return df_gen\n"
   ]
  },
  {
   "cell_type": "code",
   "execution_count": 33,
   "metadata": {},
   "outputs": [],
   "source": [
    "def apply_methodlogy(df_te, df_lag, dist):\n",
    "    \n",
    "    t = np.mean(df_te.values) + 3*np.std(df_te.values)\n",
    "\n",
    "    #aplicar threshold\n",
    "    te_vld = generate_df_valid_corrs(df_te, t)\n",
    "    #remover ciclos\n",
    "    te_vld_no_cycle = pd.DataFrame (data = generate_aciclic_graph(te_vld.values), columns=te_vld.columns, index=te_vld.columns)\n",
    "\n",
    "    #passar a utilizar o grafo de lags ao invés do de TE\n",
    "\n",
    "    te_vld__lags_no_cycle = df_lag[te_vld_no_cycle > 0].fillna(0)\n",
    "\n",
    "    #computar todos os ancestrais (comuns e virtuais)\n",
    "\n",
    "    dict_ancestors = get_all_shifts(te_vld__lags_no_cycle.columns, te_vld__lags_no_cycle)\n",
    "\n",
    "\n",
    "    #gerar arvore do k2\n",
    "    k2_tree = gen_tree_from_lags(dict_ancestors)\n",
    "\n",
    "    #gerar calcular k2\n",
    "\n",
    "    k2_result = k2(dist, k2_tree, te_vld__lags_no_cycle, 0.7)\n",
    "\n",
    "    #reconstruir grafo\n",
    "\n",
    "    k2_rebuild = gen_clean_df(te_vld__lags_no_cycle, k2_result)\n",
    "\n",
    "    #trocar valores do k2 rebuild pelos lags corretos\n",
    "\n",
    "    graph_final = te_vld__lags_no_cycle[k2_rebuild>0].fillna(0)\n",
    "    return graph_final"
   ]
  },
  {
   "cell_type": "code",
   "execution_count": 35,
   "metadata": {
    "colab": {},
    "colab_type": "code",
    "id": "oDS2t1TEzrOX"
   },
   "outputs": [],
   "source": [
    "dist6 = pd.read_csv(\"dist6_3horas_sig/alm_seq.csv\")\n",
    "dist = dist6[['xmeas%02d_low' % x for x in [1,2,3,6,7,8,9,21]] + ['xmeas%02d_high' % x for x in [1,2,3,6,7,8,9,21]]]\n",
    "\n",
    "df_mean5 = apply_roll_mean(dist, 5)\n",
    "df_mean5.to_csv(\"resultados_defesa/alm_seq_m5.csv\")"
   ]
  },
  {
   "cell_type": "code",
   "execution_count": null,
   "metadata": {},
   "outputs": [],
   "source": []
  },
  {
   "cell_type": "code",
   "execution_count": 36,
   "metadata": {},
   "outputs": [],
   "source": [
    "#-----------geracao dos alarmes para novo dataset----\n",
    "\n",
    "#data processo\n",
    "dist6_novo_proc = pd.read_csv(\"resultados_defesa/dist6_1_10.csv\")\n",
    "dist_novo = dist6_novo_proc[['XMEAS%02d' % x for x in [1,2,3,6,7,8,9,21]]]\n",
    "\n",
    "thresh_high = [0.284,3711.109,4514.069,48.235,2803.033,66.505,122.932,102.527]\n",
    "thresh_low =  [0.249,3597.394,4371.271,46.954,2796.971,63.494,122.867,102.409]\n",
    "\n",
    "\n",
    "#--------------geracao dos alarmes------------\n",
    "high_alarms = set_point.generate(dist_novo, thresh_high)\n",
    "low_alarms = set_point.generate(dist_novo, thresh_low, high=False)\n",
    "\n",
    "#------------------renomenado as colunas-------------\n",
    "\n",
    "high_names = ['x%01d_high' % var for var in [1,2,3,6,7,8,9,21]]\n",
    "low_names =  ['x%01d_low'  % var for var in [1,2,3,6,7,8,9,21]]\n",
    "\n",
    "rename_high = {key:value for key, value in zip(high_alarms.columns,high_names)}\n",
    "rename_low = {key:value for key, value in zip(low_alarms.columns,low_names)}\n",
    "\n",
    "high_alarms = high_alarms.rename(rename_high, axis='columns')\n",
    "low_alarms = low_alarms.rename(rename_low, axis='columns')\n",
    "\n",
    "#----------------------contenando os dois tipos de alrme---------------\n",
    "\n",
    "dist6_novo_alm =  pd.concat([high_alarms, low_alarms], axis=1)\n",
    "dist6_novo_alm.to_csv('resultados_defesa/dist6_novo_alm.csv')"
   ]
  },
  {
   "cell_type": "code",
   "execution_count": 37,
   "metadata": {},
   "outputs": [],
   "source": [
    "#aplicacao da média movel\n",
    "\n",
    "dist6_novo_alm_mean5 = apply_roll_mean(dist6_novo_alm, 5)\n",
    "dist6_novo_alm_mean5.to_csv(\"resultados_defesa/almseq_m5_novo.csv\")\n"
   ]
  },
  {
   "cell_type": "code",
   "execution_count": 40,
   "metadata": {},
   "outputs": [],
   "source": [
    "te_matrix11_novo = transferEntropy_case(dist6_novo_alm_mean5, 50,1,1)"
   ]
  },
  {
   "cell_type": "code",
   "execution_count": 41,
   "metadata": {},
   "outputs": [
    {
     "name": "stderr",
     "output_type": "stream",
     "text": [
      "/home/rute/anaconda3/lib/python3.7/site-packages/ipykernel_launcher.py:6: FutureWarning: elementwise comparison failed; returning scalar instead, but in the future will perform elementwise comparison\n",
      "  \n"
     ]
    },
    {
     "name": "stdout",
     "output_type": "stream",
     "text": [
      "here  x6_low x1_high\n",
      "here  x6_low x7_high\n",
      "here  x6_low x9_high\n",
      "here  x21_high x6_low\n",
      "here  x21_high x7_low\n",
      "here  x21_high x21_low\n"
     ]
    }
   ],
   "source": [
    "#-----------janela de 20 min--------------------------------------------------------\n",
    "t33 = np.mean(te_matrix11_novo[0]) + 3*np.std(te_matrix11_novo[0])\n",
    "\n",
    "df_te_11_33 = pd.DataFrame(te_matrix11_novo[0], columns = dist6_novo_alm.columns, index= dist6_novo_alm.columns)\n",
    "df_te_lag_11_33 = pd.DataFrame(te_matrix11_novo[1], columns = dist6_novo_alm.columns, index= dist6_novo_alm.columns)\n",
    "\n",
    "#---------salvando te e lags----------\n",
    "df_te_11_33.to_csv(\"resultados_defesa/df_te_novo33_k1l1.csv\")\n",
    "df_te_lag_11_33.to_csv(\"resultados_defesa/df_lags_novo33_k1l1.csv\")\n",
    "\n",
    "df_result_33 = apply_methodlogy(df_te_11_33,df_te_lag_11_33, dist6_novo_alm_mean5)"
   ]
  },
  {
   "cell_type": "code",
   "execution_count": 42,
   "metadata": {},
   "outputs": [
    {
     "data": {
      "image/svg+xml": [
       "<?xml version=\"1.0\" encoding=\"UTF-8\" standalone=\"no\"?>\n",
       "<!DOCTYPE svg PUBLIC \"-//W3C//DTD SVG 1.1//EN\"\n",
       " \"http://www.w3.org/Graphics/SVG/1.1/DTD/svg11.dtd\">\n",
       "<!-- Generated by graphviz version 2.40.1 (20161225.0304)\n",
       " -->\n",
       "<!-- Title: %3 Pages: 1 -->\n",
       "<svg width=\"304pt\" height=\"218pt\"\n",
       " viewBox=\"0.00 0.00 304.22 218.00\" xmlns=\"http://www.w3.org/2000/svg\" xmlns:xlink=\"http://www.w3.org/1999/xlink\">\n",
       "<g id=\"graph0\" class=\"graph\" transform=\"scale(1 1) rotate(0) translate(4 214)\">\n",
       "<title>%3</title>\n",
       "<polygon fill=\"#ffffff\" stroke=\"transparent\" points=\"-4,4 -4,-214 300.2209,-214 300.2209,4 -4,4\"/>\n",
       "<!-- x21_high -->\n",
       "<g id=\"node1\" class=\"node\">\n",
       "<title>x21_high</title>\n",
       "<ellipse fill=\"#c9c9c9\" stroke=\"#c0c0c0\" cx=\"184.0218\" cy=\"-192\" rx=\"32.9303\" ry=\"18\"/>\n",
       "<text text-anchor=\"middle\" x=\"184.0218\" y=\"-189.5\" font-family=\"Times,serif\" font-size=\"10.00\" fill=\"#000000\">x21_high</text>\n",
       "</g>\n",
       "<!-- x6_low -->\n",
       "<g id=\"node2\" class=\"node\">\n",
       "<title>x6_low</title>\n",
       "<ellipse fill=\"#c9c9c9\" stroke=\"#c0c0c0\" cx=\"147.0218\" cy=\"-105\" rx=\"28.0137\" ry=\"18\"/>\n",
       "<text text-anchor=\"middle\" x=\"147.0218\" y=\"-102.5\" font-family=\"Times,serif\" font-size=\"10.00\" fill=\"#000000\">x6_low</text>\n",
       "</g>\n",
       "<!-- x21_high&#45;&gt;x6_low -->\n",
       "<g id=\"edge4\" class=\"edge\">\n",
       "<title>x21_high&#45;&gt;x6_low</title>\n",
       "<path fill=\"none\" stroke=\"#000000\" d=\"M176.1119,-174.4644C173.5013,-168.6078 170.6054,-162.0362 168.0218,-156 164.6838,-148.2011 161.1411,-139.6922 157.9352,-131.8987\"/>\n",
       "<polygon fill=\"#000000\" stroke=\"#000000\" points=\"161.1224,-130.4458 154.0952,-122.5168 154.6441,-133.0974 161.1224,-130.4458\"/>\n",
       "<text text-anchor=\"middle\" x=\"180.5218\" y=\"-144.8\" font-family=\"Times,serif\" font-size=\"14.00\" fill=\"#000000\">31.0</text>\n",
       "</g>\n",
       "<!-- x7_low -->\n",
       "<g id=\"node3\" class=\"node\">\n",
       "<title>x7_low</title>\n",
       "<ellipse fill=\"#c9c9c9\" stroke=\"#c0c0c0\" cx=\"243.0218\" cy=\"-105\" rx=\"28.0137\" ry=\"18\"/>\n",
       "<text text-anchor=\"middle\" x=\"243.0218\" y=\"-102.5\" font-family=\"Times,serif\" font-size=\"10.00\" fill=\"#000000\">x7_low</text>\n",
       "</g>\n",
       "<!-- x21_high&#45;&gt;x7_low -->\n",
       "<g id=\"edge5\" class=\"edge\">\n",
       "<title>x21_high&#45;&gt;x7_low</title>\n",
       "<path fill=\"none\" stroke=\"#000000\" d=\"M195.6783,-174.8116C204.3553,-162.0168 216.3313,-144.3572 226.067,-130.0012\"/>\n",
       "<polygon fill=\"#000000\" stroke=\"#000000\" points=\"229.0738,-131.8032 231.7898,-121.5624 223.2804,-127.8743 229.0738,-131.8032\"/>\n",
       "<text text-anchor=\"middle\" x=\"229.5218\" y=\"-144.8\" font-family=\"Times,serif\" font-size=\"14.00\" fill=\"#000000\">29.0</text>\n",
       "</g>\n",
       "<!-- x1_high -->\n",
       "<g id=\"node4\" class=\"node\">\n",
       "<title>x1_high</title>\n",
       "<ellipse fill=\"#c9c9c9\" stroke=\"#c0c0c0\" cx=\"30.0218\" cy=\"-18\" rx=\"30.0436\" ry=\"18\"/>\n",
       "<text text-anchor=\"middle\" x=\"30.0218\" y=\"-15.5\" font-family=\"Times,serif\" font-size=\"10.00\" fill=\"#000000\">x1_high</text>\n",
       "</g>\n",
       "<!-- x6_low&#45;&gt;x1_high -->\n",
       "<g id=\"edge1\" class=\"edge\">\n",
       "<title>x6_low&#45;&gt;x1_high</title>\n",
       "<path fill=\"none\" stroke=\"#000000\" d=\"M127.9413,-91.4424C118.5815,-84.746 107.1659,-76.5106 97.0218,-69 83.6577,-59.1053 68.9418,-47.9346 56.7139,-38.5753\"/>\n",
       "<polygon fill=\"#000000\" stroke=\"#000000\" points=\"58.758,-35.7322 48.6932,-32.4232 54.4977,-41.2865 58.758,-35.7322\"/>\n",
       "<text text-anchor=\"middle\" x=\"109.5218\" y=\"-57.8\" font-family=\"Times,serif\" font-size=\"14.00\" fill=\"#000000\">33.0</text>\n",
       "</g>\n",
       "<!-- x7_high -->\n",
       "<g id=\"node5\" class=\"node\">\n",
       "<title>x7_high</title>\n",
       "<ellipse fill=\"#c9c9c9\" stroke=\"#c0c0c0\" cx=\"108.0218\" cy=\"-18\" rx=\"30.0436\" ry=\"18\"/>\n",
       "<text text-anchor=\"middle\" x=\"108.0218\" y=\"-15.5\" font-family=\"Times,serif\" font-size=\"10.00\" fill=\"#000000\">x7_high</text>\n",
       "</g>\n",
       "<!-- x6_low&#45;&gt;x7_high -->\n",
       "<g id=\"edge2\" class=\"edge\">\n",
       "<title>x6_low&#45;&gt;x7_high</title>\n",
       "<path fill=\"none\" stroke=\"#000000\" d=\"M139.1296,-87.3943C133.6848,-75.2482 126.3417,-58.8674 120.1571,-45.0711\"/>\n",
       "<polygon fill=\"#000000\" stroke=\"#000000\" points=\"123.1867,-43.273 115.9023,-35.5796 116.7991,-46.1364 123.1867,-43.273\"/>\n",
       "<text text-anchor=\"middle\" x=\"142.5218\" y=\"-57.8\" font-family=\"Times,serif\" font-size=\"14.00\" fill=\"#000000\">33.0</text>\n",
       "</g>\n",
       "<!-- x9_high -->\n",
       "<g id=\"node6\" class=\"node\">\n",
       "<title>x9_high</title>\n",
       "<ellipse fill=\"#c9c9c9\" stroke=\"#c0c0c0\" cx=\"186.0218\" cy=\"-18\" rx=\"30.0436\" ry=\"18\"/>\n",
       "<text text-anchor=\"middle\" x=\"186.0218\" y=\"-15.5\" font-family=\"Times,serif\" font-size=\"10.00\" fill=\"#000000\">x9_high</text>\n",
       "</g>\n",
       "<!-- x6_low&#45;&gt;x9_high -->\n",
       "<g id=\"edge3\" class=\"edge\">\n",
       "<title>x6_low&#45;&gt;x9_high</title>\n",
       "<path fill=\"none\" stroke=\"#000000\" d=\"M154.914,-87.3943C160.3588,-75.2482 167.7019,-58.8674 173.8865,-45.0711\"/>\n",
       "<polygon fill=\"#000000\" stroke=\"#000000\" points=\"177.2445,-46.1364 178.1413,-35.5796 170.8569,-43.273 177.2445,-46.1364\"/>\n",
       "<text text-anchor=\"middle\" x=\"181.5218\" y=\"-57.8\" font-family=\"Times,serif\" font-size=\"14.00\" fill=\"#000000\">33.0</text>\n",
       "</g>\n",
       "<!-- x21_low -->\n",
       "<g id=\"node7\" class=\"node\">\n",
       "<title>x21_low</title>\n",
       "<ellipse fill=\"#c9c9c9\" stroke=\"#c0c0c0\" cx=\"265.0218\" cy=\"-18\" rx=\"31.3996\" ry=\"18\"/>\n",
       "<text text-anchor=\"middle\" x=\"265.0218\" y=\"-15.5\" font-family=\"Times,serif\" font-size=\"10.00\" fill=\"#000000\">x21_low</text>\n",
       "</g>\n",
       "<!-- x7_low&#45;&gt;x21_low -->\n",
       "<g id=\"edge6\" class=\"edge\">\n",
       "<title>x7_low&#45;&gt;x21_low</title>\n",
       "<path fill=\"none\" stroke=\"#000000\" d=\"M247.5802,-86.9735C250.589,-75.0751 254.5906,-59.2508 258.0019,-45.7606\"/>\n",
       "<polygon fill=\"#000000\" stroke=\"#000000\" points=\"261.4108,-46.5563 260.4692,-36.0034 254.6244,-44.8401 261.4108,-46.5563\"/>\n",
       "<text text-anchor=\"middle\" x=\"267.5218\" y=\"-57.8\" font-family=\"Times,serif\" font-size=\"14.00\" fill=\"#000000\">33.0</text>\n",
       "</g>\n",
       "</g>\n",
       "</svg>\n"
      ],
      "text/plain": [
       "<graphviz.dot.Digraph at 0x7fb69b74a5f8>"
      ]
     },
     "execution_count": 42,
     "metadata": {},
     "output_type": "execute_result"
    }
   ],
   "source": [
    "graph_simple(df_result_33)"
   ]
  },
  {
   "cell_type": "code",
   "execution_count": 43,
   "metadata": {},
   "outputs": [
    {
     "name": "stderr",
     "output_type": "stream",
     "text": [
      "/home/rute/anaconda3/lib/python3.7/site-packages/ipykernel_launcher.py:6: FutureWarning: elementwise comparison failed; returning scalar instead, but in the future will perform elementwise comparison\n",
      "  \n"
     ]
    },
    {
     "name": "stdout",
     "output_type": "stream",
     "text": [
      "here  x6_low x1_high\n",
      "here  x6_low x7_high\n",
      "here  x21_high x6_low\n",
      "here  x21_high x7_low\n",
      "here  x21_high x21_low\n"
     ]
    }
   ],
   "source": [
    "# janela de 30 min\n",
    "t50 = np.mean(te_matrix11_novo[2]) + 3*np.std(te_matrix11_novo[2])\n",
    "\n",
    "df_te_50 = pd.DataFrame(te_matrix11_novo[2], columns = dist6_novo_alm.columns, index= dist6_novo_alm.columns)\n",
    "df_te_lag_50 = pd.DataFrame(te_matrix11_novo[3], columns = dist6_novo_alm.columns, index= dist6_novo_alm.columns)\n",
    "\n",
    "#---------salvando te e lags----------\n",
    "df_te_50.to_csv(\"resultados_defesa/df_te_novo50_k1l1.csv\")\n",
    "df_te_lag_50.to_csv(\"resultados_defesa/df_lags_novo50_k1l1.csv\")\n",
    "\n",
    "\n",
    "df_result_50 = apply_methodlogy(df_te_50,df_te_lag_50, dist6_novo_alm_mean5)"
   ]
  },
  {
   "cell_type": "code",
   "execution_count": 44,
   "metadata": {},
   "outputs": [
    {
     "data": {
      "image/svg+xml": [
       "<?xml version=\"1.0\" encoding=\"UTF-8\" standalone=\"no\"?>\n",
       "<!DOCTYPE svg PUBLIC \"-//W3C//DTD SVG 1.1//EN\"\n",
       " \"http://www.w3.org/Graphics/SVG/1.1/DTD/svg11.dtd\">\n",
       "<!-- Generated by graphviz version 2.40.1 (20161225.0304)\n",
       " -->\n",
       "<!-- Title: %3 Pages: 1 -->\n",
       "<svg width=\"226pt\" height=\"218pt\"\n",
       " viewBox=\"0.00 0.00 226.22 218.00\" xmlns=\"http://www.w3.org/2000/svg\" xmlns:xlink=\"http://www.w3.org/1999/xlink\">\n",
       "<g id=\"graph0\" class=\"graph\" transform=\"scale(1 1) rotate(0) translate(4 214)\">\n",
       "<title>%3</title>\n",
       "<polygon fill=\"#ffffff\" stroke=\"transparent\" points=\"-4,4 -4,-214 222.2209,-214 222.2209,4 -4,4\"/>\n",
       "<!-- x21_high -->\n",
       "<g id=\"node1\" class=\"node\">\n",
       "<title>x21_high</title>\n",
       "<ellipse fill=\"#c9c9c9\" stroke=\"#c0c0c0\" cx=\"145.0218\" cy=\"-192\" rx=\"32.9303\" ry=\"18\"/>\n",
       "<text text-anchor=\"middle\" x=\"145.0218\" y=\"-189.5\" font-family=\"Times,serif\" font-size=\"10.00\" fill=\"#000000\">x21_high</text>\n",
       "</g>\n",
       "<!-- x6_low -->\n",
       "<g id=\"node2\" class=\"node\">\n",
       "<title>x6_low</title>\n",
       "<ellipse fill=\"#c9c9c9\" stroke=\"#c0c0c0\" cx=\"108.0218\" cy=\"-105\" rx=\"28.0137\" ry=\"18\"/>\n",
       "<text text-anchor=\"middle\" x=\"108.0218\" y=\"-102.5\" font-family=\"Times,serif\" font-size=\"10.00\" fill=\"#000000\">x6_low</text>\n",
       "</g>\n",
       "<!-- x21_high&#45;&gt;x6_low -->\n",
       "<g id=\"edge3\" class=\"edge\">\n",
       "<title>x21_high&#45;&gt;x6_low</title>\n",
       "<path fill=\"none\" stroke=\"#000000\" d=\"M137.1119,-174.4644C134.5013,-168.6078 131.6054,-162.0362 129.0218,-156 125.6838,-148.2011 122.1411,-139.6922 118.9352,-131.8987\"/>\n",
       "<polygon fill=\"#000000\" stroke=\"#000000\" points=\"122.1224,-130.4458 115.0952,-122.5168 115.6441,-133.0974 122.1224,-130.4458\"/>\n",
       "<text text-anchor=\"middle\" x=\"141.5218\" y=\"-144.8\" font-family=\"Times,serif\" font-size=\"14.00\" fill=\"#000000\">31.0</text>\n",
       "</g>\n",
       "<!-- x7_low -->\n",
       "<g id=\"node3\" class=\"node\">\n",
       "<title>x7_low</title>\n",
       "<ellipse fill=\"#c9c9c9\" stroke=\"#c0c0c0\" cx=\"185.0218\" cy=\"-105\" rx=\"28.0137\" ry=\"18\"/>\n",
       "<text text-anchor=\"middle\" x=\"185.0218\" y=\"-102.5\" font-family=\"Times,serif\" font-size=\"10.00\" fill=\"#000000\">x7_low</text>\n",
       "</g>\n",
       "<!-- x21_high&#45;&gt;x7_low -->\n",
       "<g id=\"edge4\" class=\"edge\">\n",
       "<title>x21_high&#45;&gt;x7_low</title>\n",
       "<path fill=\"none\" stroke=\"#000000\" d=\"M153.1164,-174.3943C158.7921,-162.0496 166.479,-145.3306 172.8855,-131.3965\"/>\n",
       "<polygon fill=\"#000000\" stroke=\"#000000\" points=\"176.0784,-132.8305 177.0758,-122.2827 169.7184,-129.9063 176.0784,-132.8305\"/>\n",
       "<text text-anchor=\"middle\" x=\"179.5218\" y=\"-144.8\" font-family=\"Times,serif\" font-size=\"14.00\" fill=\"#000000\">29.0</text>\n",
       "</g>\n",
       "<!-- x1_high -->\n",
       "<g id=\"node4\" class=\"node\">\n",
       "<title>x1_high</title>\n",
       "<ellipse fill=\"#c9c9c9\" stroke=\"#c0c0c0\" cx=\"30.0218\" cy=\"-18\" rx=\"30.0436\" ry=\"18\"/>\n",
       "<text text-anchor=\"middle\" x=\"30.0218\" y=\"-15.5\" font-family=\"Times,serif\" font-size=\"10.00\" fill=\"#000000\">x1_high</text>\n",
       "</g>\n",
       "<!-- x6_low&#45;&gt;x1_high -->\n",
       "<g id=\"edge1\" class=\"edge\">\n",
       "<title>x6_low&#45;&gt;x1_high</title>\n",
       "<path fill=\"none\" stroke=\"#000000\" d=\"M93.7154,-89.0429C81.7308,-75.6754 64.461,-56.413 50.9268,-41.3171\"/>\n",
       "<polygon fill=\"#000000\" stroke=\"#000000\" points=\"53.519,-38.9653 44.2375,-33.856 48.307,-43.6381 53.519,-38.9653\"/>\n",
       "<text text-anchor=\"middle\" x=\"86.5218\" y=\"-57.8\" font-family=\"Times,serif\" font-size=\"14.00\" fill=\"#000000\">49.0</text>\n",
       "</g>\n",
       "<!-- x7_high -->\n",
       "<g id=\"node5\" class=\"node\">\n",
       "<title>x7_high</title>\n",
       "<ellipse fill=\"#c9c9c9\" stroke=\"#c0c0c0\" cx=\"108.0218\" cy=\"-18\" rx=\"30.0436\" ry=\"18\"/>\n",
       "<text text-anchor=\"middle\" x=\"108.0218\" y=\"-15.5\" font-family=\"Times,serif\" font-size=\"10.00\" fill=\"#000000\">x7_high</text>\n",
       "</g>\n",
       "<!-- x6_low&#45;&gt;x7_high -->\n",
       "<g id=\"edge2\" class=\"edge\">\n",
       "<title>x6_low&#45;&gt;x7_high</title>\n",
       "<path fill=\"none\" stroke=\"#000000\" d=\"M108.0218,-86.9735C108.0218,-75.1918 108.0218,-59.5607 108.0218,-46.1581\"/>\n",
       "<polygon fill=\"#000000\" stroke=\"#000000\" points=\"111.5219,-46.0033 108.0218,-36.0034 104.5219,-46.0034 111.5219,-46.0033\"/>\n",
       "<text text-anchor=\"middle\" x=\"120.5218\" y=\"-57.8\" font-family=\"Times,serif\" font-size=\"14.00\" fill=\"#000000\">49.0</text>\n",
       "</g>\n",
       "<!-- x21_low -->\n",
       "<g id=\"node6\" class=\"node\">\n",
       "<title>x21_low</title>\n",
       "<ellipse fill=\"#c9c9c9\" stroke=\"#c0c0c0\" cx=\"187.0218\" cy=\"-18\" rx=\"31.3996\" ry=\"18\"/>\n",
       "<text text-anchor=\"middle\" x=\"187.0218\" y=\"-15.5\" font-family=\"Times,serif\" font-size=\"10.00\" fill=\"#000000\">x21_low</text>\n",
       "</g>\n",
       "<!-- x7_low&#45;&gt;x21_low -->\n",
       "<g id=\"edge5\" class=\"edge\">\n",
       "<title>x7_low&#45;&gt;x21_low</title>\n",
       "<path fill=\"none\" stroke=\"#000000\" d=\"M185.4362,-86.9735C185.7071,-75.1918 186.0664,-59.5607 186.3745,-46.1581\"/>\n",
       "<polygon fill=\"#000000\" stroke=\"#000000\" points=\"189.8771,-46.0812 186.6079,-36.0034 182.8789,-45.9202 189.8771,-46.0812\"/>\n",
       "<text text-anchor=\"middle\" x=\"198.5218\" y=\"-57.8\" font-family=\"Times,serif\" font-size=\"14.00\" fill=\"#000000\">49.0</text>\n",
       "</g>\n",
       "</g>\n",
       "</svg>\n"
      ],
      "text/plain": [
       "<graphviz.dot.Digraph at 0x7fb69b74a7f0>"
      ]
     },
     "execution_count": 44,
     "metadata": {},
     "output_type": "execute_result"
    }
   ],
   "source": [
    "graph_simple(df_result_50)"
   ]
  },
  {
   "cell_type": "code",
   "execution_count": null,
   "metadata": {},
   "outputs": [
    {
     "name": "stdout",
     "output_type": "stream",
     "text": [
      "trans  x21_low x1_low\n"
     ]
    }
   ],
   "source": [
    "te_matrix44_novo = transferEntropy_case(dist6_novo_alm_mean5, 50,4,4)"
   ]
  },
  {
   "cell_type": "code",
   "execution_count": 51,
   "metadata": {},
   "outputs": [
    {
     "name": "stdout",
     "output_type": "stream",
     "text": [
      "digraph {\n",
      "\tx21_high [label=x21_high color=gray fillcolor=\"#c9c9c9\" fontsize=10 shape=oval style=filled width=0]\n",
      "\tx6_low [label=x6_low color=gray fillcolor=\"#c9c9c9\" fontsize=10 shape=oval style=filled width=0]\n",
      "\tx7_low [label=x7_low color=gray fillcolor=\"#c9c9c9\" fontsize=10 shape=oval style=filled width=0]\n",
      "\tx1_high [label=x1_high color=gray fillcolor=\"#c9c9c9\" fontsize=10 shape=oval style=filled width=0]\n",
      "\tx7_high [label=x7_high color=gray fillcolor=\"#c9c9c9\" fontsize=10 shape=oval style=filled width=0]\n",
      "\tx21_low [label=x21_low color=gray fillcolor=\"#c9c9c9\" fontsize=10 shape=oval style=filled width=0]\n",
      "\tx6_low -> x1_high [label=49.0 color=black style=\"\"]\n",
      "\tx6_low -> x7_high [label=49.0 color=black style=\"\"]\n",
      "\tx21_high -> x7_low [label=30.0 color=black style=\"\"]\n",
      "\tx7_low -> x21_low [label=49.0 color=black style=\"\"]\n",
      "}\n"
     ]
    }
   ],
   "source": [
    "print(_)"
   ]
  },
  {
   "cell_type": "code",
   "execution_count": 52,
   "metadata": {},
   "outputs": [
    {
     "name": "stderr",
     "output_type": "stream",
     "text": [
      "/home/rute/anaconda3/lib/python3.7/site-packages/ipykernel_launcher.py:6: FutureWarning: elementwise comparison failed; returning scalar instead, but in the future will perform elementwise comparison\n",
      "  \n"
     ]
    },
    {
     "name": "stdout",
     "output_type": "stream",
     "text": [
      "here  x6_low x1_high\n",
      "here  x6_low x7_high\n",
      "here  x21_high x6_low\n",
      "here  x21_high x7_low\n",
      "here  x21_high x21_low\n"
     ]
    }
   ],
   "source": [
    "#---------dfs novos com k-4, l=4\n",
    "\n",
    "\n",
    "#Janela de 20 min\n",
    "df_te_new_44_33 = pd.DataFrame(te_matrix44_novo[0], columns = dist6_novo_alm.columns, index= dist6_novo_alm.columns)\n",
    "df_te_lag_new_44_33 = pd.DataFrame(te_matrix44_novo[1], columns = dist6_novo_alm.columns, index= dist6_novo_alm.columns)\n",
    "\n",
    "df_te_new_44_33.to_csv(\"resultados_defesa/df_te_novo33_k4l4.csv\")\n",
    "df_te_lag_new_44_33.to_csv(\"resultados_defesa/df_lags_novo33_k4l4.csv\")\n",
    "\n",
    "df_result_33_k4l4 = apply_methodlogy(df_te_new_44_33,df_te_lag_new_44_33, dist6_novo_alm_mean5)"
   ]
  },
  {
   "cell_type": "code",
   "execution_count": 53,
   "metadata": {},
   "outputs": [
    {
     "data": {
      "image/svg+xml": [
       "<?xml version=\"1.0\" encoding=\"UTF-8\" standalone=\"no\"?>\n",
       "<!DOCTYPE svg PUBLIC \"-//W3C//DTD SVG 1.1//EN\"\n",
       " \"http://www.w3.org/Graphics/SVG/1.1/DTD/svg11.dtd\">\n",
       "<!-- Generated by graphviz version 2.40.1 (20161225.0304)\n",
       " -->\n",
       "<!-- Title: %3 Pages: 1 -->\n",
       "<svg width=\"226pt\" height=\"218pt\"\n",
       " viewBox=\"0.00 0.00 226.22 218.00\" xmlns=\"http://www.w3.org/2000/svg\" xmlns:xlink=\"http://www.w3.org/1999/xlink\">\n",
       "<g id=\"graph0\" class=\"graph\" transform=\"scale(1 1) rotate(0) translate(4 214)\">\n",
       "<title>%3</title>\n",
       "<polygon fill=\"#ffffff\" stroke=\"transparent\" points=\"-4,4 -4,-214 222.2209,-214 222.2209,4 -4,4\"/>\n",
       "<!-- x21_high -->\n",
       "<g id=\"node1\" class=\"node\">\n",
       "<title>x21_high</title>\n",
       "<ellipse fill=\"#c9c9c9\" stroke=\"#c0c0c0\" cx=\"145.0218\" cy=\"-192\" rx=\"32.9303\" ry=\"18\"/>\n",
       "<text text-anchor=\"middle\" x=\"145.0218\" y=\"-189.5\" font-family=\"Times,serif\" font-size=\"10.00\" fill=\"#000000\">x21_high</text>\n",
       "</g>\n",
       "<!-- x6_low -->\n",
       "<g id=\"node2\" class=\"node\">\n",
       "<title>x6_low</title>\n",
       "<ellipse fill=\"#c9c9c9\" stroke=\"#c0c0c0\" cx=\"108.0218\" cy=\"-105\" rx=\"28.0137\" ry=\"18\"/>\n",
       "<text text-anchor=\"middle\" x=\"108.0218\" y=\"-102.5\" font-family=\"Times,serif\" font-size=\"10.00\" fill=\"#000000\">x6_low</text>\n",
       "</g>\n",
       "<!-- x21_high&#45;&gt;x6_low -->\n",
       "<g id=\"edge3\" class=\"edge\">\n",
       "<title>x21_high&#45;&gt;x6_low</title>\n",
       "<path fill=\"none\" stroke=\"#000000\" d=\"M137.1119,-174.4644C134.5013,-168.6078 131.6054,-162.0362 129.0218,-156 125.6838,-148.2011 122.1411,-139.6922 118.9352,-131.8987\"/>\n",
       "<polygon fill=\"#000000\" stroke=\"#000000\" points=\"122.1224,-130.4458 115.0952,-122.5168 115.6441,-133.0974 122.1224,-130.4458\"/>\n",
       "<text text-anchor=\"middle\" x=\"141.5218\" y=\"-144.8\" font-family=\"Times,serif\" font-size=\"14.00\" fill=\"#000000\">31.0</text>\n",
       "</g>\n",
       "<!-- x7_low -->\n",
       "<g id=\"node3\" class=\"node\">\n",
       "<title>x7_low</title>\n",
       "<ellipse fill=\"#c9c9c9\" stroke=\"#c0c0c0\" cx=\"185.0218\" cy=\"-105\" rx=\"28.0137\" ry=\"18\"/>\n",
       "<text text-anchor=\"middle\" x=\"185.0218\" y=\"-102.5\" font-family=\"Times,serif\" font-size=\"10.00\" fill=\"#000000\">x7_low</text>\n",
       "</g>\n",
       "<!-- x21_high&#45;&gt;x7_low -->\n",
       "<g id=\"edge4\" class=\"edge\">\n",
       "<title>x21_high&#45;&gt;x7_low</title>\n",
       "<path fill=\"none\" stroke=\"#000000\" d=\"M153.1164,-174.3943C158.7921,-162.0496 166.479,-145.3306 172.8855,-131.3965\"/>\n",
       "<polygon fill=\"#000000\" stroke=\"#000000\" points=\"176.0784,-132.8305 177.0758,-122.2827 169.7184,-129.9063 176.0784,-132.8305\"/>\n",
       "<text text-anchor=\"middle\" x=\"179.5218\" y=\"-144.8\" font-family=\"Times,serif\" font-size=\"14.00\" fill=\"#000000\">30.0</text>\n",
       "</g>\n",
       "<!-- x1_high -->\n",
       "<g id=\"node4\" class=\"node\">\n",
       "<title>x1_high</title>\n",
       "<ellipse fill=\"#c9c9c9\" stroke=\"#c0c0c0\" cx=\"30.0218\" cy=\"-18\" rx=\"30.0436\" ry=\"18\"/>\n",
       "<text text-anchor=\"middle\" x=\"30.0218\" y=\"-15.5\" font-family=\"Times,serif\" font-size=\"10.00\" fill=\"#000000\">x1_high</text>\n",
       "</g>\n",
       "<!-- x6_low&#45;&gt;x1_high -->\n",
       "<g id=\"edge1\" class=\"edge\">\n",
       "<title>x6_low&#45;&gt;x1_high</title>\n",
       "<path fill=\"none\" stroke=\"#000000\" d=\"M93.7154,-89.0429C81.7308,-75.6754 64.461,-56.413 50.9268,-41.3171\"/>\n",
       "<polygon fill=\"#000000\" stroke=\"#000000\" points=\"53.519,-38.9653 44.2375,-33.856 48.307,-43.6381 53.519,-38.9653\"/>\n",
       "<text text-anchor=\"middle\" x=\"86.5218\" y=\"-57.8\" font-family=\"Times,serif\" font-size=\"14.00\" fill=\"#000000\">33.0</text>\n",
       "</g>\n",
       "<!-- x7_high -->\n",
       "<g id=\"node5\" class=\"node\">\n",
       "<title>x7_high</title>\n",
       "<ellipse fill=\"#c9c9c9\" stroke=\"#c0c0c0\" cx=\"108.0218\" cy=\"-18\" rx=\"30.0436\" ry=\"18\"/>\n",
       "<text text-anchor=\"middle\" x=\"108.0218\" y=\"-15.5\" font-family=\"Times,serif\" font-size=\"10.00\" fill=\"#000000\">x7_high</text>\n",
       "</g>\n",
       "<!-- x6_low&#45;&gt;x7_high -->\n",
       "<g id=\"edge2\" class=\"edge\">\n",
       "<title>x6_low&#45;&gt;x7_high</title>\n",
       "<path fill=\"none\" stroke=\"#000000\" d=\"M108.0218,-86.9735C108.0218,-75.1918 108.0218,-59.5607 108.0218,-46.1581\"/>\n",
       "<polygon fill=\"#000000\" stroke=\"#000000\" points=\"111.5219,-46.0033 108.0218,-36.0034 104.5219,-46.0034 111.5219,-46.0033\"/>\n",
       "<text text-anchor=\"middle\" x=\"120.5218\" y=\"-57.8\" font-family=\"Times,serif\" font-size=\"14.00\" fill=\"#000000\">33.0</text>\n",
       "</g>\n",
       "<!-- x21_low -->\n",
       "<g id=\"node6\" class=\"node\">\n",
       "<title>x21_low</title>\n",
       "<ellipse fill=\"#c9c9c9\" stroke=\"#c0c0c0\" cx=\"187.0218\" cy=\"-18\" rx=\"31.3996\" ry=\"18\"/>\n",
       "<text text-anchor=\"middle\" x=\"187.0218\" y=\"-15.5\" font-family=\"Times,serif\" font-size=\"10.00\" fill=\"#000000\">x21_low</text>\n",
       "</g>\n",
       "<!-- x7_low&#45;&gt;x21_low -->\n",
       "<g id=\"edge5\" class=\"edge\">\n",
       "<title>x7_low&#45;&gt;x21_low</title>\n",
       "<path fill=\"none\" stroke=\"#000000\" d=\"M185.4362,-86.9735C185.7071,-75.1918 186.0664,-59.5607 186.3745,-46.1581\"/>\n",
       "<polygon fill=\"#000000\" stroke=\"#000000\" points=\"189.8771,-46.0812 186.6079,-36.0034 182.8789,-45.9202 189.8771,-46.0812\"/>\n",
       "<text text-anchor=\"middle\" x=\"198.5218\" y=\"-57.8\" font-family=\"Times,serif\" font-size=\"14.00\" fill=\"#000000\">33.0</text>\n",
       "</g>\n",
       "</g>\n",
       "</svg>\n"
      ],
      "text/plain": [
       "<graphviz.dot.Digraph at 0x7fb69c8b8780>"
      ]
     },
     "execution_count": 53,
     "metadata": {},
     "output_type": "execute_result"
    }
   ],
   "source": [
    "graph_simple(df_result_33_k4l4)"
   ]
  },
  {
   "cell_type": "code",
   "execution_count": 54,
   "metadata": {},
   "outputs": [
    {
     "name": "stdout",
     "output_type": "stream",
     "text": [
      "here  x6_low x1_high\n",
      "here  x6_low x7_high\n",
      "here  x21_high x7_low\n",
      "here  x21_high x21_low\n"
     ]
    }
   ],
   "source": [
    "#Janela de 30 min\n",
    "df_te_new_50_44 = pd.DataFrame(te_matrix44_novo[2], columns = dist6_novo_alm.columns, index= dist6_novo_alm.columns)\n",
    "df_te_lag_new_50_44 = pd.DataFrame(te_matrix44_novo[3], columns = dist6_novo_alm.columns, index= dist6_novo_alm.columns)\n",
    "\n",
    "#---------salvando te e lags----------\n",
    "df_te_new_50_44.to_csv(\"resultados_defesa/df_te_novo50_k4l4.csv\")\n",
    "df_te_lag_new_50_44.to_csv(\"resultados_defesa/df_lags_novo50_k4l4.csv\")\n",
    "\n",
    "df_result_50_k4l4 = apply_methodlogy(df_te_new_50_44,df_te_lag_new_50_44, dist6_novo_alm_mean5)"
   ]
  },
  {
   "cell_type": "code",
   "execution_count": 55,
   "metadata": {},
   "outputs": [
    {
     "data": {
      "image/svg+xml": [
       "<?xml version=\"1.0\" encoding=\"UTF-8\" standalone=\"no\"?>\n",
       "<!DOCTYPE svg PUBLIC \"-//W3C//DTD SVG 1.1//EN\"\n",
       " \"http://www.w3.org/Graphics/SVG/1.1/DTD/svg11.dtd\">\n",
       "<!-- Generated by graphviz version 2.40.1 (20161225.0304)\n",
       " -->\n",
       "<!-- Title: %3 Pages: 1 -->\n",
       "<svg width=\"245pt\" height=\"218pt\"\n",
       " viewBox=\"0.00 0.00 244.99 218.00\" xmlns=\"http://www.w3.org/2000/svg\" xmlns:xlink=\"http://www.w3.org/1999/xlink\">\n",
       "<g id=\"graph0\" class=\"graph\" transform=\"scale(1 1) rotate(0) translate(4 214)\">\n",
       "<title>%3</title>\n",
       "<polygon fill=\"#ffffff\" stroke=\"transparent\" points=\"-4,4 -4,-214 240.9869,-214 240.9869,4 -4,4\"/>\n",
       "<!-- x21_high -->\n",
       "<g id=\"node1\" class=\"node\">\n",
       "<title>x21_high</title>\n",
       "<ellipse fill=\"#c9c9c9\" stroke=\"#c0c0c0\" cx=\"32.9651\" cy=\"-192\" rx=\"32.9303\" ry=\"18\"/>\n",
       "<text text-anchor=\"middle\" x=\"32.9651\" y=\"-189.5\" font-family=\"Times,serif\" font-size=\"10.00\" fill=\"#000000\">x21_high</text>\n",
       "</g>\n",
       "<!-- x7_low -->\n",
       "<g id=\"node3\" class=\"node\">\n",
       "<title>x7_low</title>\n",
       "<ellipse fill=\"#c9c9c9\" stroke=\"#c0c0c0\" cx=\"32.9651\" cy=\"-105\" rx=\"28.0137\" ry=\"18\"/>\n",
       "<text text-anchor=\"middle\" x=\"32.9651\" y=\"-102.5\" font-family=\"Times,serif\" font-size=\"10.00\" fill=\"#000000\">x7_low</text>\n",
       "</g>\n",
       "<!-- x21_high&#45;&gt;x7_low -->\n",
       "<g id=\"edge3\" class=\"edge\">\n",
       "<title>x21_high&#45;&gt;x7_low</title>\n",
       "<path fill=\"none\" stroke=\"#000000\" d=\"M32.9651,-173.9735C32.9651,-162.1918 32.9651,-146.5607 32.9651,-133.1581\"/>\n",
       "<polygon fill=\"#000000\" stroke=\"#000000\" points=\"36.4652,-133.0033 32.9651,-123.0034 29.4652,-133.0034 36.4652,-133.0033\"/>\n",
       "<text text-anchor=\"middle\" x=\"45.4651\" y=\"-144.8\" font-family=\"Times,serif\" font-size=\"14.00\" fill=\"#000000\">30.0</text>\n",
       "</g>\n",
       "<!-- x6_low -->\n",
       "<g id=\"node2\" class=\"node\">\n",
       "<title>x6_low</title>\n",
       "<ellipse fill=\"#c9c9c9\" stroke=\"#c0c0c0\" cx=\"148.9651\" cy=\"-192\" rx=\"28.0137\" ry=\"18\"/>\n",
       "<text text-anchor=\"middle\" x=\"148.9651\" y=\"-189.5\" font-family=\"Times,serif\" font-size=\"10.00\" fill=\"#000000\">x6_low</text>\n",
       "</g>\n",
       "<!-- x1_high -->\n",
       "<g id=\"node4\" class=\"node\">\n",
       "<title>x1_high</title>\n",
       "<ellipse fill=\"#c9c9c9\" stroke=\"#c0c0c0\" cx=\"128.9651\" cy=\"-105\" rx=\"30.0436\" ry=\"18\"/>\n",
       "<text text-anchor=\"middle\" x=\"128.9651\" y=\"-102.5\" font-family=\"Times,serif\" font-size=\"10.00\" fill=\"#000000\">x1_high</text>\n",
       "</g>\n",
       "<!-- x6_low&#45;&gt;x1_high -->\n",
       "<g id=\"edge1\" class=\"edge\">\n",
       "<title>x6_low&#45;&gt;x1_high</title>\n",
       "<path fill=\"none\" stroke=\"#000000\" d=\"M144.8211,-173.9735C142.0858,-162.0751 138.4481,-146.2508 135.3469,-132.7606\"/>\n",
       "<polygon fill=\"#000000\" stroke=\"#000000\" points=\"138.7553,-131.965 133.1038,-123.0034 131.9333,-133.5333 138.7553,-131.965\"/>\n",
       "<text text-anchor=\"middle\" x=\"152.4651\" y=\"-144.8\" font-family=\"Times,serif\" font-size=\"14.00\" fill=\"#000000\">49.0</text>\n",
       "</g>\n",
       "<!-- x7_high -->\n",
       "<g id=\"node5\" class=\"node\">\n",
       "<title>x7_high</title>\n",
       "<ellipse fill=\"#c9c9c9\" stroke=\"#c0c0c0\" cx=\"206.9651\" cy=\"-105\" rx=\"30.0436\" ry=\"18\"/>\n",
       "<text text-anchor=\"middle\" x=\"206.9651\" y=\"-102.5\" font-family=\"Times,serif\" font-size=\"10.00\" fill=\"#000000\">x7_high</text>\n",
       "</g>\n",
       "<!-- x6_low&#45;&gt;x7_high -->\n",
       "<g id=\"edge2\" class=\"edge\">\n",
       "<title>x6_low&#45;&gt;x7_high</title>\n",
       "<path fill=\"none\" stroke=\"#000000\" d=\"M160.1481,-175.2255C168.6534,-162.4677 180.4969,-144.7024 190.1435,-130.2325\"/>\n",
       "<polygon fill=\"#000000\" stroke=\"#000000\" points=\"193.1816,-131.985 195.8165,-121.723 187.3572,-128.102 193.1816,-131.985\"/>\n",
       "<text text-anchor=\"middle\" x=\"193.4651\" y=\"-144.8\" font-family=\"Times,serif\" font-size=\"14.00\" fill=\"#000000\">49.0</text>\n",
       "</g>\n",
       "<!-- x21_low -->\n",
       "<g id=\"node6\" class=\"node\">\n",
       "<title>x21_low</title>\n",
       "<ellipse fill=\"#c9c9c9\" stroke=\"#c0c0c0\" cx=\"32.9651\" cy=\"-18\" rx=\"31.3996\" ry=\"18\"/>\n",
       "<text text-anchor=\"middle\" x=\"32.9651\" y=\"-15.5\" font-family=\"Times,serif\" font-size=\"10.00\" fill=\"#000000\">x21_low</text>\n",
       "</g>\n",
       "<!-- x7_low&#45;&gt;x21_low -->\n",
       "<g id=\"edge4\" class=\"edge\">\n",
       "<title>x7_low&#45;&gt;x21_low</title>\n",
       "<path fill=\"none\" stroke=\"#000000\" d=\"M32.9651,-86.9735C32.9651,-75.1918 32.9651,-59.5607 32.9651,-46.1581\"/>\n",
       "<polygon fill=\"#000000\" stroke=\"#000000\" points=\"36.4652,-46.0033 32.9651,-36.0034 29.4652,-46.0034 36.4652,-46.0033\"/>\n",
       "<text text-anchor=\"middle\" x=\"45.4651\" y=\"-57.8\" font-family=\"Times,serif\" font-size=\"14.00\" fill=\"#000000\">49.0</text>\n",
       "</g>\n",
       "</g>\n",
       "</svg>\n"
      ],
      "text/plain": [
       "<graphviz.dot.Digraph at 0x7fb687a5fe80>"
      ]
     },
     "execution_count": 55,
     "metadata": {},
     "output_type": "execute_result"
    }
   ],
   "source": [
    "graph_simple(df_result_50_k4l4)"
   ]
  },
  {
   "cell_type": "code",
   "execution_count": null,
   "metadata": {},
   "outputs": [],
   "source": [
    "\n",
    "\n",
    "#------------------janela de 30 min------------\n",
    "t50 = np.mean(te_matrix[2]) + 3*np.std(te_matrix[2])\n",
    "\n",
    "\n",
    "df_te_50 = pd.DataFrame(te_matrix[2], columns = dist6_novo_alm.columns, index= dist6_novo_alm.columns)\n",
    "df_te_lag_50 = pd.DataFrame(te_matrix[3], columns = dist6_novo_alm.columns, index= dist6_novo_alm.columns)\n",
    "\n",
    "#---------salvando te e lags----------\n",
    "df_te_50.to_csv(\"resultados_defesa/df_te_novo50_k1l1.csv\")\n",
    "df_te_lag_50.to_csv(\"resultados_defesa/df_lags_novo50_k1l1.csv\")\n",
    "\n",
    "#aplicar threshold\n",
    "te_k1l1_50 = generate_df_valid_corrs(df_te_50, t50)\n",
    "\n",
    "#remover ciclos\n",
    "te_50_no_cycle = pd.DataFrame (data = generate_aciclic_graph(te_k1l1_50.values), columns=te_k1l1_50.columns, index=te_k1l1_50.columns)\n",
    "\n",
    "#passar a utilizar o grafo de lags ao invés do de TE\n",
    "\n",
    "te_50_lags_no_cycle = df_te_lag_50[te_50_no_cycle > 0].fillna(0)\n",
    "\n",
    "#computar todos os ancestrais (comuns e virtuais)\n",
    "\n",
    "dict_ancestors_50 = get_all_shifts(te_50_lags_no_cycle.columns, te_50_lags_no_cycle)\n",
    "\n",
    "\n",
    "#gerar arvore do k2\n",
    "k2_50_tree = gen_tree_from_lags(dict_ancestors_50)\n",
    "\n",
    "#gerar calcular k2\n",
    "\n",
    "k2_result_50 = k2(dist6_novo_alm_mean5, k2_50_tree, te_50_lags_no_cycle, 0.7)\n",
    "\n",
    "#reconstruir grafo\n",
    "\n",
    "k2_rebuild_50 = gen_clean_df(te_50_lags_no_cycle, k2_result_50)\n",
    "\n",
    "#trocar valores do k2 rebuild pelos lags corretos\n",
    "\n",
    "graph_final_50 = te_50_lags_no_cycle[k2_rebuild_50>0].fillna(0)\n"
   ]
  },
  {
   "cell_type": "code",
   "execution_count": null,
   "metadata": {},
   "outputs": [],
   "source": [
    "graph_simple(graph_final_50)"
   ]
  },
  {
   "cell_type": "code",
   "execution_count": null,
   "metadata": {},
   "outputs": [],
   "source": [
    "# ### teste sintetico\n",
    "\n",
    "\n",
    "# almNum = 3\n",
    "# ocorr = 100\n",
    "# t_sample = 60\n",
    "# base_hour = dt.datetime(2018, 1,9,9,0,0)\n",
    "# occor_num = 0\n",
    "\n",
    "# #Settings alarms\n",
    "# a = np.zeros(1, dtype=int)\n",
    "# ocorr = 10\n",
    "# duration = 120 #120sec\n",
    "# hour_init = base_hour\n",
    "\n",
    "# b = np.zeros(1, dtype=int)\n",
    "# pAb =0.8\n",
    "# delay_b = 60 #seconds\n",
    "# duration_b = 120\n",
    "\n",
    "# c = np.zeros(1, dtype=int)\n",
    "# pAc = 0.9\n",
    "# delay_c = 15 #seconds\n",
    "# duration_c = 120\n",
    "\n",
    "# #Alarm Series Generation, A (cause), B(Effect). C(Effect)\n",
    "# while(occor_num < ocorr): \n",
    "    \n",
    "#     #A generation - begin\n",
    "#     srtd_hour = random.normalvariate(3, 1)\n",
    "#     srtd_hour_begin = hour_init + dt.timedelta(hours=srtd_hour)\n",
    "#     srtd_hour_end = srtd_hour_begin + dt.timedelta(seconds = duration)\n",
    "\n",
    "#     idx_init_a_occor = int(math.ceil((srtd_hour_begin - base_hour).total_seconds()/t_sample))\n",
    "#     idx_end_a_occor = int(math.ceil((srtd_hour_end - base_hour).total_seconds()/t_sample))\n",
    "        \n",
    "#     if(idx_end_a_occor > a.size):\n",
    "#             a.resize(idx_end_a_occor)\n",
    "\n",
    "#     for i in np.arange(idx_init_a_occor, idx_end_a_occor + 1):\n",
    "#         a[i-1] = 1\n",
    "#     #A generation - end\n",
    "         \n",
    "    \n",
    "#     #B generation begin\n",
    "#     srtd_prob_b = random.uniform(0,1)  \n",
    "#     if srtd_prob_b <= pAb:\n",
    "#         srtd_hour_begin_b = srtd_hour_begin + dt.timedelta(hours = delay_b/3600)\n",
    "#         srtd_hour_end_b = srtd_hour_begin_b + dt.timedelta(seconds=duration_b)\n",
    "\n",
    "#         idx_init_b_occor = int(math.ceil((srtd_hour_begin_b - base_hour).total_seconds()/t_sample))\n",
    "#         idx_end_b_occor = int(math.ceil((srtd_hour_end_b - base_hour).total_seconds()/t_sample))\n",
    "\n",
    "#         if(idx_end_b_occor > b.size):\n",
    "#                 b.resize(idx_end_b_occor)\n",
    "\n",
    "#         for j in np.arange(idx_init_b_occor, idx_end_b_occor +1):\n",
    "#             b[j-1] =  1  \n",
    "\n",
    "#     #B generation end\n",
    "\n",
    "#     #C generation begin\n",
    "#     srtd_prob_c = random.uniform(0,1)\n",
    "#     if srtd_prob_c <= pAc:\n",
    "#         srtd_hour_begin_c = srtd_hour_begin + dt.timedelta(hours = delay_b/3600)\n",
    "#         srtd_hour_end_c = srtd_hour_begin_c + dt.timedelta(seconds=duration_c)\n",
    "\n",
    "#         idx_init_c_occor = int(math.ceil((srtd_hour_begin_c - base_hour).total_seconds()/t_sample))\n",
    "#         idx_end_c_occor = int(math.ceil((srtd_hour_end_c - base_hour).total_seconds()/t_sample))\n",
    "        \n",
    "#         if(idx_end_c_occor > c.size):\n",
    "#             c.resize(idx_end_c_occor)\n",
    "\n",
    "#         for j in np.arange(idx_init_c_occor, idx_end_c_occor +1):\n",
    "#             c[j-1] = 1    \n",
    "#     #C generation end\n",
    "    \n",
    "#     hour_init = srtd_hour_begin\n",
    "#     occor_num = occor_num + 1\n",
    "\n",
    "# #Making series the same length\n",
    "# max_len = max(a, b, c, key=len).size\n",
    "# a = np.concatenate([a, np.zeros(max_len - a.size)])\n",
    "# b = np.concatenate([b, np.zeros(max_len - b.size)])\n",
    "# c = np.concatenate([c, np.zeros(max_len - c.size)])"
   ]
  },
  {
   "cell_type": "code",
   "execution_count": null,
   "metadata": {},
   "outputs": [],
   "source": [
    "[1,2,3,4,5,6][0:4]"
   ]
  }
 ],
 "metadata": {
  "colab": {
   "name": "TransEntropy.ipynb",
   "provenance": [],
   "toc_visible": true,
   "version": "0.3.2"
  },
  "kernelspec": {
   "display_name": "Python 3",
   "language": "python",
   "name": "python3"
  },
  "language_info": {
   "codemirror_mode": {
    "name": "ipython",
    "version": 3
   },
   "file_extension": ".py",
   "mimetype": "text/x-python",
   "name": "python",
   "nbconvert_exporter": "python",
   "pygments_lexer": "ipython3",
   "version": "3.7.0"
  }
 },
 "nbformat": 4,
 "nbformat_minor": 1
}
