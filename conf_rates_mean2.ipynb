{
 "cells": [
  {
   "cell_type": "code",
   "execution_count": 1,
   "metadata": {},
   "outputs": [],
   "source": [
    "import pandas as pd\n",
    "import numpy as np\n",
    "import time\n",
    "\n",
    "from graphviz import Digraph\n",
    "import seaborn as sns\n",
    "import matplotlib.pyplot as plt\n",
    "import itertools\n",
    "\n",
    "from roc_evals import *"
   ]
  },
  {
   "cell_type": "code",
   "execution_count": 2,
   "metadata": {},
   "outputs": [],
   "source": [
    "cen1 = \"cenarios_cba/media_movel/mean_2/cen1/\"\n",
    "cen2 = \"cenarios_cba/media_movel/mean_2/cen2/\"\n",
    "cen3 = \"cenarios_cba/media_movel/mean_2/cen3/\"\n",
    "cen4 = \"cenarios_cba/media_movel/mean_2/cen4/\"\n",
    "cen5 = \"cenarios_cba/media_movel/mean_2/cen5/\"\n",
    "cen6 = \"cenarios_cba/media_movel/mean_2/cen6/\"\n",
    "\n",
    "cen1_r = \"cenarios_cba/media_movel/mean_2/cen1/rates/\"\n",
    "cen2_r = \"cenarios_cba/media_movel/mean_2/cen2/rates/\"\n",
    "cen3_r = \"cenarios_cba/media_movel/mean_2/cen3/rates/\"\n",
    "cen4_r = \"cenarios_cba/media_movel/mean_2/cen4/rates/\"\n",
    "cen5_r = \"cenarios_cba/media_movel/mean_2/cen5/rates/\"\n",
    "cen6_r = \"cenarios_cba/media_movel/mean_2/cen6/rates/\""
   ]
  },
  {
   "cell_type": "code",
   "execution_count": 3,
   "metadata": {},
   "outputs": [],
   "source": [
    "#defining ref def \n",
    "\n",
    "col_labels = ['xmeas%02d_low' % x for x in [1,2,3,8,9,21]]+ ['xmeas%02d_high' % x for x in [1,2,3,8,9,21]] \n",
    "df_mat = np.zeros([12,12], dtype=int)\n",
    "\n",
    "ref_df = pd.DataFrame(df_mat, columns = col_labels, index=col_labels)\n",
    "ref_df.loc['xmeas01_low'][['xmeas21_high', 'xmeas09_low']] = [1,1]\n",
    "ref_df.loc['xmeas09_low']['xmeas21_high'] = 1\n",
    "\n",
    "ref_df.loc['xmeas01_high'][['xmeas21_low', 'xmeas09_high']] = [1,1]\n",
    "ref_df.loc['xmeas09_high']['xmeas21_low'] = 1"
   ]
  },
  {
   "cell_type": "code",
   "execution_count": 4,
   "metadata": {},
   "outputs": [
    {
     "name": "stdout",
     "output_type": "stream",
     "text": [
      "   tp_rate  precision\n",
      "0      0.5        1.0\n",
      "    tp_rate  precision\n",
      "0  0.333333        1.0\n",
      "    tp_rate  precision\n",
      "0  0.333333        1.0\n"
     ]
    }
   ],
   "source": [
    "#Cenário 1\n",
    "\n",
    "\n",
    "cen1_list = [cen1+'k%d_l1_h1_sel_corrs.csv' % x for x in [1,3,6]]\n",
    "set_c1_r = ['k%d_l1_h1.csv' % x for x in [1,3,6]]\n",
    "\n",
    "\n",
    "for cen, sett in zip(cen1_list, set_c1_r):\n",
    "    conf = generate_conf_df(pd.read_csv(cen, index_col=0), ref_df)\n",
    "    conf.to_csv(cen1_r+\"conf_\"+sett)\n",
    "    df_met = pd.DataFrame([[tp_rate(conf), precision(conf)]], columns = ['tp_rate', 'precision'])\n",
    "    df_met.to_csv(cen1_r+\"met_\"+sett)\n",
    "    print(df_met)"
   ]
  },
  {
   "cell_type": "code",
   "execution_count": 5,
   "metadata": {},
   "outputs": [
    {
     "name": "stdout",
     "output_type": "stream",
     "text": [
      "   tp_rate  precision\n",
      "0      0.5       0.75\n",
      "    tp_rate  precision\n",
      "0  0.666667   0.666667\n"
     ]
    }
   ],
   "source": [
    "#cenário 2\n",
    "\n",
    "cen2_list = [cen2+'k1_l%d_h1_sel_corrs.csv' % x for x in [3,6]]\n",
    "set_c2_r = ['k1_l%d_h1.csv' % x for x in [3,6]]\n",
    "\n",
    "\n",
    "for cen, sett in zip(cen2_list, set_c2_r):\n",
    "    conf = generate_conf_df(pd.read_csv(cen, index_col=0), ref_df)\n",
    "    conf.to_csv(cen2_r+\"conf_\"+sett)\n",
    "    \n",
    "    df_met = pd.DataFrame([[tp_rate(conf), precision(conf)]], columns = ['tp_rate', 'precision'])\n",
    "    df_met.to_csv(cen2_r+\"met_\"+sett)\n",
    "    print(df_met)\n",
    "\n"
   ]
  },
  {
   "cell_type": "code",
   "execution_count": 6,
   "metadata": {},
   "outputs": [
    {
     "name": "stdout",
     "output_type": "stream",
     "text": [
      "    tp_rate  precision\n",
      "0  0.333333        1.0\n",
      "    tp_rate  precision\n",
      "0  0.333333        0.5\n"
     ]
    }
   ],
   "source": [
    "#Cenário 3\n",
    "\n",
    "cen3_list = [cen3+'k1_l1_h%d_sel_corrs.csv' % x for x in [3,6]]\n",
    "set_c3_r = ['k1_l1_h%d.csv' % x for x in [3,6]]\n",
    "\n",
    "\n",
    "for cen, sett in zip(cen3_list, set_c3_r):\n",
    "    conf = generate_conf_df(pd.read_csv(cen, index_col=0), ref_df)\n",
    "    conf.to_csv(cen3_r+\"conf_\"+sett)\n",
    "    \n",
    "    df_met = pd.DataFrame([[tp_rate(conf), precision(conf)]], columns = ['tp_rate', 'precision'])\n",
    "    df_met.to_csv(cen3_r+\"met_\"+sett)\n",
    "    print(df_met)"
   ]
  },
  {
   "cell_type": "code",
   "execution_count": 7,
   "metadata": {},
   "outputs": [
    {
     "name": "stdout",
     "output_type": "stream",
     "text": [
      "    tp_rate  precision\n",
      "0  0.333333        0.5\n",
      "    tp_rate  precision\n",
      "0  0.333333        0.5\n",
      "    tp_rate  precision\n",
      "0  0.333333        0.5\n",
      "    tp_rate  precision\n",
      "0  0.333333        0.5\n"
     ]
    }
   ],
   "source": [
    "#Cenário 4\n",
    "\n",
    "\n",
    "cen4_list = [cen4+'k%d_l1_h3_sel_corrs.csv' % x for x in [3,6]] +[cen4+'k%d_l1_h6_sel_corrs.csv' % x for x in [3,6]]\n",
    "set_c4_r = ['k%d_l1_h3.csv' % x for x in [3,6]]+['k%d_l1_h6.csv' % x for x in [3,6]]\n",
    "\n",
    "for cen, sett in zip(cen4_list, set_c4_r):\n",
    "    cof = generate_conf_df(pd.read_csv(cen, index_col=0), ref_df)\n",
    "    conf.to_csv(cen4_r+\"conf_\"+sett)\n",
    "    \n",
    "    df_met = pd.DataFrame([[tp_rate(conf), precision(conf)]], columns = ['tp_rate', 'precision'])\n",
    "    df_met.to_csv(cen4_r+\"met_\"+sett)\n",
    "    print(df_met)"
   ]
  },
  {
   "cell_type": "code",
   "execution_count": 8,
   "metadata": {},
   "outputs": [
    {
     "name": "stdout",
     "output_type": "stream",
     "text": [
      "   tp_rate  precision\n",
      "0      0.5       0.75\n",
      "   tp_rate  precision\n",
      "0      0.5        0.6\n",
      "    tp_rate  precision\n",
      "0  0.333333        0.4\n",
      "   tp_rate  precision\n",
      "0      0.5   0.428571\n"
     ]
    }
   ],
   "source": [
    "#Cenário 5\n",
    "\n",
    "\n",
    "cen5_list = [cen5+'k1_l%d_h3_sel_corrs.csv' % x for x in [3,6]] +[cen5+'k1_l%d_h6_sel_corrs.csv' % x for x in [3,6]]\n",
    "set_c5_r = ['k1_l%d_h3.csv' % x for x in [3,6]]+['k1_l%d_h6.csv' % x for x in [3,6]]\n",
    "\n",
    "for cen, sett in zip(cen5_list, set_c5_r):\n",
    "    conf = generate_conf_df(pd.read_csv(cen, index_col=0), ref_df)\n",
    "    conf.to_csv(cen5_r+\"conf_\"+sett)\n",
    "    \n",
    "    df_met = pd.DataFrame([[tp_rate(conf), precision(conf)]], columns = ['tp_rate', 'precision'])\n",
    "    df_met.to_csv(cen5_r+\"met_\"+sett)\n",
    "    print(df_met)"
   ]
  },
  {
   "cell_type": "code",
   "execution_count": 9,
   "metadata": {},
   "outputs": [
    {
     "name": "stdout",
     "output_type": "stream",
     "text": [
      "   tp_rate  precision\n",
      "0      0.5        0.6\n",
      "   tp_rate  precision\n",
      "0      0.5        0.5\n"
     ]
    }
   ],
   "source": [
    "#Cenário 6 \n",
    "\n",
    "cen6_list = [cen6+'k%d_l%d_h1_sel_corrs.csv' %(x,y) for x, y in zip([3,6], [3,6])]\n",
    "set_c6_r = ['k%d_l%d_h1_sel.csv' %(x,y) for x, y in zip([3,6], [3,6])]\n",
    "\n",
    "for cen, sett in zip(cen6_list, set_c6_r):\n",
    "    conf = generate_conf_df(pd.read_csv(cen, index_col=0), ref_df)\n",
    "    conf.to_csv(cen6_r+\"conf_\"+sett)\n",
    "    \n",
    "    df_met = pd.DataFrame([[tp_rate(conf), precision(conf)]], columns = ['tp_rate', 'precision'])\n",
    "    df_met.to_csv(cen6_r+\"met_\"+sett)\n",
    "    print(df_met)"
   ]
  },
  {
   "cell_type": "code",
   "execution_count": 69,
   "metadata": {},
   "outputs": [],
   "source": [
    "#ROC cenário 4\n",
    "\n",
    "paths_cen1 = [cen1_r+'met_k%d_l1_h1.csv' % x for x in [1,3,6]]\n",
    "paths_cen3 = [cen3_r+'met_k1_l1_h%d.csv' % x for x in [3,6]]\n",
    "paths_cen4 = [cen4_r+'met_k%d_l1_h%d.csv' %(x[0], x[1]) for x in list(itertools.product([3, 6], repeat=2))]\n",
    "paths = (paths_cen1+paths_cen3+paths_cen4)\n",
    "\n",
    "dfs_cen4 = []\n",
    "for path in paths:\n",
    "    dfs_cen4.append(pd.read_csv(path,index_col=0))\n",
    "    pd.read_csv(path,index_col=0)['tp_rate']\n",
    "    plt.show()"
   ]
  },
  {
   "cell_type": "code",
   "execution_count": null,
   "metadata": {},
   "outputs": [],
   "source": [
    "#ROC cenário 5"
   ]
  },
  {
   "cell_type": "code",
   "execution_count": 48,
   "metadata": {},
   "outputs": [],
   "source": [
    "df = pd.DataFrame([], columns=['Revocação', 'Precisão'])"
   ]
  },
  {
   "cell_type": "code",
   "execution_count": 65,
   "metadata": {},
   "outputs": [
    {
     "data": {
      "text/plain": [
       "3"
      ]
     },
     "execution_count": 65,
     "metadata": {},
     "output_type": "execute_result"
    }
   ],
   "source": [
    "list(itertools.product([3, 6], repeat=2))[0][0]"
   ]
  },
  {
   "cell_type": "code",
   "execution_count": 78,
   "metadata": {},
   "outputs": [
    {
     "data": {
      "text/plain": [
       "['cenarios_cba/media_movel/mean_2/cen1/rates/met_k1_l1_h1.csv',\n",
       " 'cenarios_cba/media_movel/mean_2/cen1/rates/met_k3_l1_h1.csv',\n",
       " 'cenarios_cba/media_movel/mean_2/cen1/rates/met_k6_l1_h1.csv',\n",
       " 'cenarios_cba/media_movel/mean_2/cen3/rates/met_k1_l1_h3.csv',\n",
       " 'cenarios_cba/media_movel/mean_2/cen3/rates/met_k1_l1_h6.csv',\n",
       " 'cenarios_cba/media_movel/mean_2/cen4/rates/met_k3_l1_h3.csv',\n",
       " 'cenarios_cba/media_movel/mean_2/cen4/rates/met_k3_l1_h6.csv',\n",
       " 'cenarios_cba/media_movel/mean_2/cen4/rates/met_k6_l1_h3.csv',\n",
       " 'cenarios_cba/media_movel/mean_2/cen4/rates/met_k6_l1_h6.csv']"
      ]
     },
     "execution_count": 78,
     "metadata": {},
     "output_type": "execute_result"
    }
   ],
   "source": [
    "sorted(paths)\n"
   ]
  }
 ],
 "metadata": {
  "kernelspec": {
   "display_name": "Python 3",
   "language": "python",
   "name": "python3"
  },
  "language_info": {
   "codemirror_mode": {
    "name": "ipython",
    "version": 3
   },
   "file_extension": ".py",
   "mimetype": "text/x-python",
   "name": "python",
   "nbconvert_exporter": "python",
   "pygments_lexer": "ipython3",
   "version": "3.6.4"
  }
 },
 "nbformat": 4,
 "nbformat_minor": 2
}
