{
 "cells": [
  {
   "cell_type": "code",
   "execution_count": 153,
   "metadata": {},
   "outputs": [],
   "source": [
    "import pandas as pd\n",
    "import numpy as np\n",
    "import matplotlib.pyplot as plt\n",
    "from mpl_toolkits.mplot3d import Axes3D"
   ]
  },
  {
   "cell_type": "code",
   "execution_count": 167,
   "metadata": {},
   "outputs": [
    {
     "data": {
      "text/html": [
       "<div>\n",
       "<style scoped>\n",
       "    .dataframe tbody tr th:only-of-type {\n",
       "        vertical-align: middle;\n",
       "    }\n",
       "\n",
       "    .dataframe tbody tr th {\n",
       "        vertical-align: top;\n",
       "    }\n",
       "\n",
       "    .dataframe thead th {\n",
       "        text-align: right;\n",
       "    }\n",
       "</style>\n",
       "<table border=\"1\" class=\"dataframe\">\n",
       "  <thead>\n",
       "    <tr style=\"text-align: right;\">\n",
       "      <th></th>\n",
       "      <th>tout</th>\n",
       "      <th>x1</th>\n",
       "      <th>x2</th>\n",
       "      <th>x3</th>\n",
       "      <th>x4</th>\n",
       "      <th>x5</th>\n",
       "      <th>x6</th>\n",
       "      <th>x7</th>\n",
       "      <th>x8</th>\n",
       "      <th>x9</th>\n",
       "      <th>...</th>\n",
       "      <th>x32</th>\n",
       "      <th>x33</th>\n",
       "      <th>x34</th>\n",
       "      <th>x35</th>\n",
       "      <th>x36</th>\n",
       "      <th>x37</th>\n",
       "      <th>x38</th>\n",
       "      <th>x39</th>\n",
       "      <th>x40</th>\n",
       "      <th>x41</th>\n",
       "    </tr>\n",
       "  </thead>\n",
       "  <tbody>\n",
       "    <tr>\n",
       "      <th>0</th>\n",
       "      <td>0.01</td>\n",
       "      <td>0.27103</td>\n",
       "      <td>3649.7</td>\n",
       "      <td>4451.3</td>\n",
       "      <td>9.2231</td>\n",
       "      <td>32.393</td>\n",
       "      <td>47.560</td>\n",
       "      <td>2799.0</td>\n",
       "      <td>64.996</td>\n",
       "      <td>122.90</td>\n",
       "      <td>...</td>\n",
       "      <td>0.89584</td>\n",
       "      <td>16.137</td>\n",
       "      <td>5.3961</td>\n",
       "      <td>6.6754</td>\n",
       "      <td>3.2645</td>\n",
       "      <td>0.010715</td>\n",
       "      <td>0.57472</td>\n",
       "      <td>0.18614</td>\n",
       "      <td>53.763</td>\n",
       "      <td>43.986</td>\n",
       "    </tr>\n",
       "    <tr>\n",
       "      <th>1</th>\n",
       "      <td>0.02</td>\n",
       "      <td>0.27185</td>\n",
       "      <td>3689.3</td>\n",
       "      <td>4444.5</td>\n",
       "      <td>9.2526</td>\n",
       "      <td>32.181</td>\n",
       "      <td>47.771</td>\n",
       "      <td>2799.1</td>\n",
       "      <td>64.358</td>\n",
       "      <td>122.89</td>\n",
       "      <td>...</td>\n",
       "      <td>0.89584</td>\n",
       "      <td>16.137</td>\n",
       "      <td>5.3961</td>\n",
       "      <td>6.6754</td>\n",
       "      <td>3.2645</td>\n",
       "      <td>0.010715</td>\n",
       "      <td>0.57472</td>\n",
       "      <td>0.18614</td>\n",
       "      <td>53.763</td>\n",
       "      <td>43.986</td>\n",
       "    </tr>\n",
       "    <tr>\n",
       "      <th>2</th>\n",
       "      <td>0.03</td>\n",
       "      <td>0.27124</td>\n",
       "      <td>3645.2</td>\n",
       "      <td>4444.6</td>\n",
       "      <td>9.2110</td>\n",
       "      <td>32.627</td>\n",
       "      <td>47.649</td>\n",
       "      <td>2799.0</td>\n",
       "      <td>63.644</td>\n",
       "      <td>122.92</td>\n",
       "      <td>...</td>\n",
       "      <td>0.89584</td>\n",
       "      <td>16.137</td>\n",
       "      <td>5.3961</td>\n",
       "      <td>6.6754</td>\n",
       "      <td>3.2645</td>\n",
       "      <td>0.010715</td>\n",
       "      <td>0.57472</td>\n",
       "      <td>0.18614</td>\n",
       "      <td>53.763</td>\n",
       "      <td>43.986</td>\n",
       "    </tr>\n",
       "    <tr>\n",
       "      <th>3</th>\n",
       "      <td>0.04</td>\n",
       "      <td>0.27062</td>\n",
       "      <td>3653.2</td>\n",
       "      <td>4459.6</td>\n",
       "      <td>9.3142</td>\n",
       "      <td>32.493</td>\n",
       "      <td>47.579</td>\n",
       "      <td>2798.6</td>\n",
       "      <td>64.830</td>\n",
       "      <td>122.92</td>\n",
       "      <td>...</td>\n",
       "      <td>0.89584</td>\n",
       "      <td>16.137</td>\n",
       "      <td>5.3961</td>\n",
       "      <td>6.6754</td>\n",
       "      <td>3.2645</td>\n",
       "      <td>0.010715</td>\n",
       "      <td>0.57472</td>\n",
       "      <td>0.18614</td>\n",
       "      <td>53.763</td>\n",
       "      <td>43.986</td>\n",
       "    </tr>\n",
       "    <tr>\n",
       "      <th>4</th>\n",
       "      <td>0.05</td>\n",
       "      <td>0.27134</td>\n",
       "      <td>3668.2</td>\n",
       "      <td>4486.7</td>\n",
       "      <td>9.2479</td>\n",
       "      <td>32.295</td>\n",
       "      <td>47.595</td>\n",
       "      <td>2799.2</td>\n",
       "      <td>64.585</td>\n",
       "      <td>122.90</td>\n",
       "      <td>...</td>\n",
       "      <td>0.89584</td>\n",
       "      <td>16.137</td>\n",
       "      <td>5.3961</td>\n",
       "      <td>6.6754</td>\n",
       "      <td>3.2645</td>\n",
       "      <td>0.010715</td>\n",
       "      <td>0.57472</td>\n",
       "      <td>0.18614</td>\n",
       "      <td>53.763</td>\n",
       "      <td>43.986</td>\n",
       "    </tr>\n",
       "  </tbody>\n",
       "</table>\n",
       "<p>5 rows × 42 columns</p>\n",
       "</div>"
      ],
      "text/plain": [
       "   tout       x1      x2      x3      x4      x5      x6      x7      x8  \\\n",
       "0  0.01  0.27103  3649.7  4451.3  9.2231  32.393  47.560  2799.0  64.996   \n",
       "1  0.02  0.27185  3689.3  4444.5  9.2526  32.181  47.771  2799.1  64.358   \n",
       "2  0.03  0.27124  3645.2  4444.6  9.2110  32.627  47.649  2799.0  63.644   \n",
       "3  0.04  0.27062  3653.2  4459.6  9.3142  32.493  47.579  2798.6  64.830   \n",
       "4  0.05  0.27134  3668.2  4486.7  9.2479  32.295  47.595  2799.2  64.585   \n",
       "\n",
       "       x9   ...        x32     x33     x34     x35     x36       x37      x38  \\\n",
       "0  122.90   ...    0.89584  16.137  5.3961  6.6754  3.2645  0.010715  0.57472   \n",
       "1  122.89   ...    0.89584  16.137  5.3961  6.6754  3.2645  0.010715  0.57472   \n",
       "2  122.92   ...    0.89584  16.137  5.3961  6.6754  3.2645  0.010715  0.57472   \n",
       "3  122.92   ...    0.89584  16.137  5.3961  6.6754  3.2645  0.010715  0.57472   \n",
       "4  122.90   ...    0.89584  16.137  5.3961  6.6754  3.2645  0.010715  0.57472   \n",
       "\n",
       "       x39     x40     x41  \n",
       "0  0.18614  53.763  43.986  \n",
       "1  0.18614  53.763  43.986  \n",
       "2  0.18614  53.763  43.986  \n",
       "3  0.18614  53.763  43.986  \n",
       "4  0.18614  53.763  43.986  \n",
       "\n",
       "[5 rows x 42 columns]"
      ]
     },
     "execution_count": 167,
     "metadata": {},
     "output_type": "execute_result"
    }
   ],
   "source": [
    "sim1 = pd.read_csv('newData/simout_1.csv')\n",
    "sim1.head()"
   ]
  },
  {
   "cell_type": "code",
   "execution_count": 509,
   "metadata": {},
   "outputs": [],
   "source": [
    "def sig_corr(x1, x2, wlag, t_amostragem):\n",
    "    correlations = np.zeros(wlag)\n",
    "    for i in np.arange(0, wlag):\n",
    "        correlations[i] = (1/(len(x1) - i))*np.dot(x1[i:],x2[:(len(x2) - i)])\n",
    "    return np.array([(np.argmax(correlations) + 1)*t_amostragem, np.max(correlations)])"
   ]
  },
  {
   "cell_type": "code",
   "execution_count": 510,
   "metadata": {
    "scrolled": true
   },
   "outputs": [
    {
     "data": {
      "text/plain": [
       "array([ 0.01      ,  8.66666667])"
      ]
     },
     "execution_count": 510,
     "metadata": {},
     "output_type": "execute_result"
    }
   ],
   "source": [
    "sig_corr(np.array([1,3,4]), np.array([1,3,4]), 2, 0.01)"
   ]
  },
  {
   "cell_type": "code",
   "execution_count": 521,
   "metadata": {},
   "outputs": [],
   "source": [
    "wlag = int(20/0.01)\n",
    "tam_m = len(sim1.columns[1:])\n",
    "m_corr = np.zeros((tam_m,tam_m), dtype=np.ndarray)\n",
    "for i, x in enumerate(sim1.columns[1:]):\n",
    "    for j, y in enumerate(sim1.columns[1:]):\n",
    "         m_corr[i][j] = sig_corr(np.array(sim1[x]), np.array(sim1[y]),wlag, 0.01)"
   ]
  },
  {
   "cell_type": "code",
   "execution_count": 517,
   "metadata": {},
   "outputs": [
    {
     "data": {
      "text/plain": [
       "array([ 40.        ,   0.07138961])"
      ]
     },
     "execution_count": 517,
     "metadata": {},
     "output_type": "execute_result"
    }
   ],
   "source": [
    "m_corr[0][0][:]"
   ]
  },
  {
   "cell_type": "code",
   "execution_count": 519,
   "metadata": {},
   "outputs": [
    {
     "data": {
      "image/png": "[encoded data removed]",
      "text/plain": [
       "<matplotlib.figure.Figure at 0x7f39fdfe41d0>"
      ]
     },
     "metadata": {},
     "output_type": "display_data"
    }
   ],
   "source": [
    "wlag = 2000\n",
    "correlations = np.zeros(wlag)\n",
    "for i in np.arange(0, wlag):\n",
    "    correlations[i] = (1/(len(sim1['x1']) - i))*np.dot(sim1['x1'][i:],sim1['x1'][:(len(sim1['x1']) - i)])\n",
    "plt.plot(correlations)\n",
    "plt.show()"
   ]
  }
 ],
 "metadata": {
  "kernelspec": {
   "display_name": "Python 3",
   "language": "python",
   "name": "python3"
  },
  "language_info": {
   "codemirror_mode": {
    "name": "ipython",
    "version": 3
   },
   "file_extension": ".py",
   "mimetype": "text/x-python",
   "name": "python",
   "nbconvert_exporter": "python",
   "pygments_lexer": "ipython3",
   "version": "3.6.3"
  }
 },
 "nbformat": 4,
 "nbformat_minor": 2
}
