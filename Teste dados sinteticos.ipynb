{
 "cells": [
  {
   "cell_type": "code",
   "execution_count": 160,
   "metadata": {},
   "outputs": [
    {
     "name": "stdout",
     "output_type": "stream",
     "text": [
      "Requirement already satisfied: graphviz in /home/rute/anaconda3/lib/python3.6/site-packages (0.8.4)\n",
      "Could not fetch URL https://pypi.org/simple/pip/: There was a problem confirming the ssl certificate: HTTPSConnectionPool(host='pypi.org', port=443): Max retries exceeded with url: /simple/pip/ (Caused by SSLError(SSLError(\"bad handshake: Error([('SSL routines', 'ssl3_get_server_certificate', 'certificate verify failed')],)\",),)) - skipping\n",
      "\u001b[33mRetrying (Retry(total=4, connect=None, read=None, redirect=None, status=None)) after connection broken by 'ConnectTimeoutError(<pip._vendor.urllib3.connection.VerifiedHTTPSConnection object at 0x7fd04b56b208>, 'Connection to pypi.org timed out. (connect timeout=15)')': /simple/pip/\u001b[0m\n",
      "\u001b[33mRetrying (Retry(total=3, connect=None, read=None, redirect=None, status=None)) after connection broken by 'SSLError(SSLError(\"bad handshake: Error([('SSL routines', 'ssl3_get_server_certificate', 'certificate verify failed')],)\",),)': /simple/pip/\u001b[0m\n",
      "\u001b[33mRetrying (Retry(total=2, connect=None, read=None, redirect=None, status=None)) after connection broken by 'SSLError(SSLError(\"bad handshake: Error([('SSL routines', 'ssl3_get_server_certificate', 'certificate verify failed')],)\",),)': /simple/pip/\u001b[0m\n",
      "\u001b[33mRetrying (Retry(total=1, connect=None, read=None, redirect=None, status=None)) after connection broken by 'SSLError(SSLError(\"bad handshake: Error([('SSL routines', 'ssl3_get_server_certificate', 'certificate verify failed')],)\",),)': /simple/pip/\u001b[0m\n",
      "\u001b[33mRetrying (Retry(total=0, connect=None, read=None, redirect=None, status=None)) after connection broken by 'SSLError(SSLError(\"bad handshake: Error([('SSL routines', 'ssl3_get_server_certificate', 'certificate verify failed')],)\",),)': /simple/pip/\u001b[0m\n",
      "Could not fetch URL https://pypi.org/simple/pip/: There was a problem confirming the ssl certificate: HTTPSConnectionPool(host='pypi.org', port=443): Max retries exceeded with url: /simple/pip/ (Caused by SSLError(SSLError(\"bad handshake: Error([('SSL routines', 'ssl3_get_server_certificate', 'certificate verify failed')],)\",),)) - skipping\n",
      "Requirement already up-to-date: pip in /home/rute/anaconda3/lib/python3.6/site-packages (18.1)\n"
     ]
    }
   ],
   "source": [
    "import pandas as pd \n",
    "import numpy as np\n",
    "import time\n",
    "import random\n",
    "import TransEntropy_mod as te\n",
    "import k2_alg as k2"
   ]
  },
  {
   "cell_type": "code",
   "execution_count": 149,
   "metadata": {},
   "outputs": [
    {
     "name": "stdout",
     "output_type": "stream",
     "text": [
      "30\n",
      "60\n"
     ]
    }
   ],
   "source": [
    "#A -> B -> C\n",
    "\n",
    "#time unity - min\n",
    "durA = 15\n",
    "durB = 20 \n",
    "durC = 15\n",
    "\n",
    "lagAB = 5\n",
    "lagBC = 10\n",
    "\n",
    "pA = 1\n",
    "pB = 1\n",
    "pC= 1\n",
    "\n",
    "sample = 0.5 #minutos\n",
    "total = 10\n",
    "\n",
    "count = 0 # 50 amostras neste ciclo\n",
    "\n",
    "A = np.zeros([60])\n",
    "B = np.zeros([60])\n",
    "C = np.zeros([60])\n",
    "#ciclo dos alarmes\n",
    "norm_pA = 0\n",
    "norm_pB = 0\n",
    "norm_pC = 0\n",
    "norm_pA = random.uniform(0,1)\n",
    "\n",
    "if norm_pA <= pA:\n",
    "    idxa_fim = int(count + durA*(1/sample))\n",
    "    A[count:idxa_fim] = np.ones([len(A[count:idxa_fim])])\n",
    "\n",
    "    norm_pB = random.uniform(0,1)\n",
    "    if norm_pB <= pB:\n",
    "        idxb_fim = int(count+(lagAB*2) + durB*(1/sample))\n",
    "        B[count+(lagAB*2):idxb_fim] = np.ones([len(B[count+(lagAB*2):idxb_fim])])\n",
    "        norm_pC = random.uniform(0,1)\n",
    "        idxc_fim = int(count+(lagAB+lagBC)*(1/sample) + durC*(1/sample))\n",
    "        if norm_pC <= pC:\n",
    "            print(count+(lagAB+lagBC)*2)  \n",
    "            print(idxc_fim)\n",
    "            C[count+(lagAB+lagBC)*2:idxc_fim] = np.ones([len(C[count+(lagAB+lagBC)*2:idxc_fim])])\n"
   ]
  },
  {
   "cell_type": "code",
   "execution_count": 150,
   "metadata": {},
   "outputs": [],
   "source": [
    "N = np.zeros(400)\n",
    "\n",
    "A = np.array(list(A) + list(N))\n",
    "B = np.array(list(B) + list(N))\n",
    "\n",
    "C = np.array(list(C) + list(N))"
   ]
  },
  {
   "cell_type": "code",
   "execution_count": 154,
   "metadata": {},
   "outputs": [],
   "source": [
    "df_process = pd.DataFrame(data=np.transpose([A,B,C]), columns=['a', 'b','c'] )"
   ]
  },
  {
   "cell_type": "code",
   "execution_count": 158,
   "metadata": {},
   "outputs": [],
   "source": [
    "df_process.to_csv('resultados_defesa/sintetic.csv')"
   ]
  },
  {
   "cell_type": "code",
   "execution_count": 164,
   "metadata": {},
   "outputs": [],
   "source": [
    "df_sintetico = pd.read_csv('resultados_defesa/sintetic.csv', index_col=0)"
   ]
  },
  {
   "cell_type": "code",
   "execution_count": 165,
   "metadata": {},
   "outputs": [],
   "source": [
    "te_matrix = te.transferEntropy_case(df_sintetico, 30, 1, 1)"
   ]
  },
  {
   "cell_type": "code",
   "execution_count": 189,
   "metadata": {},
   "outputs": [],
   "source": [
    "t = np.mean(te_matrix[0]) + 3*np.std(te_matrix[0])\n",
    "te_df = pd.DataFrame(data=te_matrix[0], columns = ['a','b', 'c'], index=['a','b','c'])\n",
    "te_lags = pd.DataFrame(data=te_matrix[1], columns = ['a','b', 'c'], index=['a','b','c'])\n",
    "te_vld = te.generate_df_valid_corrs?"
   ]
  },
  {
   "cell_type": "code",
   "execution_count": null,
   "metadata": {},
   "outputs": [],
   "source": [
    "te_vld = te.generate_df_valid_corrs"
   ]
  },
  {
   "cell_type": "code",
   "execution_count": 185,
   "metadata": {},
   "outputs": [],
   "source": [
    "te_vld = te.generate_df_valid_corrs(te_df, t)"
   ]
  },
  {
   "cell_type": "code",
   "execution_count": 186,
   "metadata": {},
   "outputs": [
    {
     "data": {
      "text/html": [
       "<div>\n",
       "<style scoped>\n",
       "    .dataframe tbody tr th:only-of-type {\n",
       "        vertical-align: middle;\n",
       "    }\n",
       "\n",
       "    .dataframe tbody tr th {\n",
       "        vertical-align: top;\n",
       "    }\n",
       "\n",
       "    .dataframe thead th {\n",
       "        text-align: right;\n",
       "    }\n",
       "</style>\n",
       "<table border=\"1\" class=\"dataframe\">\n",
       "  <thead>\n",
       "    <tr style=\"text-align: right;\">\n",
       "      <th></th>\n",
       "      <th>a</th>\n",
       "      <th>b</th>\n",
       "      <th>c</th>\n",
       "    </tr>\n",
       "  </thead>\n",
       "  <tbody>\n",
       "    <tr>\n",
       "      <th>a</th>\n",
       "      <td>0.0</td>\n",
       "      <td>0.0</td>\n",
       "      <td>0.0</td>\n",
       "    </tr>\n",
       "    <tr>\n",
       "      <th>b</th>\n",
       "      <td>0.0</td>\n",
       "      <td>0.0</td>\n",
       "      <td>0.0</td>\n",
       "    </tr>\n",
       "    <tr>\n",
       "      <th>c</th>\n",
       "      <td>0.0</td>\n",
       "      <td>0.0</td>\n",
       "      <td>0.0</td>\n",
       "    </tr>\n",
       "  </tbody>\n",
       "</table>\n",
       "</div>"
      ],
      "text/plain": [
       "     a    b    c\n",
       "a  0.0  0.0  0.0\n",
       "b  0.0  0.0  0.0\n",
       "c  0.0  0.0  0.0"
      ]
     },
     "execution_count": 186,
     "metadata": {},
     "output_type": "execute_result"
    }
   ],
   "source": [
    "te_vld"
   ]
  },
  {
   "cell_type": "code",
   "execution_count": 190,
   "metadata": {},
   "outputs": [
    {
     "ename": "RecursionError",
     "evalue": "maximum recursion depth exceeded while calling a Python object",
     "output_type": "error",
     "traceback": [
      "\u001b[0;31m---------------------------------------------------------------------------\u001b[0m",
      "\u001b[0;31mRecursionError\u001b[0m                            Traceback (most recent call last)",
      "\u001b[0;32m<ipython-input-190-936caf224369>\u001b[0m in \u001b[0;36m<module>\u001b[0;34m()\u001b[0m\n\u001b[0;32m----> 1\u001b[0;31m \u001b[0mdict_lags\u001b[0m \u001b[0;34m=\u001b[0m \u001b[0mte\u001b[0m\u001b[0;34m.\u001b[0m\u001b[0mget_all_shifts\u001b[0m\u001b[0;34m(\u001b[0m\u001b[0mte_df\u001b[0m\u001b[0;34m.\u001b[0m\u001b[0mcolumns\u001b[0m\u001b[0;34m,\u001b[0m\u001b[0mte_lags\u001b[0m\u001b[0;34m)\u001b[0m\u001b[0;34m\u001b[0m\u001b[0m\n\u001b[0m",
      "\u001b[0;32m~/git/pesquisa/TransEntropy_mod.py\u001b[0m in \u001b[0;36mget_all_shifts\u001b[0;34m(nodes, mat)\u001b[0m\n\u001b[1;32m    522\u001b[0m         \u001b[0mmat_cp\u001b[0m \u001b[0;34m=\u001b[0m \u001b[0mmat\u001b[0m\u001b[0;34m.\u001b[0m\u001b[0mcopy\u001b[0m\u001b[0;34m(\u001b[0m\u001b[0;34m)\u001b[0m\u001b[0;34m\u001b[0m\u001b[0m\n\u001b[1;32m    523\u001b[0m \u001b[0;31m#         if not np.all(mat_cp[node] == np.zeros(len(mat_cp))):\u001b[0m\u001b[0;34m\u001b[0m\u001b[0;34m\u001b[0m\u001b[0m\n\u001b[0;32m--> 524\u001b[0;31m         \u001b[0mdic\u001b[0m\u001b[0;34m[\u001b[0m\u001b[0mnode\u001b[0m\u001b[0;34m]\u001b[0m \u001b[0;34m=\u001b[0m \u001b[0mget_lags_ances_df\u001b[0m\u001b[0;34m(\u001b[0m\u001b[0mmat_cp\u001b[0m\u001b[0;34m,\u001b[0m \u001b[0mnode\u001b[0m\u001b[0;34m,\u001b[0m \u001b[0;36m0\u001b[0m\u001b[0;34m,\u001b[0m \u001b[0;34m{\u001b[0m\u001b[0;34m}\u001b[0m\u001b[0;34m,\u001b[0m \u001b[0;34m[\u001b[0m\u001b[0;34m]\u001b[0m\u001b[0;34m,\u001b[0m\u001b[0;34m{\u001b[0m\u001b[0;34m}\u001b[0m\u001b[0;34m)\u001b[0m\u001b[0;34m[\u001b[0m\u001b[0;36m0\u001b[0m\u001b[0;34m]\u001b[0m\u001b[0;34m\u001b[0m\u001b[0m\n\u001b[0m\u001b[1;32m    525\u001b[0m     \u001b[0;32mreturn\u001b[0m \u001b[0mdic\u001b[0m\u001b[0;34m\u001b[0m\u001b[0m\n\u001b[1;32m    526\u001b[0m \u001b[0;34m\u001b[0m\u001b[0m\n",
      "\u001b[0;32m~/git/pesquisa/TransEntropy_mod.py\u001b[0m in \u001b[0;36mget_lags_ances_df\u001b[0;34m(mat, idx, soma, dict_lags, lista, dict_caminhos)\u001b[0m\n\u001b[1;32m    509\u001b[0m                 \u001b[0mdict_caminhos\u001b[0m\u001b[0;34m[\u001b[0m\u001b[0mmat\u001b[0m\u001b[0;34m.\u001b[0m\u001b[0mcolumns\u001b[0m\u001b[0;34m[\u001b[0m\u001b[0mi\u001b[0m\u001b[0;34m]\u001b[0m\u001b[0;34m]\u001b[0m\u001b[0;34m=\u001b[0m \u001b[0;34m[\u001b[0m\u001b[0mlista\u001b[0m\u001b[0;34m]\u001b[0m\u001b[0;34m\u001b[0m\u001b[0m\n\u001b[1;32m    510\u001b[0m \u001b[0;34m\u001b[0m\u001b[0m\n\u001b[0;32m--> 511\u001b[0;31m             \u001b[0mget_lags_ances_df\u001b[0m\u001b[0;34m(\u001b[0m\u001b[0mmat\u001b[0m\u001b[0;34m,\u001b[0m \u001b[0mmat\u001b[0m\u001b[0;34m.\u001b[0m\u001b[0mcolumns\u001b[0m\u001b[0;34m[\u001b[0m\u001b[0mi\u001b[0m\u001b[0;34m]\u001b[0m\u001b[0;34m,\u001b[0m \u001b[0msoma\u001b[0m\u001b[0;34m,\u001b[0m \u001b[0mdict_lags\u001b[0m\u001b[0;34m,\u001b[0m \u001b[0mlista\u001b[0m\u001b[0;34m[\u001b[0m\u001b[0;34m:\u001b[0m\u001b[0;34m]\u001b[0m\u001b[0;34m,\u001b[0m \u001b[0mdict_caminhos\u001b[0m\u001b[0;34m)\u001b[0m\u001b[0;34m\u001b[0m\u001b[0m\n\u001b[0m\u001b[1;32m    512\u001b[0m             \u001b[0msoma\u001b[0m \u001b[0;34m-=\u001b[0m \u001b[0mdad_lag\u001b[0m\u001b[0;34m\u001b[0m\u001b[0m\n\u001b[1;32m    513\u001b[0m \u001b[0;34m\u001b[0m\u001b[0m\n",
      "... last 1 frames repeated, from the frame below ...\n",
      "\u001b[0;32m~/git/pesquisa/TransEntropy_mod.py\u001b[0m in \u001b[0;36mget_lags_ances_df\u001b[0;34m(mat, idx, soma, dict_lags, lista, dict_caminhos)\u001b[0m\n\u001b[1;32m    509\u001b[0m                 \u001b[0mdict_caminhos\u001b[0m\u001b[0;34m[\u001b[0m\u001b[0mmat\u001b[0m\u001b[0;34m.\u001b[0m\u001b[0mcolumns\u001b[0m\u001b[0;34m[\u001b[0m\u001b[0mi\u001b[0m\u001b[0;34m]\u001b[0m\u001b[0;34m]\u001b[0m\u001b[0;34m=\u001b[0m \u001b[0;34m[\u001b[0m\u001b[0mlista\u001b[0m\u001b[0;34m]\u001b[0m\u001b[0;34m\u001b[0m\u001b[0m\n\u001b[1;32m    510\u001b[0m \u001b[0;34m\u001b[0m\u001b[0m\n\u001b[0;32m--> 511\u001b[0;31m             \u001b[0mget_lags_ances_df\u001b[0m\u001b[0;34m(\u001b[0m\u001b[0mmat\u001b[0m\u001b[0;34m,\u001b[0m \u001b[0mmat\u001b[0m\u001b[0;34m.\u001b[0m\u001b[0mcolumns\u001b[0m\u001b[0;34m[\u001b[0m\u001b[0mi\u001b[0m\u001b[0;34m]\u001b[0m\u001b[0;34m,\u001b[0m \u001b[0msoma\u001b[0m\u001b[0;34m,\u001b[0m \u001b[0mdict_lags\u001b[0m\u001b[0;34m,\u001b[0m \u001b[0mlista\u001b[0m\u001b[0;34m[\u001b[0m\u001b[0;34m:\u001b[0m\u001b[0;34m]\u001b[0m\u001b[0;34m,\u001b[0m \u001b[0mdict_caminhos\u001b[0m\u001b[0;34m)\u001b[0m\u001b[0;34m\u001b[0m\u001b[0m\n\u001b[0m\u001b[1;32m    512\u001b[0m             \u001b[0msoma\u001b[0m \u001b[0;34m-=\u001b[0m \u001b[0mdad_lag\u001b[0m\u001b[0;34m\u001b[0m\u001b[0m\n\u001b[1;32m    513\u001b[0m \u001b[0;34m\u001b[0m\u001b[0m\n",
      "\u001b[0;31mRecursionError\u001b[0m: maximum recursion depth exceeded while calling a Python object"
     ]
    }
   ],
   "source": [
    "dict_lags = te.get_all_shifts(te_df.columns,te_lags)"
   ]
  },
  {
   "cell_type": "code",
   "execution_count": null,
   "metadata": {},
   "outputs": [],
   "source": [
    "dict_lags = te.get_all_shifts"
   ]
  }
 ],
 "metadata": {
  "kernelspec": {
   "display_name": "Python 3",
   "language": "python",
   "name": "python3"
  },
  "language_info": {
   "codemirror_mode": {
    "name": "ipython",
    "version": 3
   },
   "file_extension": ".py",
   "mimetype": "text/x-python",
   "name": "python",
   "nbconvert_exporter": "python",
   "pygments_lexer": "ipython3",
   "version": "3.6.5"
  }
 },
 "nbformat": 4,
 "nbformat_minor": 2
}
