{
 "cells": [
  {
   "cell_type": "code",
   "execution_count": 2,
   "metadata": {},
   "outputs": [],
   "source": [
    "import pandas as pd\n",
    "import numpy as np"
   ]
  },
  {
   "cell_type": "code",
   "execution_count": 15,
   "metadata": {},
   "outputs": [],
   "source": [
    "dist6 = pd.read_csv(\"dist6_3horas_sig/proc.csv\")\n",
    "dist = dist6[['xmeas%02d' % x for x in [1,2,3,6,7,8,9,21]]]\n"
   ]
  },
  {
   "cell_type": "code",
   "execution_count": 16,
   "metadata": {},
   "outputs": [],
   "source": [
    "def sig_corr(x1, x2, wlag):\n",
    "    correlations = np.zeros(wlag)\n",
    "    for i in np.arange(0, wlag):\n",
    "        correlations[i] = (1/(len(x1) - i))*np.dot(x1[i:],x2[:(len(x2) - i)])\n",
    "    max_index = np.argmax(np.abs(correlations))\n",
    "    return max_index"
   ]
  },
  {
   "cell_type": "code",
   "execution_count": 17,
   "metadata": {},
   "outputs": [
    {
     "data": {
      "text/plain": [
       "0.0"
      ]
     },
     "execution_count": 17,
     "metadata": {},
     "output_type": "execute_result"
    }
   ],
   "source": [
    "mat = np.zeros([8,8])\n",
    "mat[0,0]"
   ]
  },
  {
   "cell_type": "code",
   "execution_count": 14,
   "metadata": {},
   "outputs": [
    {
     "data": {
      "text/plain": [
       "16"
      ]
     },
     "execution_count": 14,
     "metadata": {},
     "output_type": "execute_result"
    }
   ],
   "source": [
    "len(dist.columns)"
   ]
  },
  {
   "cell_type": "code",
   "execution_count": 22,
   "metadata": {},
   "outputs": [],
   "source": [
    "for i, col in enumerate(dist.columns):\n",
    "    for j, col in enumerate(dist.columns):\n",
    "        mat[i,j] = sig_corr(dist[col], dist[col],200) "
   ]
  },
  {
   "cell_type": "code",
   "execution_count": 23,
   "metadata": {},
   "outputs": [
    {
     "data": {
      "text/plain": [
       "array([[ 0.,  0.,  0.,  0.,  0.,  0., 51.,  0.],\n",
       "       [ 0.,  0.,  0.,  0.,  0.,  0., 51.,  0.],\n",
       "       [ 0.,  0.,  0.,  0.,  0.,  0., 51.,  0.],\n",
       "       [ 0.,  0.,  0.,  0.,  0.,  0., 51.,  0.],\n",
       "       [ 0.,  0.,  0.,  0.,  0.,  0., 51.,  0.],\n",
       "       [ 0.,  0.,  0.,  0.,  0.,  0., 51.,  0.],\n",
       "       [ 0.,  0.,  0.,  0.,  0.,  0., 51.,  0.],\n",
       "       [ 0.,  0.,  0.,  0.,  0.,  0., 51.,  0.]])"
      ]
     },
     "execution_count": 23,
     "metadata": {},
     "output_type": "execute_result"
    }
   ],
   "source": [
    "mat"
   ]
  }
 ],
 "metadata": {
  "kernelspec": {
   "display_name": "Python 3",
   "language": "python",
   "name": "python3"
  },
  "language_info": {
   "codemirror_mode": {
    "name": "ipython",
    "version": 3
   },
   "file_extension": ".py",
   "mimetype": "text/x-python",
   "name": "python",
   "nbconvert_exporter": "python",
   "pygments_lexer": "ipython3",
   "version": "3.7.0"
  }
 },
 "nbformat": 4,
 "nbformat_minor": 2
}
