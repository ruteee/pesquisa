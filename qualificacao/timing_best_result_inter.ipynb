{
 "cells": [
  {
   "cell_type": "code",
   "execution_count": 1,
   "metadata": {},
   "outputs": [],
   "source": [
    "import pandas as pd \n",
    "import numpy as np\n",
    "import timeit\n"
   ]
  },
  {
   "cell_type": "code",
   "execution_count": 2,
   "metadata": {},
   "outputs": [],
   "source": [
    "def app_roll_mean(df, window):\n",
    "    roll  = df.rolling(window).mean() \n",
    "    roll.dropna(inplace=True)\n",
    "    roll = roll.round(decimals=0).copy()\n",
    "    roll.reset_index(drop=True, inplace=True)\n",
    "    return roll.copy()"
   ]
  },
  {
   "cell_type": "code",
   "execution_count": 3,
   "metadata": {},
   "outputs": [],
   "source": [
    "#guess window_lag = ceil(delay_b_c/t_sample)\n",
    "\n",
    "def interrelation(window_lag, matrix):\n",
    "    #window_lag =  5#shoud be minor than size of the series\n",
    "    count_occor = 0;\n",
    "    corr_mat = np.zeros([matrix.shape[1],matrix.shape[1]], dtype=float)\n",
    "    alrms = {}\n",
    "    for i in np.arange(0, matrix.shape[1]):\n",
    "        alrms[i] = matrix[:,i]\n",
    "    #print(alrms)\n",
    "    for idx_caus, value in alrms.items():\n",
    "        reduced_alarms = alrms.copy()\n",
    "        del reduced_alarms[idx_caus]\n",
    "        for idx_occor_caus, occor in enumerate(value):\n",
    "            if occor == 1:\n",
    "                if(idx_occor_caus+window_lag < len(value)):\n",
    "                    count_occor = count_occor + 1\n",
    "                    for idx_fct, alm_redu in reduced_alarms.items():\n",
    "                        counted = False\n",
    "                        for idx_occor_fct in np.arange(idx_occor_caus+1, idx_occor_caus+1+window_lag):\n",
    "                            if alm_redu[idx_occor_fct] == 1 and  not counted:\n",
    "                                counted = True\n",
    "                                corr_mat[idx_caus][idx_fct] = corr_mat[idx_caus][idx_fct]+1\n",
    "        if count_occor > 0: \n",
    "            corr_mat[idx_caus] = corr_mat[idx_caus]/count_occor\n",
    "            count_occor = 0\n",
    "    return corr_mat"
   ]
  },
  {
   "cell_type": "code",
   "execution_count": 4,
   "metadata": {},
   "outputs": [],
   "source": [
    "cen_normal = \"normal/inter/\"\n",
    "cen_media2 = \"mean2/inter/\"\n",
    "cen_media5 = \"mean5/inter/\""
   ]
  },
  {
   "cell_type": "code",
   "execution_count": 5,
   "metadata": {},
   "outputs": [],
   "source": [
    "dist6_novo = pd.read_csv(\"../dist6_3horas_sig/alm_seq.csv\")\n",
    "dist = dist6_novo[['xmeas%02d_low' % x for x in [1,2,3,8,9,21]] + ['xmeas%02d_high' % x for x in [1,2,3,8,9,21]]]"
   ]
  },
  {
   "cell_type": "code",
   "execution_count": 6,
   "metadata": {},
   "outputs": [],
   "source": [
    "df_mean2 = app_roll_mean(dist, 2)\n",
    "df_mean5 = app_roll_mean(dist, 5)\n",
    "w = 33 #~- 20 minutes"
   ]
  },
  {
   "cell_type": "code",
   "execution_count": 13,
   "metadata": {},
   "outputs": [
    {
     "name": "stdout",
     "output_type": "stream",
     "text": [
      "1.91 s ± 35.3 ms per loop (mean ± std. dev. of 100 runs, 1 loop each)\n"
     ]
    }
   ],
   "source": [
    "%timeit -r100 interrelation(w, dist.as_matrix())"
   ]
  },
  {
   "cell_type": "code",
   "execution_count": 25,
   "metadata": {},
   "outputs": [],
   "source": [
    "time_exec_series =  pd.Series(timeit.timeit(lambda : interrelation(w, dist.as_matrix()), number =100))\n",
    "df_normal_time = pd.DataFrame(time_exec_series, columns=['Tempo (s)'])\n",
    "df_normal_time.to_csv(cen_normal+\"df_normal_time.csv\")"
   ]
  },
  {
   "cell_type": "code",
   "execution_count": 20,
   "metadata": {},
   "outputs": [],
   "source": []
  },
  {
   "cell_type": "code",
   "execution_count": 12,
   "metadata": {},
   "outputs": [
    {
     "name": "stdout",
     "output_type": "stream",
     "text": [
      "1.54 s ± 22.9 ms per loop (mean ± std. dev. of 100 runs, 1 loop each)\n"
     ]
    }
   ],
   "source": [
    "%timeit -r100 interrelation(w, df_mean2.as_matrix())"
   ]
  },
  {
   "cell_type": "code",
   "execution_count": 26,
   "metadata": {},
   "outputs": [],
   "source": [
    "time_exec_series =  pd.Series(timeit.timeit(lambda : interrelation(w, df_mean2.as_matrix()), number= 100))\n",
    "df_mean2_time = pd.DataFrame(time_exec_series, columns=['Tempo (s)'])\n",
    "df_mean2_time.to_csv(cen_media2+\"df_media2_time.csv\")"
   ]
  },
  {
   "cell_type": "code",
   "execution_count": null,
   "metadata": {},
   "outputs": [],
   "source": []
  },
  {
   "cell_type": "code",
   "execution_count": 11,
   "metadata": {},
   "outputs": [
    {
     "name": "stdout",
     "output_type": "stream",
     "text": [
      "1.67 s ± 21 ms per loop (mean ± std. dev. of 100 runs, 1 loop each)\n"
     ]
    }
   ],
   "source": [
    "%timeit -r100 interrelation(w, df_mean5.as_matrix())"
   ]
  },
  {
   "cell_type": "code",
   "execution_count": 27,
   "metadata": {},
   "outputs": [],
   "source": [
    "time_exec_series =  pd.Series(timeit.timeit(lambda : interrelation(w, df_mean5.as_matrix()), number=100))\n",
    "df_mean5_time = pd.DataFrame(time_exec_series, columns=['Tempo (s)'])\n",
    "df_mean5_time.to_csv(cen_media5+\"df_media5_time.csv\")"
   ]
  }
 ],
 "metadata": {
  "kernelspec": {
   "display_name": "Python 3",
   "language": "python",
   "name": "python3"
  },
  "language_info": {
   "codemirror_mode": {
    "name": "ipython",
    "version": 3
   },
   "file_extension": ".py",
   "mimetype": "text/x-python",
   "name": "python",
   "nbconvert_exporter": "python",
   "pygments_lexer": "ipython3",
   "version": "3.6.5"
  }
 },
 "nbformat": 4,
 "nbformat_minor": 2
}
