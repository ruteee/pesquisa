{
 "cells": [
  {
   "cell_type": "code",
   "execution_count": 1,
   "metadata": {},
   "outputs": [],
   "source": [
    "import pandas as pd\n",
    "import numpy as np"
   ]
  },
  {
   "cell_type": "code",
   "execution_count": null,
   "metadata": {},
   "outputs": [],
   "source": [
    "cen_normal = \"../cenarios/cen_nova_versao/normal/\"\n",
    "cen_media2 = \"../cenarios/cen_nova_versao/media2/\"\n",
    "cen_media5 = \"../cenarios/cen_nova_versao/media5/\"\n",
    "\n",
    "cen_normal_rate = cen_normal+\"rates/\"\n",
    "cen_media2_rate = cen_media2+\"rates/\"\n",
    "cen_media5_rate = cen_media5+\"rates/\""
   ]
  },
  {
   "cell_type": "code",
   "execution_count": null,
   "metadata": {},
   "outputs": [],
   "source": [
    "def eval_save_metrics(path_cen, path_cen_rate):\n",
    "    all_settings = ['w' %(w) for w in [8,16,25,33,41,50]]\n",
    "   \n",
    "    for setting in (all_settings):\n",
    "        conf = generate_conf_df(pd.read_csv(path_cen+setting+\"_sel_corrs.csv\", index_col=0), ref_df)\n",
    "        conf.to_csv(path_cen_rate+\"conf_\"+setting+\".csv\")\n",
    "        \n",
    "        df_met = pd.DataFrame([[tp_rate(conf), fp_rate(conf), precision(conf)]], columns = ['tp_rate', 'fp_rate', 'precisao'])\n",
    "        df_met.to_csv(path_cen_rate+\"metricas_\"+setting+\".csv\")\n",
    "        \n",
    "        fp_rates.append(fp_rate(conf))\n",
    "        tp_rates.append(tp_rate(conf))\n",
    "        precision_vals.append(precision(conf))\n",
    "    df_all_sets = pd.DataFrame({'tp_rates': tp_rates, 'fp_rates': fp_rates, 'precision_vals': precision_vals})\n",
    "    df_all_sets.to_csv(path_cen_rate+'all_metrics.csv')\n",
    "        #print(setting,df_met*100)"
   ]
  },
  {
   "cell_type": "code",
   "execution_count": null,
   "metadata": {},
   "outputs": [],
   "source": [
    "def metrics_plots(cen_rate_path):\n",
    "    all_cen = ['k%d_l%d_h%d' %(x,y,z) for z in [1,2,3] for x,y in zip([1,2,3,4,5,6],[1,2,3,4,5,6])]\n",
    "    df_var_h = pd.DataFrame(columns=['tp_rate', 'fp_rate', 'precisao', 'fn_rate', 'total_error', 'f1_score'], index=np.arange(1,7))\n",
    "    dfs = []\n",
    "    count_cen = 0\n",
    "    for cen in all_cen:\n",
    "        df_var_h.iloc[count_cen] = (pd.read_csv(cen_rate_path+\"metricas_\"+cen+\".csv\", index_col=0).loc[0]).apply(lambda x: np.round(x,3)*100)\n",
    "        count_cen +=1        \n",
    "        if count_cen > 5:\n",
    "            count_cen = 0\n",
    "            dfs.append(df_var_h)\n",
    "            display(df_var_h)\n",
    "            df_var_h = pd.DataFrame(columns=['tp_rate', 'fp_rate', 'precisao', 'fn_rate', 'total_error', 'f1_score'], index=np.arange(1,7))"
   ]
  }
 ],
 "metadata": {
  "kernelspec": {
   "display_name": "Python 3",
   "language": "python",
   "name": "python3"
  },
  "language_info": {
   "codemirror_mode": {
    "name": "ipython",
    "version": 3
   },
   "file_extension": ".py",
   "mimetype": "text/x-python",
   "name": "python",
   "nbconvert_exporter": "python",
   "pygments_lexer": "ipython3",
   "version": "3.6.4"
  }
 },
 "nbformat": 4,
 "nbformat_minor": 2
}
