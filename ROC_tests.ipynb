{
 "cells": [
  {
   "cell_type": "code",
   "execution_count": 83,
   "metadata": {},
   "outputs": [
    {
     "name": "stdout",
     "output_type": "stream",
     "text": [
      "Collecting plotly\n",
      "\u001b[?25l  Downloading https://files.pythonhosted.org/packages/d6/3b/abec247e24e2b8f29793811788fe0607062f40eefe3104823ad57f06ecf1/plotly-3.3.0-py2.py3-none-any.whl (37.3MB)\n",
      "\u001b[K    100% |████████████████████████████████| 37.3MB 741kB/s ta 0:00:011\n",
      "\u001b[?25hRequirement already satisfied: decorator>=4.0.6 in /home/rute/anaconda3/envs/pesquisa/lib/python3.7/site-packages (from plotly) (4.3.0)\n",
      "Collecting requests (from plotly)\n",
      "\u001b[?25l  Downloading https://files.pythonhosted.org/packages/f1/ca/10332a30cb25b627192b4ea272c351bce3ca1091e541245cccbace6051d8/requests-2.20.0-py2.py3-none-any.whl (60kB)\n",
      "\u001b[K    100% |████████████████████████████████| 61kB 13.0MB/s ta 0:00:01\n",
      "\u001b[?25hRequirement already satisfied: pytz in /home/rute/anaconda3/envs/pesquisa/lib/python3.7/site-packages (from plotly) (2018.5)\n",
      "Requirement already satisfied: six in /home/rute/anaconda3/envs/pesquisa/lib/python3.7/site-packages (from plotly) (1.11.0)\n",
      "Collecting retrying>=1.3.3 (from plotly)\n",
      "  Downloading https://files.pythonhosted.org/packages/44/ef/beae4b4ef80902f22e3af073397f079c96969c69b2c7d52a57ea9ae61c9d/retrying-1.3.3.tar.gz\n",
      "Requirement already satisfied: nbformat>=4.2 in /home/rute/anaconda3/envs/pesquisa/lib/python3.7/site-packages (from plotly) (4.4.0)\n",
      "Collecting urllib3<1.25,>=1.21.1 (from requests->plotly)\n",
      "\u001b[?25l  Downloading https://files.pythonhosted.org/packages/8c/4b/5cbc4cb46095f369117dcb751821e1bef9dd86a07c968d8757e9204c324c/urllib3-1.24-py2.py3-none-any.whl (117kB)\n",
      "\u001b[K    100% |████████████████████████████████| 122kB 14.1MB/s ta 0:00:01\n",
      "\u001b[?25hCollecting idna<2.8,>=2.5 (from requests->plotly)\n",
      "\u001b[?25l  Downloading https://files.pythonhosted.org/packages/4b/2a/0276479a4b3caeb8a8c1af2f8e4355746a97fab05a372e4a2c6a6b876165/idna-2.7-py2.py3-none-any.whl (58kB)\n",
      "\u001b[K    100% |████████████████████████████████| 61kB 12.6MB/s ta 0:00:01\n",
      "\u001b[?25hRequirement already satisfied: certifi>=2017.4.17 in /home/rute/anaconda3/envs/pesquisa/lib/python3.7/site-packages (from requests->plotly) (2018.10.15)\n",
      "Collecting chardet<3.1.0,>=3.0.2 (from requests->plotly)\n",
      "\u001b[?25l  Downloading https://files.pythonhosted.org/packages/bc/a9/01ffebfb562e4274b6487b4bb1ddec7ca55ec7510b22e4c51f14098443b8/chardet-3.0.4-py2.py3-none-any.whl (133kB)\n",
      "\u001b[K    100% |████████████████████████████████| 143kB 13.8MB/s ta 0:00:01\n",
      "\u001b[?25hRequirement already satisfied: traitlets>=4.1 in /home/rute/anaconda3/envs/pesquisa/lib/python3.7/site-packages (from nbformat>=4.2->plotly) (4.3.2)\n",
      "Requirement already satisfied: ipython-genutils in /home/rute/anaconda3/envs/pesquisa/lib/python3.7/site-packages (from nbformat>=4.2->plotly) (0.2.0)\n",
      "Requirement already satisfied: jsonschema!=2.5.0,>=2.4 in /home/rute/anaconda3/envs/pesquisa/lib/python3.7/site-packages (from nbformat>=4.2->plotly) (2.6.0)\n",
      "Requirement already satisfied: jupyter-core in /home/rute/anaconda3/envs/pesquisa/lib/python3.7/site-packages (from nbformat>=4.2->plotly) (4.4.0)\n",
      "Building wheels for collected packages: retrying\n",
      "  Running setup.py bdist_wheel for retrying ... \u001b[?25ldone\n",
      "\u001b[?25h  Stored in directory: /home/rute/.cache/pip/wheels/d7/a9/33/acc7b709e2a35caa7d4cae442f6fe6fbf2c43f80823d46460c\n",
      "Successfully built retrying\n",
      "\u001b[31mmkl-random 1.0.1 requires cython, which is not installed.\u001b[0m\n",
      "Installing collected packages: urllib3, idna, chardet, requests, retrying, plotly\n",
      "Successfully installed chardet-3.0.4 idna-2.7 plotly-3.3.0 requests-2.20.0 retrying-1.3.3 urllib3-1.24\n",
      "\u001b[33mYou are using pip version 10.0.1, however version 18.1 is available.\n",
      "You should consider upgrading via the 'pip install --upgrade pip' command.\u001b[0m\n"
     ]
    }
   ],
   "source": [
    "!pip install plotly "
   ]
  },
  {
   "cell_type": "code",
   "execution_count": null,
   "metadata": {},
   "outputs": [],
   "source": [
    "plotly.tools.set_credentials_file(username='rute.s.abreu', api_key='RZlLRB2Kzqcyo3xpzGjc')"
   ]
  },
  {
   "cell_type": "code",
   "execution_count": 86,
   "metadata": {},
   "outputs": [],
   "source": [
    "import pandas as pd\n",
    "import matplotlib.pyplot as plt\n",
    "import numpy as np\n",
    "\n",
    "import plotly\n",
    "\n",
    "import plotly.plotly as py\n",
    "import plotly.graph_objs as go"
   ]
  },
  {
   "cell_type": "code",
   "execution_count": 2,
   "metadata": {},
   "outputs": [],
   "source": [
    "col_labels = ['xmeas%02d_low' % x for x in [1,2,3,8,9,21]]+ ['xmeas%02d_high' % x for x in [1,2,3,8,9,21]] \n",
    "df_mat = np.zeros([12,12], dtype=int)\n",
    "\n",
    "ref_df = pd.DataFrame(df_mat, columns = col_labels, index=col_labels)\n",
    "ref_df.loc['xmeas01_low'][['xmeas21_high', 'xmeas09_low']] = [1,1]\n",
    "ref_df.loc['xmeas09_low']['xmeas21_high'] = 1\n",
    "\n",
    "ref_df.loc['xmeas01_high'][['xmeas21_low', 'xmeas09_high']] = [1,1]\n",
    "ref_df.loc['xmeas09_high']['xmeas21_low'] = 1"
   ]
  },
  {
   "cell_type": "code",
   "execution_count": 3,
   "metadata": {},
   "outputs": [],
   "source": [
    "def generate_conf_df(df, df_ref):\n",
    "    confMatrix = np.zeros([2,2], dtype=int)\n",
    "     \n",
    "    for col, col_ref, j_index in zip(df.columns, df_ref.columns,  np.arange(0,len(df.columns))):\n",
    "        for row, row_ref, index in zip(df[col], df_ref[col_ref], np.arange(0,len(df.columns))):\n",
    "            if(j_index != index + df.columns.size/2 and j_index!=index and j_index != index - df.columns.size/2):\n",
    "                if row == row_ref and row == 0:\n",
    "                    confMatrix[1,1] += 1\n",
    "                elif row == row_ref and row == 1:\n",
    "                    confMatrix[0,0] += 1\n",
    "                elif row != row_ref and row == 1:\n",
    "                    confMatrix[0,1] += 1\n",
    "                else:\n",
    "                    confMatrix[1,0]+= 1 \n",
    "    return pd.DataFrame(confMatrix,columns=[\"p\", \"n\"], index = [\"Y\", \"N\"])"
   ]
  },
  {
   "cell_type": "code",
   "execution_count": 4,
   "metadata": {},
   "outputs": [],
   "source": [
    "#roc fp*tp\n",
    "\n",
    "def fp_rate(conf_df): #type 1 - error\n",
    "    return conf_df[\"n\"][\"Y\"]/(conf_df[\"n\"][\"Y\"]+ conf_df[\"n\"][\"N\"])\n",
    "\n",
    "def tp_rate(conf_df): #since it is positive what are the odds of being classsified as positive - recall\n",
    "    return conf_df['p']['Y']/(conf_df['p']['Y'] + conf_df['p']['N'])\n",
    "\n",
    "def precision(conf_df): #from those i choose as correct, how many really were\n",
    "    return conf_df['p']['Y']/(conf_df['p']['Y'] + conf_df['n']['Y'])\n",
    "\n",
    "def fn_rate(conf_df): #type 2 error\n",
    "    return (1 - fp_rate(conf_df))\n",
    "\n"
   ]
  },
  {
   "cell_type": "code",
   "execution_count": 5,
   "metadata": {},
   "outputs": [],
   "source": [
    "def generate_df_valid_corrs(df, limit):\n",
    "    df_valid = pd.DataFrame(np.zeros([df.shape[0], df.shape[1]], dtype=int), columns = df.columns, index= df.columns)\n",
    "    for row in df.columns:\n",
    "        for col in df.columns:\n",
    "            if df[row][col] > limit:\n",
    "                df_valid[row][col] = 1\n",
    "                \n",
    "    return df_valid "
   ]
  },
  {
   "cell_type": "code",
   "execution_count": 103,
   "metadata": {},
   "outputs": [
    {
     "data": {
      "text/html": [
       "<iframe id=\"igraph\" scrolling=\"no\" style=\"border:none;\" seamless=\"seamless\" src=\"https://plot.ly/~rute.s.abreu/4.embed\" height=\"525px\" width=\"100%\"></iframe>"
      ],
      "text/plain": [
       "<plotly.tools.PlotlyDisplay object>"
      ]
     },
     "execution_count": 103,
     "metadata": {},
     "output_type": "execute_result"
    }
   ],
   "source": [
    "t_levels = []\n",
    "\n",
    "te_m5_h50 = pd.read_csv(\"resultados_defesa/te_m5_h50.csv\", index_col=0)\n",
    "t0 = np.mean(te_m5_h50.mean()) + 3* np.std(te_m5_h50.std())\n",
    "t1 = np.mean(te_m5_h50.mean()) + 2* np.std(te_m5_h50.std())\n",
    "t2 = np.mean(te_m5_h50.mean()) + np.std(te_m5_h50.std())\n",
    "\n",
    "t_levels.append(t0)\n",
    "t_levels.append(t1)\n",
    "t_levels.append(t2)\n",
    "\n",
    "conf_df = pd.DataFrame()\n",
    "valid = pd.DataFrame()\n",
    "fpr = [] \n",
    "tpr = []\n",
    "\n",
    "levels = list(te_m5_h50.values.flatten())\n",
    "levels.sort(reverse=True)\n",
    "level_rates = []\n",
    "\n",
    "for level in levels :\n",
    "    valid = generate_df_valid_corrs(te_m5_h50, level)\n",
    "    conf_df = generate_conf_df(valid, ref_df)\n",
    "    fpr.append(fp_rate(conf_df))\n",
    "    tpr.append(tp_rate(conf_df))\n",
    "    level_rates.append([fp_rate(conf_df),tp_rate(conf_df), level])\n",
    "\n",
    "trace = go.Scatter(x = fpr, y = tpr)\n",
    "\n",
    "py.iplot([trace])\n",
    " "
   ]
  },
  {
   "cell_type": "code",
   "execution_count": 105,
   "metadata": {},
   "outputs": [],
   "source": [
    "level_chsd = 0.01816308533330481"
   ]
  },
  {
   "cell_type": "code",
   "execution_count": 107,
   "metadata": {},
   "outputs": [
    {
     "data": {
      "text/plain": [
       "[[0.0, 0.0, 0.3987931046471108],\n",
       " [0.008771929824561403, 0.0, 0.15256422399391975],\n",
       " [0.017543859649122806, 0.0, 0.13618717255543394],\n",
       " [0.02631578947368421, 0.0, 0.13387294151521045],\n",
       " [0.03508771929824561, 0.0, 0.12462660239906605],\n",
       " [0.043859649122807015, 0.0, 0.09862151654220302],\n",
       " [0.05263157894736842, 0.0, 0.08214614395417215],\n",
       " [0.05263157894736842, 0.16666666666666666, 0.07659895402281522],\n",
       " [0.05263157894736842, 0.3333333333333333, 0.07571203515670545],\n",
       " [0.06140350877192982, 0.3333333333333333, 0.07272906859108677],\n",
       " [0.06140350877192982, 0.5, 0.055674922579944816],\n",
       " [0.07017543859649122, 0.5, 0.03191854266853026],\n",
       " [0.07894736842105263, 0.5, 0.02258806941918814],\n",
       " [0.08771929824561403, 0.5, 0.02037067258143916],\n",
       " [0.08771929824561403, 0.6666666666666666, 0.018317309064842968],\n",
       " [0.08771929824561403, 0.8333333333333334, 0.01816308533330481],\n",
       " [0.09649122807017543, 0.8333333333333334, 0.01768949825545004],\n",
       " [0.10526315789473684, 0.8333333333333334, 0.016401934273716987],\n",
       " [0.11403508771929824, 0.8333333333333334, 0.01095819129492084],\n",
       " [0.12280701754385964, 0.8333333333333334, 0.005081326108676186],\n",
       " [0.13157894736842105, 0.8333333333333334, 0.004650422168963918],\n",
       " [0.14035087719298245, 0.8333333333333334, 0.004514462843125403],\n",
       " [0.14035087719298245, 1.0, 0.002254399524870479],\n",
       " [0.14912280701754385, 1.0, 0.0016971870455642214],\n",
       " [0.15789473684210525, 1.0, 0.0],\n",
       " [0.15789473684210525, 1.0, 0.0],\n",
       " [0.15789473684210525, 1.0, 0.0],\n",
       " [0.15789473684210525, 1.0, 0.0],\n",
       " [0.15789473684210525, 1.0, 0.0],\n",
       " [0.15789473684210525, 1.0, 0.0],\n",
       " [0.15789473684210525, 1.0, 0.0],\n",
       " [0.15789473684210525, 1.0, 0.0],\n",
       " [0.15789473684210525, 1.0, 0.0],\n",
       " [0.15789473684210525, 1.0, 0.0],\n",
       " [0.15789473684210525, 1.0, 0.0],\n",
       " [0.15789473684210525, 1.0, 0.0],\n",
       " [0.15789473684210525, 1.0, 0.0],\n",
       " [0.15789473684210525, 1.0, 0.0],\n",
       " [0.15789473684210525, 1.0, 0.0],\n",
       " [0.15789473684210525, 1.0, 0.0],\n",
       " [0.15789473684210525, 1.0, 0.0],\n",
       " [0.15789473684210525, 1.0, 0.0],\n",
       " [0.15789473684210525, 1.0, 0.0],\n",
       " [0.15789473684210525, 1.0, 0.0],\n",
       " [0.15789473684210525, 1.0, 0.0],\n",
       " [0.15789473684210525, 1.0, 0.0],\n",
       " [0.15789473684210525, 1.0, 0.0],\n",
       " [0.15789473684210525, 1.0, 0.0],\n",
       " [0.15789473684210525, 1.0, 0.0],\n",
       " [0.15789473684210525, 1.0, 0.0],\n",
       " [0.15789473684210525, 1.0, 0.0],\n",
       " [0.15789473684210525, 1.0, 0.0],\n",
       " [0.15789473684210525, 1.0, 0.0],\n",
       " [0.15789473684210525, 1.0, 0.0],\n",
       " [0.15789473684210525, 1.0, 0.0],\n",
       " [0.15789473684210525, 1.0, 0.0],\n",
       " [0.15789473684210525, 1.0, 0.0],\n",
       " [0.15789473684210525, 1.0, 0.0],\n",
       " [0.15789473684210525, 1.0, 0.0],\n",
       " [0.15789473684210525, 1.0, 0.0],\n",
       " [0.15789473684210525, 1.0, 0.0],\n",
       " [0.15789473684210525, 1.0, 0.0],\n",
       " [0.15789473684210525, 1.0, 0.0],\n",
       " [0.15789473684210525, 1.0, 0.0],\n",
       " [0.15789473684210525, 1.0, 0.0],\n",
       " [0.15789473684210525, 1.0, 0.0],\n",
       " [0.15789473684210525, 1.0, 0.0],\n",
       " [0.15789473684210525, 1.0, 0.0],\n",
       " [0.15789473684210525, 1.0, 0.0],\n",
       " [0.15789473684210525, 1.0, 0.0],\n",
       " [0.15789473684210525, 1.0, 0.0],\n",
       " [0.15789473684210525, 1.0, 0.0],\n",
       " [0.15789473684210525, 1.0, 0.0],\n",
       " [0.15789473684210525, 1.0, 0.0],\n",
       " [0.15789473684210525, 1.0, 0.0],\n",
       " [0.15789473684210525, 1.0, 0.0],\n",
       " [0.15789473684210525, 1.0, 0.0],\n",
       " [0.15789473684210525, 1.0, 0.0],\n",
       " [0.15789473684210525, 1.0, 0.0],\n",
       " [0.15789473684210525, 1.0, 0.0],\n",
       " [0.15789473684210525, 1.0, 0.0],\n",
       " [0.15789473684210525, 1.0, 0.0],\n",
       " [0.15789473684210525, 1.0, 0.0],\n",
       " [0.15789473684210525, 1.0, 0.0],\n",
       " [0.15789473684210525, 1.0, 0.0],\n",
       " [0.15789473684210525, 1.0, 0.0],\n",
       " [0.15789473684210525, 1.0, 0.0],\n",
       " [0.15789473684210525, 1.0, 0.0],\n",
       " [0.15789473684210525, 1.0, 0.0],\n",
       " [0.15789473684210525, 1.0, 0.0],\n",
       " [0.15789473684210525, 1.0, 0.0],\n",
       " [0.15789473684210525, 1.0, 0.0],\n",
       " [0.15789473684210525, 1.0, 0.0],\n",
       " [0.15789473684210525, 1.0, 0.0],\n",
       " [0.15789473684210525, 1.0, 0.0],\n",
       " [0.15789473684210525, 1.0, 0.0],\n",
       " [0.15789473684210525, 1.0, 0.0],\n",
       " [0.15789473684210525, 1.0, 0.0],\n",
       " [0.15789473684210525, 1.0, 0.0],\n",
       " [0.15789473684210525, 1.0, 0.0],\n",
       " [0.15789473684210525, 1.0, 0.0],\n",
       " [0.15789473684210525, 1.0, 0.0],\n",
       " [0.15789473684210525, 1.0, 0.0],\n",
       " [0.15789473684210525, 1.0, 0.0],\n",
       " [0.15789473684210525, 1.0, 0.0],\n",
       " [0.15789473684210525, 1.0, 0.0],\n",
       " [0.15789473684210525, 1.0, 0.0],\n",
       " [0.15789473684210525, 1.0, 0.0],\n",
       " [0.15789473684210525, 1.0, 0.0],\n",
       " [0.15789473684210525, 1.0, 0.0],\n",
       " [0.15789473684210525, 1.0, 0.0],\n",
       " [0.15789473684210525, 1.0, 0.0],\n",
       " [0.15789473684210525, 1.0, 0.0],\n",
       " [0.15789473684210525, 1.0, 0.0],\n",
       " [0.15789473684210525, 1.0, 0.0],\n",
       " [0.15789473684210525, 1.0, 0.0],\n",
       " [0.15789473684210525, 1.0, 0.0],\n",
       " [0.15789473684210525, 1.0, 0.0],\n",
       " [0.15789473684210525, 1.0, 0.0],\n",
       " [0.15789473684210525, 1.0, 0.0],\n",
       " [0.15789473684210525, 1.0, 0.0],\n",
       " [0.15789473684210525, 1.0, 0.0],\n",
       " [0.15789473684210525, 1.0, 0.0],\n",
       " [0.15789473684210525, 1.0, 0.0],\n",
       " [0.15789473684210525, 1.0, 0.0],\n",
       " [0.15789473684210525, 1.0, 0.0],\n",
       " [0.15789473684210525, 1.0, 0.0],\n",
       " [0.15789473684210525, 1.0, 0.0],\n",
       " [0.15789473684210525, 1.0, 0.0],\n",
       " [0.15789473684210525, 1.0, 0.0],\n",
       " [0.15789473684210525, 1.0, 0.0],\n",
       " [0.15789473684210525, 1.0, 0.0],\n",
       " [0.15789473684210525, 1.0, 0.0],\n",
       " [0.15789473684210525, 1.0, 0.0],\n",
       " [0.15789473684210525, 1.0, 0.0],\n",
       " [0.15789473684210525, 1.0, 0.0],\n",
       " [0.15789473684210525, 1.0, 0.0],\n",
       " [0.15789473684210525, 1.0, 0.0],\n",
       " [0.15789473684210525, 1.0, 0.0],\n",
       " [0.15789473684210525, 1.0, 0.0],\n",
       " [0.15789473684210525, 1.0, 0.0],\n",
       " [0.15789473684210525, 1.0, 0.0],\n",
       " [0.15789473684210525, 1.0, 0.0],\n",
       " [0.15789473684210525, 1.0, 0.0]]"
      ]
     },
     "execution_count": 107,
     "metadata": {},
     "output_type": "execute_result"
    }
   ],
   "source": [
    "level_rates\n"
   ]
  },
  {
   "cell_type": "code",
   "execution_count": 150,
   "metadata": {},
   "outputs": [],
   "source": [
    "t_roc = 0.01816308533330481\n",
    "t_roc2 = 0.055674922579944816\n",
    "t_roc_df = generate_df_valid_corrs(te_m5_h50,t_roc) \n",
    "t_roc2_df = generate_df_valid_corrs(te_m5_h50,t_roc2)"
   ]
  },
  {
   "cell_type": "code",
   "execution_count": 151,
   "metadata": {},
   "outputs": [],
   "source": [
    "conf_roc = generate_conf_df(t_roc_df, ref_df)\n",
    "conf_roc2 = generate_conf_df(t_roc2_df, ref_df)"
   ]
  },
  {
   "cell_type": "code",
   "execution_count": 152,
   "metadata": {},
   "outputs": [
    {
     "name": "stdout",
     "output_type": "stream",
     "text": [
      "tp:  0.8333333333333334\n",
      "fp:  0.08771929824561403\n"
     ]
    }
   ],
   "source": [
    "print('tp: ', tp_rate(conf_roc))\n",
    "print('fp: ', fp_rate(conf_roc))"
   ]
  },
  {
   "cell_type": "code",
   "execution_count": 153,
   "metadata": {},
   "outputs": [
    {
     "name": "stdout",
     "output_type": "stream",
     "text": [
      "tp:  0.5\n",
      "fp:  0.06140350877192982\n"
     ]
    }
   ],
   "source": [
    "print('tp: ', tp_rate(conf_roc2))\n",
    "print('fp: ', fp_rate(conf_roc2))"
   ]
  }
 ],
 "metadata": {
  "kernelspec": {
   "display_name": "Python 3",
   "language": "python",
   "name": "python3"
  },
  "language_info": {
   "codemirror_mode": {
    "name": "ipython",
    "version": 3
   },
   "file_extension": ".py",
   "mimetype": "text/x-python",
   "name": "python",
   "nbconvert_exporter": "python",
   "pygments_lexer": "ipython3",
   "version": "3.7.0"
  }
 },
 "nbformat": 4,
 "nbformat_minor": 2
}
