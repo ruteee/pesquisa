{
 "cells": [
  {
   "cell_type": "code",
   "execution_count": 10,
   "metadata": {},
   "outputs": [],
   "source": [
    "import pandas as pd\n",
    "import matplotlib.pyplot as plt\n",
    "import numpy as np"
   ]
  },
  {
   "cell_type": "code",
   "execution_count": 87,
   "metadata": {},
   "outputs": [],
   "source": [
    "col_labels = ['xmeas%02d_low' % x for x in [1,2,3,8,9,21]]+ ['xmeas%02d_high' % x for x in [1,2,3,8,9,21]]\n",
    "#df_mat = [[0,0,0,0,1,0,0,0,0,0,0,1], np.zeros(12), np.zeros(12), np.zeros() \n",
    "df_mat = np.zeros([12,12], dtype=int)\n",
    "ref_df = pd.DataFrame(df_mat, columns = col_labels, index=col_labels)\n",
    "ref_df.loc['xmeas01_low'][['xmeas21_high', 'xmeas09_low']] = [1,1]\n",
    "ref_df.loc['xmeas09_low']['xmeas21_high'] = 1\n",
    "\n",
    "ref_df.loc['xmeas01_high'][['xmeas21_low', 'xmeas09_high']] = [1,1]\n",
    "ref_df.loc['xmeas09_high']['xmeas21_low'] = 1"
   ]
  },
  {
   "cell_type": "code",
   "execution_count": 88,
   "metadata": {},
   "outputs": [],
   "source": [
    "def generate_conf_df(df, df_ref):\n",
    "    confMatrix = np.zeros([2,2], dtype=int)\n",
    "     \n",
    "    for col, col_ref in zip(df.columns, df_ref.columns):\n",
    "        for row, row_ref in zip(df[col], df_ref[col_ref]):\n",
    "            print(row, row_ref)\n",
    "            if row == row_ref and row == 0:\n",
    "                confMatrix[1,1] += 1\n",
    "            elif row == row_ref and row == 1:\n",
    "                confMatrix[0,0] += 1\n",
    "            elif row != row_ref and row == 1:\n",
    "                confMatrix[0,1] += 1\n",
    "            else:\n",
    "                confMatrix[1,0]+= 1 \n",
    "    return pd.DataFrame(confMatrix,columns=[\"p\", \"n\"], index = [\"Y\", \"N\"])"
   ]
  },
  {
   "cell_type": "code",
   "execution_count": 99,
   "metadata": {},
   "outputs": [],
   "source": [
    "#roc fp*tp\n",
    "\n",
    "def fp_rate(conf_df):\n",
    "    return conf_df[\"n\"][\"Y\"]/(conf_df[\"n\"][\"Y\"]+ conf_df[\"n\"][\"N\"])\n",
    "\n",
    "def tp_rate(conf_df): #since it is positive what are the odds of being classsified as positive\n",
    "    return conf_df['p']['Y']/(conf['p']['Y'] + conf['p']['N'])\n",
    "\n",
    "def precision(conf_df): #from those i choose as correct, how many really were\n",
    "    return conf_df['p']['Y']/(conf_df['p']['Y'] + conf_df['n']['Y'])\n"
   ]
  },
  {
   "cell_type": "code",
   "execution_count": null,
   "metadata": {},
   "outputs": [],
   "source": []
  }
 ],
 "metadata": {
  "kernelspec": {
   "display_name": "Python 3",
   "language": "python",
   "name": "python3"
  },
  "language_info": {
   "codemirror_mode": {
    "name": "ipython",
    "version": 3
   },
   "file_extension": ".py",
   "mimetype": "text/x-python",
   "name": "python",
   "nbconvert_exporter": "python",
   "pygments_lexer": "ipython3",
   "version": "3.6.4"
  }
 },
 "nbformat": 4,
 "nbformat_minor": 2
}
