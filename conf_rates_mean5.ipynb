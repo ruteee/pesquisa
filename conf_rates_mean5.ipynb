{
 "cells": [
  {
   "cell_type": "code",
   "execution_count": 1,
   "metadata": {},
   "outputs": [],
   "source": [
    "import pandas as pd\n",
    "import numpy as np\n",
    "import time\n",
    "\n",
    "from graphviz import Digraph\n",
    "import seaborn as sns\n",
    "import matplotlib.pyplot as plt\n",
    "import itertools\n",
    "\n",
    "from roc_evals import *"
   ]
  },
  {
   "cell_type": "code",
   "execution_count": 2,
   "metadata": {},
   "outputs": [],
   "source": [
    "cen1 = \"cenarios_cba/media_movel/mean_5/cen1/\"\n",
    "cen2 = \"cenarios_cba/media_movel/mean_5/cen2/\"\n",
    "cen3 = \"cenarios_cba/media_movel/mean_5/cen3/\"\n",
    "cen4 = \"cenarios_cba/media_movel/mean_5/cen4/\"\n",
    "cen5 = \"cenarios_cba/media_movel/mean_5/cen5/\"\n",
    "cen6 = \"cenarios_cba/media_movel/mean_5/cen6/\"\n",
    "\n",
    "cen1_r = \"cenarios_cba/media_movel/mean_5/cen1/rates/\"\n",
    "cen2_r = \"cenarios_cba/media_movel/mean_5/cen2/rates/\"\n",
    "cen3_r = \"cenarios_cba/media_movel/mean_5/cen3/rates/\"\n",
    "cen4_r = \"cenarios_cba/media_movel/mean_5/cen4/rates/\"\n",
    "cen5_r = \"cenarios_cba/media_movel/mean_5/cen5/rates/\"\n",
    "cen6_r = \"cenarios_cba/media_movel/mean_5/cen6/rates/\""
   ]
  },
  {
   "cell_type": "code",
   "execution_count": 3,
   "metadata": {},
   "outputs": [],
   "source": [
    "#defining ref def \n",
    "\n",
    "col_labels = ['xmeas%02d_low' % x for x in [1,2,3,8,9,21]]+ ['xmeas%02d_high' % x for x in [1,2,3,8,9,21]] \n",
    "df_mat = np.zeros([12,12], dtype=int)\n",
    "\n",
    "ref_df = pd.DataFrame(df_mat, columns = col_labels, index=col_labels)\n",
    "ref_df.loc['xmeas01_low'][['xmeas21_high', 'xmeas09_low']] = [1,1]\n",
    "ref_df.loc['xmeas09_low']['xmeas21_high'] = 1\n",
    "\n",
    "ref_df.loc['xmeas01_high'][['xmeas21_low', 'xmeas09_high']] = [1,1]\n",
    "ref_df.loc['xmeas09_high']['xmeas21_low'] = 1"
   ]
  },
  {
   "cell_type": "code",
   "execution_count": 4,
   "metadata": {},
   "outputs": [],
   "source": [
    "#Cenário 1\n",
    "\n",
    "\n",
    "cen1_list = [cen1+'k%d_l1_h1_sel_corrs.csv' % x for x in [1,3,6]]\n",
    "set_c1_r = ['k%d_l1_h1.csv' % x for x in [1,3,6]]\n",
    "\n",
    "\n",
    "for cen, sett in zip(cen1_list, set_c1_r):\n",
    "    conf = generate_conf_df(pd.read_csv(cen, index_col=0), ref_df)\n",
    "    conf.to_csv(cen1_r+\"conf_\"+sett)\n",
    "    df_met = pd.DataFrame([[tp_rate(conf), fp_rate(conf), precision(conf)]], columns = ['tp_rate', 'fp_rate', 'precisao'])\n",
    "    df_met.to_csv(cen1_r+\"met_\"+sett)"
   ]
  },
  {
   "cell_type": "code",
   "execution_count": 5,
   "metadata": {},
   "outputs": [],
   "source": [
    "#cenário 2\n",
    "\n",
    "cen2_list = [cen2+'k1_l%d_h1_sel_corrs.csv' % x for x in [3,6]]\n",
    "set_c2_r = ['k1_l%d_h1.csv' % x for x in [3,6]]\n",
    "\n",
    "\n",
    "for cen, sett in zip(cen2_list, set_c2_r):\n",
    "    conf = generate_conf_df(pd.read_csv(cen, index_col=0), ref_df)\n",
    "    conf.to_csv(cen2_r+\"conf_\"+sett)\n",
    "    \n",
    "    df_met = pd.DataFrame([[tp_rate(conf), fp_rate(conf), precision(conf)]], columns = ['tp_rate', 'fp_rate', 'precisao'])\n",
    "    df_met.to_csv(cen2_r+\"met_\"+sett)\n",
    "\n"
   ]
  },
  {
   "cell_type": "code",
   "execution_count": 6,
   "metadata": {},
   "outputs": [],
   "source": [
    "#Cenário 3\n",
    "\n",
    "cen3_list = [cen3+'k1_l1_h%d_sel_corrs.csv' % x for x in [3,6]]\n",
    "set_c3_r = ['k1_l1_h%d.csv' % x for x in [3,6]]\n",
    "\n",
    "\n",
    "for cen, sett in zip(cen3_list, set_c3_r):\n",
    "    conf = generate_conf_df(pd.read_csv(cen, index_col=0), ref_df)\n",
    "    conf.to_csv(cen3_r+\"conf_\"+sett)\n",
    "    \n",
    "    df_met = pd.DataFrame([[tp_rate(conf), fp_rate(conf), precision(conf)]], columns = ['tp_rate', 'fp_rate', 'precisao'])\n",
    "    df_met.to_csv(cen3_r+\"met_\"+sett)"
   ]
  },
  {
   "cell_type": "code",
   "execution_count": 7,
   "metadata": {},
   "outputs": [],
   "source": [
    "#Cenário 4\n",
    "\n",
    "\n",
    "cen4_list = [cen4+'k%d_l1_h3_sel_corrs.csv' % x for x in [3,6]] +[cen4+'k%d_l1_h6_sel_corrs.csv' % x for x in [3,6]]\n",
    "set_c4_r = ['k%d_l1_h3.csv' % x for x in [3,6]]+['k%d_l1_h6.csv' % x for x in [3,6]]\n",
    "\n",
    "for cen, sett in zip(cen4_list, set_c4_r):\n",
    "    cof = generate_conf_df(pd.read_csv(cen, index_col=0), ref_df)\n",
    "    conf.to_csv(cen4_r+\"conf_\"+sett)\n",
    "    \n",
    "    df_met = pd.DataFrame([[tp_rate(conf), fp_rate(conf), precision(conf)]], columns = ['tp_rate', 'fp_rate', 'precisao'])\n",
    "    df_met.to_csv(cen4_r+\"met_\"+sett)"
   ]
  },
  {
   "cell_type": "code",
   "execution_count": 8,
   "metadata": {},
   "outputs": [],
   "source": [
    "#Cenário 5\n",
    "\n",
    "\n",
    "cen5_list = [cen5+'k1_l%d_h3_sel_corrs.csv' % x for x in [3,6]] +[cen5+'k1_l%d_h6_sel_corrs.csv' % x for x in [3,6]]\n",
    "set_c5_r = ['k1_l%d_h3.csv' % x for x in [3,6]]+['k1_l%d_h6.csv' % x for x in [3,6]]\n",
    "\n",
    "for cen, sett in zip(cen5_list, set_c5_r):\n",
    "    conf = generate_conf_df(pd.read_csv(cen, index_col=0), ref_df)\n",
    "    conf.to_csv(cen5_r+\"conf_\"+sett)\n",
    "    \n",
    "    df_met = pd.DataFrame([[tp_rate(conf), fp_rate(conf), precision(conf)]], columns = ['tp_rate', 'fp_rate', 'precisao'])\n",
    "    df_met.to_csv(cen5_r+\"met_\"+sett)"
   ]
  },
  {
   "cell_type": "code",
   "execution_count": 9,
   "metadata": {},
   "outputs": [],
   "source": [
    "#Cenário 6 \n",
    "\n",
    "cen6_list = [cen6+'k%d_l%d_h1_sel_corrs.csv' %(x,y) for x, y in zip([3,6], [3,6])]\n",
    "set_c6_r = ['k%d_l%d_h1_sel.csv' %(x,y) for x, y in zip([3,6], [3,6])]\n",
    "\n",
    "for cen, sett in zip(cen6_list, set_c6_r):\n",
    "    conf = generate_conf_df(pd.read_csv(cen, index_col=0), ref_df)\n",
    "    conf.to_csv(cen6_r+\"conf_\"+sett)\n",
    "    \n",
    "    df_met = pd.DataFrame([[tp_rate(conf), fp_rate(conf), precision(conf)]], columns = ['tp_rate', 'fp_rate', 'precisao'])\n",
    "    df_met.to_csv(cen6_r+\"met_\"+sett)"
   ]
  },
  {
   "cell_type": "code",
   "execution_count": null,
   "metadata": {},
   "outputs": [],
   "source": [
    "\n"
   ]
  },
  {
   "cell_type": "code",
   "execution_count": 10,
   "metadata": {},
   "outputs": [],
   "source": [
    "#Cenários 4 e 5 completos - todos os indices"
   ]
  },
  {
   "cell_type": "code",
   "execution_count": 11,
   "metadata": {},
   "outputs": [],
   "source": [
    "#cenário 4\n",
    "\n",
    "paths_cen1 = [cen1_r+'met_k%d_l1_h1.csv' % x for x in [1,3,6]]\n",
    "paths_cen3 = [cen3_r+'met_k1_l1_h%d.csv' % x for x in [3,6]]\n",
    "paths_cen4 = [cen4_r+'met_k%d_l1_h%d.csv' %(x[0], x[1]) for x in list(itertools.product([3, 6], repeat=2))]\n",
    "paths = (paths_cen1+paths_cen3+paths_cen4)\n",
    "\n",
    "dfs_cen4 = []\n",
    "for path in paths:\n",
    "    dfs_cen4.append(pd.read_csv(path,index_col=0))\n",
    "\n",
    "dfs_k1 = [dfs_cen4[0], dfs_cen4[3], dfs_cen4[4]]\n",
    "dfs_k3 = [dfs_cen4[1], dfs_cen4[5], dfs_cen4[6]]\n",
    "dfs_k6 = [dfs_cen4[2], dfs_cen4[7], dfs_cen4[8]]\n",
    "\n",
    "df_curve_k1 = pd.concat(dfs_k1)\n",
    "df_curve_k1.index = [1,3,6]\n",
    "\n",
    "df_curve_k3 = pd.concat(dfs_k3)\n",
    "df_curve_k3.index = [1,3,6]\n",
    "\n",
    "df_curve_k6 = pd.concat(dfs_k6)\n",
    "df_curve_k6.index = [1,3,6]"
   ]
  },
  {
   "cell_type": "code",
   "execution_count": 12,
   "metadata": {},
   "outputs": [
    {
     "data": {
      "text/html": [
       "<div>\n",
       "<style scoped>\n",
       "    .dataframe tbody tr th:only-of-type {\n",
       "        vertical-align: middle;\n",
       "    }\n",
       "\n",
       "    .dataframe tbody tr th {\n",
       "        vertical-align: top;\n",
       "    }\n",
       "\n",
       "    .dataframe thead th {\n",
       "        text-align: right;\n",
       "    }\n",
       "</style>\n",
       "<table border=\"1\" class=\"dataframe\">\n",
       "  <thead>\n",
       "    <tr style=\"text-align: right;\">\n",
       "      <th></th>\n",
       "      <th>tp_rate</th>\n",
       "      <th>fp_rate</th>\n",
       "      <th>precisao</th>\n",
       "    </tr>\n",
       "  </thead>\n",
       "  <tbody>\n",
       "    <tr>\n",
       "      <th>1</th>\n",
       "      <td>33.3</td>\n",
       "      <td>0.7</td>\n",
       "      <td>66.7</td>\n",
       "    </tr>\n",
       "    <tr>\n",
       "      <th>3</th>\n",
       "      <td>33.3</td>\n",
       "      <td>0.7</td>\n",
       "      <td>66.7</td>\n",
       "    </tr>\n",
       "    <tr>\n",
       "      <th>6</th>\n",
       "      <td>33.3</td>\n",
       "      <td>1.4</td>\n",
       "      <td>50.0</td>\n",
       "    </tr>\n",
       "  </tbody>\n",
       "</table>\n",
       "</div>"
      ],
      "text/plain": [
       "   tp_rate  fp_rate  precisao\n",
       "1     33.3      0.7      66.7\n",
       "3     33.3      0.7      66.7\n",
       "6     33.3      1.4      50.0"
      ]
     },
     "execution_count": 12,
     "metadata": {},
     "output_type": "execute_result"
    }
   ],
   "source": [
    "#cen4 k=1\n",
    "\n",
    "(df_curve_k1*100).round(1)"
   ]
  },
  {
   "cell_type": "code",
   "execution_count": 13,
   "metadata": {},
   "outputs": [
    {
     "data": {
      "text/html": [
       "<div>\n",
       "<style scoped>\n",
       "    .dataframe tbody tr th:only-of-type {\n",
       "        vertical-align: middle;\n",
       "    }\n",
       "\n",
       "    .dataframe tbody tr th {\n",
       "        vertical-align: top;\n",
       "    }\n",
       "\n",
       "    .dataframe thead th {\n",
       "        text-align: right;\n",
       "    }\n",
       "</style>\n",
       "<table border=\"1\" class=\"dataframe\">\n",
       "  <thead>\n",
       "    <tr style=\"text-align: right;\">\n",
       "      <th></th>\n",
       "      <th>tp_rate</th>\n",
       "      <th>fp_rate</th>\n",
       "      <th>precisao</th>\n",
       "    </tr>\n",
       "  </thead>\n",
       "  <tbody>\n",
       "    <tr>\n",
       "      <th>1</th>\n",
       "      <td>33.3</td>\n",
       "      <td>0.7</td>\n",
       "      <td>66.7</td>\n",
       "    </tr>\n",
       "    <tr>\n",
       "      <th>3</th>\n",
       "      <td>33.3</td>\n",
       "      <td>1.4</td>\n",
       "      <td>50.0</td>\n",
       "    </tr>\n",
       "    <tr>\n",
       "      <th>6</th>\n",
       "      <td>33.3</td>\n",
       "      <td>1.4</td>\n",
       "      <td>50.0</td>\n",
       "    </tr>\n",
       "  </tbody>\n",
       "</table>\n",
       "</div>"
      ],
      "text/plain": [
       "   tp_rate  fp_rate  precisao\n",
       "1     33.3      0.7      66.7\n",
       "3     33.3      1.4      50.0\n",
       "6     33.3      1.4      50.0"
      ]
     },
     "execution_count": 13,
     "metadata": {},
     "output_type": "execute_result"
    }
   ],
   "source": [
    "#cen 4 k = 3\n",
    "\n",
    "(df_curve_k3*100).round(1)"
   ]
  },
  {
   "cell_type": "code",
   "execution_count": 14,
   "metadata": {},
   "outputs": [
    {
     "data": {
      "text/html": [
       "<div>\n",
       "<style scoped>\n",
       "    .dataframe tbody tr th:only-of-type {\n",
       "        vertical-align: middle;\n",
       "    }\n",
       "\n",
       "    .dataframe tbody tr th {\n",
       "        vertical-align: top;\n",
       "    }\n",
       "\n",
       "    .dataframe thead th {\n",
       "        text-align: right;\n",
       "    }\n",
       "</style>\n",
       "<table border=\"1\" class=\"dataframe\">\n",
       "  <thead>\n",
       "    <tr style=\"text-align: right;\">\n",
       "      <th></th>\n",
       "      <th>tp_rate</th>\n",
       "      <th>fp_rate</th>\n",
       "      <th>precisao</th>\n",
       "    </tr>\n",
       "  </thead>\n",
       "  <tbody>\n",
       "    <tr>\n",
       "      <th>1</th>\n",
       "      <td>33.3</td>\n",
       "      <td>0.7</td>\n",
       "      <td>66.7</td>\n",
       "    </tr>\n",
       "    <tr>\n",
       "      <th>3</th>\n",
       "      <td>33.3</td>\n",
       "      <td>1.4</td>\n",
       "      <td>50.0</td>\n",
       "    </tr>\n",
       "    <tr>\n",
       "      <th>6</th>\n",
       "      <td>33.3</td>\n",
       "      <td>1.4</td>\n",
       "      <td>50.0</td>\n",
       "    </tr>\n",
       "  </tbody>\n",
       "</table>\n",
       "</div>"
      ],
      "text/plain": [
       "   tp_rate  fp_rate  precisao\n",
       "1     33.3      0.7      66.7\n",
       "3     33.3      1.4      50.0\n",
       "6     33.3      1.4      50.0"
      ]
     },
     "execution_count": 14,
     "metadata": {},
     "output_type": "execute_result"
    }
   ],
   "source": [
    "#cen4 k = 6\n",
    "\n",
    "(df_curve_k6*100).round(1)"
   ]
  },
  {
   "cell_type": "code",
   "execution_count": 15,
   "metadata": {},
   "outputs": [],
   "source": [
    "#cenário 5\n",
    "\n",
    "paths_cen1 = [cen1_r+'met_k1_l1_h1.csv']\n",
    "paths_cen2 = [cen2_r+'met_k1_l%d_h1.csv' % x for x in [3,6]]\n",
    "paths_cen3 = [cen3_r+'met_k1_l1_h%d.csv' % x for x in [3,6]]\n",
    "paths_cen5 = [cen5_r+'met_k1_l%d_h%d.csv' %(x[0], x[1]) for x in list(itertools.product([3, 6], repeat=2))]\n",
    "paths_final_cen5 = (paths_cen1+paths_cen2+paths_cen3+paths_cen5)\n",
    "\n",
    "dfs_cen5 = []\n",
    "for path in paths_final_cen5:\n",
    "    dfs_cen5.append(pd.read_csv(path,index_col=0))\n",
    "\n",
    "dfs_l1 = [dfs_cen5[0], dfs_cen5[3], dfs_cen5[4]]\n",
    "dfs_l3 = [dfs_cen5[1], dfs_cen5[5], dfs_cen5[6]]\n",
    "dfs_l6 = [dfs_cen5[2], dfs_cen5[7], dfs_cen5[8]]\n",
    "\n",
    "df_curve_l1 = pd.concat(dfs_l1)\n",
    "df_curve_l1.index = [1,3,6]\n",
    "\n",
    "df_curve_l3 = pd.concat(dfs_l3)\n",
    "df_curve_l3.index = [1,3,6]\n",
    "\n",
    "df_curve_l6 = pd.concat(dfs_l6)\n",
    "df_curve_l6.index = [1,3,6]"
   ]
  },
  {
   "cell_type": "code",
   "execution_count": 16,
   "metadata": {},
   "outputs": [
    {
     "data": {
      "text/html": [
       "<div>\n",
       "<style scoped>\n",
       "    .dataframe tbody tr th:only-of-type {\n",
       "        vertical-align: middle;\n",
       "    }\n",
       "\n",
       "    .dataframe tbody tr th {\n",
       "        vertical-align: top;\n",
       "    }\n",
       "\n",
       "    .dataframe thead th {\n",
       "        text-align: right;\n",
       "    }\n",
       "</style>\n",
       "<table border=\"1\" class=\"dataframe\">\n",
       "  <thead>\n",
       "    <tr style=\"text-align: right;\">\n",
       "      <th></th>\n",
       "      <th>tp_rate</th>\n",
       "      <th>fp_rate</th>\n",
       "      <th>precisao</th>\n",
       "    </tr>\n",
       "  </thead>\n",
       "  <tbody>\n",
       "    <tr>\n",
       "      <th>1</th>\n",
       "      <td>33.3</td>\n",
       "      <td>0.7</td>\n",
       "      <td>66.7</td>\n",
       "    </tr>\n",
       "    <tr>\n",
       "      <th>3</th>\n",
       "      <td>33.3</td>\n",
       "      <td>0.7</td>\n",
       "      <td>66.7</td>\n",
       "    </tr>\n",
       "    <tr>\n",
       "      <th>6</th>\n",
       "      <td>33.3</td>\n",
       "      <td>1.4</td>\n",
       "      <td>50.0</td>\n",
       "    </tr>\n",
       "  </tbody>\n",
       "</table>\n",
       "</div>"
      ],
      "text/plain": [
       "   tp_rate  fp_rate  precisao\n",
       "1     33.3      0.7      66.7\n",
       "3     33.3      0.7      66.7\n",
       "6     33.3      1.4      50.0"
      ]
     },
     "execution_count": 16,
     "metadata": {},
     "output_type": "execute_result"
    }
   ],
   "source": [
    "#l = 1 \n",
    "(df_curve_l1*100).round(1)"
   ]
  },
  {
   "cell_type": "code",
   "execution_count": 17,
   "metadata": {},
   "outputs": [
    {
     "data": {
      "text/html": [
       "<div>\n",
       "<style scoped>\n",
       "    .dataframe tbody tr th:only-of-type {\n",
       "        vertical-align: middle;\n",
       "    }\n",
       "\n",
       "    .dataframe tbody tr th {\n",
       "        vertical-align: top;\n",
       "    }\n",
       "\n",
       "    .dataframe thead th {\n",
       "        text-align: right;\n",
       "    }\n",
       "</style>\n",
       "<table border=\"1\" class=\"dataframe\">\n",
       "  <thead>\n",
       "    <tr style=\"text-align: right;\">\n",
       "      <th></th>\n",
       "      <th>tp_rate</th>\n",
       "      <th>fp_rate</th>\n",
       "      <th>precisao</th>\n",
       "    </tr>\n",
       "  </thead>\n",
       "  <tbody>\n",
       "    <tr>\n",
       "      <th>1</th>\n",
       "      <td>50.0</td>\n",
       "      <td>1.4</td>\n",
       "      <td>60.0</td>\n",
       "    </tr>\n",
       "    <tr>\n",
       "      <th>3</th>\n",
       "      <td>33.3</td>\n",
       "      <td>1.4</td>\n",
       "      <td>50.0</td>\n",
       "    </tr>\n",
       "    <tr>\n",
       "      <th>6</th>\n",
       "      <td>33.3</td>\n",
       "      <td>2.2</td>\n",
       "      <td>40.0</td>\n",
       "    </tr>\n",
       "  </tbody>\n",
       "</table>\n",
       "</div>"
      ],
      "text/plain": [
       "   tp_rate  fp_rate  precisao\n",
       "1     50.0      1.4      60.0\n",
       "3     33.3      1.4      50.0\n",
       "6     33.3      2.2      40.0"
      ]
     },
     "execution_count": 17,
     "metadata": {},
     "output_type": "execute_result"
    }
   ],
   "source": [
    "#l =3\n",
    "\n",
    "(df_curve_l3*100).round(1)"
   ]
  },
  {
   "cell_type": "code",
   "execution_count": 18,
   "metadata": {},
   "outputs": [
    {
     "data": {
      "text/html": [
       "<div>\n",
       "<style scoped>\n",
       "    .dataframe tbody tr th:only-of-type {\n",
       "        vertical-align: middle;\n",
       "    }\n",
       "\n",
       "    .dataframe tbody tr th {\n",
       "        vertical-align: top;\n",
       "    }\n",
       "\n",
       "    .dataframe thead th {\n",
       "        text-align: right;\n",
       "    }\n",
       "</style>\n",
       "<table border=\"1\" class=\"dataframe\">\n",
       "  <thead>\n",
       "    <tr style=\"text-align: right;\">\n",
       "      <th></th>\n",
       "      <th>tp_rate</th>\n",
       "      <th>fp_rate</th>\n",
       "      <th>precisao</th>\n",
       "    </tr>\n",
       "  </thead>\n",
       "  <tbody>\n",
       "    <tr>\n",
       "      <th>1</th>\n",
       "      <td>66.7</td>\n",
       "      <td>2.2</td>\n",
       "      <td>57.1</td>\n",
       "    </tr>\n",
       "    <tr>\n",
       "      <th>3</th>\n",
       "      <td>50.0</td>\n",
       "      <td>1.4</td>\n",
       "      <td>60.0</td>\n",
       "    </tr>\n",
       "    <tr>\n",
       "      <th>6</th>\n",
       "      <td>50.0</td>\n",
       "      <td>2.2</td>\n",
       "      <td>50.0</td>\n",
       "    </tr>\n",
       "  </tbody>\n",
       "</table>\n",
       "</div>"
      ],
      "text/plain": [
       "   tp_rate  fp_rate  precisao\n",
       "1     66.7      2.2      57.1\n",
       "3     50.0      1.4      60.0\n",
       "6     50.0      2.2      50.0"
      ]
     },
     "execution_count": 18,
     "metadata": {},
     "output_type": "execute_result"
    }
   ],
   "source": [
    "#l = 6\n",
    "(df_curve_l6*100).round(1)"
   ]
  }
 ],
 "metadata": {
  "kernelspec": {
   "display_name": "Python 3",
   "language": "python",
   "name": "python3"
  },
  "language_info": {
   "codemirror_mode": {
    "name": "ipython",
    "version": 3
   },
   "file_extension": ".py",
   "mimetype": "text/x-python",
   "name": "python",
   "nbconvert_exporter": "python",
   "pygments_lexer": "ipython3",
   "version": "3.6.4"
  }
 },
 "nbformat": 4,
 "nbformat_minor": 2
}
