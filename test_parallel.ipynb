{
 "cells": [
  {
   "cell_type": "code",
   "execution_count": 115,
   "metadata": {},
   "outputs": [],
   "source": [
    "import pandas as pd\n",
    "import numpy as np \n",
    "from random import shuffle\n",
    "\n",
    "from scikit_alarm_framework.alarm_generator import set_point \n",
    "\n",
    "import time\n",
    "\n",
    "import concurrent.futures\n",
    "import multiprocessing"
   ]
  },
  {
   "cell_type": "code",
   "execution_count": 2,
   "metadata": {},
   "outputs": [
    {
     "data": {
      "text/html": [
       "<div>\n",
       "<style scoped>\n",
       "    .dataframe tbody tr th:only-of-type {\n",
       "        vertical-align: middle;\n",
       "    }\n",
       "\n",
       "    .dataframe tbody tr th {\n",
       "        vertical-align: top;\n",
       "    }\n",
       "\n",
       "    .dataframe thead th {\n",
       "        text-align: right;\n",
       "    }\n",
       "</style>\n",
       "<table border=\"1\" class=\"dataframe\">\n",
       "  <thead>\n",
       "    <tr style=\"text-align: right;\">\n",
       "      <th></th>\n",
       "      <th>XMEAS01</th>\n",
       "      <th>XMEAS02</th>\n",
       "      <th>XMEAS03</th>\n",
       "      <th>XMEAS06</th>\n",
       "      <th>XMEAS07</th>\n",
       "      <th>XMEAS08</th>\n",
       "      <th>XMEAS09</th>\n",
       "      <th>XMEAS21</th>\n",
       "    </tr>\n",
       "    <tr>\n",
       "      <th>TOUT</th>\n",
       "      <th></th>\n",
       "      <th></th>\n",
       "      <th></th>\n",
       "      <th></th>\n",
       "      <th></th>\n",
       "      <th></th>\n",
       "      <th></th>\n",
       "      <th></th>\n",
       "    </tr>\n",
       "  </thead>\n",
       "  <tbody>\n",
       "    <tr>\n",
       "      <td>2019-12-10 16:54:17.616330147</td>\n",
       "      <td>0.271033</td>\n",
       "      <td>3649.739415</td>\n",
       "      <td>4451.320791</td>\n",
       "      <td>47.559754</td>\n",
       "      <td>2798.975799</td>\n",
       "      <td>64.995825</td>\n",
       "      <td>122.898796</td>\n",
       "      <td>102.480028</td>\n",
       "    </tr>\n",
       "    <tr>\n",
       "      <td>2019-12-10 16:54:53.616330147</td>\n",
       "      <td>0.270093</td>\n",
       "      <td>3663.351750</td>\n",
       "      <td>4428.605105</td>\n",
       "      <td>47.917222</td>\n",
       "      <td>2799.059838</td>\n",
       "      <td>65.254940</td>\n",
       "      <td>122.883398</td>\n",
       "      <td>102.484819</td>\n",
       "    </tr>\n",
       "    <tr>\n",
       "      <td>2019-12-10 16:55:29.616330147</td>\n",
       "      <td>0.271255</td>\n",
       "      <td>3656.090868</td>\n",
       "      <td>4429.093949</td>\n",
       "      <td>47.750928</td>\n",
       "      <td>2799.345791</td>\n",
       "      <td>64.930642</td>\n",
       "      <td>122.909663</td>\n",
       "      <td>102.499473</td>\n",
       "    </tr>\n",
       "    <tr>\n",
       "      <td>2019-12-10 16:56:05.616330147</td>\n",
       "      <td>0.269950</td>\n",
       "      <td>3664.897833</td>\n",
       "      <td>4439.129238</td>\n",
       "      <td>47.305023</td>\n",
       "      <td>2799.251300</td>\n",
       "      <td>65.188788</td>\n",
       "      <td>122.909316</td>\n",
       "      <td>102.465085</td>\n",
       "    </tr>\n",
       "    <tr>\n",
       "      <td>2019-12-10 16:56:41.616330147</td>\n",
       "      <td>0.270947</td>\n",
       "      <td>3616.540495</td>\n",
       "      <td>4446.078748</td>\n",
       "      <td>47.813862</td>\n",
       "      <td>2798.967112</td>\n",
       "      <td>65.686033</td>\n",
       "      <td>122.887484</td>\n",
       "      <td>102.463271</td>\n",
       "    </tr>\n",
       "  </tbody>\n",
       "</table>\n",
       "</div>"
      ],
      "text/plain": [
       "                                XMEAS01      XMEAS02      XMEAS03    XMEAS06  \\\n",
       "TOUT                                                                           \n",
       "2019-12-10 16:54:17.616330147  0.271033  3649.739415  4451.320791  47.559754   \n",
       "2019-12-10 16:54:53.616330147  0.270093  3663.351750  4428.605105  47.917222   \n",
       "2019-12-10 16:55:29.616330147  0.271255  3656.090868  4429.093949  47.750928   \n",
       "2019-12-10 16:56:05.616330147  0.269950  3664.897833  4439.129238  47.305023   \n",
       "2019-12-10 16:56:41.616330147  0.270947  3616.540495  4446.078748  47.813862   \n",
       "\n",
       "                                   XMEAS07    XMEAS08     XMEAS09     XMEAS21  \n",
       "TOUT                                                                           \n",
       "2019-12-10 16:54:17.616330147  2798.975799  64.995825  122.898796  102.480028  \n",
       "2019-12-10 16:54:53.616330147  2799.059838  65.254940  122.883398  102.484819  \n",
       "2019-12-10 16:55:29.616330147  2799.345791  64.930642  122.909663  102.499473  \n",
       "2019-12-10 16:56:05.616330147  2799.251300  65.188788  122.909316  102.465085  \n",
       "2019-12-10 16:56:41.616330147  2798.967112  65.686033  122.887484  102.463271  "
      ]
     },
     "execution_count": 2,
     "metadata": {},
     "output_type": "execute_result"
    }
   ],
   "source": [
    "proc_path = 'proc_i3e.csv'\n",
    "proc_df = pd.read_csv(proc_path, index_col='TOUT', usecols=['TOUT']+[\"XMEAS%02d\" % x for x in  [1,2,3,6,7,8,9,21]])\n",
    "proc_df.index = pd.to_datetime(proc_df.index, unit='s')\n",
    "proc_df.head()"
   ]
  },
  {
   "cell_type": "code",
   "execution_count": 12,
   "metadata": {},
   "outputs": [],
   "source": [
    "threshold_path = 'dist6_3horas_sig/threshold.csv'\n",
    "\n",
    "threshold_df = pd.read_csv(threshold_path, index_col='proc_var')\n",
    "threshold_df = threshold_df.loc[[1,2,3,6,7,8,9,21]]\n",
    "\n",
    "thresh_low = threshold_df[threshold_df['type'] == 'LOW']['limit'].values\n",
    "thresh_high = threshold_df[threshold_df['type'] == 'HIGH']['limit'].values\n",
    "\n",
    "high_alarms = set_point.generate(proc_df, thresh_high)\n",
    "low_alarms = set_point.generate(proc_df, thresh_low)\n",
    "\n",
    "new_high_names = ['x' + str(i) + '_high' for i, col in enumerate(proc_df.columns)]\n",
    "new_low_names = ['x' + str(i) + '_low' for i, col in enumerate(proc_df.columns)]\n",
    "\n",
    "rename_high = {key:value for key, value in zip(high_alarms.columns,new_high_names)}\n",
    "rename_low = {key:value for key, value in zip(low_alarms.columns,new_low_names)}\n",
    "\n",
    "high_alarms = high_alarms.rename(rename_high, axis='columns')\n",
    "low_alarms = low_alarms.rename(rename_low, axis='columns')\n",
    "\n",
    "alarms_df = pd.concat([high_alarms, low_alarms], axis=1)"
   ]
  },
  {
   "cell_type": "code",
   "execution_count": 114,
   "metadata": {},
   "outputs": [],
   "source": [
    "a = np.arange(0,100)\n",
    "b = a.copy()\n",
    "def sum_test(a, b):\n",
    "    c = []\n",
    "    for el, el1 in zip(a,b):\n",
    "        c.append(el + el1)\n",
    "    return c\n",
    "\n",
    "def fact(n):\n",
    "    if n == 1 or n == 0:\n",
    "        return 1\n",
    "    else:\n",
    "        return fact(n-1)*n\n",
    "\n",
    "def find(target, v):\n",
    "    for el in v:\n",
    "        if el == target:\n",
    "            return el\n",
    "\n",
    "def test():\n",
    "    with concurrent.futures.ProcessPoolExecutor(max_workers=4) as executor:\n",
    "        init = time.process_time()\n",
    "        result = executor.submit(sum_test, a, b)\n",
    "        end = time.process_time()\n",
    "        print(result.result())\n",
    "    end = time.process_time()\n",
    "    print(end - init)\n",
    "\n",
    "    \n",
    "def test1():\n",
    "    init = time.process_time()\n",
    "    pool = multiprocessing.Pool(4)\n",
    "    pool.apply(sum_test,(a, b))\n",
    "    end = time.process_time()\n",
    "    \n",
    "    print(end - init)\n",
    "\n"
   ]
  },
  {
   "cell_type": "code",
   "execution_count": 111,
   "metadata": {},
   "outputs": [],
   "source": [
    "def test2():\n",
    "    init = time.process_time()\n",
    "    pool = multiprocessing.Pool(2)\n",
    "    r = pool.apply(fact,(200,))\n",
    "    end = time.process_time()\n",
    "    \n",
    "    print(end - init)\n",
    "    return (r)\n"
   ]
  },
  {
   "cell_type": "code",
   "execution_count": 150,
   "metadata": {},
   "outputs": [],
   "source": [
    "def test3():\n",
    "    init = time.process_time()\n",
    "    pool = multiprocessing.Pool(2)\n",
    "    r = pool.apply(find,(3,vec))\n",
    "    end = time.process_time()\n",
    "    \n",
    "    print(end - init)\n",
    "    return (r)"
   ]
  },
  {
   "cell_type": "code",
   "execution_count": 86,
   "metadata": {},
   "outputs": [
    {
     "name": "stdout",
     "output_type": "stream",
     "text": [
      "0.0002869939999996518\n",
      "[0, 2, 4, 6, 8, 10, 12, 14, 16, 18, 20, 22, 24, 26, 28, 30, 32, 34, 36, 38, 40, 42, 44, 46, 48, 50, 52, 54, 56, 58, 60, 62, 64, 66, 68, 70, 72, 74, 76, 78, 80, 82, 84, 86, 88, 90, 92, 94, 96, 98, 100, 102, 104, 106, 108, 110, 112, 114, 116, 118, 120, 122, 124, 126, 128, 130, 132, 134, 136, 138, 140, 142, 144, 146, 148, 150, 152, 154, 156, 158, 160, 162, 164, 166, 168, 170, 172, 174, 176, 178, 180, 182, 184, 186, 188, 190, 192, 194, 196, 198]\n"
     ]
    }
   ],
   "source": [
    "init = time.process_time()\n",
    "r = sum_test(a, b)\n",
    "end = time.process_time()\n",
    "\n",
    "print(end - init)\n",
    "print(r)\n",
    "\n"
   ]
  },
  {
   "cell_type": "code",
   "execution_count": 88,
   "metadata": {},
   "outputs": [
    {
     "name": "stdout",
     "output_type": "stream",
     "text": [
      "[0, 2, 4, 6, 8, 10, 12, 14, 16, 18, 20, 22, 24, 26, 28, 30, 32, 34, 36, 38, 40, 42, 44, 46, 48, 50, 52, 54, 56, 58, 60, 62, 64, 66, 68, 70, 72, 74, 76, 78, 80, 82, 84, 86, 88, 90, 92, 94, 96, 98, 100, 102, 104, 106, 108, 110, 112, 114, 116, 118, 120, 122, 124, 126, 128, 130, 132, 134, 136, 138, 140, 142, 144, 146, 148, 150, 152, 154, 156, 158, 160, 162, 164, 166, 168, 170, 172, 174, 176, 178, 180, 182, 184, 186, 188, 190, 192, 194, 196, 198]\n",
      "0.06263740700000042\n"
     ]
    }
   ],
   "source": [
    "test()"
   ]
  },
  {
   "cell_type": "code",
   "execution_count": 137,
   "metadata": {},
   "outputs": [
    {
     "name": "stdout",
     "output_type": "stream",
     "text": [
      "0.07427142400000264\n"
     ]
    }
   ],
   "source": [
    "test1()\n",
    "    "
   ]
  },
  {
   "cell_type": "code",
   "execution_count": 148,
   "metadata": {},
   "outputs": [
    {
     "name": "stdout",
     "output_type": "stream",
     "text": [
      "0.9397251400000073\n"
     ]
    }
   ],
   "source": [
    "vec = np.arange(0,10000000)\n",
    "shuffle(vec)\n",
    "\n",
    "\n",
    "init = time.process_time()\n",
    "find(3, vec)\n",
    "end = time.process_time()\n",
    "\n",
    "print(end - init)\n",
    "\n"
   ]
  },
  {
   "cell_type": "code",
   "execution_count": 151,
   "metadata": {},
   "outputs": [
    {
     "name": "stdout",
     "output_type": "stream",
     "text": [
      "0.2989377739999952\n"
     ]
    },
    {
     "data": {
      "text/plain": [
       "3"
      ]
     },
     "execution_count": 151,
     "metadata": {},
     "output_type": "execute_result"
    }
   ],
   "source": [
    "test3()"
   ]
  },
  {
   "cell_type": "code",
   "execution_count": 108,
   "metadata": {},
   "outputs": [
    {
     "name": "stdout",
     "output_type": "stream",
     "text": [
      "0.0004175149999987582\n",
      "788657867364790503552363213932185062295135977687173263294742533244359449963403342920304284011984623904177212138919638830257642790242637105061926624952829931113462857270763317237396988943922445621451664240254033291864131227428294853277524242407573903240321257405579568660226031904170324062351700858796178922222789623703897374720000000000000000000000000000000000000000000000000\n"
     ]
    }
   ],
   "source": [
    "init = time.process_time()\n",
    "r = fact(200)\n",
    "end = time.process_time()\n",
    "\n",
    "print(end - init)\n",
    "print(r)\n"
   ]
  }
 ],
 "metadata": {
  "kernelspec": {
   "display_name": "Python 3",
   "language": "python",
   "name": "python3"
  },
  "language_info": {
   "codemirror_mode": {
    "name": "ipython",
    "version": 3
   },
   "file_extension": ".py",
   "mimetype": "text/x-python",
   "name": "python",
   "nbconvert_exporter": "python",
   "pygments_lexer": "ipython3",
   "version": "3.7.4"
  }
 },
 "nbformat": 4,
 "nbformat_minor": 2
}
