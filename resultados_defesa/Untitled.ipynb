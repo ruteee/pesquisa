{
 "cells": [
  {
   "cell_type": "code",
   "execution_count": 48,
   "metadata": {},
   "outputs": [],
   "source": [
    "import pandas as pd\n",
    "from matplotlib import pyplot as plt\n",
    "import numpy as np\n",
    "import seaborn as sns"
   ]
  },
  {
   "cell_type": "code",
   "execution_count": 18,
   "metadata": {},
   "outputs": [],
   "source": [
    "te = pd.read_csv('te_m5_h50.csv', index_col=0)"
   ]
  },
  {
   "cell_type": "code",
   "execution_count": 42,
   "metadata": {},
   "outputs": [
    {
     "data": {
      "text/plain": [
       "(array([133,   4,   2,   4,   0,   0,   0,   0,   0,   1]),\n",
       " array([0.        , 0.03987931, 0.07975862, 0.11963793, 0.15951724,\n",
       "        0.19939655, 0.23927586, 0.27915517, 0.31903448, 0.35891379,\n",
       "        0.3987931 ]))"
      ]
     },
     "execution_count": 42,
     "metadata": {},
     "output_type": "execute_result"
    }
   ],
   "source": [
    "hist = np.histogram(te.values)\n",
    "hist"
   ]
  },
  {
   "cell_type": "code",
   "execution_count": 55,
   "metadata": {},
   "outputs": [
    {
     "data": {
      "text/plain": [
       "array([0.        , 0.        , 0.        , 0.        , 0.00451446,\n",
       "       0.13618717, 0.        , 0.        , 0.        , 0.        ,\n",
       "       0.15256422, 0.08214614, 0.        , 0.        , 0.        ,\n",
       "       0.        , 0.        , 0.        , 0.        , 0.        ,\n",
       "       0.        , 0.        , 0.        , 0.        , 0.        ,\n",
       "       0.        , 0.        , 0.        , 0.        , 0.        ,\n",
       "       0.        , 0.        , 0.        , 0.        , 0.        ,\n",
       "       0.        , 0.        , 0.        , 0.        , 0.        ,\n",
       "       0.        , 0.        , 0.        , 0.        , 0.        ,\n",
       "       0.        , 0.        , 0.        , 0.01095819, 0.        ,\n",
       "       0.        , 0.        , 0.        , 0.00508133, 0.0176895 ,\n",
       "       0.        , 0.        , 0.        , 0.        , 0.02037067,\n",
       "       0.05567492, 0.        , 0.        , 0.        , 0.0022544 ,\n",
       "       0.        , 0.13387294, 0.        , 0.        , 0.        ,\n",
       "       0.03191854, 0.        , 0.        , 0.        , 0.        ,\n",
       "       0.        , 0.00169719, 0.07659895, 0.        , 0.        ,\n",
       "       0.        , 0.        , 0.01831731, 0.01640193, 0.        ,\n",
       "       0.        , 0.        , 0.        , 0.        , 0.        ,\n",
       "       0.        , 0.        , 0.        , 0.        , 0.        ,\n",
       "       0.        , 0.        , 0.        , 0.        , 0.        ,\n",
       "       0.        , 0.        , 0.        , 0.        , 0.        ,\n",
       "       0.        , 0.        , 0.        , 0.        , 0.        ,\n",
       "       0.        , 0.        , 0.        , 0.        , 0.        ,\n",
       "       0.        , 0.        , 0.        , 0.        , 0.        ,\n",
       "       0.01816309, 0.        , 0.        , 0.        , 0.        ,\n",
       "       0.07272907, 0.09862152, 0.        , 0.        , 0.        ,\n",
       "       0.        , 0.02258807, 0.07571204, 0.        , 0.        ,\n",
       "       0.        , 0.00465042, 0.        , 0.3987931 , 0.        ,\n",
       "       0.        , 0.        , 0.1246266 , 0.        ])"
      ]
     },
     "execution_count": 55,
     "metadata": {},
     "output_type": "execute_result"
    }
   ],
   "source": [
    "te.values.flatten()"
   ]
  },
  {
   "cell_type": "code",
   "execution_count": 56,
   "metadata": {},
   "outputs": [
    {
     "data": {
      "image/png": "[encoded data removed]",
      "text/plain": [
       "<Figure size 432x288 with 1 Axes>"
      ]
     },
     "metadata": {
      "needs_background": "light"
     },
     "output_type": "display_data"
    }
   ],
   "source": [
    "\n",
    "sns.distplot(te.values.flatten())\n",
    "plt.show()"
   ]
  },
  {
   "cell_type": "code",
   "execution_count": 59,
   "metadata": {},
   "outputs": [
    {
     "data": {
      "text/plain": [
       "(array([133.,   4.,   2.,   4.,   0.,   0.,   0.,   0.,   0.,   1.]),\n",
       " array([0.        , 0.03987931, 0.07975862, 0.11963793, 0.15951724,\n",
       "        0.19939655, 0.23927586, 0.27915517, 0.31903448, 0.35891379,\n",
       "        0.3987931 ]),\n",
       " <a list of 10 Patch objects>)"
      ]
     },
     "execution_count": 59,
     "metadata": {},
     "output_type": "execute_result"
    },
    {
     "data": {
      "image/png": "[encoded data removed]",
      "text/plain": [
       "<Figure size 720x432 with 1 Axes>"
      ]
     },
     "metadata": {
      "needs_background": "light"
     },
     "output_type": "display_data"
    }
   ],
   "source": [
    "plt.figure(figsize=(10,6))\n",
    "plt.hist(te.values.flatten())\n"
   ]
  },
  {
   "cell_type": "code",
   "execution_count": 31,
   "metadata": {},
   "outputs": [],
   "source": [
    "plt.bar?"
   ]
  }
 ],
 "metadata": {
  "kernelspec": {
   "display_name": "Python 3",
   "language": "python",
   "name": "python3"
  },
  "language_info": {
   "codemirror_mode": {
    "name": "ipython",
    "version": 3
   },
   "file_extension": ".py",
   "mimetype": "text/x-python",
   "name": "python",
   "nbconvert_exporter": "python",
   "pygments_lexer": "ipython3",
   "version": "3.7.4"
  }
 },
 "nbformat": 4,
 "nbformat_minor": 2
}
