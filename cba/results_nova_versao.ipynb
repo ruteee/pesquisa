{
 "cells": [
  {
   "cell_type": "code",
   "execution_count": 1,
   "metadata": {},
   "outputs": [
    {
     "name": "stderr",
     "output_type": "stream",
     "text": [
      "/home/rute/.conda/envs/pesquisa/lib/python3.6/site-packages/statsmodels/compat/pandas.py:56: FutureWarning: The pandas.core.datetools module is deprecated and will be removed in a future version. Please use the pandas.tseries module instead.\n",
      "  from pandas.core import datetools\n"
     ]
    }
   ],
   "source": [
    "import pandas as pd\n",
    "import numpy as np\n",
    "import time\n",
    "from transferEntropy import *"
   ]
  },
  {
   "cell_type": "code",
   "execution_count": 7,
   "metadata": {},
   "outputs": [],
   "source": [
    "def generate_df_valid_corrs(df, limit):\n",
    "    df_valid = pd.DataFrame(np.zeros([df.shape[0], df.shape[1]], dtype=int), columns = df.columns, index= df.columns)\n",
    "    for row in df.columns:\n",
    "        for col in df.columns:\n",
    "            if df[row][col] > limit:\n",
    "                df_valid[row][col] = 1\n",
    "                \n",
    "    return df_valid "
   ]
  },
  {
   "cell_type": "code",
   "execution_count": 19,
   "metadata": {},
   "outputs": [],
   "source": [
    "def app_roll_mean(df, window):\n",
    "    roll  = df.rolling(window).mean() \n",
    "    roll.dropna(inplace=True)\n",
    "    roll = roll.round(decimals=0).copy()\n",
    "    roll.reset_index(drop=True, inplace=True)\n",
    "    return roll.copy()"
   ]
  },
  {
   "cell_type": "code",
   "execution_count": 29,
   "metadata": {},
   "outputs": [],
   "source": [
    "def eval_tes(df_current, path):\n",
    "    all_cen_normal = ['k%d_l%d_h%d' %(x,y,z) for x,y in zip([1,2,3,4,5,6],[1,2,3,4,5,6])  for z in [1,2,3]]\n",
    "    for i in np.arange(1,7):\n",
    "        for j in np.arange(1,4):\n",
    "            te_matrix = transferEntropy_case(df_current, 0.99, i,i,j)\n",
    "            t = np.mean(te_matrix) + 3*np.std(te_matrix)\n",
    "            df_te = pd.DataFrame(te_matrix, columns = df_current.columns, index= df_current.columns)\n",
    "            generate_df_valid_corrs(df_te, t).to_csv(path+all_cen_normal[(j-1) + 3*(i-1)]+\"_sel_corrs.csv\")\n",
    "            df_te.to_csv(path+all_cen_normal[(j-1) + 3*(i-1)]+\"_corrs.csv\")"
   ]
  },
  {
   "cell_type": "code",
   "execution_count": 21,
   "metadata": {},
   "outputs": [],
   "source": [
    "cen_normal = \"cenarios/cen_nova_versao/normal/\"\n",
    "cen_media2 = \"cenarios_/cen_nova_versao/media2/\"\n",
    "cen_media5 = \"cenarios/cen_nova_versao/media5/\""
   ]
  },
  {
   "cell_type": "code",
   "execution_count": 2,
   "metadata": {},
   "outputs": [],
   "source": [
    "#Receving data\n",
    "dist6_novo = pd.read_csv(\"dist6_3horas_sig/alm_seq.csv\")\n",
    "dist = dist6_novo[['xmeas%02d_low' % x for x in [1,2,3,8,9,21]] + ['xmeas%02d_high' % x for x in [1,2,3,8,9,21]]]\n",
    "dist6_novo.drop('tout', axis=1, inplace=True)\n",
    "dist = dist6_novo[['xmeas%02d_low' % x for x in [1,2,3,8,9,21]] + ['xmeas%02d_high' % x for x in [1,2,3,8,9,21]]]"
   ]
  },
  {
   "cell_type": "code",
   "execution_count": 30,
   "metadata": {},
   "outputs": [
    {
     "name": "stdout",
     "output_type": "stream",
     "text": [
      "530.9326019999999\n"
     ]
    }
   ],
   "source": [
    "#cen normal\n",
    "eval_tes(dist, cen_normal)"
   ]
  },
  {
   "cell_type": "code",
   "execution_count": 31,
   "metadata": {},
   "outputs": [
    {
     "name": "stdout",
     "output_type": "stream",
     "text": [
      "569.8660880000007\n"
     ]
    }
   ],
   "source": [
    "#Cen mean 2\n",
    "df_mean2 = app_roll_mean(dist,2)\n",
    "eval_tes(df_mean2, cen_media2)"
   ]
  },
  {
   "cell_type": "code",
   "execution_count": 32,
   "metadata": {},
   "outputs": [
    {
     "name": "stdout",
     "output_type": "stream",
     "text": [
      "575.5115139999998\n"
     ]
    }
   ],
   "source": [
    "#cen mean5 \n",
    "df_mean5 = app_roll_mean(dist,5)\n",
    "eval_tes(df_mean5, cen_media5)"
   ]
  }
 ],
 "metadata": {
  "kernelspec": {
   "display_name": "Python 3",
   "language": "python",
   "name": "python3"
  },
  "language_info": {
   "codemirror_mode": {
    "name": "ipython",
    "version": 3
   },
   "file_extension": ".py",
   "mimetype": "text/x-python",
   "name": "python",
   "nbconvert_exporter": "python",
   "pygments_lexer": "ipython3",
   "version": "3.6.5"
  }
 },
 "nbformat": 4,
 "nbformat_minor": 2
}
