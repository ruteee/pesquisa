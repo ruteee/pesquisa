{
 "cells": [
  {
   "cell_type": "code",
   "execution_count": 1,
   "metadata": {},
   "outputs": [
    {
     "name": "stderr",
     "output_type": "stream",
     "text": [
      "/home/rute/anaconda3/lib/python3.6/site-packages/statsmodels/compat/pandas.py:56: FutureWarning: The pandas.core.datetools module is deprecated and will be removed in a future version. Please use the pandas.tseries module instead.\n",
      "  from pandas.core import datetools\n"
     ]
    }
   ],
   "source": [
    "import pandas as pd\n",
    "import numpy as np\n",
    "import time\n",
    "\n",
    "from graphviz import Digraph\n",
    "import seaborn as sns\n",
    "import matplotlib.pyplot as plt\n",
    "\n",
    "from transferEntropy import *"
   ]
  },
  {
   "cell_type": "code",
   "execution_count": 2,
   "metadata": {},
   "outputs": [],
   "source": [
    "#Visualization in a seaborn corr mamtrix \n",
    "def plot_mat_corrs(figsize, annot, matrix):\n",
    "    f, ax = plt.subplots(figsize=figsize)\n",
    "    cmap = sns.diverging_palette(150, 275, s=80, l=55, as_cmap=True)\n",
    "    sns.heatmap(matrix, cmap=cmap, center=0, annot=annot, vmin = 0, vmax=max(matrix.max()))\n",
    "    plt.yticks(rotation=45)\n",
    "    plt.xticks(rotation=45)\n",
    "    plt.show()"
   ]
  },
  {
   "cell_type": "code",
   "execution_count": 3,
   "metadata": {},
   "outputs": [],
   "source": [
    "#Visualization by graph\n",
    "def graph(df, limite, eng = 'dot'):\n",
    "    g = Digraph(engine=eng)\n",
    "    for k, row in enumerate(df.index):\n",
    "        if any(df.iloc[k]>=limite) or any(df[row] >= limite):\n",
    "            g.node(str(k),row, shape='oval', fontsize='10', width='0') \n",
    "\n",
    "    for j, col in enumerate(df.columns):\n",
    "        for i, row in enumerate(df[col]):\n",
    "            if row  >=limite:\n",
    "                g.edge(str(i), str(j), label=str(np.round(row,3)),\\\n",
    "                       color=\"#000000{:02x}\".format(int(255)))\n",
    "                \n",
    "                       #* row//max(df.max()))\n",
    "    return g   "
   ]
  },
  {
   "cell_type": "code",
   "execution_count": 4,
   "metadata": {},
   "outputs": [],
   "source": [
    "def generate_df_valid_corrs(df, limit):\n",
    "    df_valid = pd.DataFrame(np.zeros([df.shape[0], df.shape[1]], dtype=int), columns = df.columns, index= df.columns)\n",
    "    for row in df.columns:\n",
    "        for col in df.columns:\n",
    "            if df[row][col] > limit:\n",
    "                df_valid[row][col] = 1\n",
    "                \n",
    "    return df_valid "
   ]
  },
  {
   "cell_type": "code",
   "execution_count": 5,
   "metadata": {},
   "outputs": [],
   "source": [
    "#Receving data\n",
    "dist6_novo = pd.read_csv(\"dist6_3horas_sig/alm_seq.csv\")\n",
    "dist = dist6_novo[['xmeas%02d_low' % x for x in [1,2,3,8,9,21]] + ['xmeas%02d_high' % x for x in [1,2,3,8,9,21]]]\n",
    "dist6_novo.drop('tout', axis=1, inplace=True)\n",
    "dist = dist6_novo[['xmeas%02d_low' % x for x in [1,2,3,8,9,21]] + ['xmeas%02d_high' % x for x in [1,2,3,8,9,21]]]"
   ]
  },
  {
   "cell_type": "code",
   "execution_count": 34,
   "metadata": {},
   "outputs": [],
   "source": [
    "#paths\n",
    "\n",
    "cen1 = \"cenarios_cba/cen1/\"\n",
    "cen2 = \"cenarios_cba/cen2/\"\n",
    "cen3 = \"cenarios_cba/cen3/\"\n",
    "cen4 = \"cenarios_cba/cen4/\"\n",
    "cen5 = \"cenarios_cba/cen5/\"\n",
    "cen6 = \"cenarios_cba/cen6/\""
   ]
  },
  {
   "cell_type": "code",
   "execution_count": 31,
   "metadata": {},
   "outputs": [
    {
     "name": "stdout",
     "output_type": "stream",
     "text": [
      "50.78948100000002\n",
      "Qtd_relacoes  4.0\n"
     ]
    }
   ],
   "source": [
    "start = time.clock()\n",
    "te_matrix_1_1 = transferEntropy_case(dist, 0.99, 1, 1, 1)\n",
    "end = time.clock()\n",
    "t1 = end-start\n",
    "\n",
    "\n",
    "t = np.mean(te_matrix_1_1) + 3*np.std(te_matrix_1_1)\n",
    "df_te_1_1 =  pd.DataFrame(te_matrix_1_1, columns = dist.columns, index= dist.columns)\n",
    "vld_cor_1_1 = generate_df_valid_corrs(df_te_1_1, t)\n",
    "\n",
    "\n",
    "df_te_1_1.to_csv(cen1+\"k1_l1_h1_corrs.csv\")\n",
    "vld_cor_1_1.to_csv(cen1 +\"k1_l1_h1_sel_corrs.csv\")\n",
    "\n",
    "\n",
    "qtd_relacoes = generate_df_valid_corrs(df_te_1_1, t).apply(pd.value_counts).loc[1].sum()\n",
    "print(\"Qtd_relacoes \", qtd_relacoes)"
   ]
  },
  {
   "cell_type": "code",
   "execution_count": 32,
   "metadata": {},
   "outputs": [
    {
     "name": "stdout",
     "output_type": "stream",
     "text": [
      "83.92877400000003\n",
      "Qtd_relacoes  4.0\n"
     ]
    }
   ],
   "source": [
    "te_matrix_3_1 = transferEntropy_case(dist, 0.99, 3, 1, 1)\n",
    "t = np.mean(te_matrix_3_1) + 3*np.std(te_matrix_3_1)\n",
    "\n",
    "df_te_3_1 =  pd.DataFrame(te_matrix_3_1, columns = dist.columns, index= dist.columns)\n",
    "vld_cor_3_1 = generate_df_valid_corrs(df_te_3_1, t)\n",
    "\n",
    "df_te_3_1.to_csv(cen1+\"k3_l1_h1_corrs.csv\")\n",
    "vld_cor_3_1.to_csv(cen1 +\"k3_l1_h1_sel_corrs.csv\")\n",
    "\n",
    "qtd_relacoes = generate_df_valid_corrs(df_te_3_1, t).apply(pd.value_counts).loc[1].sum()\n",
    "print(\"Qtd_relacoes \", qtd_relacoes)"
   ]
  },
  {
   "cell_type": "code",
   "execution_count": null,
   "metadata": {},
   "outputs": [],
   "source": []
  },
  {
   "cell_type": "code",
   "execution_count": 93,
   "metadata": {},
   "outputs": [
    {
     "name": "stdout",
     "output_type": "stream",
     "text": [
      "140.12347900000032\n",
      "Qtd_relacoes  5.0\n"
     ]
    }
   ],
   "source": [
    "start = time.clock()\n",
    "te_matrix_6_1 = transferEntropy_case(dist, 0.99, 6, 1, 1)\n",
    "end = time.clock()\n",
    "t3 = end-start\n",
    "\n",
    "t = np.mean(te_matrix_6_1) + 3*np.std(te_matrix_6_1)\n",
    "\n",
    "df_te_6_1 =  pd.DataFrame(te_matrix_6_1, columns = dist.columns, index= dist.columns)\n",
    "vld_cor_6_1 = generate_df_valid_corrs(df_te_6_1, t)\n",
    "\n",
    "df_te_6_1.to_csv(cen1+\"k6_l1_h1_corrs.csv\")\n",
    "vld_cor_3_1.to_csv(cen1 +\"k6_l1_h1_sel_corrs.csv\")\n",
    "\n",
    "qtd_relacoes = generate_df_valid_corrs(df_te_6_1, t).apply(pd.value_counts).loc[1].sum()\n",
    "print(\"Qtd_relacoes \", qtd_relacoes)"
   ]
  },
  {
   "cell_type": "code",
   "execution_count": null,
   "metadata": {},
   "outputs": [],
   "source": [
    "#Cenário 2"
   ]
  },
  {
   "cell_type": "code",
   "execution_count": null,
   "metadata": {},
   "outputs": [],
   "source": [
    "start = time.clock()\n",
    "te_matrix_1_3 = transferEntropy_case(dist, 0.99, 1, 3, 1)\n",
    "end = time.clock()\n",
    "t4 = end - start"
   ]
  },
  {
   "cell_type": "code",
   "execution_count": 50,
   "metadata": {},
   "outputs": [
    {
     "name": "stdout",
     "output_type": "stream",
     "text": [
      "Qtd_relacoes  4.0\n",
      "83.33033599999999\n"
     ]
    }
   ],
   "source": [
    "t = np.mean(te_matrix_1_3) + 3*np.std(te_matrix_1_3)\n",
    "\n",
    "df_te_1_3 =  pd.DataFrame(te_matrix_1_3, columns = dist.columns, index= dist.columns)\n",
    "vld_cor_1_3 = generate_df_valid_corrs(df_te_1_3, t)\n",
    "\n",
    "df_te_1_3.to_csv(cen2+\"k1_l3_h1_corrs.csv\")\n",
    "vld_cor_1_3.to_csv(cen2 +\"k1_l3_h1_sel_corrs.csv\")\n",
    "\n",
    "qtd_relacoes = generate_df_valid_corrs(df_te_1_3, t).apply(pd.value_counts).loc[1].sum()\n",
    "print(\"Qtd_relacoes \", qtd_relacoes)\n",
    "print(t4)"
   ]
  },
  {
   "cell_type": "code",
   "execution_count": null,
   "metadata": {},
   "outputs": [],
   "source": []
  },
  {
   "cell_type": "code",
   "execution_count": 54,
   "metadata": {},
   "outputs": [
    {
     "name": "stdout",
     "output_type": "stream",
     "text": [
      "130.42905300000007\n",
      "Qtd_relacoes  5.0\n"
     ]
    }
   ],
   "source": [
    "start = time.clock()\n",
    "te_matrix_1_6 = transferEntropy_case(dist, 0.99, 1, 6, 1)\n",
    "end = time.clock()\n",
    "t5 = end-start\n",
    "\n",
    "t = np.mean(te_matrix_1_6) + 3*np.std(te_matrix_1_6)\n",
    "\n",
    "df_te_1_6 =  pd.DataFrame(te_matrix_1_6, columns = dist.columns, index= dist.columns)\n",
    "vld_cor_1_6 = generate_df_valid_corrs(df_te_1_6, t)\n",
    "\n",
    "df_te_1_6.to_csv(cen2+\"k1_l6_h1_corrs.csv\")\n",
    "vld_cor_1_6.to_csv(cen2+\"k1_l6_h1_sel_corrs.csv\")\n",
    "\n",
    "qtd_relacoes = generate_df_valid_corrs(df_te_1_6, t).apply(pd.value_counts).loc[1].sum()\n",
    "print(\"Qtd_relacoes \", qtd_relacoes)\n"
   ]
  },
  {
   "cell_type": "code",
   "execution_count": null,
   "metadata": {},
   "outputs": [],
   "source": [
    "#Cenário 3"
   ]
  },
  {
   "cell_type": "code",
   "execution_count": null,
   "metadata": {},
   "outputs": [],
   "source": [
    "start = time.clock()\n",
    "te_matrix_h3 = transferEntropy_case(dist, 0.99, 1, 1, 3)\n",
    "end = time.clock()\n",
    "t6 = end-start\n",
    "\n",
    "t = np.mean(te_matrix_h3) + 3*np.std(te_matrix_h3)"
   ]
  },
  {
   "cell_type": "code",
   "execution_count": 59,
   "metadata": {},
   "outputs": [
    {
     "name": "stdout",
     "output_type": "stream",
     "text": [
      "Qtd_relacoes  2.0\n",
      "56.811571000000185\n"
     ]
    }
   ],
   "source": [
    "df_te_h3 =  pd.DataFrame(te_matrix_h3, columns = dist.columns, index= dist.columns)\n",
    "vld_cor_h3 = generate_df_valid_corrs(df_te_h3, t)\n",
    "\n",
    "df_te_h3.to_csv(cen3+\"k1_l1_h3_corrs.csv\")\n",
    "vld_cor_h3.to_csv(cen3+\"k1_l1_h3_sel_corrs.csv\")\n",
    "\n",
    "qtd_relacoes = generate_df_valid_corrs(df_te_h3, t).apply(pd.value_counts).loc[1].sum()\n",
    "print(\"Qtd_relacoes \", qtd_relacoes)\n",
    "print(t6)"
   ]
  },
  {
   "cell_type": "code",
   "execution_count": null,
   "metadata": {},
   "outputs": [],
   "source": []
  },
  {
   "cell_type": "code",
   "execution_count": null,
   "metadata": {},
   "outputs": [],
   "source": [
    "start = time.clock()\n",
    "te_matrix_h6 = transferEntropy_case(dist, 0.99, 1, 1, 6)\n",
    "end = time.clock()\n",
    "t7 = end-start"
   ]
  },
  {
   "cell_type": "code",
   "execution_count": 63,
   "metadata": {},
   "outputs": [
    {
     "name": "stdout",
     "output_type": "stream",
     "text": [
      "Qtd_relacoes  4.0\n",
      "49.984370000000126\n"
     ]
    }
   ],
   "source": [
    "t = np.mean(te_matrix_h6) + 3*np.std(te_matrix_h6)\n",
    "\n",
    "df_te_h6 =  pd.DataFrame(te_matrix_h6, columns = dist.columns, index= dist.columns)\n",
    "vld_cor_h6 = generate_df_valid_corrs(df_te_h6, t)\n",
    "\n",
    "df_te_h6.to_csv(cen3+\"k1_l1_h6_corrs.csv\")\n",
    "vld_cor_h6.to_csv(cen3+\"k1_l1_h6_sel_corrs.csv\")\n",
    "\n",
    "qtd_relacoes = generate_df_valid_corrs(df_te_h6, t).apply(pd.value_counts).loc[1].sum()\n",
    "print(\"Qtd_relacoes \", qtd_relacoes)\n",
    "print(t7)"
   ]
  },
  {
   "cell_type": "code",
   "execution_count": null,
   "metadata": {},
   "outputs": [],
   "source": [
    "#Cenário 4 "
   ]
  },
  {
   "cell_type": "code",
   "execution_count": null,
   "metadata": {},
   "outputs": [],
   "source": [
    "start = time.clock()\n",
    "te_matrix_k3_h3 = transferEntropy_case(dist, 0.99, 3, 1, 3)\n",
    "end = time.clock()\n",
    "t8 = end-start"
   ]
  },
  {
   "cell_type": "code",
   "execution_count": 68,
   "metadata": {},
   "outputs": [
    {
     "name": "stdout",
     "output_type": "stream",
     "text": [
      "Qtd_relacoes  3.0\n",
      "84.11214900000004\n"
     ]
    }
   ],
   "source": [
    "t = np.mean(te_matrix_k3_h3) + 3*np.std(te_matrix_k3_h3)\n",
    "df_te_k3_h3 =  pd.DataFrame(te_matrix_k3_h3, columns = dist.columns, index= dist.columns)\n",
    "vld_k3_h3 = generate_df_valid_corrs(df_te_k3_h3, t)\n",
    "\n",
    "df_te_k3_h3.to_csv(cen4+\"k3_l1_h3_corrs.csv\")\n",
    "vld_k3_h3.to_csv(cen4+\"k3_l1_h3_sel_corrs.csv\")\n",
    "\n",
    "qtd_relacoes = generate_df_valid_corrs(df_te_k3_h3, t).apply(pd.value_counts).loc[1].sum()\n",
    "print(\"Qtd_relacoes \", qtd_relacoes)\n",
    "print(t8)"
   ]
  },
  {
   "cell_type": "code",
   "execution_count": null,
   "metadata": {},
   "outputs": [],
   "source": []
  },
  {
   "cell_type": "code",
   "execution_count": null,
   "metadata": {},
   "outputs": [],
   "source": [
    "start = time.clock()\n",
    "te_matrix_k3_h6 = transferEntropy_case(dist, 0.99, 3, 1, 6)\n",
    "end = time.clock()\n",
    "t9 = end - start"
   ]
  },
  {
   "cell_type": "code",
   "execution_count": 71,
   "metadata": {},
   "outputs": [
    {
     "name": "stdout",
     "output_type": "stream",
     "text": [
      "Qtd_relacoes  4.0\n",
      "84.64086500000008\n"
     ]
    }
   ],
   "source": [
    "t = np.mean(te_matrix_k3_h6) + 3*np.std(te_matrix_k3_h6)\n",
    "\n",
    "df_te_k3_h6 =  pd.DataFrame(te_matrix_k3_h6, columns = dist.columns, index= dist.columns)\n",
    "vld_k3_h6 = generate_df_valid_corrs(df_te_k3_h6, t)\n",
    "\n",
    "df_te_k3_h6.to_csv(cen4+\"k3_l1_h6_corrs.csv\")\n",
    "vld_k3_h6.to_csv(cen4+\"k3_l1_h6_sel_corrs.csv\")\n",
    "\n",
    "qtd_relacoes = generate_df_valid_corrs(df_te_k3_h6, t).apply(pd.value_counts).loc[1].sum()\n",
    "print(\"Qtd_relacoes \", qtd_relacoes)\n",
    "print(t9)"
   ]
  },
  {
   "cell_type": "code",
   "execution_count": null,
   "metadata": {},
   "outputs": [],
   "source": []
  },
  {
   "cell_type": "code",
   "execution_count": 72,
   "metadata": {},
   "outputs": [
    {
     "name": "stdout",
     "output_type": "stream",
     "text": [
      "131.13988199999994\n",
      "Qtd_relacoes  4.0\n"
     ]
    }
   ],
   "source": [
    "start = time.clock()\n",
    "te_matrix_k6_h3 = transferEntropy_case(dist, 0.99, 6, 1, 3)\n",
    "end = time.clock()\n",
    "t10 = end - start\n",
    "\n",
    "t = np.mean(te_matrix_k6_h3) + 3*np.std(te_matrix_k6_h3)\n",
    "\n",
    "df_te_k6_h3 =  pd.DataFrame(te_matrix_k6_h3, columns = dist.columns, index= dist.columns)\n",
    "vld_k6_h3 = generate_df_valid_corrs(df_te_k6_h3, t)\n",
    "\n",
    "df_te_k6_h3.to_csv(cen4+\"k6_l1_h3_corrs.csv\")\n",
    "vld_k6_h3.to_csv(cen4+\"k6_l1_h3_sel_corrs.csv\")\n",
    "\n",
    "\n",
    "qtd_relacoes = vld_k6_h3.apply(pd.value_counts).loc[1].sum()\n",
    "print(\"Qtd_relacoes \", qtd_relacoes)\n"
   ]
  },
  {
   "cell_type": "code",
   "execution_count": 73,
   "metadata": {},
   "outputs": [
    {
     "name": "stdout",
     "output_type": "stream",
     "text": [
      "130.88482799999997\n",
      "Qtd_relacoes  4.0\n"
     ]
    }
   ],
   "source": [
    "start = time.clock()\n",
    "te_matrix_k6_h6 = transferEntropy_case(dist, 0.99, 6, 1, 6)\n",
    "end = time.clock()\n",
    "t11 = end - start\n",
    "\n",
    "t = np.mean(te_matrix_k6_h6) + 3*np.std(te_matrix_k6_h6)\n",
    "\n",
    "df_te_k6_h6 =  pd.DataFrame(te_matrix_k6_h6, columns = dist.columns, index= dist.columns)\n",
    "vld_k6_h6 = generate_df_valid_corrs(df_te_k6_h6, t)\n",
    "\n",
    "df_te_k6_h6.to_csv(cen4+\"k6_l1_h6_corrs.csv\")\n",
    "vld_k6_h6.to_csv(cen4+\"k6_l1_h6_sel_corrs.csv\")\n",
    "\n",
    "qtd_relacoes = vld_k6_h6.apply(pd.value_counts).loc[1].sum()\n",
    "print(\"Qtd_relacoes \", qtd_relacoes)"
   ]
  },
  {
   "cell_type": "code",
   "execution_count": null,
   "metadata": {},
   "outputs": [],
   "source": [
    "#Cenário 5\n",
    "\n",
    "start = time.clock()\n",
    "te_matrix_l3_h3 = transferEntropy_case(dist, 0.99, 1, 3, 3)\n",
    "end = time.clock()\n",
    "\n",
    "t12 = end - start\n",
    "\n",
    "t = np.mean(te_matrix_l3_h3) + 3*np.std(te_matrix_l3_h3)"
   ]
  },
  {
   "cell_type": "code",
   "execution_count": 76,
   "metadata": {},
   "outputs": [
    {
     "name": "stdout",
     "output_type": "stream",
     "text": [
      "Qtd_relacoes  4.0\n",
      "83.78084600000011\n"
     ]
    }
   ],
   "source": [
    "df_te_l3_h3 =  pd.DataFrame(te_matrix_l3_h3, columns = dist.columns, index= dist.columns)\n",
    "vld_l3_h3 = generate_df_valid_corrs(df_te_l3_h3, t)\n",
    "\n",
    "df_te_l3_h3.to_csv(cen5+\"k1_l3_h3_corrs.csv\")\n",
    "vld_l3_h3.to_csv(cen5 + \"k1_l3_h3_sel_corrs.csv\")\n",
    "\n",
    "qtd_relacoes = vld_l3_h3.apply(pd.value_counts).loc[1].sum()\n",
    "print(\"Qtd_relacoes \", qtd_relacoes)\n",
    "print(t12)"
   ]
  },
  {
   "cell_type": "code",
   "execution_count": null,
   "metadata": {},
   "outputs": [],
   "source": []
  },
  {
   "cell_type": "code",
   "execution_count": 77,
   "metadata": {},
   "outputs": [
    {
     "name": "stdout",
     "output_type": "stream",
     "text": [
      "83.674399\n",
      "Qtd_relacoes  5.0\n"
     ]
    }
   ],
   "source": [
    "start = time.clock()\n",
    "te_matrix_l3_h6 = transferEntropy_case(dist, 0.99, 1, 3, 6)\n",
    "end = time.clock()\n",
    "\n",
    "t13 = end - start\n",
    "\n",
    "t = np.mean(te_matrix_l3_h6) + 3*np.std(te_matrix_l3_h6)\n",
    "\n",
    "df_te_l3_h6 =  pd.DataFrame(te_matrix_l3_h6, columns = dist.columns, index= dist.columns)\n",
    "vld_l3_h6 = generate_df_valid_corrs(df_te_l3_h6, t)\n",
    "\n",
    "df_te_l3_h6.to_csv(cen5+\"k1_l3_h6_corrs.csv\")\n",
    "vld_l3_h6.to_csv(cen5 + \"k1_l3_h6_sel_corrs.csv\")\n",
    "\n",
    "qtd_relacoes = vld_l3_h6.apply(pd.value_counts).loc[1].sum()\n",
    "print(\"Qtd_relacoes \", qtd_relacoes)\n"
   ]
  },
  {
   "cell_type": "code",
   "execution_count": null,
   "metadata": {},
   "outputs": [],
   "source": []
  },
  {
   "cell_type": "code",
   "execution_count": null,
   "metadata": {},
   "outputs": [],
   "source": [
    "start = time.clock()\n",
    "te_matrix_l6_h3 = transferEntropy_case(dist, 0.99, 1, 6, 3)\n",
    "end = time.clock()"
   ]
  },
  {
   "cell_type": "code",
   "execution_count": 80,
   "metadata": {},
   "outputs": [
    {
     "name": "stdout",
     "output_type": "stream",
     "text": [
      "Qtd_relacoes  4.0\n",
      "128.5548319999998\n"
     ]
    }
   ],
   "source": [
    "t14 = end-start\n",
    "\n",
    "t = np.mean(te_matrix_l6_h3) + 3*np.std(te_matrix_l6_h3)\n",
    "\n",
    "df_te_l6_h3 =  pd.DataFrame(te_matrix_l6_h3, columns = dist.columns, index= dist.columns)\n",
    "vld_l6_h3 = generate_df_valid_corrs(df_te_l6_h3, t)\n",
    "\n",
    "df_te_l6_h3.to_csv(cen5+\"k1_l6_h3_corrs.csv\")\n",
    "vld_l6_h3.to_csv(cen5+\"k1_l6_h3_sel_corrs.csv\")\n",
    "\n",
    "qtd_relacoes = vld_l6_h3.apply(pd.value_counts).loc[1].sum()\n",
    "print(\"Qtd_relacoes \", qtd_relacoes)\n",
    "print(t14)"
   ]
  },
  {
   "cell_type": "code",
   "execution_count": null,
   "metadata": {},
   "outputs": [],
   "source": [
    "start = time.clock()\n",
    "te_matrix_l6_h6 = transferEntropy_case(dist, 0.99, 1, 6, 6)\n",
    "end = time.clock()\n",
    "t15 = end - start"
   ]
  },
  {
   "cell_type": "code",
   "execution_count": 86,
   "metadata": {},
   "outputs": [
    {
     "name": "stdout",
     "output_type": "stream",
     "text": [
      "Qtd_relacoes  6.0\n",
      "128.26230099999998\n"
     ]
    }
   ],
   "source": [
    "t =np.mean(te_matrix_l6_h6) + 3*np.std(te_matrix_l6_h6)\n",
    "df_te_l6_h6 = pd.DataFrame(te_matrix_l6_h6, columns = dist.columns, index= dist.columns)\n",
    "vld_l6_h6 = generate_df_valid_corrs(df_te_l6_h6,t)\n",
    "\n",
    "df_te_l6_h6.to_csv(cen5+\"k1_l6_h6_corrs.csv\")\n",
    "vld_l6_h6.to_csv(cen5+\"k1_l6_h6_sel_corrs.csv\")\n",
    "\n",
    "qtd_relacoes = vld_l6_h6.apply(pd.value_counts).loc[1].sum()\n",
    "print(\"Qtd_relacoes \", qtd_relacoes)\n",
    "print(t15)"
   ]
  },
  {
   "cell_type": "code",
   "execution_count": null,
   "metadata": {},
   "outputs": [],
   "source": [
    "#Cénario 6\n",
    "\n",
    "start = time.clock()\n",
    "te_matrix_k3_l3 = transferEntropy_case(dist, 0.99, 3, 3, 1)\n",
    "end = time.clock()\n",
    "t16 = end-start"
   ]
  },
  {
   "cell_type": "code",
   "execution_count": 90,
   "metadata": {},
   "outputs": [
    {
     "name": "stdout",
     "output_type": "stream",
     "text": [
      "Qtd_relacoes  5.0\n",
      "128.26230099999998\n"
     ]
    }
   ],
   "source": [
    "t = np.mean(te_matrix_k3_l3) + 3*np.std(te_matrix_k3_l3)\n",
    "\n",
    "df_te_k3_l3 = pd.DataFrame(te_matrix_k3_l3, columns = dist.columns, index= dist.columns)\n",
    "vld_k3_l3 = generate_df_valid_corrs(df_te_k3_l3,t)\n",
    "\n",
    "df_te_k3_l3.to_csv(cen6+\"k3_l3_h1_corrs.csv\")\n",
    "vld_k3_l3.to_csv(cen6+\"k3_l3_h1_sel_corrs.csv\")\n",
    "\n",
    "qtd_relacoes = vld_k3_l3.apply(pd.value_counts).loc[1].sum()\n",
    "print(\"Qtd_relacoes \", qtd_relacoes)\n",
    "print(t16)"
   ]
  },
  {
   "cell_type": "code",
   "execution_count": null,
   "metadata": {},
   "outputs": [],
   "source": []
  },
  {
   "cell_type": "code",
   "execution_count": null,
   "metadata": {},
   "outputs": [],
   "source": [
    "start = time.clock()\n",
    "te_matrix_k6_l6 = transferEntropy_case(dist, 0.99, 6, 6, 1)\n",
    "end = time.clock()\n",
    "t17 = end-start"
   ]
  },
  {
   "cell_type": "code",
   "execution_count": 92,
   "metadata": {},
   "outputs": [
    {
     "name": "stdout",
     "output_type": "stream",
     "text": [
      "Qtd_relacoes  4.0\n",
      "557.8134680000003\n"
     ]
    }
   ],
   "source": [
    "t = np.mean(te_matrix_k6_l6) + 3*np.std(te_matrix_k6_l6)\n",
    "\n",
    "df_te_k6_l6 = pd.DataFrame(te_matrix_k6_l6, columns = dist.columns, index= dist.columns)\n",
    "vld_k6_l6 = generate_df_valid_corrs(df_te_k6_l6,t)\n",
    "\n",
    "df_te_k6_l6.to_csv(cen6+\"k6_l6_h1_corrs.csv\")\n",
    "vld_k6_l6.to_csv(cen6+\"k6_l6_h1_sel_corrs.csv\")\n",
    "\n",
    "qtd_relacoes = vld_k6_l6.apply(pd.value_counts).loc[1].sum()\n",
    "print(\"Qtd_relacoes \", qtd_relacoes)\n",
    "print(t17)"
   ]
  },
  {
   "cell_type": "code",
   "execution_count": null,
   "metadata": {},
   "outputs": [],
   "source": [
    "#Resampling application \n",
    "\n",
    "# df = dist_roll #df which will be resampled\n",
    "# num_gpd_samples = 10 #num of samples to be grouped \n",
    "# dist6_resamp = df.groupby(lambda i: i // num_gpd_samples).agg(lambda g: 0 if np.sum(g) < num_gpd_samples/2 else 1)"
   ]
  }
 ],
 "metadata": {
  "kernelspec": {
   "display_name": "Python 3",
   "language": "python",
   "name": "python3"
  },
  "language_info": {
   "codemirror_mode": {
    "name": "ipython",
    "version": 3
   },
   "file_extension": ".py",
   "mimetype": "text/x-python",
   "name": "python",
   "nbconvert_exporter": "python",
   "pygments_lexer": "ipython3",
   "version": "3.6.4"
  }
 },
 "nbformat": 4,
 "nbformat_minor": 2
}
