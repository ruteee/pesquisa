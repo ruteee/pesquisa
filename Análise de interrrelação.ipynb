{
 "cells": [
  {
   "cell_type": "code",
   "execution_count": 325,
   "metadata": {},
   "outputs": [
    {
     "data": {
      "text/plain": [
       "30.0"
      ]
     },
     "execution_count": 325,
     "metadata": {},
     "output_type": "execute_result"
    }
   ],
   "source": [
    "%reset -f\n",
    "import matplotlib.pyplot as plt\n",
    "import seaborn as sns\n",
    "import pandas as pd\n",
    "import numpy as np\n",
    "import datetime as dt\n",
    "import random\n",
    "import time\n",
    "import math\n",
    "import itertools\n",
    "\n",
    "almNum = 3\n",
    "ocorr = 10\n",
    "t_sample = 60\n",
    "base_hour = dt.datetime(2018, 1,9,9,0,0)\n",
    "occor_num = 0\n",
    "\n",
    "#Settings alarms\n",
    "a = np.zeros(1, dtype=int)\n",
    "duration = 120 #120sec\n",
    "hour_init = base_hour\n",
    "\n",
    "b = np.zeros(1, dtype=int)\n",
    "pAb = 1\n",
    "delay_b = 30 #seconds\n",
    "duration_b =120\n",
    "\n",
    "c = np.zeros(1, dtype=int)\n",
    "pAc = 0.6\n",
    "delay_c = 30 #seconds\n",
    "duration_c = 0\n",
    "\n",
    "\n",
    "#Alarm Series Generation, A (cause), B(Effect). C(Effect)\n",
    "while(occor_num < ocorr): \n",
    "    \n",
    "    #A generation - begin\n",
    "    srtd_hour = random.normalvariate(3, 1)\n",
    "    srtd_hour_begin = hour_init + dt.timedelta(hours=srtd_hour)\n",
    "    srtd_hour_end = srtd_hour_begin + dt.timedelta(seconds = duration)\n",
    "\n",
    "    idx_init_a_occor = int(math.ceil((srtd_hour_begin - base_hour).total_seconds()/t_sample))\n",
    "    idx_end_a_occor = int(math.ceil((srtd_hour_end - base_hour).total_seconds()/t_sample))\n",
    "        \n",
    "    if(idx_end_a_occor > a.size):\n",
    "            a.resize(idx_end_a_occor)\n",
    "\n",
    "    for i in np.arange(idx_init_a_occor, idx_end_a_occor + 1):\n",
    "        a[i-1] = 1\n",
    "    #A generation - end\n",
    "         \n",
    "    \n",
    "    #B generation begin\n",
    "    srtd_prob_b = random.uniform(0,1)  \n",
    "    if srtd_prob_b <= pAb:\n",
    "        srtd_hour_begin_b = srtd_hour_begin + dt.timedelta(seconds = delay_b)\n",
    "        srtd_hour_end_b = srtd_hour_begin_b + dt.timedelta(seconds=duration_b)\n",
    "\n",
    "        idx_init_b_occor = int(math.ceil((srtd_hour_begin_b - base_hour).total_seconds()/t_sample))\n",
    "        idx_end_b_occor = int(math.ceil((srtd_hour_end_b - base_hour).total_seconds()/t_sample))\n",
    "\n",
    "        if(idx_end_b_occor > b.size):\n",
    "                b.resize(idx_end_b_occor)\n",
    "\n",
    "        for j in np.arange(idx_init_b_occor, idx_end_b_occor +1):\n",
    "            b[j-1] =  1  \n",
    "    #B generation end\n",
    "\n",
    "    #C generation begin\n",
    "    srtd_prob_c = random.uniform(0,1)\n",
    "    if srtd_prob_c <= pAc:\n",
    "        srtd_hour_begin_c = srtd_hour_begin + dt.timedelta(seconds = delay_c)\n",
    "        srtd_hour_end_c = srtd_hour_begin_c + dt.timedelta(seconds=duration_c)\n",
    "\n",
    "        idx_init_c_occor = int(math.ceil((srtd_hour_begin_c - base_hour).total_seconds()/t_sample))\n",
    "        idx_end_c_occor = int(math.ceil((srtd_hour_end_c - base_hour).total_seconds()/t_sample))\n",
    "        \n",
    "        if(idx_end_c_occor > c.size):\n",
    "            c.resize(idx_end_c_occor)\n",
    "\n",
    "        for j in np.arange(idx_init_c_occor, idx_end_c_occor +1):\n",
    "            c[j-1] = 1    \n",
    "    #C generation end\n",
    "    \n",
    "    hour_init = srtd_hour_begin\n",
    "    occor_num = occor_num + 1\n",
    "\n",
    "#Making series the same length\n",
    "max_len = max(a, b, c, key=len).size\n",
    "a = np.concatenate([a, np.zeros(max_len - a.size)])\n",
    "b = np.concatenate([b, np.zeros(max_len - b.size)])\n",
    "c = np.concatenate([c, np.zeros(max_len - c.size)])\n",
    "sum(a)"
   ]
  },
  {
   "cell_type": "code",
   "execution_count": 326,
   "metadata": {
    "scrolled": true
   },
   "outputs": [
    {
     "name": "stdout",
     "output_type": "stream",
     "text": [
      "0\n",
      "[[1, 0, 1], [0, 1, 1], [1, 0, 0]]\n",
      "currenty el 1\n",
      "on if [1, 0, 1] 1\n",
      "k 0\n",
      "alm intern [0, 1, 1]\n",
      "here\n",
      "k 1\n",
      "alm intern [1, 0, 0]\n",
      "currenty el 0\n",
      "currenty el 1\n",
      "on if [1, 0, 1] 1\n",
      "k 0\n",
      "alm intern [0, 1, 1]\n",
      "k 1\n",
      "alm intern [1, 0, 0]\n",
      "1\n",
      "[[1, 0, 1], [0, 1, 1], [1, 0, 0]]\n",
      "currenty el 0\n",
      "currenty el 1\n",
      "on if [0, 1, 1] 1\n",
      "k 0\n",
      "alm intern [1, 0, 1]\n",
      "here\n",
      "k 1\n",
      "alm intern [1, 0, 0]\n",
      "currenty el 1\n",
      "on if [0, 1, 1] 1\n",
      "k 0\n",
      "alm intern [1, 0, 1]\n",
      "k 1\n",
      "alm intern [1, 0, 0]\n",
      "2\n",
      "[[1, 0, 1], [0, 1, 1], [1, 0, 0]]\n",
      "currenty el 1\n",
      "on if [1, 0, 0] 1\n",
      "k 0\n",
      "alm intern [1, 0, 1]\n",
      "k 1\n",
      "alm intern [0, 1, 1]\n",
      "here\n",
      "currenty el 0\n",
      "currenty el 0\n"
     ]
    }
   ],
   "source": [
    "tsample = t_sample\n",
    "window_lag = 2 #shoud be minor than size of the series\n",
    "\n",
    "a_first_diff = np.concatenate([[0],a])\n",
    "b_first_diff = np.concatenate([[0],b])\n",
    "c_first_diff = np.concatenate([[0],c])\n",
    "\n",
    "corr_mat = np.zeros([3,3], dtype=float)\n",
    "count_occor = 0;\n",
    "\n",
    "\n",
    "#alrms = [a_first_diff, b_first_diff, c_first_diff]\n",
    "alrms = [[1,0,1], [0,1,1], [1,0,0]]\n",
    "for i, alm in enumerate(alrms):\n",
    "    print(i)\n",
    "    reduced_alarms = alrms.copy()\n",
    "    reduced_alarms.pop(i)\n",
    "    print(alrms)\n",
    "    for j,el in enumerate(alm):\n",
    "        print('currenty el', el)\n",
    "        if el == 1:\n",
    "            print('on if', alm, el)\n",
    "            count_occor = count_occor + 1\n",
    "            for k,r_alm in enumerate(reduced_alarms):\n",
    "                print('k', k)\n",
    "                print('alm intern', r_alm)\n",
    "                counted = False\n",
    "                for l in np.arange(j+1, j+window_lag):\n",
    "                    if( l< len(r_alm)):\n",
    "                        if r_alm[l] == 1 and  not counted:\n",
    "                            counted = True\n",
    "                            print('here')\n",
    "                            corr_mat[i][alrms.index(r_alm)] = corr_mat[i][k]+1\n",
    "    if count_occor > 0: \n",
    "        corr_mat[i] = corr_mat[i]/count_occor\n",
    "        count_occor = 0\n",
    "    \n",
    "                        \n",
    "                        \n",
    "                        \n",
    "                \n",
    "                \n",
    "\n"
   ]
  },
  {
   "cell_type": "code",
   "execution_count": 327,
   "metadata": {},
   "outputs": [
    {
     "data": {
      "text/plain": [
       "array([[0. , 0.5, 0. ],\n",
       "       [0.5, 0. , 0. ],\n",
       "       [0. , 1. , 0. ]])"
      ]
     },
     "execution_count": 327,
     "metadata": {},
     "output_type": "execute_result"
    }
   ],
   "source": [
    "corr_mat"
   ]
  },
  {
   "cell_type": "code",
   "execution_count": 323,
   "metadata": {},
   "outputs": [
    {
     "data": {
      "text/plain": [
       "[9, 1]"
      ]
     },
     "execution_count": 323,
     "metadata": {},
     "output_type": "execute_result"
    }
   ],
   "source": [
    "a = [9,8,1]\n",
    "a.pop(1)\n",
    "a"
   ]
  }
 ],
 "metadata": {
  "kernelspec": {
   "display_name": "Python 3",
   "language": "python",
   "name": "python3"
  },
  "language_info": {
   "codemirror_mode": {
    "name": "ipython",
    "version": 3
   },
   "file_extension": ".py",
   "mimetype": "text/x-python",
   "name": "python",
   "nbconvert_exporter": "python",
   "pygments_lexer": "ipython3",
   "version": "3.6.4"
  }
 },
 "nbformat": 4,
 "nbformat_minor": 2
}
