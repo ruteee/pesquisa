{
 "cells": [
  {
   "cell_type": "code",
   "execution_count": 1,
   "metadata": {},
   "outputs": [
    {
     "data": {
      "text/plain": [
       "30.0"
      ]
     },
     "execution_count": 1,
     "metadata": {},
     "output_type": "execute_result"
    }
   ],
   "source": [
    "%reset -f\n",
    "import matplotlib.pyplot as plt\n",
    "import seaborn as sns\n",
    "import pandas as pd\n",
    "import numpy as np\n",
    "import datetime as dt\n",
    "import random\n",
    "import time\n",
    "import math\n",
    "\n",
    "almNum = 3\n",
    "ocorr = 10\n",
    "t_sample = 60\n",
    "base_hour = dt.datetime(2018, 1,9,9,0,0)\n",
    "occor_num = 0\n",
    "\n",
    "#Settings alarms\n",
    "a = np.zeros(1, dtype=int)\n",
    "duration = 120 #120sec\n",
    "hour_init = base_hour\n",
    "\n",
    "b = np.zeros(1, dtype=int)\n",
    "pAb = 1\n",
    "delay_b = 120#seconds\n",
    "duration_b =120\n",
    "\n",
    "c = np.zeros(1, dtype=int)\n",
    "pAc = 1\n",
    "delay_c = 120#seconds\n",
    "duration_c = 120\n",
    "\n",
    "#Alarm Series Generation, A (cause), B(Effect). C(Effect)\n",
    "while(occor_num < ocorr): \n",
    "    #A generation - begin\n",
    "    srtd_hour = random.normalvariate(3, 1)\n",
    "    srtd_hour_begin = hour_init + dt.timedelta(hours=srtd_hour)\n",
    "    srtd_hour_end = srtd_hour_begin + dt.timedelta(seconds = duration)\n",
    "\n",
    "    idx_init_a_occor = int(math.ceil((srtd_hour_begin - base_hour).total_seconds()/t_sample))\n",
    "    idx_end_a_occor = int(math.ceil((srtd_hour_end - base_hour).total_seconds()/t_sample))\n",
    "        \n",
    "    if(idx_end_a_occor > a.size):\n",
    "            a.resize(idx_end_a_occor)\n",
    "\n",
    "    for i in np.arange(idx_init_a_occor, idx_end_a_occor + 1):\n",
    "        a[i-1] = 1\n",
    "    #A generation - end\n",
    "         \n",
    "    \n",
    "    #B generation begin\n",
    "    srtd_prob_b = random.uniform(0,1)  \n",
    "    if srtd_prob_b <= pAb:\n",
    "        srtd_hour_begin_b = srtd_hour_begin + dt.timedelta(seconds = delay_b)\n",
    "        srtd_hour_end_b = srtd_hour_begin_b + dt.timedelta(seconds=duration_b)\n",
    "\n",
    "        idx_init_b_occor = int(math.ceil((srtd_hour_begin_b - base_hour).total_seconds()/t_sample))\n",
    "        idx_end_b_occor = int(math.ceil((srtd_hour_end_b - base_hour).total_seconds()/t_sample))\n",
    "\n",
    "        if(idx_end_b_occor > b.size):\n",
    "                b.resize(idx_end_b_occor)\n",
    "\n",
    "        for j in np.arange(idx_init_b_occor, idx_end_b_occor +1):\n",
    "            b[j-1] =  1  \n",
    "    #B generation end\n",
    "\n",
    "    #C generation begin\n",
    "    srtd_prob_c = random.uniform(0,1)\n",
    "    if srtd_prob_c <= pAc:\n",
    "        srtd_hour_begin_c = srtd_hour_begin + dt.timedelta(seconds = delay_c)\n",
    "        srtd_hour_end_c = srtd_hour_begin_c + dt.timedelta(seconds=duration_c)\n",
    "\n",
    "        idx_init_c_occor = int(math.ceil((srtd_hour_begin_c - base_hour).total_seconds()/t_sample))\n",
    "        idx_end_c_occor = int(math.ceil((srtd_hour_end_c - base_hour).total_seconds()/t_sample))\n",
    "        \n",
    "        if(idx_end_c_occor > c.size):\n",
    "            c.resize(idx_end_c_occor)\n",
    "\n",
    "        for j in np.arange(idx_init_c_occor, idx_end_c_occor +1):\n",
    "            c[j-1] = 1    \n",
    "    #C generation end\n",
    "    \n",
    "    hour_init = srtd_hour_begin\n",
    "    occor_num = occor_num + 1\n",
    "\n",
    "#Making series the same length\n",
    "max_len = max(a, b, c, key=len).size\n",
    "a = np.concatenate([a, np.zeros(max_len - a.size)])\n",
    "b = np.concatenate([b, np.zeros(max_len - b.size)])\n",
    "c = np.concatenate([c, np.zeros(max_len - c.size)])\n",
    "sum(c)"
   ]
  },
  {
   "cell_type": "code",
   "execution_count": 1,
   "metadata": {},
   "outputs": [],
   "source": [
    "import matplotlib.pyplot as plt\n",
    "import seaborn as sns\n",
    "import pandas as pd\n",
    "import numpy as np\n",
    "import datetime as dt\n",
    "import random\n",
    "import time\n",
    "import math"
   ]
  },
  {
   "cell_type": "code",
   "execution_count": 2,
   "metadata": {},
   "outputs": [],
   "source": [
    "def plot_mat_corrs(figsize, annot, matrix):\n",
    "    f, ax = plt.subplots(figsize=figsize)\n",
    "    cmap = sns.diverging_palette(150, 275, s=80, l=55, as_cmap=True)\n",
    "    sns.heatmap(matrix, cmap=cmap, center=0, annot=annot)\n",
    "    plt.show()"
   ]
  },
  {
   "cell_type": "code",
   "execution_count": 3,
   "metadata": {
    "scrolled": false
   },
   "outputs": [],
   "source": [
    "#guess window_lag = ceil(delay_b_c/t_sample)\n",
    "\n",
    "def interrelation(window_lag, matrix):\n",
    "    #window_lag =  5#shoud be minor than size of the series\n",
    "\n",
    "    print(matrix.shape)\n",
    "    count_occor = 0;\n",
    "    corr_mat = np.zeros([matrix.shape[1],matrix.shape[1]], dtype=float)\n",
    "    alrms = {}\n",
    "    for i in np.arange(0, matrix.shape[1]):\n",
    "        alrms[i] = matrix[:,i]\n",
    "    #print(alrms)\n",
    "    for idx_caus, value in alrms.items():\n",
    "        reduced_alarms = alrms.copy()\n",
    "        del reduced_alarms[idx_caus]\n",
    "        for idx_occor_caus, occor in enumerate(value):\n",
    "            if occor == 1:\n",
    "                if(idx_occor_caus+window_lag < len(value)):\n",
    "                    count_occor = count_occor + 1\n",
    "                    for idx_fct, alm_redu in reduced_alarms.items():\n",
    "                        counted = False\n",
    "                        for idx_occor_fct in np.arange(idx_occor_caus+1, idx_occor_caus+1+window_lag):\n",
    "                            if alm_redu[idx_occor_fct] == 1 and  not counted:\n",
    "                                counted = True\n",
    "                                corr_mat[idx_caus][idx_fct] = corr_mat[idx_caus][idx_fct]+1\n",
    "        if count_occor > 0: \n",
    "            corr_mat[idx_caus] = corr_mat[idx_caus]/count_occor\n",
    "            count_occor = 0\n",
    "    return corr_mat"
   ]
  },
  {
   "cell_type": "code",
   "execution_count": 6,
   "metadata": {},
   "outputs": [],
   "source": [
    "#df_diff[['xmeas09_low','xmeas09_high', 'xmeas46_low', 'xmeas46_high' ]].plot(figsize=(10,10),subplots=True)\n",
    "\n",
    "#Example with disturb number 4 of Tennessee Eastman (TE)\n",
    "\n",
    "dist4 = pd.read_csv('dist_4.csv')\n",
    "low = dist4[dist4.columns[1:47]][1000:]\n",
    "high = dist4[dist4.columns[74:120]][1000:]\n",
    "df_22 = pd.concat([low,high], axis=1)\n",
    "\n",
    "\n",
    "df_diff = df_22.diff(1)\n",
    "df_diff.iloc[0] = df_22.iloc[0]\n",
    "matrix =(df_diff.as_matrix()).astype(int)\n",
    "\n",
    "corr = interrelation(5, matrix)\n",
    "\n",
    "\n",
    "#low i 45 high 91  - var 46\n",
    "#low i 8 high 54  - var 9\n",
    "\n",
    "print(corr[91,54]) #hh\n",
    "print(corr[45,8])  #ll\n",
    "print(corr[45,54])  #lh\n",
    "print(corr[91,8]) #hl"
   ]
  },
  {
   "cell_type": "code",
   "execution_count": 5,
   "metadata": {},
   "outputs": [],
   "source": [
    "#plot_mat_corrs(figsize=(30,20), annot=True, matrix=corr)"
   ]
  },
  {
   "cell_type": "code",
   "execution_count": 6,
   "metadata": {},
   "outputs": [
    {
     "name": "stdout",
     "output_type": "stream",
     "text": [
      "(5801, 146)\n"
     ]
    }
   ],
   "source": [
    "#Disturbio 23 \n",
    "\n",
    "#Envolved variables XMEAS03 (cause) - XMEAS08 (effect)\n",
    "\n",
    "dist23 = pd.read_csv('dist23.csv')\n",
    "dist23 = dist23[dist23.columns[1:]]\n",
    "\n",
    "df_diff = dist23.diff(1)\n",
    "df_diff.iloc[0] = dist23.iloc[0]\n",
    "matrix =(df_diff.as_matrix()).astype(int)\n",
    "\n",
    "corr = interrelation(100, matrix)\n",
    "\n"
   ]
  },
  {
   "cell_type": "code",
   "execution_count": null,
   "metadata": {},
   "outputs": [],
   "source": []
  },
  {
   "cell_type": "code",
   "execution_count": 7,
   "metadata": {},
   "outputs": [
    {
     "name": "stdout",
     "output_type": "stream",
     "text": [
      "0.3333333333333333\n",
      "0.0\n",
      "0.0\n",
      "0.0\n"
     ]
    }
   ],
   "source": [
    "print(corr[2,7]) #low, low\n",
    "print(corr[76,81]) #high, high\n",
    "print(corr[2,81]) #low, high\n",
    "print(corr[76,7]) #high low"
   ]
  }
 ],
 "metadata": {
  "kernelspec": {
   "display_name": "Python 3",
   "language": "python",
   "name": "python3"
  },
  "language_info": {
   "codemirror_mode": {
    "name": "ipython",
    "version": 3
   },
   "file_extension": ".py",
   "mimetype": "text/x-python",
   "name": "python",
   "nbconvert_exporter": "python",
   "pygments_lexer": "ipython3",
   "version": "3.6.4"
  }
 },
 "nbformat": 4,
 "nbformat_minor": 2
}
