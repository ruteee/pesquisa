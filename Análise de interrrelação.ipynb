{
 "cells": [
  {
   "cell_type": "code",
   "execution_count": 2,
   "metadata": {},
   "outputs": [],
   "source": [
    "import matplotlib.pyplot as plt\n",
    "import seaborn as sns\n",
    "import pandas as pd\n",
    "import numpy as np\n",
    "import datetime as dt\n",
    "import random\n",
    "import time\n",
    "import itertools\n",
    "import math\n",
    "from graphviz import Digraph\n",
    "import scipy.signal as sig\n",
    "import timeit"
   ]
  },
  {
   "cell_type": "code",
   "execution_count": 3,
   "metadata": {},
   "outputs": [
    {
     "data": {
      "text/plain": [
       "30.0"
      ]
     },
     "execution_count": 3,
     "metadata": {},
     "output_type": "execute_result"
    }
   ],
   "source": [
    "almNum = 3\n",
    "ocorr = 10\n",
    "t_sample = 60\n",
    "base_hour = dt.datetime(2018, 1,9,9,0,0)\n",
    "occor_num = 0\n",
    "\n",
    "#Settings alarms\n",
    "a = np.zeros(1, dtype=int)\n",
    "duration = 120 #120sec\n",
    "hour_init = base_hour\n",
    "\n",
    "b = np.zeros(1, dtype=int)\n",
    "pAb = 1\n",
    "delay_b = 120#seconds\n",
    "duration_b =120\n",
    "\n",
    "c = np.zeros(1, dtype=int)\n",
    "pAc = 1\n",
    "delay_c = 120#seconds\n",
    "duration_c = 120\n",
    "\n",
    "#Alarm Series Generation, A (cause), B(Effect). C(Effect)\n",
    "while(occor_num < ocorr): \n",
    "    #A generation - begin\n",
    "    srtd_hour = random.normalvariate(3, 1)\n",
    "    srtd_hour_begin = hour_init + dt.timedelta(hours=srtd_hour)\n",
    "    srtd_hour_end = srtd_hour_begin + dt.timedelta(seconds = duration)\n",
    "\n",
    "    idx_init_a_occor = int(math.ceil((srtd_hour_begin - base_hour).total_seconds()/t_sample))\n",
    "    idx_end_a_occor = int(math.ceil((srtd_hour_end - base_hour).total_seconds()/t_sample))\n",
    "        \n",
    "    if(idx_end_a_occor > a.size):\n",
    "            a.resize(idx_end_a_occor)\n",
    "\n",
    "    for i in np.arange(idx_init_a_occor, idx_end_a_occor + 1):\n",
    "        a[i-1] = 1\n",
    "    #A generation - end\n",
    "         \n",
    "    \n",
    "    #B generation begin\n",
    "    srtd_prob_b = random.uniform(0,1)  \n",
    "    if srtd_prob_b <= pAb:\n",
    "        srtd_hour_begin_b = srtd_hour_begin + dt.timedelta(seconds = delay_b)\n",
    "        srtd_hour_end_b = srtd_hour_begin_b + dt.timedelta(seconds=duration_b)\n",
    "\n",
    "        idx_init_b_occor = int(math.ceil((srtd_hour_begin_b - base_hour).total_seconds()/t_sample))\n",
    "        idx_end_b_occor = int(math.ceil((srtd_hour_end_b - base_hour).total_seconds()/t_sample))\n",
    "\n",
    "        if(idx_end_b_occor > b.size):\n",
    "                b.resize(idx_end_b_occor)\n",
    "\n",
    "        for j in np.arange(idx_init_b_occor, idx_end_b_occor +1):\n",
    "            b[j-1] =  1  \n",
    "    #B generation end\n",
    "\n",
    "    #C generation begin\n",
    "    srtd_prob_c = random.uniform(0,1)\n",
    "    if srtd_prob_c <= pAc:\n",
    "        srtd_hour_begin_c = srtd_hour_begin + dt.timedelta(seconds = delay_c)\n",
    "        srtd_hour_end_c = srtd_hour_begin_c + dt.timedelta(seconds=duration_c)\n",
    "\n",
    "        idx_init_c_occor = int(math.ceil((srtd_hour_begin_c - base_hour).total_seconds()/t_sample))\n",
    "        idx_end_c_occor = int(math.ceil((srtd_hour_end_c - base_hour).total_seconds()/t_sample))\n",
    "        \n",
    "        if(idx_end_c_occor > c.size):\n",
    "            c.resize(idx_end_c_occor)\n",
    "\n",
    "        for j in np.arange(idx_init_c_occor, idx_end_c_occor +1):\n",
    "            c[j-1] = 1    \n",
    "    #C generation end\n",
    "    \n",
    "    hour_init = srtd_hour_begin\n",
    "    occor_num = occor_num + 1\n",
    "\n",
    "#Making series the same length\n",
    "max_len = max(a, b, c, key=len).size\n",
    "a = np.concatenate([a, np.zeros(max_len - a.size)])\n",
    "b = np.concatenate([b, np.zeros(max_len - b.size)])\n",
    "c = np.concatenate([c, np.zeros(max_len - c.size)])\n",
    "sum(c)"
   ]
  },
  {
   "cell_type": "code",
   "execution_count": 4,
   "metadata": {},
   "outputs": [],
   "source": [
    "def graph(df, limite, eng = 'dot'):\n",
    "    g = Digraph(engine=eng)\n",
    "    for k, row in enumerate(df.index):\n",
    "        if any(df.iloc[k]>=limite) or any(df[row] >= limite):\n",
    "            g.node(str(k),row, shape='oval', fontsize='10', width='0') \n",
    "\n",
    "    for j, col in enumerate(df.columns):\n",
    "        for i, row in enumerate(df[col]):\n",
    "            if row  >=limite:\n",
    "                g.edge(str(i), str(j), label=str(np.round(row,3)),\\\n",
    "                       color=\"#000000{:02x}\".format(int(255)))\n",
    "                \n",
    "                       #* row//max(df.max()))\n",
    "    return g    "
   ]
  },
  {
   "cell_type": "code",
   "execution_count": 5,
   "metadata": {},
   "outputs": [],
   "source": [
    "def plot_mat_corrs(figsize, annot, matrix):\n",
    "    f, ax = plt.subplots(figsize=figsize)\n",
    "    cmap = sns.diverging_palette(150, 275, s=80, l=55, as_cmap=True)\n",
    "    sns.heatmap(matrix, cmap=cmap, center=0, annot=annot)\n",
    "    plt.yticks(rotation=45)\n",
    "    plt.xticks(rotation=45)\n",
    "    plt.show()"
   ]
  },
  {
   "cell_type": "code",
   "execution_count": 6,
   "metadata": {
    "scrolled": false
   },
   "outputs": [],
   "source": [
    "#guess window_lag = ceil(delay_b_c/t_sample)\n",
    "\n",
    "def interrelation(window_lag, matrix):\n",
    "    #window_lag =  5#shoud be minor than size of the series\n",
    "\n",
    "    print(matrix.shape)\n",
    "    count_occor = 0;\n",
    "    corr_mat = np.zeros([matrix.shape[1],matrix.shape[1]], dtype=float)\n",
    "    alrms = {}\n",
    "    for i in np.arange(0, matrix.shape[1]):\n",
    "        alrms[i] = matrix[:,i]\n",
    "    #print(alrms)\n",
    "    for idx_caus, value in alrms.items():\n",
    "        reduced_alarms = alrms.copy()\n",
    "        del reduced_alarms[idx_caus]\n",
    "        for idx_occor_caus, occor in enumerate(value):\n",
    "            if occor == 1:\n",
    "                if(idx_occor_caus+window_lag < len(value)):\n",
    "                    count_occor = count_occor + 1\n",
    "                    for idx_fct, alm_redu in reduced_alarms.items():\n",
    "                        counted = False\n",
    "                        for idx_occor_fct in np.arange(idx_occor_caus+1, idx_occor_caus+1+window_lag):\n",
    "                            if alm_redu[idx_occor_fct] == 1 and  not counted:\n",
    "                                counted = True\n",
    "                                corr_mat[idx_caus][idx_fct] = corr_mat[idx_caus][idx_fct]+1\n",
    "        if count_occor > 0: \n",
    "            corr_mat[idx_caus] = corr_mat[idx_caus]/count_occor\n",
    "            count_occor = 0\n",
    "    return corr_mat"
   ]
  },
  {
   "cell_type": "code",
   "execution_count": 7,
   "metadata": {},
   "outputs": [],
   "source": [
    "def app_roll_mean(df, window):\n",
    "    roll  = df.rolling(window).mean() \n",
    "    roll.dropna(inplace=True)\n",
    "    roll = roll.round(decimals=0).copy()\n",
    "    roll.reset_index(drop=True, inplace=True)\n",
    "    return roll.copy()"
   ]
  },
  {
   "cell_type": "code",
   "execution_count": 8,
   "metadata": {},
   "outputs": [],
   "source": [
    "def generate_df_valid_corrs(df, limit):\n",
    "    df_valid = pd.DataFrame(np.zeros([df.shape[0], df.shape[1]], dtype=int), columns = df.columns, index= df.columns)\n",
    "    for row in df.columns:\n",
    "        for col in df.columns:\n",
    "            if df[row][col] > limit:\n",
    "                df_valid[row][col] = 1\n",
    "                \n",
    "    return df_valid "
   ]
  },
  {
   "cell_type": "code",
   "execution_count": null,
   "metadata": {},
   "outputs": [],
   "source": []
  },
  {
   "cell_type": "code",
   "execution_count": 5,
   "metadata": {},
   "outputs": [],
   "source": [
    "#plot_mat_corrs(figsize=(30,20), annot=True, matrix=corr)"
   ]
  },
  {
   "cell_type": "code",
   "execution_count": 9,
   "metadata": {},
   "outputs": [],
   "source": [
    "dist6_novo = pd.read_csv(\"dist6_3horas_sig/alm_seq.csv\")\n",
    "dist = dist6_novo[['xmeas%02d_low' % x for x in [1,2,3,8,9,21]] + ['xmeas%02d_high' % x for x in [1,2,3,8,9,21]]]"
   ]
  },
  {
   "cell_type": "code",
   "execution_count": null,
   "metadata": {},
   "outputs": [],
   "source": [
    "def apply_mean(man_samp, df_dist):\n",
    "    df_dist.drop('tout', axis=1, inplace=True)\n",
    "\n",
    "    dist_sel = df_dist[['xmeas%02d_low' % x for x in [1,2,3,8,9,21]] + ['xmeas%02d_high' % x for x in [1,2,3,8,9,21]]]\n",
    "    roll_1  = dist_sel.rolling(man_samp).mean() \n",
    "    roll_1.dropna(inplace=True)\n",
    "    roll_1 = roll_1.round(decimals=0,).copy()\n",
    "    roll_1.reset_index(drop=True, inplace=True)\n",
    "\n",
    "    dist_first_diff = roll_1.diff(1)\n",
    "    dist_first_diff.iloc[0] = roll_1.iloc[0]\n",
    "    \n",
    "    return dist_first_diff"
   ]
  },
  {
   "cell_type": "code",
   "execution_count": 37,
   "metadata": {},
   "outputs": [],
   "source": [
    "cen_normal = \"qualificacao/normal/inter/\"\n",
    "cen_media2 = \"qualificacao/mean2/inter/\"\n",
    "cen_media5 = \"qualificacao/mean5/inter/\""
   ]
  },
  {
   "cell_type": "code",
   "execution_count": 28,
   "metadata": {},
   "outputs": [],
   "source": [
    "df_mean2 = app_roll_mean(dist,2)"
   ]
  },
  {
   "cell_type": "code",
   "execution_count": 30,
   "metadata": {},
   "outputs": [],
   "source": [
    "df_mean5 = app_roll_mean(dist,5)"
   ]
  },
  {
   "cell_type": "code",
   "execution_count": null,
   "metadata": {},
   "outputs": [],
   "source": [
    "# corr_move = interrelation(window, df_modified.as_matrix())"
   ]
  },
  {
   "cell_type": "code",
   "execution_count": 29,
   "metadata": {},
   "outputs": [],
   "source": [
    "# t = np.mean(corr_move) + 3*np.std(corr_move)\n",
    "# df_cors = pd.DataFrame(corr_move, columns= dist6_sel_vars.columns,      \n",
    "#         index= dist6_sel_vars.columns)\n",
    "# df_cors\n",
    "\n",
    "\n",
    "# graph(df_cors, t, 'dot')"
   ]
  },
  {
   "cell_type": "code",
   "execution_count": 44,
   "metadata": {},
   "outputs": [
    {
     "data": {
      "text/plain": [
       "array([ 8, 16, 25, 33, 41, 50])"
      ]
     },
     "execution_count": 44,
     "metadata": {},
     "output_type": "execute_result"
    }
   ],
   "source": [
    "windows = ((1/(0.6))*np.arange(5,35,5)).astype(int)\n",
    "windows"
   ]
  },
  {
   "cell_type": "code",
   "execution_count": 39,
   "metadata": {},
   "outputs": [],
   "source": [
    "def inter_case(wind, df, path_cen):\n",
    "    for w in wind:\n",
    "        cor = interrelation(w, df.as_matrix())\n",
    "        df_cors = pd.DataFrame(cor, columns= df.columns,index= df.columns)\n",
    "        df_cors.to_csv(path_cen+str(w)+\".csv\")\n",
    "        \n",
    "        t = np.mean(cor) + 3*np.std(cor)\n",
    "        valid_cor = generate_df_valid_corrs(df_cors,t)\n",
    "        valid_cor.to_csv(path_cen+str(w)+\".sel_corr.csv\")     "
   ]
  },
  {
   "cell_type": "code",
   "execution_count": 40,
   "metadata": {},
   "outputs": [
    {
     "name": "stdout",
     "output_type": "stream",
     "text": [
      "(15351, 12)\n",
      "(15351, 12)\n",
      "(15351, 12)\n",
      "(15351, 12)\n",
      "(15351, 12)\n",
      "(15351, 12)\n"
     ]
    }
   ],
   "source": [
    "inter_case(windows, dist, cen_normal)"
   ]
  },
  {
   "cell_type": "code",
   "execution_count": 42,
   "metadata": {},
   "outputs": [
    {
     "name": "stdout",
     "output_type": "stream",
     "text": [
      "(15350, 12)\n",
      "(15350, 12)\n",
      "(15350, 12)\n",
      "(15350, 12)\n",
      "(15350, 12)\n",
      "(15350, 12)\n"
     ]
    }
   ],
   "source": [
    "inter_case(windows, df_mean2, cen_media2)"
   ]
  },
  {
   "cell_type": "code",
   "execution_count": 43,
   "metadata": {},
   "outputs": [
    {
     "name": "stdout",
     "output_type": "stream",
     "text": [
      "(15347, 12)\n",
      "(15347, 12)\n",
      "(15347, 12)\n",
      "(15347, 12)\n",
      "(15347, 12)\n",
      "(15347, 12)\n"
     ]
    }
   ],
   "source": [
    "inter_case(windows, df_mean5, cen_media5)"
   ]
  }
 ],
 "metadata": {
  "kernelspec": {
   "display_name": "Python 3",
   "language": "python",
   "name": "python3"
  },
  "language_info": {
   "codemirror_mode": {
    "name": "ipython",
    "version": 3
   },
   "file_extension": ".py",
   "mimetype": "text/x-python",
   "name": "python",
   "nbconvert_exporter": "python",
   "pygments_lexer": "ipython3",
   "version": "3.6.4"
  }
 },
 "nbformat": 4,
 "nbformat_minor": 2
}
