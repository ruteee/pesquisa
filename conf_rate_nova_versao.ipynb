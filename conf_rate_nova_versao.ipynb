{
 "cells": [
  {
   "cell_type": "code",
   "execution_count": 43,
   "metadata": {},
   "outputs": [],
   "source": [
    "import pandas as pd\n",
    "import numpy as np\n",
    "import time\n",
    "\n",
    "import matplotlib.pyplot as plt\n",
    "\n",
    "from roc_evals import *"
   ]
  },
  {
   "cell_type": "code",
   "execution_count": 181,
   "metadata": {},
   "outputs": [],
   "source": [
    "def plot_rocs(path_cen_rate):\n",
    "    all_settings = ['k%d_l%d_h%d' %(x,y,z) for x,y in zip([1,2,3,4,5,6],[1,2,3,4,5,6])  for z in [1,2,3]]\n",
    "    df_met = pd.read_csv(path_cen_rate+\"all_metrics.csv\", index_col=0)[['tp_rates', 'fp_rates']]\n",
    "    for i in np.arange(0,6):\n",
    "        plt.scatter(df_met['fp_rates'][i*3:(i+1)*3], df_met[['tp_rates']][i*3:(i+1)*3])\n",
    "        plt.xlim = ([0.0, 1.0])\n",
    "        plt.show()"
   ]
  },
  {
   "cell_type": "code",
   "execution_count": 44,
   "metadata": {},
   "outputs": [],
   "source": [
    "cen_normal = \"cenarios_cba/cen_nova_versao/normal/\"\n",
    "cen_media2 = \"cenarios_cba/cen_nova_versao/media2/\"\n",
    "cen_media5 = \"cenarios_cba/cen_nova_versao/media5/\"\n",
    "\n",
    "cen_normal_rate = cen_normal+\"rates/\"\n",
    "cen_media2_rate = cen_media2+\"rates/\"\n",
    "cen_media5_rate = cen_media5+\"rates/\""
   ]
  },
  {
   "cell_type": "code",
   "execution_count": 172,
   "metadata": {},
   "outputs": [],
   "source": [
    "def eval_save_metrics(path_cen, path_cen_rate):\n",
    "    all_settings = ['k%d_l%d_h%d' %(x,y,z) for x,y in zip([1,2,3,4,5,6],[1,2,3,4,5,6]) for z in [1,2,3] ]\n",
    "    fp_rates = []\n",
    "    tp_rates = []\n",
    "    precision_vals = []\n",
    "    for setting in (all_settings):\n",
    "        conf = generate_conf_df(pd.read_csv(path_cen+setting+\"_sel_corrs.csv\", index_col=0), ref_df)\n",
    "        conf.to_csv(path_cen_rate+\"conf_\"+setting+\".csv\")\n",
    "        \n",
    "        df_met = pd.DataFrame([[tp_rate(conf), fp_rate(conf), precision(conf)]], columns = ['tp_rate', 'fp_rate', 'precisao'])\n",
    "        df_met.to_csv(path_cen_rate+\"metricas_\"+setting+\".csv\")\n",
    "        \n",
    "        fp_rates.append(fp_rate(conf))\n",
    "        tp_rates.append(tp_rate(conf))\n",
    "        precision_vals.append(precision(conf))\n",
    "    df_all_sets = pd.DataFrame({'tp_rates': tp_rates, 'fp_rates': fp_rates, 'precision_vals': precision_vals})\n",
    "    df_all_sets.to_csv(path_cen_rate+'all_metrics.csv')\n",
    "        #print(setting,df_met*100)\n"
   ]
  },
  {
   "cell_type": "code",
   "execution_count": 45,
   "metadata": {},
   "outputs": [],
   "source": [
    "#defining ref def \n",
    "\n",
    "col_labels = ['xmeas%02d_low' % x for x in [1,2,3,8,9,21]]+ ['xmeas%02d_high' % x for x in [1,2,3,8,9,21]] \n",
    "df_mat = np.zeros([12,12], dtype=int)\n",
    "\n",
    "ref_df = pd.DataFrame(df_mat, columns = col_labels, index=col_labels)\n",
    "ref_df.loc['xmeas01_low'][['xmeas21_high', 'xmeas09_low']] = [1,1]\n",
    "ref_df.loc['xmeas09_low']['xmeas21_high'] = 1\n",
    "\n",
    "ref_df.loc['xmeas01_high'][['xmeas21_low', 'xmeas09_high']] = [1,1]\n",
    "ref_df.loc['xmeas09_high']['xmeas21_low'] = 1"
   ]
  },
  {
   "cell_type": "code",
   "execution_count": null,
   "metadata": {},
   "outputs": [],
   "source": []
  },
  {
   "cell_type": "code",
   "execution_count": 173,
   "metadata": {},
   "outputs": [],
   "source": [
    "eval_save_metrics(cen_normal, cen_normal_rate)\n",
    "eval_save_metrics(cen_media2, cen_media2_rate)\n",
    "eval_save_metrics(cen_media5, cen_media5_rate)"
   ]
  }
 ],
 "metadata": {
  "kernelspec": {
   "display_name": "Python 3",
   "language": "python",
   "name": "python3"
  },
  "language_info": {
   "codemirror_mode": {
    "name": "ipython",
    "version": 3
   },
   "file_extension": ".py",
   "mimetype": "text/x-python",
   "name": "python",
   "nbconvert_exporter": "python",
   "pygments_lexer": "ipython3",
   "version": "3.7.0"
  }
 },
 "nbformat": 4,
 "nbformat_minor": 2
}
