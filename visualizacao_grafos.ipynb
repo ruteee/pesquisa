{
 "cells": [
  {
   "cell_type": "code",
   "execution_count": 187,
   "metadata": {},
   "outputs": [],
   "source": [
    "import pandas as pd\n",
    "import matplotlib.pyplot as plt\n",
    "import numpy as np\n",
    "import pydot\n",
    "\n",
    "from graphviz import Digraph\n",
    "from mpl_toolkits.axes_grid1 import AxesGrid"
   ]
  },
  {
   "cell_type": "code",
   "execution_count": 159,
   "metadata": {},
   "outputs": [],
   "source": [
    "def graph(df, eng = 'dot'):\n",
    "    edge_style = \"\"\n",
    "    g = Digraph(engine=eng)\n",
    "    for k, row in enumerate(df.index):\n",
    "        if any(df.iloc[k]) or any(df[row]):\n",
    "            g.node(str(k),row, shape='oval', fontsize='10', width='0') \n",
    "\n",
    "    for j, col in enumerate(df.columns):\n",
    "        for i, row in enumerate(df[col]):\n",
    "            \n",
    "            if(row):\n",
    "                if row == 1:\n",
    "                    edge_style = \"solid\"     \n",
    "                elif row == -1:\n",
    "                    edge_style=\"dashed\"\n",
    "                elif row == -2:\n",
    "                    edge_style = \"dotted\"\n",
    "\n",
    "                g.edge(str(i), str(j), label='',style= edge_style, weight = \"5\")  \n",
    "    return g "
   ]
  },
  {
   "cell_type": "code",
   "execution_count": 114,
   "metadata": {},
   "outputs": [],
   "source": [
    "def generate_conf_df(df, df_ref):\n",
    "    confMatrix = np.zeros([2,2], dtype=int)\n",
    "    df_con_graph = df\n",
    "    \n",
    "    for col, col_ref in zip(df.columns, df_ref.columns):\n",
    "        for row, row_ref, index in zip(df[col], df_ref[col_ref], np.arange(0,len(df.columns))):\n",
    "            if(df[col].index[index] != col):\n",
    "                if row != row_ref and row == 1:\n",
    "                    df_con_graph[col][index] = -1 #false positve\n",
    "                elif row != row_ref and row == 0:\n",
    "                    df_con_graph[col][index] = -2    #faqualificacao/normal/grafos/normallse negative\n",
    "    return df_con_graph"
   ]
  },
  {
   "cell_type": "code",
   "execution_count": 115,
   "metadata": {},
   "outputs": [],
   "source": [
    "col_labels = ['xmeas%02d_low' % x for x in [1,2,3,8,9,21]]+ ['xmeas%02d_high' % x for x in [1,2,3,8,9,21]] \n",
    "df_mat = np.zeros([12,12], dtype=int)\n",
    "\n",
    "ref_df = pd.DataFrame(df_mat, columns = col_labels, index=col_labels)\n",
    "ref_df.loc['xmeas01_low'][['xmeas21_high', 'xmeas09_low']] = [1,1]\n",
    "ref_df.loc['xmeas09_low']['xmeas21_high'] = 1\n",
    "\n",
    "ref_df.loc['xmeas01_high'][['xmeas21_low', 'xmeas09_high']] = [1,1]\n",
    "ref_df.loc['xmeas09_high']['xmeas21_low'] = 1"
   ]
  },
  {
   "cell_type": "code",
   "execution_count": 228,
   "metadata": {},
   "outputs": [],
   "source": [
    "cen_normal = \"cenarios/cen_nova_versao/normal/\"\n",
    "cen_media2 = \"cenarios/cen_nova_versao/media2/\"\n",
    "cen_media5 = \"cenarios/cen_nova_versao/media5/\"\n",
    "\n",
    "cen_normal_rate = cen_normal+\"rates/\"\n",
    "cen_media2_rate = cen_media2+\"rates/\"\n",
    "cen_media5_rate = cen_media5+\"rates/\"\n",
    "\n",
    "graph_normal = \"qualificacao/normal/grafos/\"\n",
    "graph_mean2 = \"qualificacao/mean2/grafos/\"\n",
    "graph_mean5 = \"qualificacao/mean5/grafos/\"\n"
   ]
  },
  {
   "cell_type": "code",
   "execution_count": 229,
   "metadata": {},
   "outputs": [],
   "source": [
    "def draw_graphs(cen, df):\n",
    "    all_settings = ['k%d_l%d_h%d' %(x,y,z) for z in [1,2,3] for x,y in zip([1,2,3,4,5,6],[1,2,3,4,5,6])]\n",
    "    paths_graph = [graph_normal, graph_mean2, graph_mean5]\n",
    "    count = 0\n",
    "    index_path = 0\n",
    "    for sett in all_settings:\n",
    "        graph_df = generate_conf_df(pd.read_csv(cen+sett+\"_sel_corrs.csv\", index_col=0), df)\n",
    "        graph(graph_df).save(paths_graph[index_path]+sett+\".dot\")\n",
    "        (graph_,) = pydot.graph_from_dot_file(paths_graph[index_path]+sett+\".dot\")\n",
    "        graph_.write_png(paths_graph[index_path]+'dot_graph'+sett+\".png\")\n",
    "        count +=1\n",
    "        \n",
    "        if count > 5:\n",
    "            count =0\n",
    "            index_path +=1\n",
    "            \n",
    "    "
   ]
  },
  {
   "cell_type": "code",
   "execution_count": 230,
   "metadata": {
    "scrolled": false
   },
   "outputs": [
    {
     "name": "stdout",
     "output_type": "stream",
     "text": [
      "1\n",
      "2\n",
      "3\n",
      "4\n",
      "5\n",
      "6\n",
      "1\n",
      "2\n",
      "3\n",
      "4\n",
      "5\n",
      "6\n",
      "1\n",
      "2\n",
      "3\n",
      "4\n",
      "5\n",
      "6\n"
     ]
    }
   ],
   "source": [
    "draw_graphs(cen_normal, ref_df)"
   ]
  },
  {
   "cell_type": "code",
   "execution_count": 176,
   "metadata": {},
   "outputs": [],
   "source": [
    "g = Digraph(engine='dot')\n",
    "g.render?"
   ]
  }
 ],
 "metadata": {
  "kernelspec": {
   "display_name": "Python 3",
   "language": "python",
   "name": "python3"
  },
  "language_info": {
   "codemirror_mode": {
    "name": "ipython",
    "version": 3
   },
   "file_extension": ".py",
   "mimetype": "text/x-python",
   "name": "python",
   "nbconvert_exporter": "python",
   "pygments_lexer": "ipython3",
   "version": "3.6.5"
  }
 },
 "nbformat": 4,
 "nbformat_minor": 2
}
